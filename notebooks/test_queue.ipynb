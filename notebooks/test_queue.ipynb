{
 "cells": [
  {
   "cell_type": "markdown",
   "id": "f856a3a7-4d9e-4971-9c0b-914ac8e436ff",
   "metadata": {
    "tags": []
   },
   "source": [
    "### Testing VisionPatchDataModule.py"
   ]
  },
  {
   "cell_type": "markdown",
   "id": "9d555dd9-e596-4a78-9a12-5406eacc3fe3",
   "metadata": {},
   "source": [
    "#### Test with Raw Data"
   ]
  },
  {
   "cell_type": "code",
   "execution_count": 1,
   "id": "f851d76c-4612-48ae-a2b5-60283a39714c",
   "metadata": {
    "tags": []
   },
   "outputs": [],
   "source": [
    "%load_ext autoreload\n",
    "%autoreload 2"
   ]
  },
  {
   "cell_type": "code",
   "execution_count": 2,
   "id": "0eaa6d7a-9387-44e5-84f8-cb10d74a2f0d",
   "metadata": {},
   "outputs": [],
   "source": [
    "import matplotlib.pyplot as plt\n",
    "plt.rcParams['figure.figsize'] = [20, 40]"
   ]
  },
  {
   "cell_type": "code",
   "execution_count": 3,
   "id": "56798cbf-f5f2-4596-9e05-a981351f5a58",
   "metadata": {
    "tags": []
   },
   "outputs": [],
   "source": [
    "import radio as rio\n",
    "from radio.data.datamodules import BrainAgingPredictionDataModule\n",
    "from radio.data.datautils import get_first_batch, plot_batch"
   ]
  },
  {
   "cell_type": "markdown",
   "id": "1fcf8ec2-2b5b-4bc9-921a-385255730064",
   "metadata": {},
   "source": [
    "#### Test with Raw Data"
   ]
  },
  {
   "cell_type": "code",
   "execution_count": 4,
   "id": "7b0440cf-1dd0-4e15-8220-0e2ae5865a64",
   "metadata": {},
   "outputs": [
    {
     "name": "stderr",
     "output_type": "stream",
     "text": [
      "DataModule property `train_transforms` was deprecated in v1.5 and will be removed in v1.7.\n",
      "DataModule property `val_transforms` was deprecated in v1.5 and will be removed in v1.7.\n",
      "DataModule property `test_transforms` was deprecated in v1.5 and will be removed in v1.7.\n",
      "DataModule property `dims` was deprecated in v1.5 and will be removed in v1.7.\n"
     ]
    }
   ],
   "source": [
    "data = rio.data.BrainAgingPredictionPatchDataModule(\n",
    "    root='/media/cerebro/Workspaces/Students/Eduardo_Diniz/Studies',\n",
    "    data_dir='processed_data',\n",
    "    step='step01_structural_processing',\n",
    "    use_augmentation=False,\n",
    "    use_preprocessing=False,\n",
    "    batch_size=32,\n",
    "    intensities=[\"T1\", \"FLAIR\"],\n",
    "    labels=[],\n",
    "    patch_size=(96, 96, 1),\n",
    "    queue_max_length=300,\n",
    "    samples_per_volume=10,\n",
    ")"
   ]
  },
  {
   "cell_type": "code",
   "execution_count": 5,
   "id": "8d6f679b-c7d9-40b3-8770-ae9843a92abb",
   "metadata": {},
   "outputs": [
    {
     "name": "stderr",
     "output_type": "stream",
     "text": [
      "DataModule property `train_transforms` was deprecated in v1.5 and will be removed in v1.7.\n",
      "DataModule property `val_transforms` was deprecated in v1.5 and will be removed in v1.7.\n"
     ]
    }
   ],
   "source": [
    "data.prepare_data()\n",
    "data.setup(stage='fit')"
   ]
  },
  {
   "cell_type": "code",
   "execution_count": 6,
   "id": "c33e3d38-6e32-4450-be18-2773b997d6dd",
   "metadata": {
    "tags": []
   },
   "outputs": [
    {
     "name": "stdout",
     "output_type": "stream",
     "text": [
      "Training: 4960 patches.\n",
      "Validation: 1230 patches.\n"
     ]
    }
   ],
   "source": [
    "print(f\"Training: {data.size_train} patches.\")\n",
    "print(f\"Validation: {data.size_val} patches.\")"
   ]
  },
  {
   "cell_type": "markdown",
   "id": "a1776364-43b1-47f3-bd29-f51ba8c02013",
   "metadata": {},
   "source": [
    "#### Get a Train and a Test Batch"
   ]
  },
  {
   "cell_type": "code",
   "execution_count": 7,
   "id": "bc58e1cc-f00c-4751-b2b5-66d9ec4f41e9",
   "metadata": {},
   "outputs": [],
   "source": [
    "train_dataloader = data.train_dataloader()\n",
    "val_dataloader = data.val_dataloader()"
   ]
  },
  {
   "cell_type": "code",
   "execution_count": 8,
   "id": "f0c687df-e520-43b4-a07d-8eafce6c61ab",
   "metadata": {},
   "outputs": [],
   "source": [
    "# Takes a long time if resampling is required.\n",
    "# Preprocessing beforehand is therefore recommended to speed up training.\n",
    "train_batch = get_first_batch(train_dataloader)\n",
    "val_batch = get_first_batch(val_dataloader)"
   ]
  },
  {
   "cell_type": "code",
   "execution_count": 11,
   "id": "d5ce0993-8e47-471a-949d-9d89997611d5",
   "metadata": {},
   "outputs": [
    {
     "name": "stdout",
     "output_type": "stream",
     "text": [
      "Batch keys: dict_keys(['subj_id', 'scan_id', 'T1', 'FLAIR', 'location'])\n",
      "Sample shape: torch.Size([32, 1, 96, 96, 1])\n",
      "Image keys: dict_keys(['data', 'affine', 'path', 'stem', 'type'])\n",
      "Subject IDs: ['ABD_SS_0078', 'ABD_AJ_0144', 'ABD_AJ_0128', 'ABD_SS_0054', 'ABD_BS_0009', 'ABD_AJ_0202', 'ABD_SS_0054', 'ABD_AJ_0128', 'ABD_SW_0034', 'ABD_SS_0076', 'ABD_SW_0040', 'ABD_SS_0054', 'ABD_AJ_0192', 'ABD_AJ_0029', 'ABD_AJ_0128', 'ABD_AJ_0192', 'ABD_SS_0060', 'ABD_AJ_0141', 'ABD_AJ_0192', 'ABD_SS_0078', 'ABD_SS_0064', 'ABD_AJ_0030', 'ABD_AJ_0029', 'ABD_SS_0060', 'ABD_SS_0064', 'ABD_SW_0069', 'ABD_SS_0068', 'ABD_AJ_0144', 'ABD_AJ_0116', 'ABD_AJ_0141', 'ABD_AJ_0116', 'ABD_AJ_0029']\n",
      "Scan IDs: ['scan001', 'scan002', 'scan001', 'scan001', 'scan001', 'scan001', 'scan001', 'scan001', 'scan001', 'scan001', 'scan001', 'scan001', 'scan001', 'scan002', 'scan001', 'scan001', 'scan001', 'scan001', 'scan001', 'scan001', 'scan001', 'scan002', 'scan002', 'scan001', 'scan001', 'scan002', 'scan001', 'scan002', 'scan002', 'scan001', 'scan002', 'scan002']\n",
      "Location Shape: torch.Size([32, 6])\n"
     ]
    }
   ],
   "source": [
    "print(f\"Batch keys: {train_batch.keys()}\")\n",
    "print(f\"Sample shape: {train_batch['T1']['data'].shape}\")\n",
    "print(f\"Image keys: {train_batch['T1'].keys()}\")\n",
    "print(f\"Subject IDs: {train_batch['subj_id']}\")\n",
    "print(f\"Scan IDs: {train_batch['scan_id']}\")\n",
    "print(f\"Location Shape: {train_batch['location'].shape}\")"
   ]
  },
  {
   "cell_type": "markdown",
   "id": "9017914d-7930-46ba-8979-be6699571f2e",
   "metadata": {},
   "source": [
    "#### Plot Example Samples from Batches"
   ]
  },
  {
   "cell_type": "code",
   "execution_count": null,
   "id": "d94f92ad-87f8-4e6a-9ec6-032c91c92ccb",
   "metadata": {},
   "outputs": [],
   "source": [
    "plot_batch(train_batch)"
   ]
  }
 ],
 "metadata": {
  "kernelspec": {
   "display_name": "radio",
   "language": "python",
   "name": "radio"
  },
  "language_info": {
   "codemirror_mode": {
    "name": "ipython",
    "version": 3
   },
   "file_extension": ".py",
   "mimetype": "text/x-python",
   "name": "python",
   "nbconvert_exporter": "python",
   "pygments_lexer": "ipython3",
   "version": "3.9.7"
  }
 },
 "nbformat": 4,
 "nbformat_minor": 5
}

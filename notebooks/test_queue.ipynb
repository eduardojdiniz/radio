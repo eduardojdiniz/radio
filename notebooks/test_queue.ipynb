{
 "cells": [
  {
   "cell_type": "markdown",
   "id": "f856a3a7-4d9e-4971-9c0b-914ac8e436ff",
   "metadata": {
    "tags": []
   },
   "source": [
    "### Testing VisionPatchDataModule.py"
   ]
  },
  {
   "cell_type": "markdown",
   "id": "9d555dd9-e596-4a78-9a12-5406eacc3fe3",
   "metadata": {},
   "source": [
    "#### Test with Raw Data"
   ]
  },
  {
   "cell_type": "code",
   "execution_count": 1,
   "id": "f851d76c-4612-48ae-a2b5-60283a39714c",
   "metadata": {
    "tags": []
   },
   "outputs": [],
   "source": [
    "%load_ext autoreload\n",
    "%autoreload 2"
   ]
  },
  {
   "cell_type": "code",
   "execution_count": 2,
   "id": "0eaa6d7a-9387-44e5-84f8-cb10d74a2f0d",
   "metadata": {},
   "outputs": [],
   "source": [
    "import matplotlib.pyplot as plt\n",
    "plt.rcParams['figure.figsize'] = [20, 40]"
   ]
  },
  {
   "cell_type": "code",
   "execution_count": 3,
   "id": "56798cbf-f5f2-4596-9e05-a981351f5a58",
   "metadata": {
    "tags": []
   },
   "outputs": [],
   "source": [
    "import radio as rio\n",
    "from radio.data.datautils import get_first_batch, plot_batch"
   ]
  },
  {
   "cell_type": "markdown",
   "id": "1fcf8ec2-2b5b-4bc9-921a-385255730064",
   "metadata": {},
   "source": [
    "#### Test with Raw Data"
   ]
  },
  {
   "cell_type": "code",
   "execution_count": 37,
   "id": "8814c682-1399-42b9-8606-cfe3e16b5de4",
   "metadata": {},
   "outputs": [],
   "source": [
    "data = rio.data.VisionPatchDataModule(\n",
    "    use_augmentation=False,\n",
    "    resample=True,\n",
    "    batch_size=32,\n",
    "    intensities=[\"T1\", \"FLAIR\"],\n",
    "    labels=[],\n",
    "    patch_size=(96, 96, 1),\n",
    "    queue_max_length=300,\n",
    "    samples_per_volume=10,\n",
    ")   "
   ]
  },
  {
   "cell_type": "code",
   "execution_count": 38,
   "id": "8d6f679b-c7d9-40b3-8770-ae9843a92abb",
   "metadata": {},
   "outputs": [],
   "source": [
    "data.prepare_data()\n",
    "data.setup(stage='fit')"
   ]
  },
  {
   "cell_type": "code",
   "execution_count": 39,
   "id": "c33e3d38-6e32-4450-be18-2773b997d6dd",
   "metadata": {
    "tags": []
   },
   "outputs": [
    {
     "name": "stdout",
     "output_type": "stream",
     "text": [
      "Training: 4952 patches.\n",
      "Validation: 1238 patches.\n"
     ]
    }
   ],
   "source": [
    "print(f\"Training: {data.size_train} patches.\")\n",
    "print(f\"Validation: {data.size_val} patches.\")"
   ]
  },
  {
   "cell_type": "markdown",
   "id": "a1776364-43b1-47f3-bd29-f51ba8c02013",
   "metadata": {},
   "source": [
    "#### Get a Train and a Test Batch"
   ]
  },
  {
   "cell_type": "code",
   "execution_count": 7,
   "id": "bc58e1cc-f00c-4751-b2b5-66d9ec4f41e9",
   "metadata": {},
   "outputs": [],
   "source": [
    "train_dataloaders = data.train_dataloader()\n",
    "val_dataloaders = data.val_dataloader()"
   ]
  },
  {
   "cell_type": "code",
   "execution_count": 8,
   "id": "f0c687df-e520-43b4-a07d-8eafce6c61ab",
   "metadata": {},
   "outputs": [],
   "source": [
    "# Takes a long time if resampling is required.\n",
    "# Preprocessing beforehand is therefore recommended to speed up training.\n",
    "train_batch = get_first_batch(train_dataloaders[0])\n",
    "val_batch = get_first_batch(val_dataloaders[0])"
   ]
  },
  {
   "cell_type": "code",
   "execution_count": 9,
   "id": "d5ce0993-8e47-471a-949d-9d89997611d5",
   "metadata": {},
   "outputs": [
    {
     "name": "stdout",
     "output_type": "stream",
     "text": [
      "Batch keys: dict_keys(['subj_id', 'scan_id', 'T1', 'FLAIR', 'location'])\n",
      "Sample shape: torch.Size([32, 1, 96, 96, 1])\n",
      "Image keys: dict_keys(['data', 'affine', 'path', 'stem', 'type'])\n",
      "Subject IDs: ['ABD_IH_0066', 'ABD_AJ_0052', 'ABD_SS_0021', 'ABD_AJ_0079', 'ABD_IH_0100', 'ABD_AJ_0099', 'ABD_AJ_0155', 'ABD_IH_0066', 'ABD_AJ_0105', 'ABD_AJ_0234', 'ABD_SW_0052', 'ABD_AJ_0022', 'ABD_IH_0066', 'ABD_SS_0021', 'ABD_SS_0090', 'ABD_AJ_0022', 'ABD_SW_0084', 'ABD_AJ_0052', 'ABD_SW_0175', 'ABD_AJ_0054', 'ABD_AJ_0105', 'ABD_SW_0150', 'ABD_AJ_0054', 'ABD_IH_0103', 'ABD_SW_0150', 'ABD_IH_0100', 'ABD_IH_0100', 'ABD_AJ_0079', 'ABD_BS_0009', 'ABD_AJ_0052', 'ABD_AJ_0138', 'ABD_SW_0062']\n",
      "Scan IDs: ['scan001', 'scan001', 'scan001', 'scan001', 'scan001', 'scan001', 'scan001', 'scan001', 'scan001', 'scan001', 'scan001', 'scan002', 'scan001', 'scan001', 'scan001', 'scan002', 'scan001', 'scan001', 'scan001', 'scan001', 'scan001', 'scan001', 'scan001', 'scan001', 'scan001', 'scan001', 'scan001', 'scan001', 'scan001', 'scan001', 'scan001', 'scan002']\n"
     ]
    }
   ],
   "source": [
    "print(f\"Batch keys: {train_batch.keys()}\")\n",
    "print(f\"Sample shape: {train_batch['T1']['data'].shape}\")\n",
    "print(f\"Image keys: {train_batch['T1'].keys()}\")\n",
    "print(f\"Subject IDs: {train_batch['subj_id']}\")\n",
    "print(f\"Scan IDs: {train_batch['scan_id']}\")"
   ]
  },
  {
   "cell_type": "markdown",
   "id": "9017914d-7930-46ba-8979-be6699571f2e",
   "metadata": {},
   "source": [
    "#### Plot Example Samples from Batches"
   ]
  },
  {
   "cell_type": "code",
   "execution_count": null,
   "id": "d94f92ad-87f8-4e6a-9ec6-032c91c92ccb",
   "metadata": {},
   "outputs": [],
   "source": [
    "plot_batch(train_batch)"
   ]
  },
  {
   "cell_type": "markdown",
   "id": "c5c8bce9-af59-400c-9360-04dac7a87fe4",
   "metadata": {
    "tags": []
   },
   "source": [
    "#### Test with Preprocessed Data"
   ]
  },
  {
   "cell_type": "code",
   "execution_count": 22,
   "id": "746ca92a-99f5-4f45-aef8-e2c5fff340e4",
   "metadata": {},
   "outputs": [
    {
     "name": "stderr",
     "output_type": "stream",
     "text": [
      "DataModule property `train_transforms` was deprecated in v1.5 and will be removed in v1.7.\n",
      "DataModule property `val_transforms` was deprecated in v1.5 and will be removed in v1.7.\n",
      "DataModule property `test_transforms` was deprecated in v1.5 and will be removed in v1.7.\n",
      "DataModule property `dims` was deprecated in v1.5 and will be removed in v1.7.\n"
     ]
    }
   ],
   "source": [
    "data = rio.data.VisionPatchDataModule(\n",
    "    root='~/LocalCerebro/Studies',\n",
    "    data_dir='Public/preprocessed_data',\n",
    "    use_augmentation=False,\n",
    "    use_preprocessing=False,\n",
    "    batch_size=32,\n",
    "    intensities=[\"T1\", \"FLAIR\"],\n",
    "    labels=[],\n",
    "    patch_size=(96, 96, 1),\n",
    "    queue_max_length=300,\n",
    "    samples_per_volume=10,\n",
    ")"
   ]
  },
  {
   "cell_type": "code",
   "execution_count": 23,
   "id": "a6b3e018-c37e-4016-80d2-305a5e2f363e",
   "metadata": {},
   "outputs": [
    {
     "name": "stderr",
     "output_type": "stream",
     "text": [
      "DataModule property `train_transforms` was deprecated in v1.5 and will be removed in v1.7.\n",
      "DataModule property `val_transforms` was deprecated in v1.5 and will be removed in v1.7.\n"
     ]
    }
   ],
   "source": [
    "data.prepare_data()\n",
    "data.setup(stage='fit')"
   ]
  },
  {
   "cell_type": "code",
   "execution_count": 24,
   "id": "b7c4b371-0614-4608-92aa-fcc131a6578e",
   "metadata": {
    "tags": []
   },
   "outputs": [
    {
     "name": "stdout",
     "output_type": "stream",
     "text": [
      "Training: 4960 patches.\n",
      "Validation: 1230 patches.\n"
     ]
    }
   ],
   "source": [
    "print(f\"Training: {data.size_train} patches.\")\n",
    "print(f\"Validation: {data.size_val} patches.\")"
   ]
  },
  {
   "cell_type": "markdown",
   "id": "1e09ba12-b305-4d10-9edf-aa33b2264c1a",
   "metadata": {},
   "source": [
    "#### Get a Train and a Test Batch"
   ]
  },
  {
   "cell_type": "code",
   "execution_count": 25,
   "id": "b370779b-82d0-4b2e-a346-ee88dca1aded",
   "metadata": {},
   "outputs": [],
   "source": [
    "train_dataloaders = data.train_dataloader()\n",
    "val_dataloaders = data.val_dataloader()"
   ]
  },
  {
   "cell_type": "code",
   "execution_count": 26,
   "id": "d22a5047-4613-4463-9c0f-eccffa7c21a7",
   "metadata": {},
   "outputs": [],
   "source": [
    "# Takes a long time if resampling is required.\n",
    "# Preprocessing beforehand is therefore recommended to speed up training.\n",
    "train_batch = get_first_batch(train_dataloaders[0])\n",
    "val_batch = get_first_batch(val_dataloaders[0])"
   ]
  },
  {
   "cell_type": "code",
   "execution_count": 27,
   "id": "365697e3-cfba-4efe-b9e2-6caca82f1be7",
   "metadata": {},
   "outputs": [
    {
     "name": "stdout",
     "output_type": "stream",
     "text": [
      "Batch keys: dict_keys(['subj_id', 'scan_id', 'T1', 'FLAIR', 'location'])\n",
      "Sample shape: torch.Size([32, 1, 96, 96, 1])\n",
      "Image keys: dict_keys(['data', 'affine', 'path', 'stem', 'type'])\n",
      "Subject IDs: ['ABD_SW_0088', 'ABD_SW_0034', 'ABD_AJ_0112', 'ABD_AJ_0112', 'ABD_SW_0088', 'ABD_SW_0052', 'ABD_IH_0111', 'ABD_SW_0010', 'ABD_AJ_0009', 'ABD_AJ_0003', 'ABD_AJ_0230', 'ABD_SW_0069', 'ABD_IH_0088', 'ABD_IH_0007', 'ABD_AJ_0003', 'ABD_SW_0037', 'ABD_AJ_0230', 'ABD_AJ_0134', 'ABD_GJ_0146', 'ABD_BS_0026', 'ABD_IH_0007', 'ABD_SW_0111', 'ABD_AJ_0003', 'ABD_IH_0004', 'ABD_SW_0052', 'ABD_SW_0052', 'ABD_AJ_0048', 'ABD_AJ_0139', 'ABD_IH_0007', 'ABD_SS_0069', 'ABD_GJ_0146', 'ABD_GJ_0182']\n",
      "Scan IDs: ['scan001', 'scan001', 'scan002', 'scan002', 'scan001', 'scan001', 'scan001', 'scan002', 'scan001', 'scan001', 'scan001', 'scan002', 'scan001', 'scan001', 'scan001', 'scan001', 'scan001', 'scan002', 'scan001', 'scan001', 'scan001', 'scan001', 'scan001', 'scan001', 'scan001', 'scan001', 'scan001', 'scan001', 'scan001', 'scan001', 'scan001', 'scan001']\n"
     ]
    }
   ],
   "source": [
    "print(f\"Batch keys: {train_batch.keys()}\")\n",
    "print(f\"Sample shape: {train_batch['T1']['data'].shape}\")\n",
    "print(f\"Image keys: {train_batch['T1'].keys()}\")\n",
    "print(f\"Subject IDs: {train_batch['subj_id']}\")\n",
    "print(f\"Scan IDs: {train_batch['scan_id']}\")"
   ]
  },
  {
   "cell_type": "code",
   "execution_count": null,
   "id": "338e4e71-1628-4d8d-b961-2fc645c7ea61",
   "metadata": {},
   "outputs": [],
   "source": []
  }
 ],
 "metadata": {
  "kernelspec": {
   "display_name": "radio",
   "language": "python",
   "name": "radio"
  },
  "language_info": {
   "codemirror_mode": {
    "name": "ipython",
    "version": 3
   },
   "file_extension": ".py",
   "mimetype": "text/x-python",
   "name": "python",
   "nbconvert_exporter": "python",
   "pygments_lexer": "ipython3",
   "version": "3.9.7"
  }
 },
 "nbformat": 4,
 "nbformat_minor": 5
}

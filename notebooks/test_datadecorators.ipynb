{
 "cells": [
  {
   "cell_type": "code",
   "execution_count": 43,
   "id": "8fc8d546-8fa6-4689-9d74-0c84e55f6080",
   "metadata": {
    "tags": []
   },
   "outputs": [
    {
     "name": "stdout",
     "output_type": "stream",
     "text": [
      "The autoreload extension is already loaded. To reload it, use:\n",
      "  %reload_ext autoreload\n"
     ]
    }
   ],
   "source": [
    "%load_ext autoreload\n",
    "%autoreload 2"
   ]
  },
  {
   "cell_type": "code",
   "execution_count": 44,
   "id": "1dcbcdbb-11a2-4243-b298-2a593a90219c",
   "metadata": {},
   "outputs": [],
   "source": [
    "import radio as rio\n",
    "import radio.data.datadecorators as decorators\n",
    "import radio.data.datatypes as types\n",
    "from radio.data.datatypes import Tensor, SeqTensor, SeqSeqTensor, Tensors\n",
    "from radio.data.datatypes import NamedTensor, SeqNamedTensor, SeqSeqNamedTensor, Tensors\n",
    "import torch\n",
    "from dataclasses import astuple"
   ]
  },
  {
   "cell_type": "markdown",
   "id": "694ed52c-e97a-4ef6-88aa-92e73d2346d4",
   "metadata": {},
   "source": [
    "#### Test Tensor"
   ]
  },
  {
   "cell_type": "markdown",
   "id": "0aaa532c-76ac-43d5-a2bc-a498e261e5d7",
   "metadata": {},
   "source": [
    "#### Test Tensor"
   ]
  },
  {
   "cell_type": "code",
   "execution_count": 45,
   "id": "410c74a1-0ddd-4d19-89a5-4789be08c5d7",
   "metadata": {},
   "outputs": [
    {
     "data": {
      "text/plain": [
       "radio.Tensor(tensor([0.7630, 0.3033, 0.5721, 0.8188]))"
      ]
     },
     "execution_count": 45,
     "metadata": {},
     "output_type": "execute_result"
    }
   ],
   "source": [
    "mytensor = Tensor(torch.rand(4))\n",
    "mytensor"
   ]
  },
  {
   "cell_type": "code",
   "execution_count": 46,
   "id": "51ab5b78-7990-4dfa-ab0f-643fbaa58360",
   "metadata": {},
   "outputs": [
    {
     "data": {
      "text/plain": [
       "tensor([0.7630, 0.3033, 0.5721, 0.8188])"
      ]
     },
     "execution_count": 46,
     "metadata": {},
     "output_type": "execute_result"
    }
   ],
   "source": [
    "mydata, = mytensor\n",
    "mydata"
   ]
  },
  {
   "cell_type": "markdown",
   "id": "801e82ee-16d5-400b-a8e7-020e2fdafe14",
   "metadata": {},
   "source": [
    "#### Test Named Tensor"
   ]
  },
  {
   "cell_type": "code",
   "execution_count": 47,
   "id": "ad88c67a-577f-4fe3-b75f-9ccdae66fb11",
   "metadata": {},
   "outputs": [
    {
     "data": {
      "text/plain": [
       "radio.NamedTensor({rand(4): tensor([0.8006, 0.9626, 0.7230, 0.0315])})"
      ]
     },
     "execution_count": 47,
     "metadata": {},
     "output_type": "execute_result"
    }
   ],
   "source": [
    "mynamedtensor = NamedTensor('rand(4)', torch.rand(4))\n",
    "mynamedtensor"
   ]
  },
  {
   "cell_type": "code",
   "execution_count": 48,
   "id": "ebeedadf-3ac8-4a54-9717-ff602dcdbfd7",
   "metadata": {},
   "outputs": [
    {
     "data": {
      "text/plain": [
       "('rand(4)', tensor([0.8006, 0.9626, 0.7230, 0.0315]))"
      ]
     },
     "execution_count": 48,
     "metadata": {},
     "output_type": "execute_result"
    }
   ],
   "source": [
    "myname, mydata = mynamedtensor\n",
    "myname, mydata"
   ]
  },
  {
   "cell_type": "markdown",
   "id": "9a76676e-7e99-449a-bf6b-6d32656b111f",
   "metadata": {},
   "source": [
    "#### Test SeqTensor"
   ]
  },
  {
   "cell_type": "code",
   "execution_count": 49,
   "id": "84a35185-64f9-4554-89a4-af7db49c4e9c",
   "metadata": {},
   "outputs": [
    {
     "data": {
      "text/plain": [
       "radio.SeqTensor([radio.Tensor(tensor([0.0323, 0.9484, 0.3342, 0.2686]))])"
      ]
     },
     "execution_count": 49,
     "metadata": {},
     "output_type": "execute_result"
    }
   ],
   "source": [
    "myseqtensor = SeqTensor([torch.rand(4)])\n",
    "myseqtensor"
   ]
  },
  {
   "cell_type": "code",
   "execution_count": 50,
   "id": "816fedea-d333-4a5c-99cf-777719a35ebc",
   "metadata": {},
   "outputs": [
    {
     "data": {
      "text/plain": [
       "[(tensor([0.0323, 0.9484, 0.3342, 0.2686]),)]"
      ]
     },
     "execution_count": 50,
     "metadata": {},
     "output_type": "execute_result"
    }
   ],
   "source": [
    "mydata, = myseqtensor\n",
    "mydata"
   ]
  },
  {
   "cell_type": "code",
   "execution_count": 51,
   "id": "62969284-eaed-42f0-83e0-97ac21110a54",
   "metadata": {},
   "outputs": [
    {
     "data": {
      "text/plain": [
       "radio.SeqTensor([radio.Tensor(tensor([0.4275, 0.8603, 0.8265, 0.7086]))])"
      ]
     },
     "execution_count": 51,
     "metadata": {},
     "output_type": "execute_result"
    }
   ],
   "source": [
    "anotherseqtensor = SeqTensor(torch.rand(4))\n",
    "anotherseqtensor"
   ]
  },
  {
   "cell_type": "code",
   "execution_count": 52,
   "id": "1d1d9305-71f8-44a8-a124-a3b7b15cb77b",
   "metadata": {},
   "outputs": [
    {
     "data": {
      "text/plain": [
       "radio.SeqTensor([radio.Tensor(tensor([0.7630, 0.3033, 0.5721, 0.8188]))])"
      ]
     },
     "execution_count": 52,
     "metadata": {},
     "output_type": "execute_result"
    }
   ],
   "source": [
    "yetanotherseqtensor = SeqTensor(mytensor)\n",
    "yetanotherseqtensor"
   ]
  },
  {
   "cell_type": "code",
   "execution_count": 53,
   "id": "9e93ab36-3dea-4971-9695-21a57aa55223",
   "metadata": {},
   "outputs": [
    {
     "data": {
      "text/plain": [
       "radio.SeqTensor([radio.Tensor(tensor([0.3610, 0.6428, 0.0591, 0.1424])), radio.Tensor(tensor([0.7630, 0.3033, 0.5721, 0.8188]))])"
      ]
     },
     "execution_count": 53,
     "metadata": {},
     "output_type": "execute_result"
    }
   ],
   "source": [
    "mixseqtensor = SeqTensor([torch.rand(4), mytensor])\n",
    "mixseqtensor"
   ]
  },
  {
   "cell_type": "markdown",
   "id": "1d251c7b-4ae0-48fb-9b68-a63c504d0b06",
   "metadata": {},
   "source": [
    "#### Test SeqNamedTensor"
   ]
  },
  {
   "cell_type": "code",
   "execution_count": null,
   "id": "84c55633-917f-4daa-b7f0-aa1cef7f0f5f",
   "metadata": {},
   "outputs": [],
   "source": [
    "myseqnamedtensor = SeqNamedTensor(\"list[rand(4)]\", [torch.rand(4)])\n",
    "myseqnamedtensor"
   ]
  },
  {
   "cell_type": "code",
   "execution_count": null,
   "id": "5c0e5af6-4815-4eed-a764-e485fac8d79c",
   "metadata": {},
   "outputs": [],
   "source": [
    "myname, mydata = myseqnamedtensor\n",
    "myname, mydata"
   ]
  },
  {
   "cell_type": "code",
   "execution_count": null,
   "id": "ce46b060-f339-4026-be50-e734605a99e0",
   "metadata": {},
   "outputs": [],
   "source": []
  }
 ],
 "metadata": {
  "kernelspec": {
   "display_name": "radio",
   "language": "python",
   "name": "radio"
  },
  "language_info": {
   "codemirror_mode": {
    "name": "ipython",
    "version": 3
   },
   "file_extension": ".py",
   "mimetype": "text/x-python",
   "name": "python",
   "nbconvert_exporter": "python",
   "pygments_lexer": "ipython3",
   "version": "3.9.7"
  }
 },
 "nbformat": 4,
 "nbformat_minor": 5
}

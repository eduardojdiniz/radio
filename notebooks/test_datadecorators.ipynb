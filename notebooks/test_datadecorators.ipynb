{
 "cells": [
  {
   "cell_type": "code",
   "execution_count": 282,
   "id": "8fc8d546-8fa6-4689-9d74-0c84e55f6080",
   "metadata": {
    "tags": []
   },
   "outputs": [
    {
     "name": "stdout",
     "output_type": "stream",
     "text": [
      "The autoreload extension is already loaded. To reload it, use:\n",
      "  %reload_ext autoreload\n"
     ]
    }
   ],
   "source": [
    "%load_ext autoreload\n",
    "%autoreload 2"
   ]
  },
  {
   "cell_type": "code",
   "execution_count": 283,
   "id": "1dcbcdbb-11a2-4243-b298-2a593a90219c",
   "metadata": {},
   "outputs": [],
   "source": [
    "import radio as rio\n",
    "import radio.data.datadecorators as decorators\n",
    "import radio.data.datatypes as types\n",
    "from radio.data.datatypes import Tensor, SeqTensor, SeqSeqTensor, Tensors\n",
    "from radio.data.datatypes import MutableTensor, MutableSeqTensor, MutableSeqSeqTensor, Tensors\n",
    "from radio.data.datatypes import NamedTensor, SeqNamedTensor, SeqSeqNamedTensor, Tensors\n",
    "from radio.data.datatypes import MutableNamedTensor, MutableSeqNamedTensor, MutableSeqSeqNamedTensor, Tensors\n",
    "import torch\n",
    "from dataclasses import astuple"
   ]
  },
  {
   "cell_type": "markdown",
   "id": "0aaa532c-76ac-43d5-a2bc-a498e261e5d7",
   "metadata": {},
   "source": [
    "#### Test Tensor"
   ]
  },
  {
   "cell_type": "code",
   "execution_count": 284,
   "id": "da085f6c-a3b2-4236-adce-923c20ce6fab",
   "metadata": {},
   "outputs": [],
   "source": [
    "torch_sor = torch.tensor([1, 2, 3, 4])\n",
    "other_torch_sor = torch.tensor([5, 6, 7, 8])"
   ]
  },
  {
   "cell_type": "code",
   "execution_count": 285,
   "id": "410c74a1-0ddd-4d19-89a5-4789be08c5d7",
   "metadata": {},
   "outputs": [
    {
     "data": {
      "text/plain": [
       "radio.Tensor(tensor([1, 2, 3, 4]))"
      ]
     },
     "execution_count": 285,
     "metadata": {},
     "output_type": "execute_result"
    }
   ],
   "source": [
    "sor = Tensor(torch_sor)\n",
    "sor"
   ]
  },
  {
   "cell_type": "code",
   "execution_count": 286,
   "id": "51ab5b78-7990-4dfa-ab0f-643fbaa58360",
   "metadata": {},
   "outputs": [
    {
     "data": {
      "text/plain": [
       "tensor([1, 2, 3, 4])"
      ]
     },
     "execution_count": 286,
     "metadata": {},
     "output_type": "execute_result"
    }
   ],
   "source": [
    "data, = sor\n",
    "data"
   ]
  },
  {
   "cell_type": "code",
   "execution_count": 287,
   "id": "ede359d8-385b-46df-b5a3-01fdd1085e31",
   "metadata": {},
   "outputs": [
    {
     "data": {
      "text/plain": [
       "radio.Tensor(tensor([1, 2, 3, 4]))"
      ]
     },
     "execution_count": 287,
     "metadata": {},
     "output_type": "execute_result"
    }
   ],
   "source": [
    "other_sor = Tensor(sor)\n",
    "other_sor"
   ]
  },
  {
   "cell_type": "code",
   "execution_count": 288,
   "id": "bb7d0370-c1c2-48b6-99d0-94ef459ef993",
   "metadata": {},
   "outputs": [
    {
     "ename": "FrozenInstanceError",
     "evalue": "cannot assign to field 'data'",
     "output_type": "error",
     "traceback": [
      "\u001b[0;31m---------------------------------------------------------------------------\u001b[0m",
      "\u001b[0;31mFrozenInstanceError\u001b[0m                       Traceback (most recent call last)",
      "Input \u001b[0;32mIn [288]\u001b[0m, in \u001b[0;36m<module>\u001b[0;34m\u001b[0m\n\u001b[1;32m      1\u001b[0m \u001b[38;5;66;03m# It's immutable!\u001b[39;00m\n\u001b[0;32m----> 2\u001b[0m sor\u001b[38;5;241m.\u001b[39mdata \u001b[38;5;241m=\u001b[39m other_torch_sor\n",
      "File \u001b[0;32m<string>:4\u001b[0m, in \u001b[0;36m__setattr__\u001b[0;34m(self, name, value)\u001b[0m\n",
      "\u001b[0;31mFrozenInstanceError\u001b[0m: cannot assign to field 'data'"
     ]
    }
   ],
   "source": [
    "# It's immutable!\n",
    "sor.data = other_torch_sor"
   ]
  },
  {
   "cell_type": "code",
   "execution_count": 289,
   "id": "9c96ca09-3b30-470b-b8f5-0311ef8319f6",
   "metadata": {},
   "outputs": [
    {
     "data": {
      "text/plain": [
       "radio.MutableTensor(tensor([5, 6, 7, 8]))"
      ]
     },
     "execution_count": 289,
     "metadata": {},
     "output_type": "execute_result"
    }
   ],
   "source": [
    "mutable_sor = MutableTensor(torch_sor)\n",
    "mutable_sor.data = other_torch_sor\n",
    "mutable_sor"
   ]
  },
  {
   "cell_type": "code",
   "execution_count": 290,
   "id": "e2c76540-fd16-4371-990a-fe300240025a",
   "metadata": {},
   "outputs": [
    {
     "data": {
      "text/plain": [
       "radio.MutableTensor(tensor([1, 2, 3, 4]))"
      ]
     },
     "execution_count": 290,
     "metadata": {},
     "output_type": "execute_result"
    }
   ],
   "source": [
    "mutable_sor.data = other_sor\n",
    "mutable_sor"
   ]
  },
  {
   "cell_type": "markdown",
   "id": "801e82ee-16d5-400b-a8e7-020e2fdafe14",
   "metadata": {},
   "source": [
    "#### Test Named Tensor"
   ]
  },
  {
   "cell_type": "code",
   "execution_count": 291,
   "id": "ad88c67a-577f-4fe3-b75f-9ccdae66fb11",
   "metadata": {},
   "outputs": [
    {
     "data": {
      "text/plain": [
       "radio.NamedTensor({torch_sor: tensor([1, 2, 3, 4])})"
      ]
     },
     "execution_count": 291,
     "metadata": {},
     "output_type": "execute_result"
    }
   ],
   "source": [
    "named_sor = NamedTensor('torch_sor', torch_sor)\n",
    "named_sor"
   ]
  },
  {
   "cell_type": "code",
   "execution_count": 292,
   "id": "ebeedadf-3ac8-4a54-9717-ff602dcdbfd7",
   "metadata": {},
   "outputs": [
    {
     "data": {
      "text/plain": [
       "('torch_sor', tensor([1, 2, 3, 4]))"
      ]
     },
     "execution_count": 292,
     "metadata": {},
     "output_type": "execute_result"
    }
   ],
   "source": [
    "name, data = named_sor\n",
    "name, data"
   ]
  },
  {
   "cell_type": "code",
   "execution_count": 293,
   "id": "a7bd3181-0f69-40d0-a123-b88bfbe019fc",
   "metadata": {},
   "outputs": [
    {
     "data": {
      "text/plain": [
       "radio.NamedTensor({torch_sor: tensor([1, 2, 3, 4])})"
      ]
     },
     "execution_count": 293,
     "metadata": {},
     "output_type": "execute_result"
    }
   ],
   "source": [
    "other_named_sor = NamedTensor('torch_sor', named_sor)\n",
    "other_named_sor"
   ]
  },
  {
   "cell_type": "code",
   "execution_count": 305,
   "id": "620f25e1-0da5-451e-b4a9-c114282a278c",
   "metadata": {},
   "outputs": [
    {
     "name": "stderr",
     "output_type": "stream",
     "text": [
      "[autoreload of radio.data.datatypes failed: Traceback (most recent call last):\n",
      "  File \"/home/dinize@acct.upmchs.net/anaconda3/envs/radio/lib/python3.9/site-packages/IPython/extensions/autoreload.py\", line 257, in check\n",
      "    superreload(m, reload, self.old_objects)\n",
      "  File \"/home/dinize@acct.upmchs.net/anaconda3/envs/radio/lib/python3.9/site-packages/IPython/extensions/autoreload.py\", line 480, in superreload\n",
      "    update_generic(old_obj, new_obj)\n",
      "  File \"/home/dinize@acct.upmchs.net/anaconda3/envs/radio/lib/python3.9/site-packages/IPython/extensions/autoreload.py\", line 377, in update_generic\n",
      "    update(a, b)\n",
      "  File \"/home/dinize@acct.upmchs.net/anaconda3/envs/radio/lib/python3.9/site-packages/IPython/extensions/autoreload.py\", line 329, in update_class\n",
      "    if update_generic(old_obj, new_obj):\n",
      "  File \"/home/dinize@acct.upmchs.net/anaconda3/envs/radio/lib/python3.9/site-packages/IPython/extensions/autoreload.py\", line 377, in update_generic\n",
      "    update(a, b)\n",
      "  File \"/home/dinize@acct.upmchs.net/anaconda3/envs/radio/lib/python3.9/site-packages/IPython/extensions/autoreload.py\", line 289, in update_function\n",
      "    setattr(old, name, getattr(new, name))\n",
      "ValueError: __init__() requires a code object with 0 free vars, not 1\n",
      "]\n"
     ]
    },
    {
     "ename": "FrozenInstanceError",
     "evalue": "cannot assign to field 'data'",
     "output_type": "error",
     "traceback": [
      "\u001b[0;31m---------------------------------------------------------------------------\u001b[0m",
      "\u001b[0;31mFrozenInstanceError\u001b[0m                       Traceback (most recent call last)",
      "Input \u001b[0;32mIn [305]\u001b[0m, in \u001b[0;36m<module>\u001b[0;34m\u001b[0m\n\u001b[0;32m----> 1\u001b[0m named_sor\u001b[38;5;241m.\u001b[39mdata \u001b[38;5;241m=\u001b[39m other_sor\n",
      "File \u001b[0;32m<string>:4\u001b[0m, in \u001b[0;36m__setattr__\u001b[0;34m(self, name, value)\u001b[0m\n",
      "\u001b[0;31mFrozenInstanceError\u001b[0m: cannot assign to field 'data'"
     ]
    }
   ],
   "source": [
    "named_sor.data = other_sor "
   ]
  },
  {
   "cell_type": "code",
   "execution_count": null,
   "id": "7fb96253-ac9f-4bfc-ae77-9b14734a1867",
   "metadata": {},
   "outputs": [],
   "source": [
    "named_sor.name = 'new_name'"
   ]
  },
  {
   "cell_type": "code",
   "execution_count": 313,
   "id": "9eea7d12-a45a-448f-8ade-bc9b82b7545b",
   "metadata": {},
   "outputs": [
    {
     "data": {
      "text/plain": [
       "radio.MutableNamedTensor({torch_sor: tensor([5, 6, 7, 8])})"
      ]
     },
     "execution_count": 313,
     "metadata": {},
     "output_type": "execute_result"
    }
   ],
   "source": [
    "mutable_named_sor = MutableNamedTensor('torch_sor', torch_sor)\n",
    "mutable_named_sor.data = other_torch_sor\n",
    "mutable_named_sor"
   ]
  },
  {
   "cell_type": "code",
   "execution_count": 314,
   "id": "20bf0569-aed9-4a47-8f2d-a27d13e8b0bf",
   "metadata": {},
   "outputs": [
    {
     "ename": "TypeError",
     "evalue": "descriptor 'data' for 'Sample' objects doesn't apply to a 'Tensor' object",
     "output_type": "error",
     "traceback": [
      "\u001b[0;31m---------------------------------------------------------------------------\u001b[0m",
      "\u001b[0;31mTypeError\u001b[0m                                 Traceback (most recent call last)",
      "File \u001b[0;32m~/anaconda3/envs/radio/lib/python3.9/site-packages/IPython/core/formatters.py:707\u001b[0m, in \u001b[0;36mPlainTextFormatter.__call__\u001b[0;34m(self, obj)\u001b[0m\n\u001b[1;32m    700\u001b[0m stream \u001b[38;5;241m=\u001b[39m StringIO()\n\u001b[1;32m    701\u001b[0m printer \u001b[38;5;241m=\u001b[39m pretty\u001b[38;5;241m.\u001b[39mRepresentationPrinter(stream, \u001b[38;5;28mself\u001b[39m\u001b[38;5;241m.\u001b[39mverbose,\n\u001b[1;32m    702\u001b[0m     \u001b[38;5;28mself\u001b[39m\u001b[38;5;241m.\u001b[39mmax_width, \u001b[38;5;28mself\u001b[39m\u001b[38;5;241m.\u001b[39mnewline,\n\u001b[1;32m    703\u001b[0m     max_seq_length\u001b[38;5;241m=\u001b[39m\u001b[38;5;28mself\u001b[39m\u001b[38;5;241m.\u001b[39mmax_seq_length,\n\u001b[1;32m    704\u001b[0m     singleton_pprinters\u001b[38;5;241m=\u001b[39m\u001b[38;5;28mself\u001b[39m\u001b[38;5;241m.\u001b[39msingleton_printers,\n\u001b[1;32m    705\u001b[0m     type_pprinters\u001b[38;5;241m=\u001b[39m\u001b[38;5;28mself\u001b[39m\u001b[38;5;241m.\u001b[39mtype_printers,\n\u001b[1;32m    706\u001b[0m     deferred_pprinters\u001b[38;5;241m=\u001b[39m\u001b[38;5;28mself\u001b[39m\u001b[38;5;241m.\u001b[39mdeferred_printers)\n\u001b[0;32m--> 707\u001b[0m \u001b[43mprinter\u001b[49m\u001b[38;5;241;43m.\u001b[39;49m\u001b[43mpretty\u001b[49m\u001b[43m(\u001b[49m\u001b[43mobj\u001b[49m\u001b[43m)\u001b[49m\n\u001b[1;32m    708\u001b[0m printer\u001b[38;5;241m.\u001b[39mflush()\n\u001b[1;32m    709\u001b[0m \u001b[38;5;28;01mreturn\u001b[39;00m stream\u001b[38;5;241m.\u001b[39mgetvalue()\n",
      "File \u001b[0;32m~/anaconda3/envs/radio/lib/python3.9/site-packages/IPython/lib/pretty.py:410\u001b[0m, in \u001b[0;36mRepresentationPrinter.pretty\u001b[0;34m(self, obj)\u001b[0m\n\u001b[1;32m    407\u001b[0m                         \u001b[38;5;28;01mreturn\u001b[39;00m meth(obj, \u001b[38;5;28mself\u001b[39m, cycle)\n\u001b[1;32m    408\u001b[0m                 \u001b[38;5;28;01mif\u001b[39;00m \u001b[38;5;28mcls\u001b[39m \u001b[38;5;129;01mis\u001b[39;00m \u001b[38;5;129;01mnot\u001b[39;00m \u001b[38;5;28mobject\u001b[39m \\\n\u001b[1;32m    409\u001b[0m                         \u001b[38;5;129;01mand\u001b[39;00m callable(\u001b[38;5;28mcls\u001b[39m\u001b[38;5;241m.\u001b[39m\u001b[38;5;18m__dict__\u001b[39m\u001b[38;5;241m.\u001b[39mget(\u001b[38;5;124m'\u001b[39m\u001b[38;5;124m__repr__\u001b[39m\u001b[38;5;124m'\u001b[39m)):\n\u001b[0;32m--> 410\u001b[0m                     \u001b[38;5;28;01mreturn\u001b[39;00m \u001b[43m_repr_pprint\u001b[49m\u001b[43m(\u001b[49m\u001b[43mobj\u001b[49m\u001b[43m,\u001b[49m\u001b[43m \u001b[49m\u001b[38;5;28;43mself\u001b[39;49m\u001b[43m,\u001b[49m\u001b[43m \u001b[49m\u001b[43mcycle\u001b[49m\u001b[43m)\u001b[49m\n\u001b[1;32m    412\u001b[0m     \u001b[38;5;28;01mreturn\u001b[39;00m _default_pprint(obj, \u001b[38;5;28mself\u001b[39m, cycle)\n\u001b[1;32m    413\u001b[0m \u001b[38;5;28;01mfinally\u001b[39;00m:\n",
      "File \u001b[0;32m~/anaconda3/envs/radio/lib/python3.9/site-packages/IPython/lib/pretty.py:778\u001b[0m, in \u001b[0;36m_repr_pprint\u001b[0;34m(obj, p, cycle)\u001b[0m\n\u001b[1;32m    776\u001b[0m \u001b[38;5;124;03m\"\"\"A pprint that just redirects to the normal repr function.\"\"\"\u001b[39;00m\n\u001b[1;32m    777\u001b[0m \u001b[38;5;66;03m# Find newlines and replace them with p.break_()\u001b[39;00m\n\u001b[0;32m--> 778\u001b[0m output \u001b[38;5;241m=\u001b[39m \u001b[38;5;28;43mrepr\u001b[39;49m\u001b[43m(\u001b[49m\u001b[43mobj\u001b[49m\u001b[43m)\u001b[49m\n\u001b[1;32m    779\u001b[0m lines \u001b[38;5;241m=\u001b[39m output\u001b[38;5;241m.\u001b[39msplitlines()\n\u001b[1;32m    780\u001b[0m \u001b[38;5;28;01mwith\u001b[39;00m p\u001b[38;5;241m.\u001b[39mgroup():\n",
      "File \u001b[0;32m~/playground/radio/radio/data/datatypes.py:206\u001b[0m, in \u001b[0;36m__repr__\u001b[0;34m(self)\u001b[0m\n\u001b[1;32m    201\u001b[0m     sample_type: InitVar[\u001b[38;5;28mstr\u001b[39m] \u001b[38;5;241m=\u001b[39m \u001b[38;5;124m\"\u001b[39m\u001b[38;5;124mPILImage\u001b[39m\u001b[38;5;124m\"\u001b[39m\n\u001b[1;32m    204\u001b[0m \u001b[38;5;66;03m# Generic Sequene of Samples Types\u001b[39;00m\n\u001b[1;32m    205\u001b[0m SampleVar \u001b[38;5;241m=\u001b[39m TypeVar(\n\u001b[0;32m--> 206\u001b[0m     \u001b[38;5;124m\"\u001b[39m\u001b[38;5;124mSampleVar\u001b[39m\u001b[38;5;124m\"\u001b[39m,\n\u001b[1;32m    207\u001b[0m     Tensor,\n\u001b[1;32m    208\u001b[0m     Img,\n\u001b[1;32m    209\u001b[0m     NamedTensor,\n\u001b[1;32m    210\u001b[0m     NamedImg,\n\u001b[1;32m    211\u001b[0m     MutableTensor,\n\u001b[1;32m    212\u001b[0m     MutableImg,\n\u001b[1;32m    213\u001b[0m     MutableNamedTensor,\n\u001b[1;32m    214\u001b[0m     MutableNamedImg,\n\u001b[1;32m    215\u001b[0m )\n\u001b[1;32m    216\u001b[0m SampleType \u001b[38;5;241m=\u001b[39m Union[Tensor, Img, NamedTensor, NamedImg, MutableTensor,\n\u001b[1;32m    217\u001b[0m                    MutableImg, MutableNamedTensor, MutableNamedImg, ]\n\u001b[1;32m    219\u001b[0m \u001b[38;5;66;03m# ####################\u001b[39;00m\n\u001b[1;32m    220\u001b[0m \u001b[38;5;66;03m# Hybrid Samples Types\u001b[39;00m\n\u001b[1;32m    221\u001b[0m \u001b[38;5;66;03m# ####################\u001b[39;00m\n",
      "File \u001b[0;32m~/playground/radio/radio/data/datatypes.py:68\u001b[0m, in \u001b[0;36mSample.__repr__\u001b[0;34m(self)\u001b[0m\n\u001b[1;32m     67\u001b[0m \u001b[38;5;28;01mdef\u001b[39;00m \u001b[38;5;21m__repr__\u001b[39m(\u001b[38;5;28mself\u001b[39m):\n\u001b[0;32m---> 68\u001b[0m     \u001b[38;5;28;01mreturn\u001b[39;00m \u001b[38;5;124mf\u001b[39m\u001b[38;5;124m\"\u001b[39m\u001b[38;5;124mradio.\u001b[39m\u001b[38;5;132;01m{\u001b[39;00m\u001b[38;5;28mself\u001b[39m\u001b[38;5;241m.\u001b[39m\u001b[38;5;18m__class__\u001b[39m\u001b[38;5;241m.\u001b[39m\u001b[38;5;18m__qualname__\u001b[39m\u001b[38;5;132;01m}\u001b[39;00m\u001b[38;5;124m(\u001b[39m\u001b[38;5;132;01m{\u001b[39;00m\u001b[38;5;28mself\u001b[39m\u001b[38;5;241m.\u001b[39mdata\u001b[38;5;132;01m}\u001b[39;00m\u001b[38;5;124m)\u001b[39m\u001b[38;5;124m\"\u001b[39m\n",
      "\u001b[0;31mTypeError\u001b[0m: descriptor 'data' for 'Sample' objects doesn't apply to a 'Tensor' object"
     ]
    }
   ],
   "source": [
    "mutable_named_sor.data = other_sor\n",
    "mutable_named_sor"
   ]
  },
  {
   "cell_type": "code",
   "execution_count": 315,
   "id": "f9a6a32d-e73d-4c01-92eb-a0d61c2a4df8",
   "metadata": {},
   "outputs": [
    {
     "ename": "TypeError",
     "evalue": "descriptor 'data' for 'Sample' objects doesn't apply to a 'Tensor' object",
     "output_type": "error",
     "traceback": [
      "\u001b[0;31m---------------------------------------------------------------------------\u001b[0m",
      "\u001b[0;31mTypeError\u001b[0m                                 Traceback (most recent call last)",
      "File \u001b[0;32m~/anaconda3/envs/radio/lib/python3.9/site-packages/IPython/core/formatters.py:707\u001b[0m, in \u001b[0;36mPlainTextFormatter.__call__\u001b[0;34m(self, obj)\u001b[0m\n\u001b[1;32m    700\u001b[0m stream \u001b[38;5;241m=\u001b[39m StringIO()\n\u001b[1;32m    701\u001b[0m printer \u001b[38;5;241m=\u001b[39m pretty\u001b[38;5;241m.\u001b[39mRepresentationPrinter(stream, \u001b[38;5;28mself\u001b[39m\u001b[38;5;241m.\u001b[39mverbose,\n\u001b[1;32m    702\u001b[0m     \u001b[38;5;28mself\u001b[39m\u001b[38;5;241m.\u001b[39mmax_width, \u001b[38;5;28mself\u001b[39m\u001b[38;5;241m.\u001b[39mnewline,\n\u001b[1;32m    703\u001b[0m     max_seq_length\u001b[38;5;241m=\u001b[39m\u001b[38;5;28mself\u001b[39m\u001b[38;5;241m.\u001b[39mmax_seq_length,\n\u001b[1;32m    704\u001b[0m     singleton_pprinters\u001b[38;5;241m=\u001b[39m\u001b[38;5;28mself\u001b[39m\u001b[38;5;241m.\u001b[39msingleton_printers,\n\u001b[1;32m    705\u001b[0m     type_pprinters\u001b[38;5;241m=\u001b[39m\u001b[38;5;28mself\u001b[39m\u001b[38;5;241m.\u001b[39mtype_printers,\n\u001b[1;32m    706\u001b[0m     deferred_pprinters\u001b[38;5;241m=\u001b[39m\u001b[38;5;28mself\u001b[39m\u001b[38;5;241m.\u001b[39mdeferred_printers)\n\u001b[0;32m--> 707\u001b[0m \u001b[43mprinter\u001b[49m\u001b[38;5;241;43m.\u001b[39;49m\u001b[43mpretty\u001b[49m\u001b[43m(\u001b[49m\u001b[43mobj\u001b[49m\u001b[43m)\u001b[49m\n\u001b[1;32m    708\u001b[0m printer\u001b[38;5;241m.\u001b[39mflush()\n\u001b[1;32m    709\u001b[0m \u001b[38;5;28;01mreturn\u001b[39;00m stream\u001b[38;5;241m.\u001b[39mgetvalue()\n",
      "File \u001b[0;32m~/anaconda3/envs/radio/lib/python3.9/site-packages/IPython/lib/pretty.py:410\u001b[0m, in \u001b[0;36mRepresentationPrinter.pretty\u001b[0;34m(self, obj)\u001b[0m\n\u001b[1;32m    407\u001b[0m                         \u001b[38;5;28;01mreturn\u001b[39;00m meth(obj, \u001b[38;5;28mself\u001b[39m, cycle)\n\u001b[1;32m    408\u001b[0m                 \u001b[38;5;28;01mif\u001b[39;00m \u001b[38;5;28mcls\u001b[39m \u001b[38;5;129;01mis\u001b[39;00m \u001b[38;5;129;01mnot\u001b[39;00m \u001b[38;5;28mobject\u001b[39m \\\n\u001b[1;32m    409\u001b[0m                         \u001b[38;5;129;01mand\u001b[39;00m callable(\u001b[38;5;28mcls\u001b[39m\u001b[38;5;241m.\u001b[39m\u001b[38;5;18m__dict__\u001b[39m\u001b[38;5;241m.\u001b[39mget(\u001b[38;5;124m'\u001b[39m\u001b[38;5;124m__repr__\u001b[39m\u001b[38;5;124m'\u001b[39m)):\n\u001b[0;32m--> 410\u001b[0m                     \u001b[38;5;28;01mreturn\u001b[39;00m \u001b[43m_repr_pprint\u001b[49m\u001b[43m(\u001b[49m\u001b[43mobj\u001b[49m\u001b[43m,\u001b[49m\u001b[43m \u001b[49m\u001b[38;5;28;43mself\u001b[39;49m\u001b[43m,\u001b[49m\u001b[43m \u001b[49m\u001b[43mcycle\u001b[49m\u001b[43m)\u001b[49m\n\u001b[1;32m    412\u001b[0m     \u001b[38;5;28;01mreturn\u001b[39;00m _default_pprint(obj, \u001b[38;5;28mself\u001b[39m, cycle)\n\u001b[1;32m    413\u001b[0m \u001b[38;5;28;01mfinally\u001b[39;00m:\n",
      "File \u001b[0;32m~/anaconda3/envs/radio/lib/python3.9/site-packages/IPython/lib/pretty.py:778\u001b[0m, in \u001b[0;36m_repr_pprint\u001b[0;34m(obj, p, cycle)\u001b[0m\n\u001b[1;32m    776\u001b[0m \u001b[38;5;124;03m\"\"\"A pprint that just redirects to the normal repr function.\"\"\"\u001b[39;00m\n\u001b[1;32m    777\u001b[0m \u001b[38;5;66;03m# Find newlines and replace them with p.break_()\u001b[39;00m\n\u001b[0;32m--> 778\u001b[0m output \u001b[38;5;241m=\u001b[39m \u001b[38;5;28;43mrepr\u001b[39;49m\u001b[43m(\u001b[49m\u001b[43mobj\u001b[49m\u001b[43m)\u001b[49m\n\u001b[1;32m    779\u001b[0m lines \u001b[38;5;241m=\u001b[39m output\u001b[38;5;241m.\u001b[39msplitlines()\n\u001b[1;32m    780\u001b[0m \u001b[38;5;28;01mwith\u001b[39;00m p\u001b[38;5;241m.\u001b[39mgroup():\n",
      "File \u001b[0;32m~/playground/radio/radio/data/datatypes.py:206\u001b[0m, in \u001b[0;36m__repr__\u001b[0;34m(self)\u001b[0m\n\u001b[1;32m    201\u001b[0m     sample_type: InitVar[\u001b[38;5;28mstr\u001b[39m] \u001b[38;5;241m=\u001b[39m \u001b[38;5;124m\"\u001b[39m\u001b[38;5;124mPILImage\u001b[39m\u001b[38;5;124m\"\u001b[39m\n\u001b[1;32m    204\u001b[0m \u001b[38;5;66;03m# Generic Sequene of Samples Types\u001b[39;00m\n\u001b[1;32m    205\u001b[0m SampleVar \u001b[38;5;241m=\u001b[39m TypeVar(\n\u001b[0;32m--> 206\u001b[0m     \u001b[38;5;124m\"\u001b[39m\u001b[38;5;124mSampleVar\u001b[39m\u001b[38;5;124m\"\u001b[39m,\n\u001b[1;32m    207\u001b[0m     Tensor,\n\u001b[1;32m    208\u001b[0m     Img,\n\u001b[1;32m    209\u001b[0m     NamedTensor,\n\u001b[1;32m    210\u001b[0m     NamedImg,\n\u001b[1;32m    211\u001b[0m     MutableTensor,\n\u001b[1;32m    212\u001b[0m     MutableImg,\n\u001b[1;32m    213\u001b[0m     MutableNamedTensor,\n\u001b[1;32m    214\u001b[0m     MutableNamedImg,\n\u001b[1;32m    215\u001b[0m )\n\u001b[1;32m    216\u001b[0m SampleType \u001b[38;5;241m=\u001b[39m Union[Tensor, Img, NamedTensor, NamedImg, MutableTensor,\n\u001b[1;32m    217\u001b[0m                    MutableImg, MutableNamedTensor, MutableNamedImg, ]\n\u001b[1;32m    219\u001b[0m \u001b[38;5;66;03m# ####################\u001b[39;00m\n\u001b[1;32m    220\u001b[0m \u001b[38;5;66;03m# Hybrid Samples Types\u001b[39;00m\n\u001b[1;32m    221\u001b[0m \u001b[38;5;66;03m# ####################\u001b[39;00m\n",
      "File \u001b[0;32m~/playground/radio/radio/data/datatypes.py:68\u001b[0m, in \u001b[0;36mSample.__repr__\u001b[0;34m(self)\u001b[0m\n\u001b[1;32m     67\u001b[0m \u001b[38;5;28;01mdef\u001b[39;00m \u001b[38;5;21m__repr__\u001b[39m(\u001b[38;5;28mself\u001b[39m):\n\u001b[0;32m---> 68\u001b[0m     \u001b[38;5;28;01mreturn\u001b[39;00m \u001b[38;5;124mf\u001b[39m\u001b[38;5;124m\"\u001b[39m\u001b[38;5;124mradio.\u001b[39m\u001b[38;5;132;01m{\u001b[39;00m\u001b[38;5;28mself\u001b[39m\u001b[38;5;241m.\u001b[39m\u001b[38;5;18m__class__\u001b[39m\u001b[38;5;241m.\u001b[39m\u001b[38;5;18m__qualname__\u001b[39m\u001b[38;5;132;01m}\u001b[39;00m\u001b[38;5;124m(\u001b[39m\u001b[38;5;132;01m{\u001b[39;00m\u001b[38;5;28mself\u001b[39m\u001b[38;5;241m.\u001b[39mdata\u001b[38;5;132;01m}\u001b[39;00m\u001b[38;5;124m)\u001b[39m\u001b[38;5;124m\"\u001b[39m\n",
      "\u001b[0;31mTypeError\u001b[0m: descriptor 'data' for 'Sample' objects doesn't apply to a 'Tensor' object"
     ]
    }
   ],
   "source": [
    "mutable_named_sor.name = \"new_name\"\n",
    "mutable_named_sor"
   ]
  },
  {
   "cell_type": "markdown",
   "id": "9a76676e-7e99-449a-bf6b-6d32656b111f",
   "metadata": {},
   "source": [
    "#### Test SeqTensor"
   ]
  },
  {
   "cell_type": "code",
   "execution_count": 49,
   "id": "84a35185-64f9-4554-89a4-af7db49c4e9c",
   "metadata": {},
   "outputs": [
    {
     "data": {
      "text/plain": [
       "radio.SeqTensor([radio.Tensor(tensor([0.0323, 0.9484, 0.3342, 0.2686]))])"
      ]
     },
     "execution_count": 49,
     "metadata": {},
     "output_type": "execute_result"
    }
   ],
   "source": [
    "myseqtensor = SeqTensor([torch.rand(4)])\n",
    "myseqtensor"
   ]
  },
  {
   "cell_type": "code",
   "execution_count": 50,
   "id": "816fedea-d333-4a5c-99cf-777719a35ebc",
   "metadata": {},
   "outputs": [
    {
     "data": {
      "text/plain": [
       "[(tensor([0.0323, 0.9484, 0.3342, 0.2686]),)]"
      ]
     },
     "execution_count": 50,
     "metadata": {},
     "output_type": "execute_result"
    }
   ],
   "source": [
    "mydata, = myseqtensor\n",
    "mydata"
   ]
  },
  {
   "cell_type": "code",
   "execution_count": 51,
   "id": "62969284-eaed-42f0-83e0-97ac21110a54",
   "metadata": {},
   "outputs": [
    {
     "data": {
      "text/plain": [
       "radio.SeqTensor([radio.Tensor(tensor([0.4275, 0.8603, 0.8265, 0.7086]))])"
      ]
     },
     "execution_count": 51,
     "metadata": {},
     "output_type": "execute_result"
    }
   ],
   "source": [
    "anotherseqtensor = SeqTensor(torch.rand(4))\n",
    "anotherseqtensor"
   ]
  },
  {
   "cell_type": "code",
   "execution_count": 52,
   "id": "1d1d9305-71f8-44a8-a124-a3b7b15cb77b",
   "metadata": {},
   "outputs": [
    {
     "data": {
      "text/plain": [
       "radio.SeqTensor([radio.Tensor(tensor([0.7630, 0.3033, 0.5721, 0.8188]))])"
      ]
     },
     "execution_count": 52,
     "metadata": {},
     "output_type": "execute_result"
    }
   ],
   "source": [
    "yetanotherseqtensor = SeqTensor(mytensor)\n",
    "yetanotherseqtensor"
   ]
  },
  {
   "cell_type": "code",
   "execution_count": 53,
   "id": "9e93ab36-3dea-4971-9695-21a57aa55223",
   "metadata": {},
   "outputs": [
    {
     "data": {
      "text/plain": [
       "radio.SeqTensor([radio.Tensor(tensor([0.3610, 0.6428, 0.0591, 0.1424])), radio.Tensor(tensor([0.7630, 0.3033, 0.5721, 0.8188]))])"
      ]
     },
     "execution_count": 53,
     "metadata": {},
     "output_type": "execute_result"
    }
   ],
   "source": [
    "mixseqtensor = SeqTensor([torch.rand(4), mytensor])\n",
    "mixseqtensor"
   ]
  },
  {
   "cell_type": "markdown",
   "id": "1d251c7b-4ae0-48fb-9b68-a63c504d0b06",
   "metadata": {},
   "source": [
    "#### Test SeqNamedTensor"
   ]
  },
  {
   "cell_type": "code",
   "execution_count": null,
   "id": "84c55633-917f-4daa-b7f0-aa1cef7f0f5f",
   "metadata": {},
   "outputs": [],
   "source": [
    "myseqnamedtensor = SeqNamedTensor(\"list[rand(4)]\", [torch.rand(4)])\n",
    "myseqnamedtensor"
   ]
  },
  {
   "cell_type": "code",
   "execution_count": null,
   "id": "5c0e5af6-4815-4eed-a764-e485fac8d79c",
   "metadata": {},
   "outputs": [],
   "source": [
    "myname, mydata = myseqnamedtensor\n",
    "myname, mydata"
   ]
  },
  {
   "cell_type": "code",
   "execution_count": null,
   "id": "ce46b060-f339-4026-be50-e734605a99e0",
   "metadata": {},
   "outputs": [],
   "source": []
  }
 ],
 "metadata": {
  "kernelspec": {
   "display_name": "radio",
   "language": "python",
   "name": "radio"
  },
  "language_info": {
   "codemirror_mode": {
    "name": "ipython",
    "version": 3
   },
   "file_extension": ".py",
   "mimetype": "text/x-python",
   "name": "python",
   "nbconvert_exporter": "python",
   "pygments_lexer": "ipython3",
   "version": "3.9.7"
  }
 },
 "nbformat": 4,
 "nbformat_minor": 5
}

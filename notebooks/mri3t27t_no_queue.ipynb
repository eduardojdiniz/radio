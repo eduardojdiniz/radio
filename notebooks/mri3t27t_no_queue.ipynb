{
 "cells": [
  {
   "cell_type": "markdown",
   "id": "f856a3a7-4d9e-4971-9c0b-914ac8e436ff",
   "metadata": {
    "tags": []
   },
   "source": [
    "### Testing 3T27T Queue "
   ]
  },
  {
   "cell_type": "code",
   "execution_count": 1,
   "id": "3808b05e-714a-46f8-9d13-b5c75f5f6aca",
   "metadata": {
    "tags": []
   },
   "outputs": [],
   "source": [
    "%load_ext autoreload\n",
    "%autoreload 2"
   ]
  },
  {
   "cell_type": "code",
   "execution_count": 2,
   "id": "31a90e57-f943-489b-8325-c26c2c78532c",
   "metadata": {},
   "outputs": [],
   "source": [
    "import matplotlib.pyplot as plt\n",
    "plt.rcParams['figure.figsize'] = [20, 40]"
   ]
  },
  {
   "cell_type": "code",
   "execution_count": 3,
   "id": "e5211082-ccc1-4d29-b912-09dea8f35304",
   "metadata": {
    "tags": []
   },
   "outputs": [],
   "source": [
    "import radio as rio\n",
    "from pathlib import Path\n",
    "from radio.data.datautils import get_first_batch \n",
    "from radio.data.datavisualization import plot_batch, plot_grid"
   ]
  },
  {
   "cell_type": "markdown",
   "id": "b071c64a-de3b-464e-a12b-6490a83ab2a0",
   "metadata": {},
   "source": [
    "#### Setup Data"
   ]
  },
  {
   "cell_type": "code",
   "execution_count": 4,
   "id": "a3e0672d-15aa-4ef6-8993-0eea99823c4c",
   "metadata": {},
   "outputs": [
    {
     "name": "stderr",
     "output_type": "stream",
     "text": [
      "/home/dinize@acct.upmchs.net/anaconda3/envs/radio/lib/python3.10/site-packages/pytorch_lightning/core/datamodule.py:95: LightningDeprecationWarning: DataModule property `train_transforms` was deprecated in v1.5 and will be removed in v1.7.\n",
      "  rank_zero_deprecation(\n",
      "/home/dinize@acct.upmchs.net/anaconda3/envs/radio/lib/python3.10/site-packages/pytorch_lightning/core/datamodule.py:114: LightningDeprecationWarning: DataModule property `val_transforms` was deprecated in v1.5 and will be removed in v1.7.\n",
      "  rank_zero_deprecation(\n",
      "/home/dinize@acct.upmchs.net/anaconda3/envs/radio/lib/python3.10/site-packages/pytorch_lightning/core/datamodule.py:133: LightningDeprecationWarning: DataModule property `test_transforms` was deprecated in v1.5 and will be removed in v1.7.\n",
      "  rank_zero_deprecation(\n",
      "/home/dinize@acct.upmchs.net/anaconda3/envs/radio/lib/python3.10/site-packages/pytorch_lightning/core/datamodule.py:149: LightningDeprecationWarning: DataModule property `dims` was deprecated in v1.5 and will be removed in v1.7.\n",
      "  rank_zero_deprecation(\"DataModule property `dims` was deprecated in v1.5 and will be removed in v1.7.\")\n",
      "/home/dinize@acct.upmchs.net/anaconda3/envs/radio/lib/python3.10/site-packages/pytorch_lightning/core/datamodule.py:88: LightningDeprecationWarning: DataModule property `train_transforms` was deprecated in v1.5 and will be removed in v1.7.\n",
      "  rank_zero_deprecation(\n",
      "/home/dinize@acct.upmchs.net/anaconda3/envs/radio/lib/python3.10/site-packages/pytorch_lightning/core/datamodule.py:144: LightningDeprecationWarning: DataModule property `dims` was deprecated in v1.5 and will be removed in v1.7.\n",
      "  rank_zero_deprecation(\"DataModule property `dims` was deprecated in v1.5 and will be removed in v1.7.\")\n",
      "/home/dinize@acct.upmchs.net/anaconda3/envs/radio/lib/python3.10/site-packages/pytorch_lightning/core/datamodule.py:107: LightningDeprecationWarning: DataModule property `val_transforms` was deprecated in v1.5 and will be removed in v1.7.\n",
      "  rank_zero_deprecation(\n",
      "/home/dinize@acct.upmchs.net/anaconda3/envs/radio/lib/python3.10/site-packages/pytorch_lightning/core/datamodule.py:126: LightningDeprecationWarning: DataModule property `test_transforms` was deprecated in v1.5 and will be removed in v1.7.\n",
      "  rank_zero_deprecation(\n"
     ]
    }
   ],
   "source": [
    "# Load pre-stored data from train/test/val folders \n",
    "data = rio.data.MRI3T27TPatchNoQueueDataModule(\n",
    "    root=\"/media/cerebro/Workspaces/Students/Eduardo_Diniz/Studies\",\n",
    "    study=\"MRI3T27T\",\n",
    "    subj_dir=\"unprocessed\",\n",
    "    data_dir=\"\",\n",
    "    domain_a=\"3T_MPR\",\n",
    "    domain_b=\"7T_MPR\",\n",
    "    use_augmentation=False,\n",
    "    use_preprocessing=True,\n",
    "    resample=False,\n",
    "    batch_size=1,\n",
    "    dims=(368, 480, 64),\n",
    "    patch_size=(368, 480, 1),\n",
    "    create_custom_probability_map=True,\n",
    "    pin_memory=False,\n",
    "    start_background=False,\n",
    "    queue_max_length=1,\n",
    "    samples_per_volume=1,\n",
    "    num_workers=0,\n",
    ")\n",
    "data.prepare_data()\n",
    "data.setup()"
   ]
  },
  {
   "cell_type": "code",
   "execution_count": 5,
   "id": "c33e3d38-6e32-4450-be18-2773b997d6dd",
   "metadata": {
    "tags": []
   },
   "outputs": [
    {
     "name": "stdout",
     "output_type": "stream",
     "text": [
      "Training: 890 patches.\n",
      "Validation: 222 patches.\n",
      "Test: 30 patches.\n"
     ]
    }
   ],
   "source": [
    "print(f\"Training: {data.size_train} patches.\")\n",
    "print(f\"Validation: {data.size_val} patches.\")\n",
    "print(f\"Test: {data.size_test} patches.\")"
   ]
  },
  {
   "cell_type": "markdown",
   "id": "a1776364-43b1-47f3-bd29-f51ba8c02013",
   "metadata": {},
   "source": [
    "#### Get a Train and a Test Batch"
   ]
  },
  {
   "cell_type": "code",
   "execution_count": 6,
   "id": "bc58e1cc-f00c-4751-b2b5-66d9ec4f41e9",
   "metadata": {},
   "outputs": [],
   "source": [
    "train_dataloader = data.train_dataloader()\n",
    "val_dataloader = data.val_dataloader()\n",
    "test_dataloader = data.test_dataloader()"
   ]
  },
  {
   "cell_type": "code",
   "execution_count": null,
   "id": "cc04e640-5ff4-4930-ba53-0f77a6a8a781",
   "metadata": {},
   "outputs": [],
   "source": [
    "subject_a, subject_b = data.train_dataset[0]"
   ]
  },
  {
   "cell_type": "code",
   "execution_count": null,
   "id": "efaa4475-403f-4967-9bc2-e98a7d7eec90",
   "metadata": {},
   "outputs": [],
   "source": [
    "subject_a.shape"
   ]
  },
  {
   "cell_type": "code",
   "execution_count": null,
   "id": "f0c687df-e520-43b4-a07d-8eafce6c61ab",
   "metadata": {},
   "outputs": [],
   "source": [
    "# Takes a long time if resampling is required.\n",
    "# Preprocessing beforehand is therefore recommended to speed up training.\n",
    "train_batch = get_first_batch(train_dataloader)\n",
    "val_batch = get_first_batch(val_dataloader)"
   ]
  },
  {
   "cell_type": "code",
   "execution_count": null,
   "id": "d5ce0993-8e47-471a-949d-9d89997611d5",
   "metadata": {},
   "outputs": [],
   "source": [
    "train_batch_a, train_batch_b = train_batch\n",
    "print(f\"Batch Domain A Keys: {train_batch_a.keys()}\")\n",
    "print(f\"Domain A Sample Shape: {train_batch_a['mri']['data'].shape}\")\n",
    "print(f\"Domain A Paths: {train_batch_a['mri']['path']}\")\n",
    "print(f\"Batch Domain B Keys: {train_batch_b.keys()}\")\n",
    "print(f\"Domain B Sample Shape: {train_batch_b['mri']['data'].shape}\")\n",
    "print(f\"Domain B Paths: {train_batch_b['mri']['path']}\")"
   ]
  },
  {
   "cell_type": "markdown",
   "id": "9017914d-7930-46ba-8979-be6699571f2e",
   "metadata": {},
   "source": [
    "#### Plot Example Samples from Batches"
   ]
  },
  {
   "cell_type": "code",
   "execution_count": null,
   "id": "c43a4318-bbad-4024-a7a1-65409739f8f9",
   "metadata": {},
   "outputs": [],
   "source": [
    "plot_grid(train_batch_a)"
   ]
  },
  {
   "cell_type": "code",
   "execution_count": null,
   "id": "9a94f591-a1ab-4cca-9282-eea89411e0af",
   "metadata": {},
   "outputs": [],
   "source": [
    "plot_grid(train_batch_b)"
   ]
  },
  {
   "cell_type": "markdown",
   "id": "043fc142-d30c-4510-828a-3fa8b05b03e3",
   "metadata": {
    "tags": []
   },
   "source": [
    "#### Save Preprocessed Images"
   ]
  },
  {
   "cell_type": "code",
   "execution_count": 7,
   "id": "d7e529b2-622e-4922-a3bd-55e8cecf6908",
   "metadata": {},
   "outputs": [
    {
     "name": "stderr",
     "output_type": "stream",
     "text": [
      "  0%|                                                                                                                                                                                                                                                                                                                                                                                                    | 0/890.0 [00:00<?, ?it/s]"
     ]
    },
    {
     "name": "stdout",
     "output_type": "stream",
     "text": [
      "4.4\n",
      "80.1\n",
      "| ID | GPU | MEM |\n",
      "------------------\n",
      "|  0 |  0% | 19% |\n",
      "|  1 |  0% |  0% |\n"
     ]
    },
    {
     "name": "stderr",
     "output_type": "stream",
     "text": [
      "  0%|▍                                                                                                                                                                                                                                                                                                                                                                                           | 1/890.0 [00:03<48:47,  3.29s/it]"
     ]
    },
    {
     "name": "stdout",
     "output_type": "stream",
     "text": [
      "21.6\n",
      "80.3\n",
      "| ID | GPU | MEM |\n",
      "------------------\n",
      "|  0 |  0% | 19% |\n",
      "|  1 |  0% |  0% |\n"
     ]
    },
    {
     "name": "stderr",
     "output_type": "stream",
     "text": [
      "  0%|▊                                                                                                                                                                                                                                                                                                                                                                                           | 2/890.0 [00:05<39:26,  2.66s/it]"
     ]
    },
    {
     "name": "stdout",
     "output_type": "stream",
     "text": [
      "21.9\n",
      "80.3\n",
      "| ID | GPU | MEM |\n",
      "------------------\n",
      "|  0 |  0% | 19% |\n",
      "|  1 |  0% |  0% |\n"
     ]
    },
    {
     "name": "stderr",
     "output_type": "stream",
     "text": [
      "  0%|█▎                                                                                                                                                                                                                                                                                                                                                                                          | 3/890.0 [00:07<36:29,  2.47s/it]"
     ]
    },
    {
     "name": "stdout",
     "output_type": "stream",
     "text": [
      "21.8\n",
      "80.3\n",
      "| ID | GPU | MEM |\n",
      "------------------\n",
      "|  0 |  0% | 19% |\n",
      "|  1 |  0% |  0% |\n"
     ]
    },
    {
     "name": "stderr",
     "output_type": "stream",
     "text": [
      "  0%|█▋                                                                                                                                                                                                                                                                                                                                                                                          | 4/890.0 [00:10<35:19,  2.39s/it]"
     ]
    },
    {
     "name": "stdout",
     "output_type": "stream",
     "text": [
      "22.0\n",
      "80.3\n",
      "| ID | GPU | MEM |\n",
      "------------------\n",
      "|  0 |  0% | 19% |\n",
      "|  1 |  0% |  0% |\n"
     ]
    },
    {
     "name": "stderr",
     "output_type": "stream",
     "text": [
      "  1%|██▏                                                                                                                                                                                                                                                                                                                                                                                         | 5/890.0 [00:12<34:29,  2.34s/it]"
     ]
    },
    {
     "name": "stdout",
     "output_type": "stream",
     "text": [
      "21.5\n",
      "80.3\n",
      "| ID | GPU | MEM |\n",
      "------------------\n",
      "|  0 |  0% | 19% |\n",
      "|  1 |  0% |  0% |\n"
     ]
    },
    {
     "name": "stderr",
     "output_type": "stream",
     "text": [
      "  1%|██▌                                                                                                                                                                                                                                                                                                                                                                                         | 6/890.0 [00:14<34:20,  2.33s/it]"
     ]
    },
    {
     "name": "stdout",
     "output_type": "stream",
     "text": [
      "22.1\n",
      "80.3\n",
      "| ID | GPU | MEM |\n",
      "------------------\n",
      "|  0 |  0% | 19% |\n",
      "|  1 |  0% |  0% |\n"
     ]
    },
    {
     "name": "stderr",
     "output_type": "stream",
     "text": [
      "  1%|██▉                                                                                                                                                                                                                                                                                                                                                                                         | 7/890.0 [00:16<33:58,  2.31s/it]"
     ]
    },
    {
     "name": "stdout",
     "output_type": "stream",
     "text": [
      "21.7\n",
      "80.3\n",
      "| ID | GPU | MEM |\n",
      "------------------\n",
      "|  0 |  0% | 19% |\n",
      "|  1 |  0% |  0% |\n"
     ]
    },
    {
     "name": "stderr",
     "output_type": "stream",
     "text": [
      "  1%|███▍                                                                                                                                                                                                                                                                                                                                                                                        | 8/890.0 [00:19<33:50,  2.30s/it]"
     ]
    },
    {
     "name": "stdout",
     "output_type": "stream",
     "text": [
      "22.0\n",
      "80.3\n",
      "| ID | GPU | MEM |\n",
      "------------------\n",
      "|  0 |  0% | 19% |\n",
      "|  1 |  0% |  0% |\n"
     ]
    },
    {
     "name": "stderr",
     "output_type": "stream",
     "text": [
      "  1%|███▊                                                                                                                                                                                                                                                                                                                                                                                        | 9/890.0 [00:21<33:43,  2.30s/it]"
     ]
    },
    {
     "name": "stdout",
     "output_type": "stream",
     "text": [
      "21.7\n",
      "80.3\n",
      "| ID | GPU | MEM |\n",
      "------------------\n",
      "|  0 |  0% | 19% |\n",
      "|  1 |  0% |  0% |\n"
     ]
    },
    {
     "name": "stderr",
     "output_type": "stream",
     "text": [
      "  1%|████▎                                                                                                                                                                                                                                                                                                                                                                                      | 10/890.0 [00:23<33:44,  2.30s/it]"
     ]
    },
    {
     "name": "stdout",
     "output_type": "stream",
     "text": [
      "21.8\n",
      "80.3\n",
      "| ID | GPU | MEM |\n",
      "------------------\n",
      "|  0 |  0% | 19% |\n",
      "|  1 |  0% |  0% |\n"
     ]
    },
    {
     "name": "stderr",
     "output_type": "stream",
     "text": [
      "  1%|████▋                                                                                                                                                                                                                                                                                                                                                                                      | 11/890.0 [00:26<33:37,  2.29s/it]"
     ]
    },
    {
     "name": "stdout",
     "output_type": "stream",
     "text": [
      "21.6\n",
      "80.3\n",
      "| ID | GPU | MEM |\n",
      "------------------\n",
      "|  0 |  0% | 19% |\n",
      "|  1 |  0% |  0% |\n"
     ]
    },
    {
     "name": "stderr",
     "output_type": "stream",
     "text": [
      "  1%|█████                                                                                                                                                                                                                                                                                                                                                                                      | 12/890.0 [00:28<33:40,  2.30s/it]"
     ]
    },
    {
     "name": "stdout",
     "output_type": "stream",
     "text": [
      "19.3\n",
      "80.2\n",
      "| ID | GPU | MEM |\n",
      "------------------\n",
      "|  0 |  0% | 19% |\n",
      "|  1 |  0% |  0% |\n"
     ]
    },
    {
     "name": "stderr",
     "output_type": "stream",
     "text": [
      "  1%|█████▌                                                                                                                                                                                                                                                                                                                                                                                     | 13/890.0 [00:31<36:56,  2.53s/it]"
     ]
    },
    {
     "name": "stdout",
     "output_type": "stream",
     "text": [
      "21.8\n",
      "80.2\n",
      "| ID | GPU | MEM |\n",
      "------------------\n",
      "|  0 |  0% | 19% |\n",
      "|  1 |  0% |  0% |\n"
     ]
    },
    {
     "name": "stderr",
     "output_type": "stream",
     "text": [
      "  2%|█████▉                                                                                                                                                                                                                                                                                                                                                                                     | 14/890.0 [00:33<35:51,  2.46s/it]"
     ]
    },
    {
     "name": "stdout",
     "output_type": "stream",
     "text": [
      "22.3\n",
      "80.3\n",
      "| ID | GPU | MEM |\n",
      "------------------\n",
      "|  0 |  0% | 19% |\n",
      "|  1 |  0% |  0% |\n"
     ]
    },
    {
     "name": "stderr",
     "output_type": "stream",
     "text": [
      "  2%|██████▍                                                                                                                                                                                                                                                                                                                                                                                    | 15/890.0 [00:35<34:56,  2.40s/it]"
     ]
    },
    {
     "name": "stdout",
     "output_type": "stream",
     "text": [
      "22.2\n",
      "80.3\n",
      "| ID | GPU | MEM |\n",
      "------------------\n",
      "|  0 |  0% | 19% |\n",
      "|  1 |  0% |  0% |\n"
     ]
    },
    {
     "name": "stderr",
     "output_type": "stream",
     "text": [
      "  2%|██████▊                                                                                                                                                                                                                                                                                                                                                                                    | 16/890.0 [00:38<34:15,  2.35s/it]"
     ]
    },
    {
     "name": "stdout",
     "output_type": "stream",
     "text": [
      "21.5\n",
      "80.3\n",
      "| ID | GPU | MEM |\n",
      "------------------\n",
      "|  0 |  0% | 19% |\n",
      "|  1 |  0% |  0% |\n"
     ]
    },
    {
     "name": "stderr",
     "output_type": "stream",
     "text": [
      "  2%|███████▏                                                                                                                                                                                                                                                                                                                                                                                   | 17/890.0 [00:40<34:07,  2.35s/it]"
     ]
    },
    {
     "name": "stdout",
     "output_type": "stream",
     "text": [
      "22.0\n",
      "80.4\n",
      "| ID | GPU | MEM |\n",
      "------------------\n",
      "|  0 |  0% | 19% |\n",
      "|  1 |  0% |  0% |\n"
     ]
    },
    {
     "name": "stderr",
     "output_type": "stream",
     "text": [
      "  2%|███████▋                                                                                                                                                                                                                                                                                                                                                                                   | 18/890.0 [00:42<32:11,  2.21s/it]"
     ]
    },
    {
     "name": "stdout",
     "output_type": "stream",
     "text": [
      "22.1\n",
      "80.4\n",
      "| ID | GPU | MEM |\n",
      "------------------\n",
      "|  0 |  0% | 19% |\n",
      "|  1 |  0% |  0% |\n"
     ]
    },
    {
     "name": "stderr",
     "output_type": "stream",
     "text": [
      "  2%|████████                                                                                                                                                                                                                                                                                                                                                                                   | 19/890.0 [00:44<32:19,  2.23s/it]"
     ]
    },
    {
     "name": "stdout",
     "output_type": "stream",
     "text": [
      "22.7\n",
      "80.4\n",
      "| ID | GPU | MEM |\n",
      "------------------\n",
      "|  0 |  0% | 19% |\n",
      "|  1 |  0% |  0% |\n"
     ]
    },
    {
     "name": "stderr",
     "output_type": "stream",
     "text": [
      "  2%|████████▌                                                                                                                                                                                                                                                                                                                                                                                  | 20/890.0 [00:46<32:09,  2.22s/it]"
     ]
    },
    {
     "name": "stdout",
     "output_type": "stream",
     "text": [
      "21.8\n",
      "80.4\n",
      "| ID | GPU | MEM |\n",
      "------------------\n",
      "|  0 |  0% | 19% |\n",
      "|  1 |  0% |  0% |\n"
     ]
    },
    {
     "name": "stderr",
     "output_type": "stream",
     "text": [
      "  2%|████████▉                                                                                                                                                                                                                                                                                                                                                                                  | 21/890.0 [00:49<32:15,  2.23s/it]"
     ]
    },
    {
     "name": "stdout",
     "output_type": "stream",
     "text": [
      "21.8\n",
      "80.4\n",
      "| ID | GPU | MEM |\n",
      "------------------\n",
      "|  0 |  0% | 19% |\n",
      "|  1 |  0% |  0% |\n"
     ]
    },
    {
     "name": "stderr",
     "output_type": "stream",
     "text": [
      "  2%|█████████▎                                                                                                                                                                                                                                                                                                                                                                                 | 22/890.0 [00:51<32:31,  2.25s/it]"
     ]
    },
    {
     "name": "stdout",
     "output_type": "stream",
     "text": [
      "18.4\n",
      "80.4\n",
      "| ID | GPU | MEM |\n",
      "------------------\n",
      "|  0 |  0% | 19% |\n",
      "|  1 |  0% |  0% |\n"
     ]
    },
    {
     "name": "stderr",
     "output_type": "stream",
     "text": [
      "  3%|█████████▊                                                                                                                                                                                                                                                                                                                                                                                 | 23/890.0 [00:54<36:33,  2.53s/it]"
     ]
    },
    {
     "name": "stdout",
     "output_type": "stream",
     "text": [
      "21.3\n",
      "80.4\n",
      "| ID | GPU | MEM |\n",
      "------------------\n",
      "|  0 |  0% | 19% |\n",
      "|  1 |  0% |  0% |\n"
     ]
    },
    {
     "name": "stderr",
     "output_type": "stream",
     "text": [
      "  3%|██████████▏                                                                                                                                                                                                                                                                                                                                                                                | 24/890.0 [00:56<35:19,  2.45s/it]"
     ]
    },
    {
     "name": "stdout",
     "output_type": "stream",
     "text": [
      "21.9\n",
      "80.4\n",
      "| ID | GPU | MEM |\n",
      "------------------\n",
      "|  0 |  0% | 19% |\n",
      "|  1 |  0% |  0% |\n"
     ]
    },
    {
     "name": "stderr",
     "output_type": "stream",
     "text": [
      "  3%|██████████▋                                                                                                                                                                                                                                                                                                                                                                                | 25/890.0 [00:59<34:17,  2.38s/it]"
     ]
    },
    {
     "name": "stdout",
     "output_type": "stream",
     "text": [
      "19.0\n",
      "80.4\n",
      "| ID | GPU | MEM |\n",
      "------------------\n",
      "|  0 |  0% | 19% |\n",
      "|  1 |  0% |  0% |\n"
     ]
    },
    {
     "name": "stderr",
     "output_type": "stream",
     "text": [
      "  3%|███████████                                                                                                                                                                                                                                                                                                                                                                                | 26/890.0 [01:02<37:05,  2.58s/it]"
     ]
    },
    {
     "name": "stdout",
     "output_type": "stream",
     "text": [
      "22.2\n",
      "80.4\n",
      "| ID | GPU | MEM |\n",
      "------------------\n",
      "|  0 |  0% | 19% |\n",
      "|  1 |  0% |  0% |\n"
     ]
    },
    {
     "name": "stderr",
     "output_type": "stream",
     "text": [
      "  3%|███████████▍                                                                                                                                                                                                                                                                                                                                                                               | 27/890.0 [01:04<35:25,  2.46s/it]"
     ]
    },
    {
     "name": "stdout",
     "output_type": "stream",
     "text": [
      "21.6\n",
      "80.4\n",
      "| ID | GPU | MEM |\n",
      "------------------\n",
      "|  0 |  0% | 19% |\n",
      "|  1 |  0% |  0% |\n"
     ]
    },
    {
     "name": "stderr",
     "output_type": "stream",
     "text": [
      "  3%|███████████▉                                                                                                                                                                                                                                                                                                                                                                               | 28/890.0 [01:06<34:29,  2.40s/it]"
     ]
    },
    {
     "name": "stdout",
     "output_type": "stream",
     "text": [
      "17.6\n",
      "80.4\n",
      "| ID | GPU | MEM |\n",
      "------------------\n",
      "|  0 |  0% | 19% |\n",
      "|  1 |  0% |  0% |\n"
     ]
    },
    {
     "name": "stderr",
     "output_type": "stream",
     "text": [
      "  3%|████████████▎                                                                                                                                                                                                                                                                                                                                                                              | 29/890.0 [01:09<38:33,  2.69s/it]"
     ]
    },
    {
     "name": "stdout",
     "output_type": "stream",
     "text": [
      "21.6\n",
      "80.4\n",
      "| ID | GPU | MEM |\n",
      "------------------\n",
      "|  0 |  0% | 19% |\n",
      "|  1 |  0% |  0% |\n"
     ]
    },
    {
     "name": "stderr",
     "output_type": "stream",
     "text": [
      "  3%|████████████▊                                                                                                                                                                                                                                                                                                                                                                              | 30/890.0 [01:12<36:31,  2.55s/it]"
     ]
    },
    {
     "name": "stdout",
     "output_type": "stream",
     "text": [
      "18.9\n",
      "80.4\n",
      "| ID | GPU | MEM |\n",
      "------------------\n",
      "|  0 |  0% | 19% |\n",
      "|  1 |  0% |  0% |\n"
     ]
    },
    {
     "name": "stderr",
     "output_type": "stream",
     "text": [
      "  3%|█████████████▏                                                                                                                                                                                                                                                                                                                                                                             | 31/890.0 [01:15<38:49,  2.71s/it]"
     ]
    },
    {
     "name": "stdout",
     "output_type": "stream",
     "text": [
      "21.3\n",
      "80.4\n",
      "| ID | GPU | MEM |\n",
      "------------------\n",
      "|  0 |  0% | 19% |\n",
      "|  1 |  0% |  0% |\n"
     ]
    },
    {
     "name": "stderr",
     "output_type": "stream",
     "text": [
      "  4%|█████████████▋                                                                                                                                                                                                                                                                                                                                                                             | 32/890.0 [01:17<36:59,  2.59s/it]"
     ]
    },
    {
     "name": "stdout",
     "output_type": "stream",
     "text": [
      "19.4\n",
      "80.4\n",
      "| ID | GPU | MEM |\n",
      "------------------\n",
      "|  0 |  1% | 19% |\n",
      "|  1 |  0% |  0% |\n"
     ]
    },
    {
     "name": "stderr",
     "output_type": "stream",
     "text": [
      "  4%|██████████████                                                                                                                                                                                                                                                                                                                                                                             | 33/890.0 [01:20<38:56,  2.73s/it]"
     ]
    },
    {
     "name": "stdout",
     "output_type": "stream",
     "text": [
      "18.8\n",
      "80.4\n",
      "| ID | GPU | MEM |\n",
      "------------------\n",
      "|  0 |  0% | 19% |\n",
      "|  1 |  0% |  0% |\n"
     ]
    },
    {
     "name": "stderr",
     "output_type": "stream",
     "text": [
      "  4%|██████████████▍                                                                                                                                                                                                                                                                                                                                                                            | 34/890.0 [01:23<40:08,  2.81s/it]"
     ]
    },
    {
     "name": "stdout",
     "output_type": "stream",
     "text": [
      "21.7\n",
      "80.4\n",
      "| ID | GPU | MEM |\n",
      "------------------\n",
      "|  0 |  0% | 19% |\n",
      "|  1 |  0% |  0% |\n"
     ]
    },
    {
     "name": "stderr",
     "output_type": "stream",
     "text": [
      "  4%|██████████████▉                                                                                                                                                                                                                                                                                                                                                                            | 35/890.0 [01:25<37:35,  2.64s/it]"
     ]
    },
    {
     "name": "stdout",
     "output_type": "stream",
     "text": [
      "22.4\n",
      "80.4\n",
      "| ID | GPU | MEM |\n",
      "------------------\n",
      "|  0 |  0% | 19% |\n",
      "|  1 |  1% |  0% |\n"
     ]
    },
    {
     "name": "stderr",
     "output_type": "stream",
     "text": [
      "  4%|███████████████▎                                                                                                                                                                                                                                                                                                                                                                           | 36/890.0 [01:28<35:39,  2.51s/it]"
     ]
    },
    {
     "name": "stdout",
     "output_type": "stream",
     "text": [
      "21.9\n",
      "80.4\n",
      "| ID | GPU | MEM |\n",
      "------------------\n",
      "|  0 |  0% | 19% |\n",
      "|  1 |  0% |  0% |\n"
     ]
    },
    {
     "name": "stderr",
     "output_type": "stream",
     "text": [
      "  4%|███████████████▊                                                                                                                                                                                                                                                                                                                                                                           | 37/890.0 [01:30<34:27,  2.42s/it]"
     ]
    },
    {
     "name": "stdout",
     "output_type": "stream",
     "text": [
      "22.3\n",
      "80.4\n",
      "| ID | GPU | MEM |\n",
      "------------------\n",
      "|  0 |  0% | 19% |\n",
      "|  1 |  0% |  0% |\n"
     ]
    },
    {
     "name": "stderr",
     "output_type": "stream",
     "text": [
      "  4%|████████████████▏                                                                                                                                                                                                                                                                                                                                                                          | 38/890.0 [01:32<33:29,  2.36s/it]"
     ]
    },
    {
     "name": "stdout",
     "output_type": "stream",
     "text": [
      "22.2\n",
      "80.4\n",
      "| ID | GPU | MEM |\n",
      "------------------\n",
      "|  0 |  0% | 19% |\n",
      "|  1 |  0% |  0% |\n"
     ]
    },
    {
     "name": "stderr",
     "output_type": "stream",
     "text": [
      "  4%|████████████████▌                                                                                                                                                                                                                                                                                                                                                                          | 39/890.0 [01:34<33:01,  2.33s/it]"
     ]
    },
    {
     "name": "stdout",
     "output_type": "stream",
     "text": [
      "21.8\n",
      "80.4\n",
      "| ID | GPU | MEM |\n",
      "------------------\n",
      "|  0 |  0% | 19% |\n",
      "|  1 |  0% |  0% |\n"
     ]
    },
    {
     "name": "stderr",
     "output_type": "stream",
     "text": [
      "  4%|█████████████████                                                                                                                                                                                                                                                                                                                                                                          | 40/890.0 [01:36<32:38,  2.30s/it]"
     ]
    },
    {
     "name": "stdout",
     "output_type": "stream",
     "text": [
      "21.9\n",
      "80.4\n",
      "| ID | GPU | MEM |\n",
      "------------------\n",
      "|  0 |  0% | 19% |\n",
      "|  1 |  0% |  0% |\n"
     ]
    },
    {
     "name": "stderr",
     "output_type": "stream",
     "text": [
      "  5%|█████████████████▍                                                                                                                                                                                                                                                                                                                                                                         | 41/890.0 [01:39<32:18,  2.28s/it]"
     ]
    },
    {
     "name": "stdout",
     "output_type": "stream",
     "text": [
      "22.1\n",
      "80.4\n",
      "| ID | GPU | MEM |\n",
      "------------------\n",
      "|  0 |  0% | 19% |\n",
      "|  1 |  0% |  0% |\n"
     ]
    },
    {
     "name": "stderr",
     "output_type": "stream",
     "text": [
      "  5%|█████████████████▉                                                                                                                                                                                                                                                                                                                                                                         | 42/890.0 [01:41<32:00,  2.26s/it]"
     ]
    },
    {
     "name": "stdout",
     "output_type": "stream",
     "text": [
      "22.0\n",
      "80.4\n",
      "| ID | GPU | MEM |\n",
      "------------------\n",
      "|  0 |  0% | 19% |\n",
      "|  1 |  0% |  0% |\n"
     ]
    },
    {
     "name": "stderr",
     "output_type": "stream",
     "text": [
      "  5%|██████████████████▎                                                                                                                                                                                                                                                                                                                                                                        | 43/890.0 [01:43<31:50,  2.26s/it]"
     ]
    },
    {
     "name": "stdout",
     "output_type": "stream",
     "text": [
      "21.9\n",
      "80.4\n",
      "| ID | GPU | MEM |\n",
      "------------------\n",
      "|  0 |  0% | 19% |\n",
      "|  1 |  0% |  0% |\n"
     ]
    },
    {
     "name": "stderr",
     "output_type": "stream",
     "text": [
      "  5%|██████████████████▋                                                                                                                                                                                                                                                                                                                                                                        | 44/890.0 [01:45<31:44,  2.25s/it]"
     ]
    },
    {
     "name": "stdout",
     "output_type": "stream",
     "text": [
      "19.7\n",
      "80.4\n",
      "| ID | GPU | MEM |\n",
      "------------------\n",
      "|  0 |  0% | 19% |\n",
      "|  1 |  0% |  0% |\n"
     ]
    },
    {
     "name": "stderr",
     "output_type": "stream",
     "text": [
      "  5%|███████████████████▏                                                                                                                                                                                                                                                                                                                                                                       | 45/890.0 [01:48<32:40,  2.32s/it]"
     ]
    },
    {
     "name": "stdout",
     "output_type": "stream",
     "text": [
      "21.2\n",
      "80.4\n",
      "| ID | GPU | MEM |\n",
      "------------------\n",
      "|  0 |  0% | 19% |\n",
      "|  1 |  0% |  0% |\n"
     ]
    },
    {
     "name": "stderr",
     "output_type": "stream",
     "text": [
      "  5%|███████████████████▌                                                                                                                                                                                                                                                                                                                                                                       | 46/890.0 [01:50<33:32,  2.38s/it]"
     ]
    },
    {
     "name": "stdout",
     "output_type": "stream",
     "text": [
      "25.3\n",
      "80.4\n",
      "| ID | GPU | MEM |\n",
      "------------------\n",
      "|  0 |  0% | 19% |\n",
      "|  1 |  0% |  0% |\n"
     ]
    },
    {
     "name": "stderr",
     "output_type": "stream",
     "text": [
      "  5%|████████████████████                                                                                                                                                                                                                                                                                                                                                                       | 47/890.0 [01:52<31:34,  2.25s/it]"
     ]
    },
    {
     "name": "stdout",
     "output_type": "stream",
     "text": [
      "21.7\n",
      "80.4\n",
      "| ID | GPU | MEM |\n",
      "------------------\n",
      "|  0 |  0% | 19% |\n",
      "|  1 |  0% |  0% |\n"
     ]
    },
    {
     "name": "stderr",
     "output_type": "stream",
     "text": [
      "  5%|████████████████████▍                                                                                                                                                                                                                                                                                                                                                                      | 48/890.0 [01:54<30:07,  2.15s/it]"
     ]
    },
    {
     "name": "stdout",
     "output_type": "stream",
     "text": [
      "18.8\n",
      "80.4\n",
      "| ID | GPU | MEM |\n",
      "------------------\n",
      "|  0 |  0% | 19% |\n",
      "|  1 |  0% |  0% |\n"
     ]
    },
    {
     "name": "stderr",
     "output_type": "stream",
     "text": [
      "  6%|████████████████████▊                                                                                                                                                                                                                                                                                                                                                                      | 49/890.0 [01:58<34:47,  2.48s/it]"
     ]
    },
    {
     "name": "stdout",
     "output_type": "stream",
     "text": [
      "21.7\n",
      "80.4\n",
      "| ID | GPU | MEM |\n",
      "------------------\n",
      "|  0 |  0% | 19% |\n",
      "|  1 |  0% |  0% |\n"
     ]
    },
    {
     "name": "stderr",
     "output_type": "stream",
     "text": [
      "  6%|█████████████████████▎                                                                                                                                                                                                                                                                                                                                                                     | 50/890.0 [02:00<33:43,  2.41s/it]"
     ]
    },
    {
     "name": "stdout",
     "output_type": "stream",
     "text": [
      "22.1\n",
      "80.4\n",
      "| ID | GPU | MEM |\n",
      "------------------\n",
      "|  0 |  0% | 19% |\n",
      "|  1 |  0% |  0% |\n"
     ]
    },
    {
     "name": "stderr",
     "output_type": "stream",
     "text": [
      "  6%|█████████████████████▋                                                                                                                                                                                                                                                                                                                                                                     | 51/890.0 [02:02<32:58,  2.36s/it]"
     ]
    },
    {
     "name": "stdout",
     "output_type": "stream",
     "text": [
      "22.3\n",
      "80.4\n",
      "| ID | GPU | MEM |\n",
      "------------------\n",
      "|  0 |  0% | 19% |\n",
      "|  1 |  0% |  0% |\n"
     ]
    },
    {
     "name": "stderr",
     "output_type": "stream",
     "text": [
      "  6%|██████████████████████▏                                                                                                                                                                                                                                                                                                                                                                    | 52/890.0 [02:04<32:28,  2.33s/it]"
     ]
    },
    {
     "name": "stdout",
     "output_type": "stream",
     "text": [
      "22.3\n",
      "80.4\n",
      "| ID | GPU | MEM |\n",
      "------------------\n",
      "|  0 |  0% | 19% |\n",
      "|  1 |  0% |  0% |\n"
     ]
    },
    {
     "name": "stderr",
     "output_type": "stream",
     "text": [
      "  6%|██████████████████████▌                                                                                                                                                                                                                                                                                                                                                                    | 53/890.0 [02:06<32:04,  2.30s/it]"
     ]
    },
    {
     "name": "stdout",
     "output_type": "stream",
     "text": [
      "21.4\n",
      "80.4\n",
      "| ID | GPU | MEM |\n",
      "------------------\n",
      "|  0 |  0% | 19% |\n",
      "|  1 |  0% |  0% |\n"
     ]
    },
    {
     "name": "stderr",
     "output_type": "stream",
     "text": [
      "  6%|██████████████████████▉                                                                                                                                                                                                                                                                                                                                                                    | 54/890.0 [02:09<32:02,  2.30s/it]"
     ]
    },
    {
     "name": "stdout",
     "output_type": "stream",
     "text": [
      "22.0\n",
      "80.4\n",
      "| ID | GPU | MEM |\n",
      "------------------\n",
      "|  0 |  0% | 19% |\n",
      "|  1 |  0% |  0% |\n"
     ]
    },
    {
     "name": "stderr",
     "output_type": "stream",
     "text": [
      "  6%|███████████████████████▍                                                                                                                                                                                                                                                                                                                                                                   | 55/890.0 [02:11<30:17,  2.18s/it]"
     ]
    },
    {
     "name": "stdout",
     "output_type": "stream",
     "text": [
      "21.4\n",
      "80.4\n",
      "| ID | GPU | MEM |\n",
      "------------------\n",
      "|  0 |  0% | 19% |\n",
      "|  1 |  0% |  0% |\n"
     ]
    },
    {
     "name": "stderr",
     "output_type": "stream",
     "text": [
      "  6%|███████████████████████▊                                                                                                                                                                                                                                                                                                                                                                   | 56/890.0 [02:13<30:54,  2.22s/it]"
     ]
    },
    {
     "name": "stdout",
     "output_type": "stream",
     "text": [
      "22.0\n",
      "80.5\n",
      "| ID | GPU | MEM |\n",
      "------------------\n",
      "|  0 |  0% | 19% |\n",
      "|  1 |  0% |  0% |\n"
     ]
    },
    {
     "name": "stderr",
     "output_type": "stream",
     "text": [
      "  6%|████████████████████████▎                                                                                                                                                                                                                                                                                                                                                                  | 57/890.0 [02:15<29:33,  2.13s/it]"
     ]
    },
    {
     "name": "stdout",
     "output_type": "stream",
     "text": [
      "20.1\n",
      "80.5\n",
      "| ID | GPU | MEM |\n",
      "------------------\n",
      "|  0 |  0% | 19% |\n",
      "|  1 |  0% |  0% |\n"
     ]
    },
    {
     "name": "stderr",
     "output_type": "stream",
     "text": [
      "  7%|████████████████████████▋                                                                                                                                                                                                                                                                                                                                                                  | 58/890.0 [02:18<31:37,  2.28s/it]"
     ]
    },
    {
     "name": "stdout",
     "output_type": "stream",
     "text": [
      "21.0\n",
      "80.5\n",
      "| ID | GPU | MEM |\n",
      "------------------\n",
      "|  0 |  1% | 19% |\n",
      "|  1 |  0% |  0% |\n"
     ]
    },
    {
     "name": "stderr",
     "output_type": "stream",
     "text": [
      "  7%|█████████████████████████                                                                                                                                                                                                                                                                                                                                                                  | 59/890.0 [02:20<32:32,  2.35s/it]"
     ]
    },
    {
     "name": "stdout",
     "output_type": "stream",
     "text": [
      "20.9\n",
      "80.5\n",
      "| ID | GPU | MEM |\n",
      "------------------\n",
      "|  0 |  0% | 19% |\n",
      "|  1 |  0% |  0% |\n"
     ]
    },
    {
     "name": "stderr",
     "output_type": "stream",
     "text": [
      "  7%|█████████████████████████▌                                                                                                                                                                                                                                                                                                                                                                 | 60/890.0 [02:22<31:52,  2.30s/it]"
     ]
    },
    {
     "name": "stdout",
     "output_type": "stream",
     "text": [
      "22.3\n",
      "80.5\n",
      "| ID | GPU | MEM |\n",
      "------------------\n",
      "|  0 |  0% | 19% |\n",
      "|  1 |  0% |  0% |\n"
     ]
    },
    {
     "name": "stderr",
     "output_type": "stream",
     "text": [
      "  7%|█████████████████████████▉                                                                                                                                                                                                                                                                                                                                                                 | 61/890.0 [02:24<31:24,  2.27s/it]"
     ]
    },
    {
     "name": "stdout",
     "output_type": "stream",
     "text": [
      "22.3\n",
      "80.4\n",
      "| ID | GPU | MEM |\n",
      "------------------\n",
      "|  0 |  0% | 19% |\n",
      "|  1 |  0% |  0% |\n"
     ]
    },
    {
     "name": "stderr",
     "output_type": "stream",
     "text": [
      "  7%|██████████████████████████▍                                                                                                                                                                                                                                                                                                                                                                | 62/890.0 [02:27<30:56,  2.24s/it]"
     ]
    },
    {
     "name": "stdout",
     "output_type": "stream",
     "text": [
      "21.8\n",
      "80.5\n",
      "| ID | GPU | MEM |\n",
      "------------------\n",
      "|  0 |  0% | 19% |\n",
      "|  1 |  0% |  0% |\n"
     ]
    },
    {
     "name": "stderr",
     "output_type": "stream",
     "text": [
      "  7%|██████████████████████████▊                                                                                                                                                                                                                                                                                                                                                                | 63/890.0 [02:29<30:53,  2.24s/it]"
     ]
    },
    {
     "name": "stdout",
     "output_type": "stream",
     "text": [
      "22.4\n",
      "80.4\n",
      "| ID | GPU | MEM |\n",
      "------------------\n",
      "|  0 |  0% | 19% |\n",
      "|  1 |  0% |  0% |\n"
     ]
    },
    {
     "name": "stderr",
     "output_type": "stream",
     "text": [
      "  7%|███████████████████████████▎                                                                                                                                                                                                                                                                                                                                                               | 64/890.0 [02:31<30:35,  2.22s/it]"
     ]
    },
    {
     "name": "stdout",
     "output_type": "stream",
     "text": [
      "21.6\n",
      "80.5\n",
      "| ID | GPU | MEM |\n",
      "------------------\n",
      "|  0 |  0% | 19% |\n",
      "|  1 |  0% |  0% |\n"
     ]
    },
    {
     "name": "stderr",
     "output_type": "stream",
     "text": [
      "  7%|███████████████████████████▋                                                                                                                                                                                                                                                                                                                                                               | 65/890.0 [02:33<30:38,  2.23s/it]"
     ]
    },
    {
     "name": "stdout",
     "output_type": "stream",
     "text": [
      "22.2\n",
      "80.5\n",
      "| ID | GPU | MEM |\n",
      "------------------\n",
      "|  0 |  0% | 19% |\n",
      "|  1 |  0% |  0% |\n"
     ]
    },
    {
     "name": "stderr",
     "output_type": "stream",
     "text": [
      "  7%|████████████████████████████                                                                                                                                                                                                                                                                                                                                                               | 66/890.0 [02:36<30:39,  2.23s/it]"
     ]
    },
    {
     "name": "stdout",
     "output_type": "stream",
     "text": [
      "20.6\n",
      "80.5\n",
      "| ID | GPU | MEM |\n",
      "------------------\n",
      "|  0 |  0% | 19% |\n",
      "|  1 |  0% |  0% |\n"
     ]
    },
    {
     "name": "stderr",
     "output_type": "stream",
     "text": [
      "  8%|████████████████████████████▌                                                                                                                                                                                                                                                                                                                                                              | 67/890.0 [02:39<34:19,  2.50s/it]"
     ]
    },
    {
     "name": "stdout",
     "output_type": "stream",
     "text": [
      "21.9\n",
      "80.5\n",
      "| ID | GPU | MEM |\n",
      "------------------\n",
      "|  0 |  0% | 19% |\n",
      "|  1 |  0% |  0% |\n"
     ]
    },
    {
     "name": "stderr",
     "output_type": "stream",
     "text": [
      "  8%|████████████████████████████▉                                                                                                                                                                                                                                                                                                                                                              | 68/890.0 [02:41<33:46,  2.47s/it]"
     ]
    },
    {
     "name": "stdout",
     "output_type": "stream",
     "text": [
      "22.4\n",
      "80.5\n",
      "| ID | GPU | MEM |\n",
      "------------------\n",
      "|  0 |  0% | 19% |\n",
      "|  1 |  0% |  0% |\n"
     ]
    },
    {
     "name": "stderr",
     "output_type": "stream",
     "text": [
      "  8%|█████████████████████████████▍                                                                                                                                                                                                                                                                                                                                                             | 69/890.0 [02:43<33:02,  2.41s/it]"
     ]
    },
    {
     "name": "stdout",
     "output_type": "stream",
     "text": [
      "22.7\n",
      "80.5\n",
      "| ID | GPU | MEM |\n",
      "------------------\n",
      "|  0 |  0% | 19% |\n",
      "|  1 |  0% |  0% |\n"
     ]
    },
    {
     "name": "stderr",
     "output_type": "stream",
     "text": [
      "  8%|█████████████████████████████▊                                                                                                                                                                                                                                                                                                                                                             | 70/890.0 [02:46<32:29,  2.38s/it]"
     ]
    },
    {
     "name": "stdout",
     "output_type": "stream",
     "text": [
      "22.2\n",
      "80.5\n",
      "| ID | GPU | MEM |\n",
      "------------------\n",
      "|  0 |  0% | 19% |\n",
      "|  1 |  0% |  0% |\n"
     ]
    },
    {
     "name": "stderr",
     "output_type": "stream",
     "text": [
      "  8%|██████████████████████████████▏                                                                                                                                                                                                                                                                                                                                                            | 71/890.0 [02:48<32:33,  2.38s/it]"
     ]
    },
    {
     "name": "stdout",
     "output_type": "stream",
     "text": [
      "21.7\n",
      "80.5\n",
      "| ID | GPU | MEM |\n",
      "------------------\n",
      "|  0 |  0% | 19% |\n",
      "|  1 |  0% |  0% |\n"
     ]
    },
    {
     "name": "stderr",
     "output_type": "stream",
     "text": [
      "  8%|██████████████████████████████▋                                                                                                                                                                                                                                                                                                                                                            | 72/890.0 [02:50<32:31,  2.39s/it]"
     ]
    },
    {
     "name": "stdout",
     "output_type": "stream",
     "text": [
      "21.7\n",
      "80.4\n",
      "| ID | GPU | MEM |\n",
      "------------------\n",
      "|  0 |  0% | 19% |\n",
      "|  1 |  0% |  0% |\n"
     ]
    },
    {
     "name": "stderr",
     "output_type": "stream",
     "text": [
      "  8%|███████████████████████████████                                                                                                                                                                                                                                                                                                                                                            | 73/890.0 [02:53<32:20,  2.37s/it]"
     ]
    },
    {
     "name": "stdout",
     "output_type": "stream",
     "text": [
      "21.9\n",
      "80.5\n",
      "| ID | GPU | MEM |\n",
      "------------------\n",
      "|  0 |  0% | 19% |\n",
      "|  1 |  0% |  0% |\n"
     ]
    },
    {
     "name": "stderr",
     "output_type": "stream",
     "text": [
      "  8%|███████████████████████████████▌                                                                                                                                                                                                                                                                                                                                                           | 74/890.0 [02:55<32:06,  2.36s/it]"
     ]
    },
    {
     "name": "stdout",
     "output_type": "stream",
     "text": [
      "19.0\n",
      "80.5\n",
      "| ID | GPU | MEM |\n",
      "------------------\n",
      "|  0 |  0% | 19% |\n",
      "|  1 |  0% |  0% |\n"
     ]
    },
    {
     "name": "stderr",
     "output_type": "stream",
     "text": [
      "  8%|███████████████████████████████▉                                                                                                                                                                                                                                                                                                                                                           | 75/890.0 [02:58<35:52,  2.64s/it]"
     ]
    },
    {
     "name": "stdout",
     "output_type": "stream",
     "text": [
      "22.1\n",
      "80.5\n",
      "| ID | GPU | MEM |\n",
      "------------------\n",
      "|  0 |  0% | 19% |\n",
      "|  1 |  1% |  0% |\n"
     ]
    },
    {
     "name": "stderr",
     "output_type": "stream",
     "text": [
      "  9%|████████████████████████████████▎                                                                                                                                                                                                                                                                                                                                                          | 76/890.0 [03:01<34:15,  2.52s/it]"
     ]
    },
    {
     "name": "stdout",
     "output_type": "stream",
     "text": [
      "21.8\n",
      "80.5\n",
      "| ID | GPU | MEM |\n",
      "------------------\n",
      "|  0 |  0% | 19% |\n",
      "|  1 |  0% |  0% |\n"
     ]
    },
    {
     "name": "stderr",
     "output_type": "stream",
     "text": [
      "  9%|████████████████████████████████▊                                                                                                                                                                                                                                                                                                                                                          | 77/890.0 [03:03<33:27,  2.47s/it]"
     ]
    },
    {
     "name": "stdout",
     "output_type": "stream",
     "text": [
      "19.1\n",
      "80.5\n",
      "| ID | GPU | MEM |\n",
      "------------------\n",
      "|  0 |  0% | 19% |\n",
      "|  1 |  0% |  0% |\n"
     ]
    },
    {
     "name": "stderr",
     "output_type": "stream",
     "text": [
      "  9%|█████████████████████████████████▏                                                                                                                                                                                                                                                                                                                                                         | 78/890.0 [03:06<36:42,  2.71s/it]"
     ]
    },
    {
     "name": "stdout",
     "output_type": "stream",
     "text": [
      "21.5\n",
      "80.5\n",
      "| ID | GPU | MEM |\n",
      "------------------\n",
      "|  0 |  0% | 19% |\n",
      "|  1 |  0% |  0% |\n"
     ]
    },
    {
     "name": "stderr",
     "output_type": "stream",
     "text": [
      "  9%|█████████████████████████████████▋                                                                                                                                                                                                                                                                                                                                                         | 79/890.0 [03:09<35:03,  2.59s/it]"
     ]
    },
    {
     "name": "stdout",
     "output_type": "stream",
     "text": [
      "22.5\n",
      "80.5\n",
      "| ID | GPU | MEM |\n",
      "------------------\n",
      "|  0 |  0% | 19% |\n",
      "|  1 |  0% |  0% |\n"
     ]
    },
    {
     "name": "stderr",
     "output_type": "stream",
     "text": [
      "  9%|██████████████████████████████████                                                                                                                                                                                                                                                                                                                                                         | 80/890.0 [03:11<33:36,  2.49s/it]"
     ]
    },
    {
     "name": "stdout",
     "output_type": "stream",
     "text": [
      "22.3\n",
      "80.5\n",
      "| ID | GPU | MEM |\n",
      "------------------\n",
      "|  0 |  0% | 19% |\n",
      "|  1 |  0% |  0% |\n"
     ]
    },
    {
     "name": "stderr",
     "output_type": "stream",
     "text": [
      "  9%|██████████████████████████████████▍                                                                                                                                                                                                                                                                                                                                                        | 81/890.0 [03:13<32:37,  2.42s/it]"
     ]
    },
    {
     "name": "stdout",
     "output_type": "stream",
     "text": [
      "21.4\n",
      "80.5\n",
      "| ID | GPU | MEM |\n",
      "------------------\n",
      "|  0 |  0% | 19% |\n",
      "|  1 |  0% |  0% |\n"
     ]
    },
    {
     "name": "stderr",
     "output_type": "stream",
     "text": [
      "  9%|██████████████████████████████████▉                                                                                                                                                                                                                                                                                                                                                        | 82/890.0 [03:15<32:31,  2.41s/it]"
     ]
    },
    {
     "name": "stdout",
     "output_type": "stream",
     "text": [
      "22.7\n",
      "80.5\n",
      "| ID | GPU | MEM |\n",
      "------------------\n",
      "|  0 |  0% | 19% |\n",
      "|  1 |  0% |  0% |\n"
     ]
    },
    {
     "name": "stderr",
     "output_type": "stream",
     "text": [
      "  9%|███████████████████████████████████▎                                                                                                                                                                                                                                                                                                                                                       | 83/890.0 [03:18<31:49,  2.37s/it]"
     ]
    },
    {
     "name": "stdout",
     "output_type": "stream",
     "text": [
      "19.5\n",
      "80.5\n",
      "| ID | GPU | MEM |\n",
      "------------------\n",
      "|  0 |  0% | 19% |\n",
      "|  1 |  0% |  0% |\n"
     ]
    },
    {
     "name": "stderr",
     "output_type": "stream",
     "text": [
      "  9%|███████████████████████████████████▊                                                                                                                                                                                                                                                                                                                                                       | 84/890.0 [03:21<35:35,  2.65s/it]"
     ]
    },
    {
     "name": "stdout",
     "output_type": "stream",
     "text": [
      "21.7\n",
      "80.5\n",
      "| ID | GPU | MEM |\n",
      "------------------\n",
      "|  0 |  0% | 19% |\n",
      "|  1 |  0% |  0% |\n"
     ]
    },
    {
     "name": "stderr",
     "output_type": "stream",
     "text": [
      " 10%|████████████████████████████████████▏                                                                                                                                                                                                                                                                                                                                                      | 85/890.0 [03:23<34:13,  2.55s/it]"
     ]
    },
    {
     "name": "stdout",
     "output_type": "stream",
     "text": [
      "19.1\n",
      "80.5\n",
      "| ID | GPU | MEM |\n",
      "------------------\n",
      "|  0 |  0% | 19% |\n",
      "|  1 |  0% |  0% |\n"
     ]
    },
    {
     "name": "stderr",
     "output_type": "stream",
     "text": [
      " 10%|████████████████████████████████████▌                                                                                                                                                                                                                                                                                                                                                      | 86/890.0 [03:27<37:17,  2.78s/it]"
     ]
    },
    {
     "name": "stdout",
     "output_type": "stream",
     "text": [
      "22.0\n",
      "80.5\n",
      "| ID | GPU | MEM |\n",
      "------------------\n",
      "|  0 |  0% | 19% |\n",
      "|  1 |  0% |  0% |\n"
     ]
    },
    {
     "name": "stderr",
     "output_type": "stream",
     "text": [
      " 10%|█████████████████████████████████████                                                                                                                                                                                                                                                                                                                                                      | 87/890.0 [03:29<35:13,  2.63s/it]"
     ]
    },
    {
     "name": "stdout",
     "output_type": "stream",
     "text": [
      "22.0\n",
      "80.5\n",
      "| ID | GPU | MEM |\n",
      "------------------\n",
      "|  0 |  0% | 19% |\n",
      "|  1 |  0% |  0% |\n"
     ]
    },
    {
     "name": "stderr",
     "output_type": "stream",
     "text": [
      " 10%|█████████████████████████████████████▍                                                                                                                                                                                                                                                                                                                                                     | 88/890.0 [03:31<33:47,  2.53s/it]"
     ]
    },
    {
     "name": "stdout",
     "output_type": "stream",
     "text": [
      "22.4\n",
      "80.5\n",
      "| ID | GPU | MEM |\n",
      "------------------\n",
      "|  0 |  0% | 19% |\n",
      "|  1 |  0% |  0% |\n"
     ]
    },
    {
     "name": "stderr",
     "output_type": "stream",
     "text": [
      " 10%|█████████████████████████████████████▉                                                                                                                                                                                                                                                                                                                                                     | 89/890.0 [03:34<32:48,  2.46s/it]"
     ]
    },
    {
     "name": "stdout",
     "output_type": "stream",
     "text": [
      "19.7\n",
      "80.5\n",
      "| ID | GPU | MEM |\n",
      "------------------\n",
      "|  0 |  0% | 19% |\n",
      "|  1 |  0% |  0% |\n"
     ]
    },
    {
     "name": "stderr",
     "output_type": "stream",
     "text": [
      " 10%|██████████████████████████████████████▎                                                                                                                                                                                                                                                                                                                                                    | 90/890.0 [03:37<36:38,  2.75s/it]"
     ]
    },
    {
     "name": "stdout",
     "output_type": "stream",
     "text": [
      "22.0\n",
      "80.5\n",
      "| ID | GPU | MEM |\n",
      "------------------\n",
      "|  0 |  0% | 19% |\n",
      "|  1 |  0% |  0% |\n"
     ]
    },
    {
     "name": "stderr",
     "output_type": "stream",
     "text": [
      " 10%|██████████████████████████████████████▊                                                                                                                                                                                                                                                                                                                                                    | 91/890.0 [03:39<34:48,  2.61s/it]"
     ]
    },
    {
     "name": "stdout",
     "output_type": "stream",
     "text": [
      "22.1\n",
      "80.5\n",
      "| ID | GPU | MEM |\n",
      "------------------\n",
      "|  0 |  0% | 19% |\n",
      "|  1 |  0% |  0% |\n"
     ]
    },
    {
     "name": "stderr",
     "output_type": "stream",
     "text": [
      " 10%|███████████████████████████████████████▏                                                                                                                                                                                                                                                                                                                                                   | 92/890.0 [03:42<33:55,  2.55s/it]"
     ]
    },
    {
     "name": "stdout",
     "output_type": "stream",
     "text": [
      "22.5\n",
      "80.5\n",
      "| ID | GPU | MEM |\n",
      "------------------\n",
      "|  0 |  0% | 19% |\n",
      "|  1 |  0% |  0% |\n"
     ]
    },
    {
     "name": "stderr",
     "output_type": "stream",
     "text": [
      " 10%|███████████████████████████████████████▌                                                                                                                                                                                                                                                                                                                                                   | 93/890.0 [03:44<32:50,  2.47s/it]"
     ]
    },
    {
     "name": "stdout",
     "output_type": "stream",
     "text": [
      "19.6\n",
      "80.5\n",
      "| ID | GPU | MEM |\n",
      "------------------\n",
      "|  0 |  0% | 19% |\n",
      "|  1 |  0% |  0% |\n"
     ]
    },
    {
     "name": "stderr",
     "output_type": "stream",
     "text": [
      " 11%|████████████████████████████████████████                                                                                                                                                                                                                                                                                                                                                   | 94/890.0 [03:47<36:20,  2.74s/it]"
     ]
    },
    {
     "name": "stdout",
     "output_type": "stream",
     "text": [
      "19.5\n",
      "80.5\n",
      "| ID | GPU | MEM |\n",
      "------------------\n",
      "|  0 |  0% | 19% |\n",
      "|  1 |  0% |  0% |\n"
     ]
    },
    {
     "name": "stderr",
     "output_type": "stream",
     "text": [
      " 11%|████████████████████████████████████████▍                                                                                                                                                                                                                                                                                                                                                  | 95/890.0 [03:51<38:53,  2.93s/it]"
     ]
    },
    {
     "name": "stdout",
     "output_type": "stream",
     "text": [
      "21.6\n",
      "80.5\n",
      "| ID | GPU | MEM |\n",
      "------------------\n",
      "|  0 |  0% | 19% |\n",
      "|  1 |  0% |  0% |\n"
     ]
    },
    {
     "name": "stderr",
     "output_type": "stream",
     "text": [
      " 11%|████████████████████████████████████████▉                                                                                                                                                                                                                                                                                                                                                  | 96/890.0 [03:53<36:55,  2.79s/it]"
     ]
    },
    {
     "name": "stdout",
     "output_type": "stream",
     "text": [
      "22.0\n",
      "80.5\n",
      "| ID | GPU | MEM |\n",
      "------------------\n",
      "|  0 |  0% | 19% |\n",
      "|  1 |  0% |  0% |\n"
     ]
    },
    {
     "name": "stderr",
     "output_type": "stream",
     "text": [
      " 11%|█████████████████████████████████████████▎                                                                                                                                                                                                                                                                                                                                                 | 97/890.0 [03:56<35:10,  2.66s/it]"
     ]
    },
    {
     "name": "stdout",
     "output_type": "stream",
     "text": [
      "22.6\n",
      "80.5\n",
      "| ID | GPU | MEM |\n",
      "------------------\n",
      "|  0 |  0% | 19% |\n",
      "|  1 |  0% |  0% |\n"
     ]
    },
    {
     "name": "stderr",
     "output_type": "stream",
     "text": [
      " 11%|█████████████████████████████████████████▋                                                                                                                                                                                                                                                                                                                                                 | 98/890.0 [03:58<33:40,  2.55s/it]"
     ]
    },
    {
     "name": "stdout",
     "output_type": "stream",
     "text": [
      "21.7\n",
      "80.5\n",
      "| ID | GPU | MEM |\n",
      "------------------\n",
      "|  0 |  0% | 19% |\n",
      "|  1 |  0% |  0% |\n"
     ]
    },
    {
     "name": "stderr",
     "output_type": "stream",
     "text": [
      " 11%|██████████████████████████████████████████▏                                                                                                                                                                                                                                                                                                                                                | 99/890.0 [04:00<32:48,  2.49s/it]"
     ]
    },
    {
     "name": "stdout",
     "output_type": "stream",
     "text": [
      "22.2\n",
      "80.5\n",
      "| ID | GPU | MEM |\n",
      "------------------\n",
      "|  0 |  0% | 19% |\n",
      "|  1 |  0% |  0% |\n"
     ]
    },
    {
     "name": "stderr",
     "output_type": "stream",
     "text": [
      " 11%|██████████████████████████████████████████▍                                                                                                                                                                                                                                                                                                                                               | 100/890.0 [04:02<32:04,  2.44s/it]"
     ]
    },
    {
     "name": "stdout",
     "output_type": "stream",
     "text": [
      "22.5\n",
      "80.5\n",
      "| ID | GPU | MEM |\n",
      "------------------\n",
      "|  0 |  0% | 19% |\n",
      "|  1 |  0% |  0% |\n"
     ]
    },
    {
     "name": "stderr",
     "output_type": "stream",
     "text": [
      " 11%|██████████████████████████████████████████▉                                                                                                                                                                                                                                                                                                                                               | 101/890.0 [04:05<31:25,  2.39s/it]"
     ]
    },
    {
     "name": "stdout",
     "output_type": "stream",
     "text": [
      "22.2\n",
      "80.5\n",
      "| ID | GPU | MEM |\n",
      "------------------\n",
      "|  0 |  0% | 19% |\n",
      "|  1 |  0% |  0% |\n"
     ]
    },
    {
     "name": "stderr",
     "output_type": "stream",
     "text": [
      " 11%|███████████████████████████████████████████▎                                                                                                                                                                                                                                                                                                                                              | 102/890.0 [04:07<31:03,  2.37s/it]"
     ]
    },
    {
     "name": "stdout",
     "output_type": "stream",
     "text": [
      "19.3\n",
      "80.5\n",
      "| ID | GPU | MEM |\n",
      "------------------\n",
      "|  0 |  0% | 19% |\n",
      "|  1 |  0% |  0% |\n"
     ]
    },
    {
     "name": "stderr",
     "output_type": "stream",
     "text": [
      " 12%|███████████████████████████████████████████▋                                                                                                                                                                                                                                                                                                                                              | 103/890.0 [04:11<37:49,  2.88s/it]"
     ]
    },
    {
     "name": "stdout",
     "output_type": "stream",
     "text": [
      "19.3\n",
      "80.5\n",
      "| ID | GPU | MEM |\n",
      "------------------\n",
      "|  0 |  0% | 19% |\n",
      "|  1 |  0% |  0% |\n"
     ]
    },
    {
     "name": "stderr",
     "output_type": "stream",
     "text": [
      " 12%|████████████████████████████████████████████▏                                                                                                                                                                                                                                                                                                                                             | 104/890.0 [04:15<39:44,  3.03s/it]"
     ]
    },
    {
     "name": "stdout",
     "output_type": "stream",
     "text": [
      "19.3\n",
      "80.5\n",
      "| ID | GPU | MEM |\n",
      "------------------\n",
      "|  0 |  0% | 19% |\n",
      "|  1 |  0% |  0% |\n"
     ]
    },
    {
     "name": "stderr",
     "output_type": "stream",
     "text": [
      " 12%|████████████████████████████████████████████▌                                                                                                                                                                                                                                                                                                                                             | 105/890.0 [04:18<41:00,  3.13s/it]"
     ]
    },
    {
     "name": "stdout",
     "output_type": "stream",
     "text": [
      "22.4\n",
      "80.5\n",
      "| ID | GPU | MEM |\n",
      "------------------\n",
      "|  0 |  1% | 19% |\n",
      "|  1 |  0% |  0% |\n"
     ]
    },
    {
     "name": "stderr",
     "output_type": "stream",
     "text": [
      " 12%|█████████████████████████████████████████████                                                                                                                                                                                                                                                                                                                                             | 106/890.0 [04:20<37:42,  2.89s/it]"
     ]
    },
    {
     "name": "stdout",
     "output_type": "stream",
     "text": [
      "22.4\n",
      "80.5\n",
      "| ID | GPU | MEM |\n",
      "------------------\n",
      "|  0 |  0% | 19% |\n",
      "|  1 |  0% |  0% |\n"
     ]
    },
    {
     "name": "stderr",
     "output_type": "stream",
     "text": [
      " 12%|█████████████████████████████████████████████▍                                                                                                                                                                                                                                                                                                                                            | 107/890.0 [04:23<35:21,  2.71s/it]"
     ]
    },
    {
     "name": "stdout",
     "output_type": "stream",
     "text": [
      "20.7\n",
      "80.5\n",
      "| ID | GPU | MEM |\n",
      "------------------\n",
      "|  0 |  0% | 19% |\n",
      "|  1 |  0% |  0% |\n"
     ]
    },
    {
     "name": "stderr",
     "output_type": "stream",
     "text": [
      " 12%|█████████████████████████████████████████████▊                                                                                                                                                                                                                                                                                                                                            | 108/890.0 [04:25<34:43,  2.66s/it]"
     ]
    },
    {
     "name": "stdout",
     "output_type": "stream",
     "text": [
      "22.2\n",
      "80.5\n",
      "| ID | GPU | MEM |\n",
      "------------------\n",
      "|  0 |  0% | 19% |\n",
      "|  1 |  0% |  0% |\n"
     ]
    },
    {
     "name": "stderr",
     "output_type": "stream",
     "text": [
      " 12%|██████████████████████████████████████████████▎                                                                                                                                                                                                                                                                                                                                           | 109/890.0 [04:27<33:16,  2.56s/it]"
     ]
    },
    {
     "name": "stdout",
     "output_type": "stream",
     "text": [
      "22.5\n",
      "80.5\n",
      "| ID | GPU | MEM |\n",
      "------------------\n",
      "|  0 |  0% | 19% |\n",
      "|  1 |  0% |  0% |\n"
     ]
    },
    {
     "name": "stderr",
     "output_type": "stream",
     "text": [
      " 12%|██████████████████████████████████████████████▋                                                                                                                                                                                                                                                                                                                                           | 110/890.0 [04:30<32:18,  2.49s/it]"
     ]
    },
    {
     "name": "stdout",
     "output_type": "stream",
     "text": [
      "20.9\n",
      "80.5\n",
      "| ID | GPU | MEM |\n",
      "------------------\n",
      "|  0 |  0% | 19% |\n",
      "|  1 |  0% |  0% |\n"
     ]
    },
    {
     "name": "stderr",
     "output_type": "stream",
     "text": [
      " 12%|███████████████████████████████████████████████▏                                                                                                                                                                                                                                                                                                                                          | 111/890.0 [04:32<32:32,  2.51s/it]"
     ]
    },
    {
     "name": "stdout",
     "output_type": "stream",
     "text": [
      "27.0\n",
      "80.5\n",
      "| ID | GPU | MEM |\n",
      "------------------\n",
      "|  0 |  0% | 19% |\n",
      "|  1 |  0% |  0% |\n"
     ]
    },
    {
     "name": "stderr",
     "output_type": "stream",
     "text": [
      " 13%|███████████████████████████████████████████████▌                                                                                                                                                                                                                                                                                                                                          | 112/890.0 [04:34<30:07,  2.32s/it]"
     ]
    },
    {
     "name": "stdout",
     "output_type": "stream",
     "text": [
      "22.2\n",
      "80.5\n",
      "| ID | GPU | MEM |\n",
      "------------------\n",
      "|  0 |  0% | 19% |\n",
      "|  1 |  0% |  0% |\n"
     ]
    },
    {
     "name": "stderr",
     "output_type": "stream",
     "text": [
      " 13%|███████████████████████████████████████████████▉                                                                                                                                                                                                                                                                                                                                          | 113/890.0 [04:37<30:13,  2.33s/it]"
     ]
    },
    {
     "name": "stdout",
     "output_type": "stream",
     "text": [
      "22.1\n",
      "80.5\n",
      "| ID | GPU | MEM |\n",
      "------------------\n",
      "|  0 |  0% | 19% |\n",
      "|  1 |  0% |  0% |\n"
     ]
    },
    {
     "name": "stderr",
     "output_type": "stream",
     "text": [
      " 13%|████████████████████████████████████████████████▍                                                                                                                                                                                                                                                                                                                                         | 114/890.0 [04:39<30:26,  2.35s/it]"
     ]
    },
    {
     "name": "stdout",
     "output_type": "stream",
     "text": [
      "22.7\n",
      "80.5\n",
      "| ID | GPU | MEM |\n",
      "------------------\n",
      "|  0 |  0% | 19% |\n",
      "|  1 |  0% |  0% |\n"
     ]
    },
    {
     "name": "stderr",
     "output_type": "stream",
     "text": [
      " 13%|████████████████████████████████████████████████▊                                                                                                                                                                                                                                                                                                                                         | 115/890.0 [04:41<30:12,  2.34s/it]"
     ]
    },
    {
     "name": "stdout",
     "output_type": "stream",
     "text": [
      "19.8\n",
      "80.5\n",
      "| ID | GPU | MEM |\n",
      "------------------\n",
      "|  0 |  0% | 19% |\n",
      "|  1 |  0% |  0% |\n"
     ]
    },
    {
     "name": "stderr",
     "output_type": "stream",
     "text": [
      " 13%|█████████████████████████████████████████████████▎                                                                                                                                                                                                                                                                                                                                        | 116/890.0 [04:45<34:08,  2.65s/it]"
     ]
    },
    {
     "name": "stdout",
     "output_type": "stream",
     "text": [
      "22.5\n",
      "80.5\n",
      "| ID | GPU | MEM |\n",
      "------------------\n",
      "|  0 |  0% | 19% |\n",
      "|  1 |  0% |  0% |\n"
     ]
    },
    {
     "name": "stderr",
     "output_type": "stream",
     "text": [
      " 13%|█████████████████████████████████████████████████▋                                                                                                                                                                                                                                                                                                                                        | 117/890.0 [04:47<32:42,  2.54s/it]"
     ]
    },
    {
     "name": "stdout",
     "output_type": "stream",
     "text": [
      "22.8\n",
      "80.5\n",
      "| ID | GPU | MEM |\n",
      "------------------\n",
      "|  0 |  0% | 19% |\n",
      "|  1 |  0% |  0% |\n"
     ]
    },
    {
     "name": "stderr",
     "output_type": "stream",
     "text": [
      " 13%|██████████████████████████████████████████████████                                                                                                                                                                                                                                                                                                                                        | 118/890.0 [04:49<31:46,  2.47s/it]"
     ]
    },
    {
     "name": "stdout",
     "output_type": "stream",
     "text": [
      "22.8\n",
      "80.5\n",
      "| ID | GPU | MEM |\n",
      "------------------\n",
      "|  0 |  0% | 19% |\n",
      "|  1 |  0% |  0% |\n"
     ]
    },
    {
     "name": "stderr",
     "output_type": "stream",
     "text": [
      " 13%|██████████████████████████████████████████████████▌                                                                                                                                                                                                                                                                                                                                       | 119/890.0 [04:51<31:02,  2.42s/it]"
     ]
    },
    {
     "name": "stdout",
     "output_type": "stream",
     "text": [
      "22.7\n",
      "80.5\n",
      "| ID | GPU | MEM |\n",
      "------------------\n",
      "|  0 |  0% | 19% |\n",
      "|  1 |  0% |  0% |\n"
     ]
    },
    {
     "name": "stderr",
     "output_type": "stream",
     "text": [
      " 13%|██████████████████████████████████████████████████▉                                                                                                                                                                                                                                                                                                                                       | 120/890.0 [04:54<30:36,  2.39s/it]"
     ]
    },
    {
     "name": "stdout",
     "output_type": "stream",
     "text": [
      "21.8\n",
      "80.5\n",
      "| ID | GPU | MEM |\n",
      "------------------\n",
      "|  0 |  0% | 19% |\n",
      "|  1 |  0% |  0% |\n"
     ]
    },
    {
     "name": "stderr",
     "output_type": "stream",
     "text": [
      " 14%|███████████████████████████████████████████████████▍                                                                                                                                                                                                                                                                                                                                      | 121/890.0 [04:56<30:34,  2.39s/it]"
     ]
    },
    {
     "name": "stdout",
     "output_type": "stream",
     "text": [
      "21.9\n",
      "80.5\n",
      "| ID | GPU | MEM |\n",
      "------------------\n",
      "|  0 |  0% | 19% |\n",
      "|  1 |  0% |  0% |\n"
     ]
    },
    {
     "name": "stderr",
     "output_type": "stream",
     "text": [
      " 14%|███████████████████████████████████████████████████▊                                                                                                                                                                                                                                                                                                                                      | 122/890.0 [04:59<30:34,  2.39s/it]"
     ]
    },
    {
     "name": "stdout",
     "output_type": "stream",
     "text": [
      "21.4\n",
      "80.5\n",
      "| ID | GPU | MEM |\n",
      "------------------\n",
      "|  0 |  0% | 19% |\n",
      "|  1 |  0% |  0% |\n"
     ]
    },
    {
     "name": "stderr",
     "output_type": "stream",
     "text": [
      " 14%|████████████████████████████████████████████████████▏                                                                                                                                                                                                                                                                                                                                     | 123/890.0 [05:01<30:48,  2.41s/it]"
     ]
    },
    {
     "name": "stdout",
     "output_type": "stream",
     "text": [
      "21.8\n",
      "80.4\n",
      "| ID | GPU | MEM |\n",
      "------------------\n",
      "|  0 |  0% | 19% |\n",
      "|  1 |  0% |  0% |\n"
     ]
    },
    {
     "name": "stderr",
     "output_type": "stream",
     "text": [
      " 14%|████████████████████████████████████████████████████▋                                                                                                                                                                                                                                                                                                                                     | 124/890.0 [05:03<29:32,  2.31s/it]"
     ]
    },
    {
     "name": "stdout",
     "output_type": "stream",
     "text": [
      "22.1\n",
      "80.4\n",
      "| ID | GPU | MEM |\n",
      "------------------\n",
      "|  0 |  0% | 19% |\n",
      "|  1 |  0% |  0% |\n"
     ]
    },
    {
     "name": "stderr",
     "output_type": "stream",
     "text": [
      " 14%|█████████████████████████████████████████████████████                                                                                                                                                                                                                                                                                                                                     | 125/890.0 [05:05<29:35,  2.32s/it]"
     ]
    },
    {
     "name": "stdout",
     "output_type": "stream",
     "text": [
      "19.5\n",
      "80.4\n",
      "| ID | GPU | MEM |\n",
      "------------------\n",
      "|  0 |  0% | 19% |\n",
      "|  1 |  0% |  0% |\n"
     ]
    },
    {
     "name": "stderr",
     "output_type": "stream",
     "text": [
      " 14%|█████████████████████████████████████████████████████▌                                                                                                                                                                                                                                                                                                                                    | 126/890.0 [05:09<33:54,  2.66s/it]"
     ]
    },
    {
     "name": "stdout",
     "output_type": "stream",
     "text": [
      "21.2\n",
      "80.4\n",
      "| ID | GPU | MEM |\n",
      "------------------\n",
      "|  0 |  0% | 19% |\n",
      "|  1 |  0% |  0% |\n"
     ]
    },
    {
     "name": "stderr",
     "output_type": "stream",
     "text": [
      " 14%|█████████████████████████████████████████████████████▉                                                                                                                                                                                                                                                                                                                                    | 127/890.0 [05:11<32:52,  2.59s/it]"
     ]
    },
    {
     "name": "stdout",
     "output_type": "stream",
     "text": [
      "22.8\n",
      "80.4\n",
      "| ID | GPU | MEM |\n",
      "------------------\n",
      "|  0 |  0% | 19% |\n",
      "|  1 |  0% |  0% |\n"
     ]
    },
    {
     "name": "stderr",
     "output_type": "stream",
     "text": [
      " 14%|██████████████████████████████████████████████████████▎                                                                                                                                                                                                                                                                                                                                   | 128/890.0 [05:14<31:44,  2.50s/it]"
     ]
    },
    {
     "name": "stdout",
     "output_type": "stream",
     "text": [
      "21.8\n",
      "80.4\n",
      "| ID | GPU | MEM |\n",
      "------------------\n",
      "|  0 |  0% | 19% |\n",
      "|  1 |  0% |  0% |\n"
     ]
    },
    {
     "name": "stderr",
     "output_type": "stream",
     "text": [
      " 14%|██████████████████████████████████████████████████████▊                                                                                                                                                                                                                                                                                                                                   | 129/890.0 [05:16<31:13,  2.46s/it]"
     ]
    },
    {
     "name": "stdout",
     "output_type": "stream",
     "text": [
      "20.9\n",
      "80.4\n",
      "| ID | GPU | MEM |\n",
      "------------------\n",
      "|  0 |  0% | 19% |\n",
      "|  1 |  0% |  0% |\n"
     ]
    },
    {
     "name": "stderr",
     "output_type": "stream",
     "text": [
      " 15%|███████████████████████████████████████████████████████▏                                                                                                                                                                                                                                                                                                                                  | 130/890.0 [05:19<32:15,  2.55s/it]"
     ]
    },
    {
     "name": "stdout",
     "output_type": "stream",
     "text": [
      "22.1\n",
      "80.4\n",
      "| ID | GPU | MEM |\n",
      "------------------\n",
      "|  0 |  0% | 19% |\n",
      "|  1 |  0% |  0% |\n"
     ]
    },
    {
     "name": "stderr",
     "output_type": "stream",
     "text": [
      " 15%|███████████████████████████████████████████████████████▋                                                                                                                                                                                                                                                                                                                                  | 131/890.0 [05:21<31:38,  2.50s/it]"
     ]
    },
    {
     "name": "stdout",
     "output_type": "stream",
     "text": [
      "23.1\n",
      "80.4\n",
      "| ID | GPU | MEM |\n",
      "------------------\n",
      "|  0 |  0% | 19% |\n",
      "|  1 |  0% |  0% |\n"
     ]
    },
    {
     "name": "stderr",
     "output_type": "stream",
     "text": [
      " 15%|████████████████████████████████████████████████████████                                                                                                                                                                                                                                                                                                                                  | 132/890.0 [05:23<30:48,  2.44s/it]"
     ]
    },
    {
     "name": "stdout",
     "output_type": "stream",
     "text": [
      "22.2\n",
      "80.4\n",
      "| ID | GPU | MEM |\n",
      "------------------\n",
      "|  0 |  0% | 19% |\n",
      "|  1 |  0% |  0% |\n"
     ]
    },
    {
     "name": "stderr",
     "output_type": "stream",
     "text": [
      " 15%|████████████████████████████████████████████████████████▍                                                                                                                                                                                                                                                                                                                                 | 133/890.0 [05:26<30:25,  2.41s/it]"
     ]
    },
    {
     "name": "stdout",
     "output_type": "stream",
     "text": [
      "22.3\n",
      "80.4\n",
      "| ID | GPU | MEM |\n",
      "------------------\n",
      "|  0 |  0% | 19% |\n",
      "|  1 |  0% |  0% |\n"
     ]
    },
    {
     "name": "stderr",
     "output_type": "stream",
     "text": [
      " 15%|████████████████████████████████████████████████████████▉                                                                                                                                                                                                                                                                                                                                 | 134/890.0 [05:28<30:03,  2.39s/it]"
     ]
    },
    {
     "name": "stdout",
     "output_type": "stream",
     "text": [
      "22.1\n",
      "80.4\n",
      "| ID | GPU | MEM |\n",
      "------------------\n",
      "|  0 |  0% | 19% |\n",
      "|  1 |  0% |  0% |\n"
     ]
    },
    {
     "name": "stderr",
     "output_type": "stream",
     "text": [
      " 15%|█████████████████████████████████████████████████████████▎                                                                                                                                                                                                                                                                                                                                | 135/890.0 [05:30<29:57,  2.38s/it]"
     ]
    },
    {
     "name": "stdout",
     "output_type": "stream",
     "text": [
      "20.5\n",
      "80.4\n",
      "| ID | GPU | MEM |\n",
      "------------------\n",
      "|  0 |  0% | 19% |\n",
      "|  1 |  0% |  0% |\n"
     ]
    },
    {
     "name": "stderr",
     "output_type": "stream",
     "text": [
      " 15%|█████████████████████████████████████████████████████████▊                                                                                                                                                                                                                                                                                                                                | 136/890.0 [05:33<30:34,  2.43s/it]"
     ]
    },
    {
     "name": "stdout",
     "output_type": "stream",
     "text": [
      "19.3\n",
      "80.4\n",
      "| ID | GPU | MEM |\n",
      "------------------\n",
      "|  0 |  0% | 19% |\n",
      "|  1 |  0% |  0% |\n"
     ]
    },
    {
     "name": "stderr",
     "output_type": "stream",
     "text": [
      " 15%|██████████████████████████████████████████████████████████▏                                                                                                                                                                                                                                                                                                                               | 137/890.0 [05:37<34:29,  2.75s/it]"
     ]
    },
    {
     "name": "stdout",
     "output_type": "stream",
     "text": [
      "20.6\n",
      "80.4\n",
      "| ID | GPU | MEM |\n",
      "------------------\n",
      "|  0 |  0% | 19% |\n",
      "|  1 |  0% |  0% |\n"
     ]
    },
    {
     "name": "stderr",
     "output_type": "stream",
     "text": [
      " 16%|██████████████████████████████████████████████████████████▌                                                                                                                                                                                                                                                                                                                               | 138/890.0 [05:39<33:33,  2.68s/it]"
     ]
    },
    {
     "name": "stdout",
     "output_type": "stream",
     "text": [
      "21.4\n",
      "80.4\n",
      "| ID | GPU | MEM |\n",
      "------------------\n",
      "|  0 |  0% | 19% |\n",
      "|  1 |  0% |  0% |\n"
     ]
    },
    {
     "name": "stderr",
     "output_type": "stream",
     "text": [
      " 16%|███████████████████████████████████████████████████████████                                                                                                                                                                                                                                                                                                                               | 139/890.0 [05:41<32:34,  2.60s/it]"
     ]
    },
    {
     "name": "stdout",
     "output_type": "stream",
     "text": [
      "19.3\n",
      "80.4\n",
      "| ID | GPU | MEM |\n",
      "------------------\n",
      "|  0 |  0% | 19% |\n",
      "|  1 |  0% |  0% |\n"
     ]
    },
    {
     "name": "stderr",
     "output_type": "stream",
     "text": [
      " 16%|███████████████████████████████████████████████████████████▍                                                                                                                                                                                                                                                                                                                              | 140/890.0 [05:45<36:02,  2.88s/it]"
     ]
    },
    {
     "name": "stdout",
     "output_type": "stream",
     "text": [
      "21.9\n",
      "80.4\n",
      "| ID | GPU | MEM |\n",
      "------------------\n",
      "|  0 |  0% | 19% |\n",
      "|  1 |  0% |  0% |\n"
     ]
    },
    {
     "name": "stderr",
     "output_type": "stream",
     "text": [
      " 16%|███████████████████████████████████████████████████████████▉                                                                                                                                                                                                                                                                                                                              | 141/890.0 [05:47<33:05,  2.65s/it]"
     ]
    },
    {
     "name": "stdout",
     "output_type": "stream",
     "text": [
      "22.2\n",
      "80.4\n",
      "| ID | GPU | MEM |\n",
      "------------------\n",
      "|  0 |  0% | 19% |\n",
      "|  1 |  0% |  0% |\n"
     ]
    },
    {
     "name": "stderr",
     "output_type": "stream",
     "text": [
      " 16%|████████████████████████████████████████████████████████████▎                                                                                                                                                                                                                                                                                                                             | 142/890.0 [05:50<32:06,  2.58s/it]"
     ]
    },
    {
     "name": "stdout",
     "output_type": "stream",
     "text": [
      "22.3\n",
      "80.4\n",
      "| ID | GPU | MEM |\n",
      "------------------\n",
      "|  0 |  0% | 19% |\n",
      "|  1 |  0% |  0% |\n"
     ]
    },
    {
     "name": "stderr",
     "output_type": "stream",
     "text": [
      " 16%|████████████████████████████████████████████████████████████▋                                                                                                                                                                                                                                                                                                                             | 143/890.0 [05:52<31:13,  2.51s/it]"
     ]
    },
    {
     "name": "stdout",
     "output_type": "stream",
     "text": [
      "19.2\n",
      "80.4\n",
      "| ID | GPU | MEM |\n",
      "------------------\n",
      "|  0 |  0% | 19% |\n",
      "|  1 |  0% |  0% |\n"
     ]
    },
    {
     "name": "stderr",
     "output_type": "stream",
     "text": [
      " 16%|█████████████████████████████████████████████████████████████▏                                                                                                                                                                                                                                                                                                                            | 144/890.0 [05:55<34:58,  2.81s/it]"
     ]
    },
    {
     "name": "stdout",
     "output_type": "stream",
     "text": [
      "21.4\n",
      "80.4\n",
      "| ID | GPU | MEM |\n",
      "------------------\n",
      "|  0 |  0% | 19% |\n",
      "|  1 |  0% |  0% |\n"
     ]
    },
    {
     "name": "stderr",
     "output_type": "stream",
     "text": [
      " 16%|█████████████████████████████████████████████████████████████▌                                                                                                                                                                                                                                                                                                                            | 145/890.0 [05:58<33:23,  2.69s/it]"
     ]
    },
    {
     "name": "stdout",
     "output_type": "stream",
     "text": [
      "22.0\n",
      "80.4\n",
      "| ID | GPU | MEM |\n",
      "------------------\n",
      "|  0 |  0% | 19% |\n",
      "|  1 |  0% |  0% |\n"
     ]
    },
    {
     "name": "stderr",
     "output_type": "stream",
     "text": [
      " 16%|██████████████████████████████████████████████████████████████                                                                                                                                                                                                                                                                                                                            | 146/890.0 [06:00<32:05,  2.59s/it]"
     ]
    },
    {
     "name": "stdout",
     "output_type": "stream",
     "text": [
      "18.8\n",
      "80.4\n",
      "| ID | GPU | MEM |\n",
      "------------------\n",
      "|  0 |  0% | 19% |\n",
      "|  1 |  0% |  0% |\n"
     ]
    },
    {
     "name": "stderr",
     "output_type": "stream",
     "text": [
      " 17%|██████████████████████████████████████████████████████████████▍                                                                                                                                                                                                                                                                                                                           | 147/890.0 [06:04<35:39,  2.88s/it]"
     ]
    },
    {
     "name": "stdout",
     "output_type": "stream",
     "text": [
      "21.6\n",
      "80.4\n",
      "| ID | GPU | MEM |\n",
      "------------------\n",
      "|  0 |  1% | 19% |\n",
      "|  1 |  0% |  0% |\n"
     ]
    },
    {
     "name": "stderr",
     "output_type": "stream",
     "text": [
      " 17%|██████████████████████████████████████████████████████████████▊                                                                                                                                                                                                                                                                                                                           | 148/890.0 [06:06<33:42,  2.73s/it]"
     ]
    },
    {
     "name": "stdout",
     "output_type": "stream",
     "text": [
      "19.4\n",
      "80.4\n",
      "| ID | GPU | MEM |\n",
      "------------------\n",
      "|  0 |  0% | 19% |\n",
      "|  1 |  0% |  0% |\n"
     ]
    },
    {
     "name": "stderr",
     "output_type": "stream",
     "text": [
      " 17%|███████████████████████████████████████████████████████████████▎                                                                                                                                                                                                                                                                                                                          | 149/890.0 [06:10<36:21,  2.94s/it]"
     ]
    },
    {
     "name": "stdout",
     "output_type": "stream",
     "text": [
      "21.9\n",
      "80.4\n",
      "| ID | GPU | MEM |\n",
      "------------------\n",
      "|  0 |  0% | 19% |\n",
      "|  1 |  0% |  0% |\n"
     ]
    },
    {
     "name": "stderr",
     "output_type": "stream",
     "text": [
      " 17%|███████████████████████████████████████████████████████████████▋                                                                                                                                                                                                                                                                                                                          | 150/890.0 [06:12<34:06,  2.77s/it]"
     ]
    },
    {
     "name": "stdout",
     "output_type": "stream",
     "text": [
      "22.4\n",
      "80.4\n",
      "| ID | GPU | MEM |\n",
      "------------------\n",
      "|  0 |  0% | 19% |\n",
      "|  1 |  0% |  0% |\n"
     ]
    },
    {
     "name": "stderr",
     "output_type": "stream",
     "text": [
      " 17%|████████████████████████████████████████████████████████████████▏                                                                                                                                                                                                                                                                                                                         | 151/890.0 [06:14<31:08,  2.53s/it]"
     ]
    },
    {
     "name": "stdout",
     "output_type": "stream",
     "text": [
      "22.4\n",
      "80.4\n",
      "| ID | GPU | MEM |\n",
      "------------------\n",
      "|  0 |  0% | 19% |\n",
      "|  1 |  0% |  0% |\n"
     ]
    },
    {
     "name": "stderr",
     "output_type": "stream",
     "text": [
      " 17%|████████████████████████████████████████████████████████████████▌                                                                                                                                                                                                                                                                                                                         | 152/890.0 [06:16<30:26,  2.47s/it]"
     ]
    },
    {
     "name": "stdout",
     "output_type": "stream",
     "text": [
      "22.7\n",
      "80.4\n",
      "| ID | GPU | MEM |\n",
      "------------------\n",
      "|  0 |  0% | 19% |\n",
      "|  1 |  0% |  0% |\n"
     ]
    },
    {
     "name": "stderr",
     "output_type": "stream",
     "text": [
      " 17%|████████████████████████████████████████████████████████████████▉                                                                                                                                                                                                                                                                                                                         | 153/890.0 [06:19<29:56,  2.44s/it]"
     ]
    },
    {
     "name": "stdout",
     "output_type": "stream",
     "text": [
      "19.0\n",
      "80.4\n",
      "| ID | GPU | MEM |\n",
      "------------------\n",
      "|  0 |  0% | 19% |\n",
      "|  1 |  0% |  0% |\n"
     ]
    },
    {
     "name": "stderr",
     "output_type": "stream",
     "text": [
      " 17%|█████████████████████████████████████████████████████████████████▍                                                                                                                                                                                                                                                                                                                        | 154/890.0 [06:22<33:43,  2.75s/it]"
     ]
    },
    {
     "name": "stdout",
     "output_type": "stream",
     "text": [
      "19.8\n",
      "80.4\n",
      "| ID | GPU | MEM |\n",
      "------------------\n",
      "|  0 |  0% | 19% |\n",
      "|  1 |  0% |  0% |\n"
     ]
    },
    {
     "name": "stderr",
     "output_type": "stream",
     "text": [
      " 17%|█████████████████████████████████████████████████████████████████▊                                                                                                                                                                                                                                                                                                                        | 155/890.0 [06:25<36:01,  2.94s/it]"
     ]
    },
    {
     "name": "stdout",
     "output_type": "stream",
     "text": [
      "21.8\n",
      "80.4\n",
      "| ID | GPU | MEM |\n",
      "------------------\n",
      "|  0 |  0% | 19% |\n",
      "|  1 |  0% |  0% |\n"
     ]
    },
    {
     "name": "stderr",
     "output_type": "stream",
     "text": [
      " 18%|██████████████████████████████████████████████████████████████████▎                                                                                                                                                                                                                                                                                                                       | 156/890.0 [06:28<33:51,  2.77s/it]"
     ]
    },
    {
     "name": "stdout",
     "output_type": "stream",
     "text": [
      "22.1\n",
      "80.4\n",
      "| ID | GPU | MEM |\n",
      "------------------\n",
      "|  0 |  0% | 19% |\n",
      "|  1 |  0% |  0% |\n"
     ]
    },
    {
     "name": "stderr",
     "output_type": "stream",
     "text": [
      " 18%|██████████████████████████████████████████████████████████████████▋                                                                                                                                                                                                                                                                                                                       | 157/890.0 [06:30<32:24,  2.65s/it]"
     ]
    },
    {
     "name": "stdout",
     "output_type": "stream",
     "text": [
      "21.6\n",
      "80.4\n",
      "| ID | GPU | MEM |\n",
      "------------------\n",
      "|  0 |  0% | 19% |\n",
      "|  1 |  0% |  0% |\n"
     ]
    },
    {
     "name": "stderr",
     "output_type": "stream",
     "text": [
      " 18%|███████████████████████████████████████████████████████████████████                                                                                                                                                                                                                                                                                                                       | 158/890.0 [06:33<31:35,  2.59s/it]"
     ]
    },
    {
     "name": "stdout",
     "output_type": "stream",
     "text": [
      "20.6\n",
      "80.4\n",
      "| ID | GPU | MEM |\n",
      "------------------\n",
      "|  0 |  0% | 19% |\n",
      "|  1 |  0% |  0% |\n"
     ]
    },
    {
     "name": "stderr",
     "output_type": "stream",
     "text": [
      " 18%|███████████████████████████████████████████████████████████████████▌                                                                                                                                                                                                                                                                                                                      | 159/890.0 [06:36<33:46,  2.77s/it]"
     ]
    },
    {
     "name": "stdout",
     "output_type": "stream",
     "text": [
      "22.7\n",
      "80.4\n",
      "| ID | GPU | MEM |\n",
      "------------------\n",
      "|  0 |  0% | 19% |\n",
      "|  1 |  0% |  0% |\n"
     ]
    },
    {
     "name": "stderr",
     "output_type": "stream",
     "text": [
      " 18%|███████████████████████████████████████████████████████████████████▉                                                                                                                                                                                                                                                                                                                      | 160/890.0 [06:38<32:11,  2.65s/it]"
     ]
    },
    {
     "name": "stdout",
     "output_type": "stream",
     "text": [
      "22.0\n",
      "80.4\n",
      "| ID | GPU | MEM |\n",
      "------------------\n",
      "|  0 |  0% | 19% |\n",
      "|  1 |  0% |  0% |\n"
     ]
    },
    {
     "name": "stderr",
     "output_type": "stream",
     "text": [
      " 18%|████████████████████████████████████████████████████████████████████▍                                                                                                                                                                                                                                                                                                                     | 161/890.0 [06:41<31:26,  2.59s/it]"
     ]
    },
    {
     "name": "stdout",
     "output_type": "stream",
     "text": [
      "23.0\n",
      "80.4\n",
      "| ID | GPU | MEM |\n",
      "------------------\n",
      "|  0 |  0% | 19% |\n",
      "|  1 |  0% |  0% |\n"
     ]
    },
    {
     "name": "stderr",
     "output_type": "stream",
     "text": [
      " 18%|████████████████████████████████████████████████████████████████████▊                                                                                                                                                                                                                                                                                                                     | 162/890.0 [06:43<30:18,  2.50s/it]"
     ]
    },
    {
     "name": "stdout",
     "output_type": "stream",
     "text": [
      "19.3\n",
      "80.4\n",
      "| ID | GPU | MEM |\n",
      "------------------\n",
      "|  0 |  0% | 19% |\n",
      "|  1 |  0% |  0% |\n"
     ]
    },
    {
     "name": "stderr",
     "output_type": "stream",
     "text": [
      " 18%|█████████████████████████████████████████████████████████████████████▏                                                                                                                                                                                                                                                                                                                    | 163/890.0 [06:46<33:51,  2.79s/it]"
     ]
    },
    {
     "name": "stdout",
     "output_type": "stream",
     "text": [
      "22.2\n",
      "80.4\n",
      "| ID | GPU | MEM |\n",
      "------------------\n",
      "|  0 |  0% | 19% |\n",
      "|  1 |  0% |  0% |\n"
     ]
    },
    {
     "name": "stderr",
     "output_type": "stream",
     "text": [
      " 18%|█████████████████████████████████████████████████████████████████████▋                                                                                                                                                                                                                                                                                                                    | 164/890.0 [06:49<32:01,  2.65s/it]"
     ]
    },
    {
     "name": "stdout",
     "output_type": "stream",
     "text": [
      "19.4\n",
      "80.4\n",
      "| ID | GPU | MEM |\n",
      "------------------\n",
      "|  0 |  0% | 19% |\n",
      "|  1 |  0% |  0% |\n"
     ]
    },
    {
     "name": "stderr",
     "output_type": "stream",
     "text": [
      " 19%|██████████████████████████████████████████████████████████████████████                                                                                                                                                                                                                                                                                                                    | 165/890.0 [06:52<34:56,  2.89s/it]"
     ]
    },
    {
     "name": "stdout",
     "output_type": "stream",
     "text": [
      "22.2\n",
      "80.4\n",
      "| ID | GPU | MEM |\n",
      "------------------\n",
      "|  0 |  0% | 19% |\n",
      "|  1 |  0% |  0% |\n"
     ]
    },
    {
     "name": "stderr",
     "output_type": "stream",
     "text": [
      " 19%|██████████████████████████████████████████████████████████████████████▌                                                                                                                                                                                                                                                                                                                   | 166/890.0 [06:54<32:49,  2.72s/it]"
     ]
    },
    {
     "name": "stdout",
     "output_type": "stream",
     "text": [
      "22.3\n",
      "80.4\n",
      "| ID | GPU | MEM |\n",
      "------------------\n",
      "|  0 |  0% | 19% |\n",
      "|  1 |  0% |  0% |\n"
     ]
    },
    {
     "name": "stderr",
     "output_type": "stream",
     "text": [
      " 19%|██████████████████████████████████████████████████████████████████████▉                                                                                                                                                                                                                                                                                                                   | 167/890.0 [06:57<31:20,  2.60s/it]"
     ]
    },
    {
     "name": "stdout",
     "output_type": "stream",
     "text": [
      "22.3\n",
      "80.4\n",
      "| ID | GPU | MEM |\n",
      "------------------\n",
      "|  0 |  0% | 19% |\n",
      "|  1 |  0% |  0% |\n"
     ]
    },
    {
     "name": "stderr",
     "output_type": "stream",
     "text": [
      " 19%|███████████████████████████████████████████████████████████████████████▎                                                                                                                                                                                                                                                                                                                  | 168/890.0 [06:59<30:20,  2.52s/it]"
     ]
    },
    {
     "name": "stdout",
     "output_type": "stream",
     "text": [
      "20.5\n",
      "80.4\n",
      "| ID | GPU | MEM |\n",
      "------------------\n",
      "|  0 |  0% | 19% |\n",
      "|  1 |  0% |  0% |\n"
     ]
    },
    {
     "name": "stderr",
     "output_type": "stream",
     "text": [
      " 19%|███████████████████████████████████████████████████████████████████████▊                                                                                                                                                                                                                                                                                                                  | 169/890.0 [07:02<32:48,  2.73s/it]"
     ]
    },
    {
     "name": "stdout",
     "output_type": "stream",
     "text": [
      "22.7\n",
      "80.4\n",
      "| ID | GPU | MEM |\n",
      "------------------\n",
      "|  0 |  0% | 19% |\n",
      "|  1 |  0% |  0% |\n"
     ]
    },
    {
     "name": "stderr",
     "output_type": "stream",
     "text": [
      " 19%|████████████████████████████████████████████████████████████████████████▏                                                                                                                                                                                                                                                                                                                 | 170/890.0 [07:05<31:14,  2.60s/it]"
     ]
    },
    {
     "name": "stdout",
     "output_type": "stream",
     "text": [
      "21.6\n",
      "80.4\n",
      "| ID | GPU | MEM |\n",
      "------------------\n",
      "|  0 |  0% | 19% |\n",
      "|  1 |  0% |  0% |\n"
     ]
    },
    {
     "name": "stderr",
     "output_type": "stream",
     "text": [
      " 19%|████████████████████████████████████████████████████████████████████████▋                                                                                                                                                                                                                                                                                                                 | 171/890.0 [07:07<30:26,  2.54s/it]"
     ]
    },
    {
     "name": "stdout",
     "output_type": "stream",
     "text": [
      "22.1\n",
      "80.4\n",
      "| ID | GPU | MEM |\n",
      "------------------\n",
      "|  0 |  0% | 19% |\n",
      "|  1 |  0% |  0% |\n"
     ]
    },
    {
     "name": "stderr",
     "output_type": "stream",
     "text": [
      " 19%|█████████████████████████████████████████████████████████████████████████                                                                                                                                                                                                                                                                                                                 | 172/890.0 [07:09<28:26,  2.38s/it]"
     ]
    },
    {
     "name": "stdout",
     "output_type": "stream",
     "text": [
      "22.4\n",
      "80.4\n",
      "| ID | GPU | MEM |\n",
      "------------------\n",
      "|  0 |  0% | 19% |\n",
      "|  1 |  0% |  0% |\n"
     ]
    },
    {
     "name": "stderr",
     "output_type": "stream",
     "text": [
      " 19%|█████████████████████████████████████████████████████████████████████████▍                                                                                                                                                                                                                                                                                                                | 173/890.0 [07:11<28:19,  2.37s/it]"
     ]
    },
    {
     "name": "stdout",
     "output_type": "stream",
     "text": [
      "20.6\n",
      "80.4\n",
      "| ID | GPU | MEM |\n",
      "------------------\n",
      "|  0 |  0% | 19% |\n",
      "|  1 |  0% |  0% |\n"
     ]
    },
    {
     "name": "stderr",
     "output_type": "stream",
     "text": [
      " 20%|█████████████████████████████████████████████████████████████████████████▉                                                                                                                                                                                                                                                                                                                | 174/890.0 [07:15<31:22,  2.63s/it]"
     ]
    },
    {
     "name": "stdout",
     "output_type": "stream",
     "text": [
      "19.4\n",
      "80.4\n",
      "| ID | GPU | MEM |\n",
      "------------------\n",
      "|  0 |  0% | 19% |\n",
      "|  1 |  0% |  0% |\n"
     ]
    },
    {
     "name": "stderr",
     "output_type": "stream",
     "text": [
      " 20%|██████████████████████████████████████████████████████████████████████████▎                                                                                                                                                                                                                                                                                                               | 175/890.0 [07:18<34:19,  2.88s/it]"
     ]
    },
    {
     "name": "stdout",
     "output_type": "stream",
     "text": [
      "22.0\n",
      "80.4\n",
      "| ID | GPU | MEM |\n",
      "------------------\n",
      "|  0 |  0% | 19% |\n",
      "|  1 |  0% |  0% |\n"
     ]
    },
    {
     "name": "stderr",
     "output_type": "stream",
     "text": [
      " 20%|██████████████████████████████████████████████████████████████████████████▊                                                                                                                                                                                                                                                                                                               | 176/890.0 [07:20<32:20,  2.72s/it]"
     ]
    },
    {
     "name": "stdout",
     "output_type": "stream",
     "text": [
      "22.4\n",
      "80.4\n",
      "| ID | GPU | MEM |\n",
      "------------------\n",
      "|  0 |  0% | 19% |\n",
      "|  1 |  0% |  0% |\n"
     ]
    },
    {
     "name": "stderr",
     "output_type": "stream",
     "text": [
      " 20%|███████████████████████████████████████████████████████████████████████████▏                                                                                                                                                                                                                                                                                                              | 177/890.0 [07:23<30:56,  2.60s/it]"
     ]
    },
    {
     "name": "stdout",
     "output_type": "stream",
     "text": [
      "22.3\n",
      "80.4\n",
      "| ID | GPU | MEM |\n",
      "------------------\n",
      "|  0 |  0% | 19% |\n",
      "|  1 |  0% |  0% |\n"
     ]
    },
    {
     "name": "stderr",
     "output_type": "stream",
     "text": [
      " 20%|███████████████████████████████████████████████████████████████████████████▌                                                                                                                                                                                                                                                                                                              | 178/890.0 [07:25<29:57,  2.52s/it]"
     ]
    },
    {
     "name": "stdout",
     "output_type": "stream",
     "text": [
      "22.4\n",
      "80.4\n",
      "| ID | GPU | MEM |\n",
      "------------------\n",
      "|  0 |  0% | 19% |\n",
      "|  1 |  0% |  0% |\n"
     ]
    },
    {
     "name": "stderr",
     "output_type": "stream",
     "text": [
      " 20%|████████████████████████████████████████████████████████████████████████████                                                                                                                                                                                                                                                                                                              | 179/890.0 [07:27<29:15,  2.47s/it]"
     ]
    },
    {
     "name": "stdout",
     "output_type": "stream",
     "text": [
      "21.8\n",
      "80.4\n",
      "| ID | GPU | MEM |\n",
      "------------------\n",
      "|  0 |  0% | 19% |\n",
      "|  1 |  0% |  0% |\n"
     ]
    },
    {
     "name": "stderr",
     "output_type": "stream",
     "text": [
      " 20%|████████████████████████████████████████████████████████████████████████████▍                                                                                                                                                                                                                                                                                                             | 180/890.0 [07:30<28:52,  2.44s/it]"
     ]
    },
    {
     "name": "stdout",
     "output_type": "stream",
     "text": [
      "22.0\n",
      "80.4\n",
      "| ID | GPU | MEM |\n",
      "------------------\n",
      "|  0 |  0% | 19% |\n",
      "|  1 |  0% |  0% |\n"
     ]
    },
    {
     "name": "stderr",
     "output_type": "stream",
     "text": [
      " 20%|████████████████████████████████████████████████████████████████████████████▊                                                                                                                                                                                                                                                                                                             | 181/890.0 [07:32<28:27,  2.41s/it]"
     ]
    },
    {
     "name": "stdout",
     "output_type": "stream",
     "text": [
      "21.6\n",
      "80.4\n",
      "| ID | GPU | MEM |\n",
      "------------------\n",
      "|  0 |  0% | 19% |\n",
      "|  1 |  0% |  0% |\n"
     ]
    },
    {
     "name": "stderr",
     "output_type": "stream",
     "text": [
      " 20%|█████████████████████████████████████████████████████████████████████████████▎                                                                                                                                                                                                                                                                                                            | 182/890.0 [07:35<28:21,  2.40s/it]"
     ]
    },
    {
     "name": "stdout",
     "output_type": "stream",
     "text": [
      "21.6\n",
      "80.4\n",
      "| ID | GPU | MEM |\n",
      "------------------\n",
      "|  0 |  0% | 19% |\n",
      "|  1 |  0% |  0% |\n"
     ]
    },
    {
     "name": "stderr",
     "output_type": "stream",
     "text": [
      " 21%|█████████████████████████████████████████████████████████████████████████████▋                                                                                                                                                                                                                                                                                                            | 183/890.0 [07:37<28:16,  2.40s/it]"
     ]
    },
    {
     "name": "stdout",
     "output_type": "stream",
     "text": [
      "20.5\n",
      "80.4\n",
      "| ID | GPU | MEM |\n",
      "------------------\n",
      "|  0 |  0% | 19% |\n",
      "|  1 |  0% |  0% |\n"
     ]
    },
    {
     "name": "stderr",
     "output_type": "stream",
     "text": [
      " 21%|██████████████████████████████████████████████████████████████████████████████▏                                                                                                                                                                                                                                                                                                           | 184/890.0 [07:39<28:47,  2.45s/it]"
     ]
    },
    {
     "name": "stdout",
     "output_type": "stream",
     "text": [
      "21.8\n",
      "80.4\n",
      "| ID | GPU | MEM |\n",
      "------------------\n",
      "|  0 |  0% | 19% |\n",
      "|  1 |  0% |  0% |\n"
     ]
    },
    {
     "name": "stderr",
     "output_type": "stream",
     "text": [
      " 21%|██████████████████████████████████████████████████████████████████████████████▌                                                                                                                                                                                                                                                                                                           | 185/890.0 [07:42<28:25,  2.42s/it]"
     ]
    },
    {
     "name": "stdout",
     "output_type": "stream",
     "text": [
      "22.2\n",
      "80.4\n",
      "| ID | GPU | MEM |\n",
      "------------------\n",
      "|  0 |  0% | 19% |\n",
      "|  1 |  0% |  0% |\n"
     ]
    },
    {
     "name": "stderr",
     "output_type": "stream",
     "text": [
      " 21%|██████████████████████████████████████████████████████████████████████████████▉                                                                                                                                                                                                                                                                                                           | 186/890.0 [07:44<28:06,  2.40s/it]"
     ]
    },
    {
     "name": "stdout",
     "output_type": "stream",
     "text": [
      "21.7\n",
      "80.4\n",
      "| ID | GPU | MEM |\n",
      "------------------\n",
      "|  0 |  0% | 19% |\n",
      "|  1 |  0% |  0% |\n"
     ]
    },
    {
     "name": "stderr",
     "output_type": "stream",
     "text": [
      " 21%|███████████████████████████████████████████████████████████████████████████████▍                                                                                                                                                                                                                                                                                                          | 187/890.0 [07:47<28:04,  2.40s/it]"
     ]
    },
    {
     "name": "stdout",
     "output_type": "stream",
     "text": [
      "22.4\n",
      "80.4\n",
      "| ID | GPU | MEM |\n",
      "------------------\n",
      "|  0 |  0% | 19% |\n",
      "|  1 |  0% |  0% |\n"
     ]
    },
    {
     "name": "stderr",
     "output_type": "stream",
     "text": [
      " 21%|███████████████████████████████████████████████████████████████████████████████▊                                                                                                                                                                                                                                                                                                          | 188/890.0 [07:49<27:43,  2.37s/it]"
     ]
    },
    {
     "name": "stdout",
     "output_type": "stream",
     "text": [
      "21.9\n",
      "80.4\n",
      "| ID | GPU | MEM |\n",
      "------------------\n",
      "|  0 |  0% | 19% |\n",
      "|  1 |  0% |  0% |\n"
     ]
    },
    {
     "name": "stderr",
     "output_type": "stream",
     "text": [
      " 21%|████████████████████████████████████████████████████████████████████████████████▎                                                                                                                                                                                                                                                                                                         | 189/890.0 [07:51<27:34,  2.36s/it]"
     ]
    },
    {
     "name": "stdout",
     "output_type": "stream",
     "text": [
      "22.0\n",
      "80.4\n",
      "| ID | GPU | MEM |\n",
      "------------------\n",
      "|  0 |  0% | 19% |\n",
      "|  1 |  0% |  0% |\n"
     ]
    },
    {
     "name": "stderr",
     "output_type": "stream",
     "text": [
      " 21%|████████████████████████████████████████████████████████████████████████████████▋                                                                                                                                                                                                                                                                                                         | 190/890.0 [07:54<27:26,  2.35s/it]"
     ]
    },
    {
     "name": "stdout",
     "output_type": "stream",
     "text": [
      "22.1\n",
      "80.4\n",
      "| ID | GPU | MEM |\n",
      "------------------\n",
      "|  0 |  0% | 19% |\n",
      "|  1 |  0% |  0% |\n"
     ]
    },
    {
     "name": "stderr",
     "output_type": "stream",
     "text": [
      " 21%|█████████████████████████████████████████████████████████████████████████████████                                                                                                                                                                                                                                                                                                         | 191/890.0 [07:56<27:20,  2.35s/it]"
     ]
    },
    {
     "name": "stdout",
     "output_type": "stream",
     "text": [
      "20.6\n",
      "80.4\n",
      "| ID | GPU | MEM |\n",
      "------------------\n",
      "|  0 |  0% | 19% |\n",
      "|  1 |  0% |  0% |\n"
     ]
    },
    {
     "name": "stderr",
     "output_type": "stream",
     "text": [
      " 22%|█████████████████████████████████████████████████████████████████████████████████▌                                                                                                                                                                                                                                                                                                        | 192/890.0 [07:59<30:17,  2.60s/it]"
     ]
    },
    {
     "name": "stdout",
     "output_type": "stream",
     "text": [
      "22.3\n",
      "80.4\n",
      "| ID | GPU | MEM |\n",
      "------------------\n",
      "|  0 |  0% | 19% |\n",
      "|  1 |  0% |  0% |\n"
     ]
    },
    {
     "name": "stderr",
     "output_type": "stream",
     "text": [
      " 22%|█████████████████████████████████████████████████████████████████████████████████▉                                                                                                                                                                                                                                                                                                        | 193/890.0 [08:01<29:16,  2.52s/it]"
     ]
    },
    {
     "name": "stdout",
     "output_type": "stream",
     "text": [
      "22.7\n",
      "80.4\n",
      "| ID | GPU | MEM |\n",
      "------------------\n",
      "|  0 |  0% | 19% |\n",
      "|  1 |  0% |  0% |\n"
     ]
    },
    {
     "name": "stderr",
     "output_type": "stream",
     "text": [
      " 22%|██████████████████████████████████████████████████████████████████████████████████▍                                                                                                                                                                                                                                                                                                       | 194/890.0 [08:04<28:29,  2.46s/it]"
     ]
    },
    {
     "name": "stdout",
     "output_type": "stream",
     "text": [
      "19.4\n",
      "80.4\n",
      "| ID | GPU | MEM |\n",
      "------------------\n",
      "|  0 |  0% | 19% |\n",
      "|  1 |  0% |  0% |\n"
     ]
    },
    {
     "name": "stderr",
     "output_type": "stream",
     "text": [
      " 22%|██████████████████████████████████████████████████████████████████████████████████▊                                                                                                                                                                                                                                                                                                       | 195/890.0 [08:07<31:51,  2.75s/it]"
     ]
    },
    {
     "name": "stdout",
     "output_type": "stream",
     "text": [
      "21.7\n",
      "80.4\n",
      "| ID | GPU | MEM |\n",
      "------------------\n",
      "|  0 |  0% | 19% |\n",
      "|  1 |  0% |  0% |\n"
     ]
    },
    {
     "name": "stderr",
     "output_type": "stream",
     "text": [
      " 22%|███████████████████████████████████████████████████████████████████████████████████▏                                                                                                                                                                                                                                                                                                      | 196/890.0 [08:10<30:28,  2.63s/it]"
     ]
    },
    {
     "name": "stdout",
     "output_type": "stream",
     "text": [
      "22.1\n",
      "80.4\n",
      "| ID | GPU | MEM |\n",
      "------------------\n",
      "|  0 |  0% | 19% |\n",
      "|  1 |  0% |  0% |\n"
     ]
    },
    {
     "name": "stderr",
     "output_type": "stream",
     "text": [
      " 22%|███████████████████████████████████████████████████████████████████████████████████▋                                                                                                                                                                                                                                                                                                      | 197/890.0 [08:12<29:24,  2.55s/it]"
     ]
    },
    {
     "name": "stdout",
     "output_type": "stream",
     "text": [
      "22.3\n",
      "80.4\n",
      "| ID | GPU | MEM |\n",
      "------------------\n",
      "|  0 |  0% | 19% |\n",
      "|  1 |  0% |  0% |\n"
     ]
    },
    {
     "name": "stderr",
     "output_type": "stream",
     "text": [
      " 22%|████████████████████████████████████████████████████████████████████████████████████                                                                                                                                                                                                                                                                                                      | 198/890.0 [08:14<28:33,  2.48s/it]"
     ]
    },
    {
     "name": "stdout",
     "output_type": "stream",
     "text": [
      "22.0\n",
      "80.4\n",
      "| ID | GPU | MEM |\n",
      "------------------\n",
      "|  0 |  0% | 19% |\n",
      "|  1 |  0% |  0% |\n"
     ]
    },
    {
     "name": "stderr",
     "output_type": "stream",
     "text": [
      " 22%|████████████████████████████████████████████████████████████████████████████████████▌                                                                                                                                                                                                                                                                                                     | 199/890.0 [08:17<28:05,  2.44s/it]"
     ]
    },
    {
     "name": "stdout",
     "output_type": "stream",
     "text": [
      "21.5\n",
      "80.4\n",
      "| ID | GPU | MEM |\n",
      "------------------\n",
      "|  0 |  0% | 19% |\n",
      "|  1 |  0% |  0% |\n"
     ]
    },
    {
     "name": "stderr",
     "output_type": "stream",
     "text": [
      " 22%|████████████████████████████████████████████████████████████████████████████████████▉                                                                                                                                                                                                                                                                                                     | 200/890.0 [08:19<28:11,  2.45s/it]"
     ]
    },
    {
     "name": "stdout",
     "output_type": "stream",
     "text": [
      "22.4\n",
      "80.4\n",
      "| ID | GPU | MEM |\n",
      "------------------\n",
      "|  0 |  0% | 19% |\n",
      "|  1 |  0% |  0% |\n"
     ]
    },
    {
     "name": "stderr",
     "output_type": "stream",
     "text": [
      " 23%|█████████████████████████████████████████████████████████████████████████████████████▎                                                                                                                                                                                                                                                                                                    | 201/890.0 [08:21<27:45,  2.42s/it]"
     ]
    },
    {
     "name": "stdout",
     "output_type": "stream",
     "text": [
      "21.2\n",
      "80.4\n",
      "| ID | GPU | MEM |\n",
      "------------------\n",
      "|  0 |  0% | 19% |\n",
      "|  1 |  0% |  0% |\n"
     ]
    },
    {
     "name": "stderr",
     "output_type": "stream",
     "text": [
      " 23%|█████████████████████████████████████████████████████████████████████████████████████▊                                                                                                                                                                                                                                                                                                    | 202/890.0 [08:24<27:56,  2.44s/it]"
     ]
    },
    {
     "name": "stdout",
     "output_type": "stream",
     "text": [
      "20.2\n",
      "80.4\n",
      "| ID | GPU | MEM |\n",
      "------------------\n",
      "|  0 |  0% | 19% |\n",
      "|  1 |  0% |  0% |\n"
     ]
    },
    {
     "name": "stderr",
     "output_type": "stream",
     "text": [
      " 23%|██████████████████████████████████████████████████████████████████████████████████████▏                                                                                                                                                                                                                                                                                                   | 203/890.0 [08:27<30:45,  2.69s/it]"
     ]
    },
    {
     "name": "stdout",
     "output_type": "stream",
     "text": [
      "22.3\n",
      "80.4\n",
      "| ID | GPU | MEM |\n",
      "------------------\n",
      "|  0 |  0% | 19% |\n",
      "|  1 |  0% |  0% |\n"
     ]
    },
    {
     "name": "stderr",
     "output_type": "stream",
     "text": [
      " 23%|██████████████████████████████████████████████████████████████████████████████████████▋                                                                                                                                                                                                                                                                                                   | 204/890.0 [08:29<29:25,  2.57s/it]"
     ]
    },
    {
     "name": "stdout",
     "output_type": "stream",
     "text": [
      "22.3\n",
      "80.4\n",
      "| ID | GPU | MEM |\n",
      "------------------\n",
      "|  0 |  0% | 19% |\n",
      "|  1 |  0% |  0% |\n"
     ]
    },
    {
     "name": "stderr",
     "output_type": "stream",
     "text": [
      " 23%|███████████████████████████████████████████████████████████████████████████████████████                                                                                                                                                                                                                                                                                                   | 205/890.0 [08:32<28:33,  2.50s/it]"
     ]
    },
    {
     "name": "stdout",
     "output_type": "stream",
     "text": [
      "22.4\n",
      "80.4\n",
      "| ID | GPU | MEM |\n",
      "------------------\n",
      "|  0 |  0% | 19% |\n",
      "|  1 |  0% |  0% |\n"
     ]
    },
    {
     "name": "stderr",
     "output_type": "stream",
     "text": [
      " 23%|███████████████████████████████████████████████████████████████████████████████████████▍                                                                                                                                                                                                                                                                                                  | 206/890.0 [08:34<27:58,  2.45s/it]"
     ]
    },
    {
     "name": "stdout",
     "output_type": "stream",
     "text": [
      "22.5\n",
      "80.4\n",
      "| ID | GPU | MEM |\n",
      "------------------\n",
      "|  0 |  0% | 19% |\n",
      "|  1 |  0% |  0% |\n"
     ]
    },
    {
     "name": "stderr",
     "output_type": "stream",
     "text": [
      " 23%|███████████████████████████████████████████████████████████████████████████████████████▉                                                                                                                                                                                                                                                                                                  | 207/890.0 [08:36<27:27,  2.41s/it]"
     ]
    },
    {
     "name": "stdout",
     "output_type": "stream",
     "text": [
      "22.0\n",
      "80.4\n",
      "| ID | GPU | MEM |\n",
      "------------------\n",
      "|  0 |  0% | 19% |\n",
      "|  1 |  0% |  0% |\n"
     ]
    },
    {
     "name": "stderr",
     "output_type": "stream",
     "text": [
      " 23%|████████████████████████████████████████████████████████████████████████████████████████▎                                                                                                                                                                                                                                                                                                 | 208/890.0 [08:39<27:19,  2.40s/it]"
     ]
    },
    {
     "name": "stdout",
     "output_type": "stream",
     "text": [
      "20.4\n",
      "80.4\n",
      "| ID | GPU | MEM |\n",
      "------------------\n",
      "|  0 |  0% | 19% |\n",
      "|  1 |  0% |  0% |\n"
     ]
    },
    {
     "name": "stderr",
     "output_type": "stream",
     "text": [
      " 23%|████████████████████████████████████████████████████████████████████████████████████████▊                                                                                                                                                                                                                                                                                                 | 209/890.0 [08:42<30:24,  2.68s/it]"
     ]
    },
    {
     "name": "stdout",
     "output_type": "stream",
     "text": [
      "22.1\n",
      "80.4\n",
      "| ID | GPU | MEM |\n",
      "------------------\n",
      "|  0 |  0% | 19% |\n",
      "|  1 |  0% |  0% |\n"
     ]
    },
    {
     "name": "stderr",
     "output_type": "stream",
     "text": [
      " 24%|█████████████████████████████████████████████████████████████████████████████████████████▏                                                                                                                                                                                                                                                                                                | 210/890.0 [08:44<29:13,  2.58s/it]"
     ]
    },
    {
     "name": "stdout",
     "output_type": "stream",
     "text": [
      "22.4\n",
      "80.4\n",
      "| ID | GPU | MEM |\n",
      "------------------\n",
      "|  0 |  0% | 19% |\n",
      "|  1 |  0% |  0% |\n"
     ]
    },
    {
     "name": "stderr",
     "output_type": "stream",
     "text": [
      " 24%|█████████████████████████████████████████████████████████████████████████████████████████▌                                                                                                                                                                                                                                                                                                | 211/890.0 [08:47<28:15,  2.50s/it]"
     ]
    },
    {
     "name": "stdout",
     "output_type": "stream",
     "text": [
      "21.7\n",
      "80.4\n",
      "| ID | GPU | MEM |\n",
      "------------------\n",
      "|  0 |  0% | 19% |\n",
      "|  1 |  0% |  0% |\n"
     ]
    },
    {
     "name": "stderr",
     "output_type": "stream",
     "text": [
      " 24%|██████████████████████████████████████████████████████████████████████████████████████████                                                                                                                                                                                                                                                                                                | 212/890.0 [08:49<28:53,  2.56s/it]"
     ]
    },
    {
     "name": "stdout",
     "output_type": "stream",
     "text": [
      "22.0\n",
      "80.4\n",
      "| ID | GPU | MEM |\n",
      "------------------\n",
      "|  0 |  0% | 19% |\n",
      "|  1 |  0% |  0% |\n"
     ]
    },
    {
     "name": "stderr",
     "output_type": "stream",
     "text": [
      " 24%|██████████████████████████████████████████████████████████████████████████████████████████▍                                                                                                                                                                                                                                                                                               | 213/890.0 [08:52<28:09,  2.50s/it]"
     ]
    },
    {
     "name": "stdout",
     "output_type": "stream",
     "text": [
      "21.9\n",
      "80.4\n",
      "| ID | GPU | MEM |\n",
      "------------------\n",
      "|  0 |  0% | 19% |\n",
      "|  1 |  0% |  0% |\n"
     ]
    },
    {
     "name": "stderr",
     "output_type": "stream",
     "text": [
      " 24%|██████████████████████████████████████████████████████████████████████████████████████████▉                                                                                                                                                                                                                                                                                               | 214/890.0 [08:54<27:42,  2.46s/it]"
     ]
    },
    {
     "name": "stdout",
     "output_type": "stream",
     "text": [
      "21.6\n",
      "80.4\n",
      "| ID | GPU | MEM |\n",
      "------------------\n",
      "|  0 |  0% | 19% |\n",
      "|  1 |  0% |  0% |\n"
     ]
    },
    {
     "name": "stderr",
     "output_type": "stream",
     "text": [
      " 24%|███████████████████████████████████████████████████████████████████████████████████████████▎                                                                                                                                                                                                                                                                                              | 215/890.0 [08:57<27:28,  2.44s/it]"
     ]
    },
    {
     "name": "stdout",
     "output_type": "stream",
     "text": [
      "20.8\n",
      "80.4\n",
      "| ID | GPU | MEM |\n",
      "------------------\n",
      "|  0 |  0% | 19% |\n",
      "|  1 |  1% |  0% |\n"
     ]
    },
    {
     "name": "stderr",
     "output_type": "stream",
     "text": [
      " 24%|███████████████████████████████████████████████████████████████████████████████████████████▋                                                                                                                                                                                                                                                                                              | 216/890.0 [08:59<27:44,  2.47s/it]"
     ]
    },
    {
     "name": "stdout",
     "output_type": "stream",
     "text": [
      "22.2\n",
      "80.4\n",
      "| ID | GPU | MEM |\n",
      "------------------\n",
      "|  0 |  0% | 19% |\n",
      "|  1 |  0% |  0% |\n"
     ]
    },
    {
     "name": "stderr",
     "output_type": "stream",
     "text": [
      " 24%|████████████████████████████████████████████████████████████████████████████████████████████▏                                                                                                                                                                                                                                                                                             | 217/890.0 [09:01<27:14,  2.43s/it]"
     ]
    },
    {
     "name": "stdout",
     "output_type": "stream",
     "text": [
      "21.9\n",
      "80.4\n",
      "| ID | GPU | MEM |\n",
      "------------------\n",
      "|  0 |  0% | 19% |\n",
      "|  1 |  0% |  0% |\n"
     ]
    },
    {
     "name": "stderr",
     "output_type": "stream",
     "text": [
      " 24%|████████████████████████████████████████████████████████████████████████████████████████████▌                                                                                                                                                                                                                                                                                             | 218/890.0 [09:04<26:58,  2.41s/it]"
     ]
    },
    {
     "name": "stdout",
     "output_type": "stream",
     "text": [
      "22.0\n",
      "80.4\n",
      "| ID | GPU | MEM |\n",
      "------------------\n",
      "|  0 |  0% | 19% |\n",
      "|  1 |  0% |  0% |\n"
     ]
    },
    {
     "name": "stderr",
     "output_type": "stream",
     "text": [
      " 25%|█████████████████████████████████████████████████████████████████████████████████████████████                                                                                                                                                                                                                                                                                             | 219/890.0 [09:06<26:43,  2.39s/it]"
     ]
    },
    {
     "name": "stdout",
     "output_type": "stream",
     "text": [
      "22.1\n",
      "80.4\n",
      "| ID | GPU | MEM |\n",
      "------------------\n",
      "|  0 |  0% | 19% |\n",
      "|  1 |  0% |  0% |\n"
     ]
    },
    {
     "name": "stderr",
     "output_type": "stream",
     "text": [
      " 25%|█████████████████████████████████████████████████████████████████████████████████████████████▍                                                                                                                                                                                                                                                                                            | 220/890.0 [09:09<26:31,  2.38s/it]"
     ]
    },
    {
     "name": "stdout",
     "output_type": "stream",
     "text": [
      "19.6\n",
      "80.4\n",
      "| ID | GPU | MEM |\n",
      "------------------\n",
      "|  0 |  0% | 19% |\n",
      "|  1 |  0% |  0% |\n"
     ]
    },
    {
     "name": "stderr",
     "output_type": "stream",
     "text": [
      " 25%|█████████████████████████████████████████████████████████████████████████████████████████████▊                                                                                                                                                                                                                                                                                            | 221/890.0 [09:12<30:04,  2.70s/it]"
     ]
    },
    {
     "name": "stdout",
     "output_type": "stream",
     "text": [
      "21.8\n",
      "80.4\n",
      "| ID | GPU | MEM |\n",
      "------------------\n",
      "|  0 |  0% | 19% |\n",
      "|  1 |  0% |  0% |\n"
     ]
    },
    {
     "name": "stderr",
     "output_type": "stream",
     "text": [
      " 25%|██████████████████████████████████████████████████████████████████████████████████████████████▎                                                                                                                                                                                                                                                                                           | 222/890.0 [09:14<28:51,  2.59s/it]"
     ]
    },
    {
     "name": "stdout",
     "output_type": "stream",
     "text": [
      "22.2\n",
      "80.4\n",
      "| ID | GPU | MEM |\n",
      "------------------\n",
      "|  0 |  0% | 19% |\n",
      "|  1 |  0% |  0% |\n"
     ]
    },
    {
     "name": "stderr",
     "output_type": "stream",
     "text": [
      " 25%|██████████████████████████████████████████████████████████████████████████████████████████████▋                                                                                                                                                                                                                                                                                           | 223/890.0 [09:17<27:58,  2.52s/it]"
     ]
    },
    {
     "name": "stdout",
     "output_type": "stream",
     "text": [
      "19.7\n",
      "80.4\n",
      "| ID | GPU | MEM |\n",
      "------------------\n",
      "|  0 |  1% | 19% |\n",
      "|  1 |  0% |  0% |\n"
     ]
    },
    {
     "name": "stderr",
     "output_type": "stream",
     "text": [
      " 25%|███████████████████████████████████████████████████████████████████████████████████████████████▏                                                                                                                                                                                                                                                                                          | 224/890.0 [09:20<31:06,  2.80s/it]"
     ]
    },
    {
     "name": "stdout",
     "output_type": "stream",
     "text": [
      "22.0\n",
      "80.4\n",
      "| ID | GPU | MEM |\n",
      "------------------\n",
      "|  0 |  0% | 19% |\n",
      "|  1 |  0% |  0% |\n"
     ]
    },
    {
     "name": "stderr",
     "output_type": "stream",
     "text": [
      " 25%|███████████████████████████████████████████████████████████████████████████████████████████████▌                                                                                                                                                                                                                                                                                          | 225/890.0 [09:22<29:33,  2.67s/it]"
     ]
    },
    {
     "name": "stdout",
     "output_type": "stream",
     "text": [
      "20.4\n",
      "80.4\n",
      "| ID | GPU | MEM |\n",
      "------------------\n",
      "|  0 |  0% | 19% |\n",
      "|  1 |  0% |  0% |\n"
     ]
    },
    {
     "name": "stderr",
     "output_type": "stream",
     "text": [
      " 25%|███████████████████████████████████████████████████████████████████████████████████████████████▉                                                                                                                                                                                                                                                                                          | 226/890.0 [09:26<31:23,  2.84s/it]"
     ]
    },
    {
     "name": "stdout",
     "output_type": "stream",
     "text": [
      "22.1\n",
      "80.4\n",
      "| ID | GPU | MEM |\n",
      "------------------\n",
      "|  0 |  0% | 19% |\n",
      "|  1 |  0% |  0% |\n"
     ]
    },
    {
     "name": "stderr",
     "output_type": "stream",
     "text": [
      " 26%|████████████████████████████████████████████████████████████████████████████████████████████████▍                                                                                                                                                                                                                                                                                         | 227/890.0 [09:28<29:43,  2.69s/it]"
     ]
    },
    {
     "name": "stdout",
     "output_type": "stream",
     "text": [
      "22.5\n",
      "80.4\n",
      "| ID | GPU | MEM |\n",
      "------------------\n",
      "|  0 |  0% | 19% |\n",
      "|  1 |  0% |  0% |\n"
     ]
    },
    {
     "name": "stderr",
     "output_type": "stream",
     "text": [
      " 26%|████████████████████████████████████████████████████████████████████████████████████████████████▊                                                                                                                                                                                                                                                                                         | 228/890.0 [09:30<28:26,  2.58s/it]"
     ]
    },
    {
     "name": "stdout",
     "output_type": "stream",
     "text": [
      "22.2\n",
      "80.4\n",
      "| ID | GPU | MEM |\n",
      "------------------\n",
      "|  0 |  0% | 19% |\n",
      "|  1 |  0% |  0% |\n"
     ]
    },
    {
     "name": "stderr",
     "output_type": "stream",
     "text": [
      " 26%|█████████████████████████████████████████████████████████████████████████████████████████████████▎                                                                                                                                                                                                                                                                                        | 229/890.0 [09:33<27:41,  2.51s/it]"
     ]
    },
    {
     "name": "stdout",
     "output_type": "stream",
     "text": [
      "21.5\n",
      "80.4\n",
      "| ID | GPU | MEM |\n",
      "------------------\n",
      "|  0 |  0% | 19% |\n",
      "|  1 |  0% |  0% |\n"
     ]
    },
    {
     "name": "stderr",
     "output_type": "stream",
     "text": [
      " 26%|█████████████████████████████████████████████████████████████████████████████████████████████████▋                                                                                                                                                                                                                                                                                        | 230/890.0 [09:35<27:26,  2.50s/it]"
     ]
    },
    {
     "name": "stdout",
     "output_type": "stream",
     "text": [
      "22.3\n",
      "80.4\n",
      "| ID | GPU | MEM |\n",
      "------------------\n",
      "|  0 |  0% | 19% |\n",
      "|  1 |  0% |  0% |\n"
     ]
    },
    {
     "name": "stderr",
     "output_type": "stream",
     "text": [
      " 26%|██████████████████████████████████████████████████████████████████████████████████████████████████                                                                                                                                                                                                                                                                                        | 231/890.0 [09:38<26:51,  2.45s/it]"
     ]
    },
    {
     "name": "stdout",
     "output_type": "stream",
     "text": [
      "22.3\n",
      "80.4\n",
      "| ID | GPU | MEM |\n",
      "------------------\n",
      "|  0 |  0% | 19% |\n",
      "|  1 |  0% |  0% |\n"
     ]
    },
    {
     "name": "stderr",
     "output_type": "stream",
     "text": [
      " 26%|██████████████████████████████████████████████████████████████████████████████████████████████████▌                                                                                                                                                                                                                                                                                       | 232/890.0 [09:40<26:31,  2.42s/it]"
     ]
    },
    {
     "name": "stdout",
     "output_type": "stream",
     "text": [
      "21.8\n",
      "80.4\n",
      "| ID | GPU | MEM |\n",
      "------------------\n",
      "|  0 |  0% | 19% |\n",
      "|  1 |  1% |  0% |\n"
     ]
    },
    {
     "name": "stderr",
     "output_type": "stream",
     "text": [
      " 26%|██████████████████████████████████████████████████████████████████████████████████████████████████▉                                                                                                                                                                                                                                                                                       | 233/890.0 [09:42<26:26,  2.41s/it]"
     ]
    },
    {
     "name": "stdout",
     "output_type": "stream",
     "text": [
      "22.5\n",
      "80.4\n",
      "| ID | GPU | MEM |\n",
      "------------------\n",
      "|  0 |  0% | 19% |\n",
      "|  1 |  0% |  0% |\n"
     ]
    },
    {
     "name": "stderr",
     "output_type": "stream",
     "text": [
      " 26%|███████████████████████████████████████████████████████████████████████████████████████████████████▍                                                                                                                                                                                                                                                                                      | 234/890.0 [09:45<26:10,  2.39s/it]"
     ]
    },
    {
     "name": "stdout",
     "output_type": "stream",
     "text": [
      "21.6\n",
      "80.4\n",
      "| ID | GPU | MEM |\n",
      "------------------\n",
      "|  0 |  0% | 19% |\n",
      "|  1 |  0% |  0% |\n"
     ]
    },
    {
     "name": "stderr",
     "output_type": "stream",
     "text": [
      " 26%|███████████████████████████████████████████████████████████████████████████████████████████████████▊                                                                                                                                                                                                                                                                                      | 235/890.0 [09:47<26:22,  2.42s/it]"
     ]
    },
    {
     "name": "stdout",
     "output_type": "stream",
     "text": [
      "22.1\n",
      "80.4\n",
      "| ID | GPU | MEM |\n",
      "------------------\n",
      "|  0 |  0% | 19% |\n",
      "|  1 |  0% |  0% |\n"
     ]
    },
    {
     "name": "stderr",
     "output_type": "stream",
     "text": [
      " 27%|████████████████████████████████████████████████████████████████████████████████████████████████████▏                                                                                                                                                                                                                                                                                     | 236/890.0 [09:49<26:08,  2.40s/it]"
     ]
    },
    {
     "name": "stdout",
     "output_type": "stream",
     "text": [
      "22.1\n",
      "80.4\n",
      "| ID | GPU | MEM |\n",
      "------------------\n",
      "|  0 |  0% | 19% |\n",
      "|  1 |  0% |  0% |\n"
     ]
    },
    {
     "name": "stderr",
     "output_type": "stream",
     "text": [
      " 27%|████████████████████████████████████████████████████████████████████████████████████████████████████▋                                                                                                                                                                                                                                                                                     | 237/890.0 [09:52<25:58,  2.39s/it]"
     ]
    },
    {
     "name": "stdout",
     "output_type": "stream",
     "text": [
      "19.9\n",
      "80.4\n",
      "| ID | GPU | MEM |\n",
      "------------------\n",
      "|  0 |  0% | 19% |\n",
      "|  1 |  0% |  0% |\n"
     ]
    },
    {
     "name": "stderr",
     "output_type": "stream",
     "text": [
      " 27%|█████████████████████████████████████████████████████████████████████████████████████████████████████                                                                                                                                                                                                                                                                                     | 238/890.0 [09:55<29:10,  2.69s/it]"
     ]
    },
    {
     "name": "stdout",
     "output_type": "stream",
     "text": [
      "21.7\n",
      "80.4\n",
      "| ID | GPU | MEM |\n",
      "------------------\n",
      "|  0 |  0% | 19% |\n",
      "|  1 |  0% |  0% |\n"
     ]
    },
    {
     "name": "stderr",
     "output_type": "stream",
     "text": [
      " 27%|█████████████████████████████████████████████████████████████████████████████████████████████████████▌                                                                                                                                                                                                                                                                                    | 239/890.0 [09:58<28:02,  2.58s/it]"
     ]
    },
    {
     "name": "stdout",
     "output_type": "stream",
     "text": [
      "21.9\n",
      "80.4\n",
      "| ID | GPU | MEM |\n",
      "------------------\n",
      "|  0 |  0% | 19% |\n",
      "|  1 |  0% |  0% |\n"
     ]
    },
    {
     "name": "stderr",
     "output_type": "stream",
     "text": [
      " 27%|█████████████████████████████████████████████████████████████████████████████████████████████████████▉                                                                                                                                                                                                                                                                                    | 240/890.0 [10:00<27:14,  2.51s/it]"
     ]
    },
    {
     "name": "stdout",
     "output_type": "stream",
     "text": [
      "19.1\n",
      "80.4\n",
      "| ID | GPU | MEM |\n",
      "------------------\n",
      "|  0 |  0% | 19% |\n",
      "|  1 |  0% |  0% |\n"
     ]
    },
    {
     "name": "stderr",
     "output_type": "stream",
     "text": [
      " 27%|██████████████████████████████████████████████████████████████████████████████████████████████████████▎                                                                                                                                                                                                                                                                                   | 241/890.0 [10:04<32:44,  3.03s/it]"
     ]
    },
    {
     "name": "stdout",
     "output_type": "stream",
     "text": [
      "21.2\n",
      "80.4\n",
      "| ID | GPU | MEM |\n",
      "------------------\n",
      "|  0 |  0% | 19% |\n",
      "|  1 |  0% |  0% |\n"
     ]
    },
    {
     "name": "stderr",
     "output_type": "stream",
     "text": [
      " 27%|██████████████████████████████████████████████████████████████████████████████████████████████████████▊                                                                                                                                                                                                                                                                                   | 242/890.0 [10:07<30:46,  2.85s/it]"
     ]
    },
    {
     "name": "stdout",
     "output_type": "stream",
     "text": [
      "21.7\n",
      "80.4\n",
      "| ID | GPU | MEM |\n",
      "------------------\n",
      "|  0 |  0% | 19% |\n",
      "|  1 |  0% |  0% |\n"
     ]
    },
    {
     "name": "stderr",
     "output_type": "stream",
     "text": [
      " 27%|███████████████████████████████████████████████████████████████████████████████████████████████████████▏                                                                                                                                                                                                                                                                                  | 243/890.0 [10:09<29:18,  2.72s/it]"
     ]
    },
    {
     "name": "stdout",
     "output_type": "stream",
     "text": [
      "21.3\n",
      "80.4\n",
      "| ID | GPU | MEM |\n",
      "------------------\n",
      "|  0 |  0% | 19% |\n",
      "|  1 |  0% |  0% |\n"
     ]
    },
    {
     "name": "stderr",
     "output_type": "stream",
     "text": [
      " 27%|███████████████████████████████████████████████████████████████████████████████████████████████████████▋                                                                                                                                                                                                                                                                                  | 244/890.0 [10:11<28:21,  2.63s/it]"
     ]
    },
    {
     "name": "stdout",
     "output_type": "stream",
     "text": [
      "20.9\n",
      "80.4\n",
      "| ID | GPU | MEM |\n",
      "------------------\n",
      "|  0 |  0% | 19% |\n",
      "|  1 |  0% |  0% |\n"
     ]
    },
    {
     "name": "stderr",
     "output_type": "stream",
     "text": [
      " 28%|████████████████████████████████████████████████████████████████████████████████████████████████████████                                                                                                                                                                                                                                                                                  | 245/890.0 [10:14<27:48,  2.59s/it]"
     ]
    },
    {
     "name": "stdout",
     "output_type": "stream",
     "text": [
      "22.5\n",
      "80.4\n",
      "| ID | GPU | MEM |\n",
      "------------------\n",
      "|  0 |  0% | 19% |\n",
      "|  1 |  0% |  0% |\n"
     ]
    },
    {
     "name": "stderr",
     "output_type": "stream",
     "text": [
      " 28%|████████████████████████████████████████████████████████████████████████████████████████████████████████▍                                                                                                                                                                                                                                                                                 | 246/890.0 [10:16<26:51,  2.50s/it]"
     ]
    },
    {
     "name": "stdout",
     "output_type": "stream",
     "text": [
      "22.0\n",
      "80.4\n",
      "| ID | GPU | MEM |\n",
      "------------------\n",
      "|  0 |  0% | 19% |\n",
      "|  1 |  0% |  0% |\n"
     ]
    },
    {
     "name": "stderr",
     "output_type": "stream",
     "text": [
      " 28%|████████████████████████████████████████████████████████████████████████████████████████████████████████▉                                                                                                                                                                                                                                                                                 | 247/890.0 [10:19<26:18,  2.46s/it]"
     ]
    },
    {
     "name": "stdout",
     "output_type": "stream",
     "text": [
      "21.7\n",
      "80.4\n",
      "| ID | GPU | MEM |\n",
      "------------------\n",
      "|  0 |  0% | 19% |\n",
      "|  1 |  0% |  0% |\n"
     ]
    },
    {
     "name": "stderr",
     "output_type": "stream",
     "text": [
      " 28%|█████████████████████████████████████████████████████████████████████████████████████████████████████████▎                                                                                                                                                                                                                                                                                | 248/890.0 [10:21<26:17,  2.46s/it]"
     ]
    },
    {
     "name": "stdout",
     "output_type": "stream",
     "text": [
      "21.9\n",
      "80.4\n",
      "| ID | GPU | MEM |\n",
      "------------------\n",
      "|  0 |  0% | 19% |\n",
      "|  1 |  0% |  0% |\n"
     ]
    },
    {
     "name": "stderr",
     "output_type": "stream",
     "text": [
      " 28%|█████████████████████████████████████████████████████████████████████████████████████████████████████████▊                                                                                                                                                                                                                                                                                | 249/890.0 [10:23<25:55,  2.43s/it]"
     ]
    },
    {
     "name": "stdout",
     "output_type": "stream",
     "text": [
      "21.9\n",
      "80.4\n",
      "| ID | GPU | MEM |\n",
      "------------------\n",
      "|  0 |  0% | 19% |\n",
      "|  1 |  0% |  0% |\n"
     ]
    },
    {
     "name": "stderr",
     "output_type": "stream",
     "text": [
      " 28%|██████████████████████████████████████████████████████████████████████████████████████████████████████████▏                                                                                                                                                                                                                                                                               | 250/890.0 [10:26<25:44,  2.41s/it]"
     ]
    },
    {
     "name": "stdout",
     "output_type": "stream",
     "text": [
      "20.0\n",
      "80.4\n",
      "| ID | GPU | MEM |\n",
      "------------------\n",
      "|  0 |  0% | 19% |\n",
      "|  1 |  0% |  0% |\n"
     ]
    },
    {
     "name": "stderr",
     "output_type": "stream",
     "text": [
      " 28%|██████████████████████████████████████████████████████████████████████████████████████████████████████████▌                                                                                                                                                                                                                                                                               | 251/890.0 [10:29<28:29,  2.68s/it]"
     ]
    },
    {
     "name": "stdout",
     "output_type": "stream",
     "text": [
      "22.7\n",
      "80.4\n",
      "| ID | GPU | MEM |\n",
      "------------------\n",
      "|  0 |  0% | 19% |\n",
      "|  1 |  0% |  0% |\n"
     ]
    },
    {
     "name": "stderr",
     "output_type": "stream",
     "text": [
      " 28%|███████████████████████████████████████████████████████████████████████████████████████████████████████████                                                                                                                                                                                                                                                                               | 252/890.0 [10:31<27:13,  2.56s/it]"
     ]
    },
    {
     "name": "stdout",
     "output_type": "stream",
     "text": [
      "22.9\n",
      "80.4\n",
      "| ID | GPU | MEM |\n",
      "------------------\n",
      "|  0 |  0% | 19% |\n",
      "|  1 |  0% |  0% |\n"
     ]
    },
    {
     "name": "stderr",
     "output_type": "stream",
     "text": [
      " 28%|███████████████████████████████████████████████████████████████████████████████████████████████████████████▍                                                                                                                                                                                                                                                                              | 253/890.0 [10:34<26:20,  2.48s/it]"
     ]
    },
    {
     "name": "stdout",
     "output_type": "stream",
     "text": [
      "22.3\n",
      "80.4\n",
      "| ID | GPU | MEM |\n",
      "------------------\n",
      "|  0 |  0% | 19% |\n",
      "|  1 |  0% |  0% |\n"
     ]
    },
    {
     "name": "stderr",
     "output_type": "stream",
     "text": [
      " 29%|███████████████████████████████████████████████████████████████████████████████████████████████████████████▉                                                                                                                                                                                                                                                                              | 254/890.0 [10:36<26:03,  2.46s/it]"
     ]
    },
    {
     "name": "stdout",
     "output_type": "stream",
     "text": [
      "22.8\n",
      "80.4\n",
      "| ID | GPU | MEM |\n",
      "------------------\n",
      "|  0 |  0% | 19% |\n",
      "|  1 |  0% |  0% |\n"
     ]
    },
    {
     "name": "stderr",
     "output_type": "stream",
     "text": [
      " 29%|████████████████████████████████████████████████████████████████████████████████████████████████████████████▎                                                                                                                                                                                                                                                                             | 255/890.0 [10:38<25:31,  2.41s/it]"
     ]
    },
    {
     "name": "stdout",
     "output_type": "stream",
     "text": [
      "22.2\n",
      "80.4\n",
      "| ID | GPU | MEM |\n",
      "------------------\n",
      "|  0 |  0% | 19% |\n",
      "|  1 |  0% |  0% |\n"
     ]
    },
    {
     "name": "stderr",
     "output_type": "stream",
     "text": [
      " 29%|████████████████████████████████████████████████████████████████████████████████████████████████████████████▋                                                                                                                                                                                                                                                                             | 256/890.0 [10:41<25:19,  2.40s/it]"
     ]
    },
    {
     "name": "stdout",
     "output_type": "stream",
     "text": [
      "22.4\n",
      "80.4\n",
      "| ID | GPU | MEM |\n",
      "------------------\n",
      "|  0 |  0% | 19% |\n",
      "|  1 |  0% |  0% |\n"
     ]
    },
    {
     "name": "stderr",
     "output_type": "stream",
     "text": [
      " 29%|█████████████████████████████████████████████████████████████████████████████████████████████████████████████▏                                                                                                                                                                                                                                                                            | 257/890.0 [10:43<25:11,  2.39s/it]"
     ]
    },
    {
     "name": "stdout",
     "output_type": "stream",
     "text": [
      "21.9\n",
      "80.4\n",
      "| ID | GPU | MEM |\n",
      "------------------\n",
      "|  0 |  0% | 19% |\n",
      "|  1 |  0% |  0% |\n"
     ]
    },
    {
     "name": "stderr",
     "output_type": "stream",
     "text": [
      " 29%|█████████████████████████████████████████████████████████████████████████████████████████████████████████████▌                                                                                                                                                                                                                                                                            | 258/890.0 [10:45<25:11,  2.39s/it]"
     ]
    },
    {
     "name": "stdout",
     "output_type": "stream",
     "text": [
      "22.9\n",
      "80.4\n",
      "| ID | GPU | MEM |\n",
      "------------------\n",
      "|  0 |  0% | 19% |\n",
      "|  1 |  0% |  0% |\n"
     ]
    },
    {
     "name": "stderr",
     "output_type": "stream",
     "text": [
      " 29%|██████████████████████████████████████████████████████████████████████████████████████████████████████████████                                                                                                                                                                                                                                                                            | 259/890.0 [10:47<23:49,  2.27s/it]"
     ]
    },
    {
     "name": "stdout",
     "output_type": "stream",
     "text": [
      "22.5\n",
      "80.4\n",
      "| ID | GPU | MEM |\n",
      "------------------\n",
      "|  0 |  0% | 19% |\n",
      "|  1 |  0% |  0% |\n"
     ]
    },
    {
     "name": "stderr",
     "output_type": "stream",
     "text": [
      " 29%|██████████████████████████████████████████████████████████████████████████████████████████████████████████████▍                                                                                                                                                                                                                                                                           | 260/890.0 [10:50<24:09,  2.30s/it]"
     ]
    },
    {
     "name": "stdout",
     "output_type": "stream",
     "text": [
      "20.8\n",
      "80.4\n",
      "| ID | GPU | MEM |\n",
      "------------------\n",
      "|  0 |  0% | 19% |\n",
      "|  1 |  0% |  0% |\n"
     ]
    },
    {
     "name": "stderr",
     "output_type": "stream",
     "text": [
      " 29%|██████████████████████████████████████████████████████████████████████████████████████████████████████████████▊                                                                                                                                                                                                                                                                           | 261/890.0 [10:53<27:04,  2.58s/it]"
     ]
    },
    {
     "name": "stdout",
     "output_type": "stream",
     "text": [
      "21.7\n",
      "80.4\n",
      "| ID | GPU | MEM |\n",
      "------------------\n",
      "|  0 |  0% | 19% |\n",
      "|  1 |  0% |  0% |\n"
     ]
    },
    {
     "name": "stderr",
     "output_type": "stream",
     "text": [
      " 29%|███████████████████████████████████████████████████████████████████████████████████████████████████████████████▎                                                                                                                                                                                                                                                                          | 262/890.0 [10:55<26:27,  2.53s/it]"
     ]
    },
    {
     "name": "stdout",
     "output_type": "stream",
     "text": [
      "18.3\n",
      "80.4\n",
      "| ID | GPU | MEM |\n",
      "------------------\n",
      "|  0 |  0% | 19% |\n",
      "|  1 |  0% |  0% |\n"
     ]
    },
    {
     "name": "stderr",
     "output_type": "stream",
     "text": [
      " 30%|███████████████████████████████████████████████████████████████████████████████████████████████████████████████▋                                                                                                                                                                                                                                                                          | 263/890.0 [11:00<32:21,  3.10s/it]"
     ]
    },
    {
     "name": "stdout",
     "output_type": "stream",
     "text": [
      "21.5\n",
      "80.4\n",
      "| ID | GPU | MEM |\n",
      "------------------\n",
      "|  0 |  0% | 19% |\n",
      "|  1 |  0% |  0% |\n"
     ]
    },
    {
     "name": "stderr",
     "output_type": "stream",
     "text": [
      " 30%|████████████████████████████████████████████████████████████████████████████████████████████████████████████████▏                                                                                                                                                                                                                                                                         | 264/890.0 [11:02<29:59,  2.88s/it]"
     ]
    },
    {
     "name": "stdout",
     "output_type": "stream",
     "text": [
      "22.0\n",
      "80.4\n",
      "| ID | GPU | MEM |\n",
      "------------------\n",
      "|  0 |  0% | 19% |\n",
      "|  1 |  0% |  0% |\n"
     ]
    },
    {
     "name": "stderr",
     "output_type": "stream",
     "text": [
      " 30%|████████████████████████████████████████████████████████████████████████████████████████████████████████████████▌                                                                                                                                                                                                                                                                         | 265/890.0 [11:05<28:23,  2.73s/it]"
     ]
    },
    {
     "name": "stdout",
     "output_type": "stream",
     "text": [
      "22.2\n",
      "80.4\n",
      "| ID | GPU | MEM |\n",
      "------------------\n",
      "|  0 |  0% | 19% |\n",
      "|  1 |  0% |  0% |\n"
     ]
    },
    {
     "name": "stderr",
     "output_type": "stream",
     "text": [
      " 30%|████████████████████████████████████████████████████████████████████████████████████████████████████████████████▉                                                                                                                                                                                                                                                                         | 266/890.0 [11:07<27:11,  2.62s/it]"
     ]
    },
    {
     "name": "stdout",
     "output_type": "stream",
     "text": [
      "22.9\n",
      "80.4\n",
      "| ID | GPU | MEM |\n",
      "------------------\n",
      "|  0 |  0% | 19% |\n",
      "|  1 |  0% |  0% |\n"
     ]
    },
    {
     "name": "stderr",
     "output_type": "stream",
     "text": [
      " 30%|█████████████████████████████████████████████████████████████████████████████████████████████████████████████████▍                                                                                                                                                                                                                                                                        | 267/890.0 [11:09<26:14,  2.53s/it]"
     ]
    },
    {
     "name": "stdout",
     "output_type": "stream",
     "text": [
      "22.5\n",
      "80.4\n",
      "| ID | GPU | MEM |\n",
      "------------------\n",
      "|  0 |  0% | 19% |\n",
      "|  1 |  0% |  0% |\n"
     ]
    },
    {
     "name": "stderr",
     "output_type": "stream",
     "text": [
      " 30%|█████████████████████████████████████████████████████████████████████████████████████████████████████████████████▊                                                                                                                                                                                                                                                                        | 268/890.0 [11:12<25:37,  2.47s/it]"
     ]
    },
    {
     "name": "stdout",
     "output_type": "stream",
     "text": [
      "22.4\n",
      "80.5\n",
      "| ID | GPU | MEM |\n",
      "------------------\n",
      "|  0 |  0% | 19% |\n",
      "|  1 |  0% |  0% |\n"
     ]
    },
    {
     "name": "stderr",
     "output_type": "stream",
     "text": [
      " 30%|██████████████████████████████████████████████████████████████████████████████████████████████████████████████████▏                                                                                                                                                                                                                                                                       | 269/890.0 [11:14<24:01,  2.32s/it]"
     ]
    },
    {
     "name": "stdout",
     "output_type": "stream",
     "text": [
      "22.2\n",
      "80.5\n",
      "| ID | GPU | MEM |\n",
      "------------------\n",
      "|  0 |  0% | 19% |\n",
      "|  1 |  0% |  0% |\n"
     ]
    },
    {
     "name": "stderr",
     "output_type": "stream",
     "text": [
      " 30%|██████████████████████████████████████████████████████████████████████████████████████████████████████████████████▋                                                                                                                                                                                                                                                                       | 270/890.0 [11:16<22:59,  2.22s/it]"
     ]
    },
    {
     "name": "stdout",
     "output_type": "stream",
     "text": [
      "22.4\n",
      "80.4\n",
      "| ID | GPU | MEM |\n",
      "------------------\n",
      "|  0 |  0% | 19% |\n",
      "|  1 |  0% |  0% |\n"
     ]
    },
    {
     "name": "stderr",
     "output_type": "stream",
     "text": [
      " 30%|███████████████████████████████████████████████████████████████████████████████████████████████████████████████████                                                                                                                                                                                                                                                                       | 271/890.0 [11:18<23:28,  2.27s/it]"
     ]
    },
    {
     "name": "stdout",
     "output_type": "stream",
     "text": [
      "22.0\n",
      "80.4\n",
      "| ID | GPU | MEM |\n",
      "------------------\n",
      "|  0 |  0% | 19% |\n",
      "|  1 |  0% |  0% |\n"
     ]
    },
    {
     "name": "stderr",
     "output_type": "stream",
     "text": [
      " 31%|███████████████████████████████████████████████████████████████████████████████████████████████████████████████████▌                                                                                                                                                                                                                                                                      | 272/890.0 [11:20<24:10,  2.35s/it]"
     ]
    },
    {
     "name": "stdout",
     "output_type": "stream",
     "text": [
      "22.0\n",
      "80.4\n",
      "| ID | GPU | MEM |\n",
      "------------------\n",
      "|  0 |  0% | 19% |\n",
      "|  1 |  0% |  0% |\n"
     ]
    },
    {
     "name": "stderr",
     "output_type": "stream",
     "text": [
      " 31%|███████████████████████████████████████████████████████████████████████████████████████████████████████████████████▉                                                                                                                                                                                                                                                                      | 273/890.0 [11:23<24:24,  2.37s/it]"
     ]
    },
    {
     "name": "stdout",
     "output_type": "stream",
     "text": [
      "22.3\n",
      "80.4\n",
      "| ID | GPU | MEM |\n",
      "------------------\n",
      "|  0 |  0% | 19% |\n",
      "|  1 |  0% |  0% |\n"
     ]
    },
    {
     "name": "stderr",
     "output_type": "stream",
     "text": [
      " 31%|████████████████████████████████████████████████████████████████████████████████████████████████████████████████████▎                                                                                                                                                                                                                                                                     | 274/890.0 [11:25<24:25,  2.38s/it]"
     ]
    },
    {
     "name": "stdout",
     "output_type": "stream",
     "text": [
      "19.3\n",
      "80.4\n",
      "| ID | GPU | MEM |\n",
      "------------------\n",
      "|  0 |  0% | 19% |\n",
      "|  1 |  0% |  0% |\n"
     ]
    },
    {
     "name": "stderr",
     "output_type": "stream",
     "text": [
      " 31%|████████████████████████████████████████████████████████████████████████████████████████████████████████████████████▊                                                                                                                                                                                                                                                                     | 275/890.0 [11:29<27:52,  2.72s/it]"
     ]
    },
    {
     "name": "stdout",
     "output_type": "stream",
     "text": [
      "22.0\n",
      "80.4\n",
      "| ID | GPU | MEM |\n",
      "------------------\n",
      "|  0 |  0% | 19% |\n",
      "|  1 |  0% |  0% |\n"
     ]
    },
    {
     "name": "stderr",
     "output_type": "stream",
     "text": [
      " 31%|█████████████████████████████████████████████████████████████████████████████████████████████████████████████████████▏                                                                                                                                                                                                                                                                    | 276/890.0 [11:31<26:46,  2.62s/it]"
     ]
    },
    {
     "name": "stdout",
     "output_type": "stream",
     "text": [
      "21.7\n",
      "80.4\n",
      "| ID | GPU | MEM |\n",
      "------------------\n",
      "|  0 |  0% | 19% |\n",
      "|  1 |  0% |  0% |\n"
     ]
    },
    {
     "name": "stderr",
     "output_type": "stream",
     "text": [
      " 31%|█████████████████████████████████████████████████████████████████████████████████████████████████████████████████████▋                                                                                                                                                                                                                                                                    | 277/890.0 [11:34<26:29,  2.59s/it]"
     ]
    },
    {
     "name": "stdout",
     "output_type": "stream",
     "text": [
      "24.6\n",
      "80.4\n",
      "| ID | GPU | MEM |\n",
      "------------------\n",
      "|  0 |  0% | 19% |\n",
      "|  1 |  0% |  0% |\n"
     ]
    },
    {
     "name": "stderr",
     "output_type": "stream",
     "text": [
      " 31%|██████████████████████████████████████████████████████████████████████████████████████████████████████████████████████                                                                                                                                                                                                                                                                    | 278/890.0 [11:36<25:04,  2.46s/it]"
     ]
    },
    {
     "name": "stdout",
     "output_type": "stream",
     "text": [
      "21.7\n",
      "80.5\n",
      "| ID | GPU | MEM |\n",
      "------------------\n",
      "|  0 |  0% | 19% |\n",
      "|  1 |  0% |  0% |\n"
     ]
    },
    {
     "name": "stderr",
     "output_type": "stream",
     "text": [
      " 31%|██████████████████████████████████████████████████████████████████████████████████████████████████████████████████████▍                                                                                                                                                                                                                                                                   | 279/890.0 [11:38<23:47,  2.34s/it]"
     ]
    },
    {
     "name": "stdout",
     "output_type": "stream",
     "text": [
      "20.4\n",
      "80.5\n",
      "| ID | GPU | MEM |\n",
      "------------------\n",
      "|  0 |  0% | 19% |\n",
      "|  1 |  0% |  0% |\n"
     ]
    },
    {
     "name": "stderr",
     "output_type": "stream",
     "text": [
      " 31%|██████████████████████████████████████████████████████████████████████████████████████████████████████████████████████▉                                                                                                                                                                                                                                                                   | 280/890.0 [11:41<26:40,  2.62s/it]"
     ]
    },
    {
     "name": "stdout",
     "output_type": "stream",
     "text": [
      "21.2\n",
      "80.5\n",
      "| ID | GPU | MEM |\n",
      "------------------\n",
      "|  0 |  0% | 19% |\n",
      "|  1 |  0% |  0% |\n"
     ]
    },
    {
     "name": "stderr",
     "output_type": "stream",
     "text": [
      " 32%|███████████████████████████████████████████████████████████████████████████████████████████████████████████████████████▎                                                                                                                                                                                                                                                                  | 281/890.0 [11:44<25:57,  2.56s/it]"
     ]
    },
    {
     "name": "stdout",
     "output_type": "stream",
     "text": [
      "21.5\n",
      "80.5\n",
      "| ID | GPU | MEM |\n",
      "------------------\n",
      "|  0 |  0% | 19% |\n",
      "|  1 |  0% |  0% |\n"
     ]
    },
    {
     "name": "stderr",
     "output_type": "stream",
     "text": [
      " 32%|███████████████████████████████████████████████████████████████████████████████████████████████████████████████████████▊                                                                                                                                                                                                                                                                  | 282/890.0 [11:46<25:26,  2.51s/it]"
     ]
    },
    {
     "name": "stdout",
     "output_type": "stream",
     "text": [
      "20.2\n",
      "80.5\n",
      "| ID | GPU | MEM |\n",
      "------------------\n",
      "|  0 |  0% | 19% |\n",
      "|  1 |  0% |  0% |\n"
     ]
    },
    {
     "name": "stderr",
     "output_type": "stream",
     "text": [
      " 32%|████████████████████████████████████████████████████████████████████████████████████████████████████████████████████████▏                                                                                                                                                                                                                                                                 | 283/890.0 [11:49<27:45,  2.74s/it]"
     ]
    },
    {
     "name": "stdout",
     "output_type": "stream",
     "text": [
      "19.4\n",
      "80.5\n",
      "| ID | GPU | MEM |\n",
      "------------------\n",
      "|  0 |  0% | 19% |\n",
      "|  1 |  0% |  0% |\n"
     ]
    },
    {
     "name": "stderr",
     "output_type": "stream",
     "text": [
      " 32%|████████████████████████████████████████████████████████████████████████████████████████████████████████████████████████▌                                                                                                                                                                                                                                                                 | 284/890.0 [11:53<29:53,  2.96s/it]"
     ]
    },
    {
     "name": "stdout",
     "output_type": "stream",
     "text": [
      "21.2\n",
      "80.5\n",
      "| ID | GPU | MEM |\n",
      "------------------\n",
      "|  0 |  0% | 19% |\n",
      "|  1 |  0% |  0% |\n"
     ]
    },
    {
     "name": "stderr",
     "output_type": "stream",
     "text": [
      " 32%|█████████████████████████████████████████████████████████████████████████████████████████████████████████████████████████                                                                                                                                                                                                                                                                 | 285/890.0 [11:55<28:26,  2.82s/it]"
     ]
    },
    {
     "name": "stdout",
     "output_type": "stream",
     "text": [
      "21.5\n",
      "80.5\n",
      "| ID | GPU | MEM |\n",
      "------------------\n",
      "|  0 |  0% | 19% |\n",
      "|  1 |  0% |  0% |\n"
     ]
    },
    {
     "name": "stderr",
     "output_type": "stream",
     "text": [
      " 32%|█████████████████████████████████████████████████████████████████████████████████████████████████████████████████████████▍                                                                                                                                                                                                                                                                | 286/890.0 [11:58<27:24,  2.72s/it]"
     ]
    },
    {
     "name": "stdout",
     "output_type": "stream",
     "text": [
      "19.4\n",
      "80.4\n",
      "| ID | GPU | MEM |\n",
      "------------------\n",
      "|  0 |  0% | 19% |\n",
      "|  1 |  0% |  0% |\n"
     ]
    },
    {
     "name": "stderr",
     "output_type": "stream",
     "text": [
      " 32%|█████████████████████████████████████████████████████████████████████████████████████████████████████████████████████████▉                                                                                                                                                                                                                                                                | 287/890.0 [12:01<29:40,  2.95s/it]"
     ]
    },
    {
     "name": "stdout",
     "output_type": "stream",
     "text": [
      "21.0\n",
      "80.5\n",
      "| ID | GPU | MEM |\n",
      "------------------\n",
      "|  0 |  0% | 19% |\n",
      "|  1 |  0% |  0% |\n"
     ]
    },
    {
     "name": "stderr",
     "output_type": "stream",
     "text": [
      " 32%|██████████████████████████████████████████████████████████████████████████████████████████████████████████████████████████▎                                                                                                                                                                                                                                                               | 288/890.0 [12:04<27:55,  2.78s/it]"
     ]
    },
    {
     "name": "stdout",
     "output_type": "stream",
     "text": [
      "19.1\n",
      "80.5\n",
      "| ID | GPU | MEM |\n",
      "------------------\n",
      "|  0 |  0% | 19% |\n",
      "|  1 |  0% |  0% |\n"
     ]
    },
    {
     "name": "stderr",
     "output_type": "stream",
     "text": [
      " 32%|██████████████████████████████████████████████████████████████████████████████████████████████████████████████████████████▋                                                                                                                                                                                                                                                               | 289/890.0 [12:07<29:50,  2.98s/it]"
     ]
    },
    {
     "name": "stdout",
     "output_type": "stream",
     "text": [
      "20.7\n",
      "80.5\n",
      "| ID | GPU | MEM |\n",
      "------------------\n",
      "|  0 |  0% | 19% |\n",
      "|  1 |  0% |  0% |\n"
     ]
    },
    {
     "name": "stderr",
     "output_type": "stream",
     "text": [
      " 33%|███████████████████████████████████████████████████████████████████████████████████████████████████████████████████████████▏                                                                                                                                                                                                                                                              | 290/890.0 [12:10<28:13,  2.82s/it]"
     ]
    },
    {
     "name": "stdout",
     "output_type": "stream",
     "text": [
      "22.1\n",
      "80.5\n",
      "| ID | GPU | MEM |\n",
      "------------------\n",
      "|  0 |  0% | 19% |\n",
      "|  1 |  0% |  0% |\n"
     ]
    },
    {
     "name": "stderr",
     "output_type": "stream",
     "text": [
      " 33%|███████████████████████████████████████████████████████████████████████████████████████████████████████████████████████████▌                                                                                                                                                                                                                                                              | 291/890.0 [12:12<26:47,  2.68s/it]"
     ]
    },
    {
     "name": "stdout",
     "output_type": "stream",
     "text": [
      "22.4\n",
      "80.5\n",
      "| ID | GPU | MEM |\n",
      "------------------\n",
      "|  0 |  0% | 19% |\n",
      "|  1 |  0% |  0% |\n"
     ]
    },
    {
     "name": "stderr",
     "output_type": "stream",
     "text": [
      " 33%|████████████████████████████████████████████████████████████████████████████████████████████████████████████████████████████                                                                                                                                                                                                                                                              | 292/890.0 [12:14<25:49,  2.59s/it]"
     ]
    },
    {
     "name": "stdout",
     "output_type": "stream",
     "text": [
      "22.2\n",
      "80.5\n",
      "| ID | GPU | MEM |\n",
      "------------------\n",
      "|  0 |  0% | 19% |\n",
      "|  1 |  0% |  0% |\n"
     ]
    },
    {
     "name": "stderr",
     "output_type": "stream",
     "text": [
      " 33%|████████████████████████████████████████████████████████████████████████████████████████████████████████████████████████████▍                                                                                                                                                                                                                                                             | 293/890.0 [12:17<25:12,  2.53s/it]"
     ]
    },
    {
     "name": "stdout",
     "output_type": "stream",
     "text": [
      "22.3\n",
      "80.5\n",
      "| ID | GPU | MEM |\n",
      "------------------\n",
      "|  0 |  0% | 19% |\n",
      "|  1 |  0% |  0% |\n"
     ]
    },
    {
     "name": "stderr",
     "output_type": "stream",
     "text": [
      " 33%|████████████████████████████████████████████████████████████████████████████████████████████████████████████████████████████▊                                                                                                                                                                                                                                                             | 294/890.0 [12:19<24:40,  2.48s/it]"
     ]
    },
    {
     "name": "stdout",
     "output_type": "stream",
     "text": [
      "20.3\n",
      "80.4\n",
      "| ID | GPU | MEM |\n",
      "------------------\n",
      "|  0 |  0% | 19% |\n",
      "|  1 |  0% |  0% |\n"
     ]
    },
    {
     "name": "stderr",
     "output_type": "stream",
     "text": [
      " 33%|█████████████████████████████████████████████████████████████████████████████████████████████████████████████████████████████▎                                                                                                                                                                                                                                                            | 295/890.0 [12:22<27:12,  2.74s/it]"
     ]
    },
    {
     "name": "stdout",
     "output_type": "stream",
     "text": [
      "21.2\n",
      "80.4\n",
      "| ID | GPU | MEM |\n",
      "------------------\n",
      "|  0 |  0% | 19% |\n",
      "|  1 |  0% |  0% |\n"
     ]
    },
    {
     "name": "stderr",
     "output_type": "stream",
     "text": [
      " 33%|█████████████████████████████████████████████████████████████████████████████████████████████████████████████████████████████▋                                                                                                                                                                                                                                                            | 296/890.0 [12:25<25:59,  2.63s/it]"
     ]
    },
    {
     "name": "stdout",
     "output_type": "stream",
     "text": [
      "19.6\n",
      "80.4\n",
      "| ID | GPU | MEM |\n",
      "------------------\n",
      "|  0 |  0% | 19% |\n",
      "|  1 |  0% |  0% |\n"
     ]
    },
    {
     "name": "stderr",
     "output_type": "stream",
     "text": [
      " 33%|██████████████████████████████████████████████████████████████████████████████████████████████████████████████████████████████▏                                                                                                                                                                                                                                                           | 297/890.0 [12:28<27:52,  2.82s/it]"
     ]
    },
    {
     "name": "stdout",
     "output_type": "stream",
     "text": [
      "21.7\n",
      "80.4\n",
      "| ID | GPU | MEM |\n",
      "------------------\n",
      "|  0 |  0% | 19% |\n",
      "|  1 |  0% |  0% |\n"
     ]
    },
    {
     "name": "stderr",
     "output_type": "stream",
     "text": [
      " 33%|██████████████████████████████████████████████████████████████████████████████████████████████████████████████████████████████▌                                                                                                                                                                                                                                                           | 298/890.0 [12:30<26:29,  2.68s/it]"
     ]
    },
    {
     "name": "stdout",
     "output_type": "stream",
     "text": [
      "21.8\n",
      "80.4\n",
      "| ID | GPU | MEM |\n",
      "------------------\n",
      "|  0 |  0% | 19% |\n",
      "|  1 |  0% |  0% |\n"
     ]
    },
    {
     "name": "stderr",
     "output_type": "stream",
     "text": [
      " 34%|██████████████████████████████████████████████████████████████████████████████████████████████████████████████████████████████▉                                                                                                                                                                                                                                                           | 299/890.0 [12:33<25:46,  2.62s/it]"
     ]
    },
    {
     "name": "stdout",
     "output_type": "stream",
     "text": [
      "22.1\n",
      "80.4\n",
      "| ID | GPU | MEM |\n",
      "------------------\n",
      "|  0 |  0% | 19% |\n",
      "|  1 |  0% |  0% |\n"
     ]
    },
    {
     "name": "stderr",
     "output_type": "stream",
     "text": [
      " 34%|███████████████████████████████████████████████████████████████████████████████████████████████████████████████████████████████▍                                                                                                                                                                                                                                                          | 300/890.0 [12:35<25:09,  2.56s/it]"
     ]
    },
    {
     "name": "stdout",
     "output_type": "stream",
     "text": [
      "22.0\n",
      "80.4\n",
      "| ID | GPU | MEM |\n",
      "------------------\n",
      "|  0 |  0% | 19% |\n",
      "|  1 |  0% |  0% |\n"
     ]
    },
    {
     "name": "stderr",
     "output_type": "stream",
     "text": [
      " 34%|███████████████████████████████████████████████████████████████████████████████████████████████████████████████████████████████▊                                                                                                                                                                                                                                                          | 301/890.0 [12:38<24:44,  2.52s/it]"
     ]
    },
    {
     "name": "stdout",
     "output_type": "stream",
     "text": [
      "22.8\n",
      "80.4\n",
      "| ID | GPU | MEM |\n",
      "------------------\n",
      "|  0 |  0% | 19% |\n",
      "|  1 |  0% |  0% |\n"
     ]
    },
    {
     "name": "stderr",
     "output_type": "stream",
     "text": [
      " 34%|████████████████████████████████████████████████████████████████████████████████████████████████████████████████████████████████▎                                                                                                                                                                                                                                                         | 302/890.0 [12:40<24:11,  2.47s/it]"
     ]
    },
    {
     "name": "stdout",
     "output_type": "stream",
     "text": [
      "21.6\n",
      "80.4\n",
      "| ID | GPU | MEM |\n",
      "------------------\n",
      "|  0 |  0% | 19% |\n",
      "|  1 |  0% |  0% |\n"
     ]
    },
    {
     "name": "stderr",
     "output_type": "stream",
     "text": [
      " 34%|████████████████████████████████████████████████████████████████████████████████████████████████████████████████████████████████▋                                                                                                                                                                                                                                                         | 303/890.0 [12:43<24:26,  2.50s/it]"
     ]
    },
    {
     "name": "stdout",
     "output_type": "stream",
     "text": [
      "22.4\n",
      "80.4\n",
      "| ID | GPU | MEM |\n",
      "------------------\n",
      "|  0 |  0% | 19% |\n",
      "|  1 |  0% |  0% |\n"
     ]
    },
    {
     "name": "stderr",
     "output_type": "stream",
     "text": [
      " 34%|█████████████████████████████████████████████████████████████████████████████████████████████████████████████████████████████████                                                                                                                                                                                                                                                         | 304/890.0 [12:45<24:02,  2.46s/it]"
     ]
    },
    {
     "name": "stdout",
     "output_type": "stream",
     "text": [
      "22.8\n",
      "80.4\n",
      "| ID | GPU | MEM |\n",
      "------------------\n",
      "|  0 |  0% | 19% |\n",
      "|  1 |  0% |  0% |\n"
     ]
    },
    {
     "name": "stderr",
     "output_type": "stream",
     "text": [
      " 34%|█████████████████████████████████████████████████████████████████████████████████████████████████████████████████████████████████▌                                                                                                                                                                                                                                                        | 305/890.0 [12:47<23:35,  2.42s/it]"
     ]
    },
    {
     "name": "stdout",
     "output_type": "stream",
     "text": [
      "22.6\n",
      "80.4\n",
      "| ID | GPU | MEM |\n",
      "------------------\n",
      "|  0 |  0% | 19% |\n",
      "|  1 |  0% |  0% |\n"
     ]
    },
    {
     "name": "stderr",
     "output_type": "stream",
     "text": [
      " 34%|█████████████████████████████████████████████████████████████████████████████████████████████████████████████████████████████████▉                                                                                                                                                                                                                                                        | 306/890.0 [12:50<23:25,  2.41s/it]"
     ]
    },
    {
     "name": "stdout",
     "output_type": "stream",
     "text": [
      "22.4\n",
      "80.4\n",
      "| ID | GPU | MEM |\n",
      "------------------\n",
      "|  0 |  0% | 19% |\n",
      "|  1 |  0% |  0% |\n"
     ]
    },
    {
     "name": "stderr",
     "output_type": "stream",
     "text": [
      " 34%|██████████████████████████████████████████████████████████████████████████████████████████████████████████████████████████████████▍                                                                                                                                                                                                                                                       | 307/890.0 [12:52<23:17,  2.40s/it]"
     ]
    },
    {
     "name": "stdout",
     "output_type": "stream",
     "text": [
      "22.5\n",
      "80.5\n",
      "| ID | GPU | MEM |\n",
      "------------------\n",
      "|  0 |  0% | 19% |\n",
      "|  1 |  0% |  0% |\n"
     ]
    },
    {
     "name": "stderr",
     "output_type": "stream",
     "text": [
      " 35%|██████████████████████████████████████████████████████████████████████████████████████████████████████████████████████████████████▊                                                                                                                                                                                                                                                       | 308/890.0 [12:54<23:04,  2.38s/it]"
     ]
    },
    {
     "name": "stdout",
     "output_type": "stream",
     "text": [
      "21.7\n",
      "80.5\n",
      "| ID | GPU | MEM |\n",
      "------------------\n",
      "|  0 |  0% | 19% |\n",
      "|  1 |  0% |  0% |\n"
     ]
    },
    {
     "name": "stderr",
     "output_type": "stream",
     "text": [
      " 35%|███████████████████████████████████████████████████████████████████████████████████████████████████████████████████████████████████▏                                                                                                                                                                                                                                                      | 309/890.0 [12:57<22:56,  2.37s/it]"
     ]
    },
    {
     "name": "stdout",
     "output_type": "stream",
     "text": [
      "22.2\n",
      "80.5\n",
      "| ID | GPU | MEM |\n",
      "------------------\n",
      "|  0 |  0% | 19% |\n",
      "|  1 |  0% |  0% |\n"
     ]
    },
    {
     "name": "stderr",
     "output_type": "stream",
     "text": [
      " 35%|███████████████████████████████████████████████████████████████████████████████████████████████████████████████████████████████████▋                                                                                                                                                                                                                                                      | 310/890.0 [12:59<22:49,  2.36s/it]"
     ]
    },
    {
     "name": "stdout",
     "output_type": "stream",
     "text": [
      "21.6\n",
      "80.5\n",
      "| ID | GPU | MEM |\n",
      "------------------\n",
      "|  0 |  0% | 19% |\n",
      "|  1 |  0% |  0% |\n"
     ]
    },
    {
     "name": "stderr",
     "output_type": "stream",
     "text": [
      " 35%|████████████████████████████████████████████████████████████████████████████████████████████████████████████████████████████████████                                                                                                                                                                                                                                                      | 311/890.0 [13:01<22:37,  2.34s/it]"
     ]
    },
    {
     "name": "stdout",
     "output_type": "stream",
     "text": [
      "21.1\n",
      "80.6\n",
      "| ID | GPU | MEM |\n",
      "------------------\n",
      "|  0 |  0% | 19% |\n",
      "|  1 |  0% |  0% |\n"
     ]
    },
    {
     "name": "stderr",
     "output_type": "stream",
     "text": [
      " 35%|████████████████████████████████████████████████████████████████████████████████████████████████████████████████████████████████████▌                                                                                                                                                                                                                                                     | 312/890.0 [13:03<21:29,  2.23s/it]"
     ]
    },
    {
     "name": "stdout",
     "output_type": "stream",
     "text": [
      "21.8\n",
      "80.5\n",
      "| ID | GPU | MEM |\n",
      "------------------\n",
      "|  0 |  0% | 19% |\n",
      "|  1 |  0% |  0% |\n"
     ]
    },
    {
     "name": "stderr",
     "output_type": "stream",
     "text": [
      " 35%|████████████████████████████████████████████████████████████████████████████████████████████████████████████████████████████████████▉                                                                                                                                                                                                                                                     | 313/890.0 [13:06<22:04,  2.29s/it]"
     ]
    },
    {
     "name": "stdout",
     "output_type": "stream",
     "text": [
      "21.6\n",
      "80.5\n",
      "| ID | GPU | MEM |\n",
      "------------------\n",
      "|  0 |  0% | 19% |\n",
      "|  1 |  0% |  0% |\n"
     ]
    },
    {
     "name": "stderr",
     "output_type": "stream",
     "text": [
      " 35%|█████████████████████████████████████████████████████████████████████████████████████████████████████████████████████████████████████▎                                                                                                                                                                                                                                                    | 314/890.0 [13:08<22:07,  2.30s/it]"
     ]
    },
    {
     "name": "stdout",
     "output_type": "stream",
     "text": [
      "21.8\n",
      "80.5\n",
      "| ID | GPU | MEM |\n",
      "------------------\n",
      "|  0 |  0% | 19% |\n",
      "|  1 |  0% |  0% |\n"
     ]
    },
    {
     "name": "stderr",
     "output_type": "stream",
     "text": [
      " 35%|█████████████████████████████████████████████████████████████████████████████████████████████████████████████████████████████████████▊                                                                                                                                                                                                                                                    | 315/890.0 [13:10<22:03,  2.30s/it]"
     ]
    },
    {
     "name": "stdout",
     "output_type": "stream",
     "text": [
      "19.2\n",
      "80.5\n",
      "| ID | GPU | MEM |\n",
      "------------------\n",
      "|  0 |  0% | 19% |\n",
      "|  1 |  0% |  0% |\n"
     ]
    },
    {
     "name": "stderr",
     "output_type": "stream",
     "text": [
      " 36%|██████████████████████████████████████████████████████████████████████████████████████████████████████████████████████████████████████▏                                                                                                                                                                                                                                                   | 316/890.0 [13:14<25:09,  2.63s/it]"
     ]
    },
    {
     "name": "stdout",
     "output_type": "stream",
     "text": [
      "19.6\n",
      "80.5\n",
      "| ID | GPU | MEM |\n",
      "------------------\n",
      "|  0 |  0% | 19% |\n",
      "|  1 |  0% |  0% |\n"
     ]
    },
    {
     "name": "stderr",
     "output_type": "stream",
     "text": [
      " 36%|██████████████████████████████████████████████████████████████████████████████████████████████████████████████████████████████████████▋                                                                                                                                                                                                                                                   | 317/890.0 [13:16<24:58,  2.62s/it]"
     ]
    },
    {
     "name": "stdout",
     "output_type": "stream",
     "text": [
      "20.4\n",
      "80.5\n",
      "| ID | GPU | MEM |\n",
      "------------------\n",
      "|  0 |  0% | 19% |\n",
      "|  1 |  0% |  0% |\n"
     ]
    },
    {
     "name": "stderr",
     "output_type": "stream",
     "text": [
      " 36%|███████████████████████████████████████████████████████████████████████████████████████████████████████████████████████████████████████                                                                                                                                                                                                                                                   | 318/890.0 [13:19<25:13,  2.65s/it]"
     ]
    },
    {
     "name": "stdout",
     "output_type": "stream",
     "text": [
      "21.6\n",
      "80.5\n",
      "| ID | GPU | MEM |\n",
      "------------------\n",
      "|  0 |  0% | 19% |\n",
      "|  1 |  0% |  0% |\n"
     ]
    },
    {
     "name": "stderr",
     "output_type": "stream",
     "text": [
      " 36%|███████████████████████████████████████████████████████████████████████████████████████████████████████████████████████████████████████▍                                                                                                                                                                                                                                                  | 319/890.0 [13:21<24:21,  2.56s/it]"
     ]
    },
    {
     "name": "stdout",
     "output_type": "stream",
     "text": [
      "21.3\n",
      "80.5\n",
      "| ID | GPU | MEM |\n",
      "------------------\n",
      "|  0 |  0% | 19% |\n",
      "|  1 |  0% |  0% |\n"
     ]
    },
    {
     "name": "stderr",
     "output_type": "stream",
     "text": [
      " 36%|███████████████████████████████████████████████████████████████████████████████████████████████████████████████████████████████████████▉                                                                                                                                                                                                                                                  | 320/890.0 [13:24<24:07,  2.54s/it]"
     ]
    },
    {
     "name": "stdout",
     "output_type": "stream",
     "text": [
      "22.3\n",
      "80.5\n",
      "| ID | GPU | MEM |\n",
      "------------------\n",
      "|  0 |  0% | 19% |\n",
      "|  1 |  0% |  0% |\n"
     ]
    },
    {
     "name": "stderr",
     "output_type": "stream",
     "text": [
      " 36%|████████████████████████████████████████████████████████████████████████████████████████████████████████████████████████████████████████▎                                                                                                                                                                                                                                                 | 321/890.0 [13:26<23:32,  2.48s/it]"
     ]
    },
    {
     "name": "stdout",
     "output_type": "stream",
     "text": [
      "21.6\n",
      "80.5\n",
      "| ID | GPU | MEM |\n",
      "------------------\n",
      "|  0 |  0% | 19% |\n",
      "|  1 |  0% |  0% |\n"
     ]
    },
    {
     "name": "stderr",
     "output_type": "stream",
     "text": [
      " 36%|████████████████████████████████████████████████████████████████████████████████████████████████████████████████████████████████████████▊                                                                                                                                                                                                                                                 | 322/890.0 [13:29<23:31,  2.48s/it]"
     ]
    },
    {
     "name": "stdout",
     "output_type": "stream",
     "text": [
      "19.1\n",
      "80.5\n",
      "| ID | GPU | MEM |\n",
      "------------------\n",
      "|  0 |  0% | 19% |\n",
      "|  1 |  0% |  0% |\n"
     ]
    },
    {
     "name": "stderr",
     "output_type": "stream",
     "text": [
      " 36%|█████████████████████████████████████████████████████████████████████████████████████████████████████████████████████████████████████████▏                                                                                                                                                                                                                                                | 323/890.0 [13:32<26:27,  2.80s/it]"
     ]
    },
    {
     "name": "stdout",
     "output_type": "stream",
     "text": [
      "20.9\n",
      "80.5\n",
      "| ID | GPU | MEM |\n",
      "------------------\n",
      "|  0 |  0% | 19% |\n",
      "|  1 |  0% |  0% |\n"
     ]
    },
    {
     "name": "stderr",
     "output_type": "stream",
     "text": [
      " 36%|█████████████████████████████████████████████████████████████████████████████████████████████████████████████████████████████████████████▌                                                                                                                                                                                                                                                | 324/890.0 [13:35<25:12,  2.67s/it]"
     ]
    },
    {
     "name": "stdout",
     "output_type": "stream",
     "text": [
      "20.8\n",
      "80.5\n",
      "| ID | GPU | MEM |\n",
      "------------------\n",
      "|  0 |  0% | 19% |\n",
      "|  1 |  0% |  0% |\n"
     ]
    },
    {
     "name": "stderr",
     "output_type": "stream",
     "text": [
      " 37%|██████████████████████████████████████████████████████████████████████████████████████████████████████████████████████████████████████████                                                                                                                                                                                                                                                | 325/890.0 [13:37<24:28,  2.60s/it]"
     ]
    },
    {
     "name": "stdout",
     "output_type": "stream",
     "text": [
      "21.1\n",
      "80.5\n",
      "| ID | GPU | MEM |\n",
      "------------------\n",
      "|  0 |  0% | 19% |\n",
      "|  1 |  0% |  0% |\n"
     ]
    },
    {
     "name": "stderr",
     "output_type": "stream",
     "text": [
      " 37%|██████████████████████████████████████████████████████████████████████████████████████████████████████████████████████████████████████████▍                                                                                                                                                                                                                                               | 326/890.0 [13:40<23:51,  2.54s/it]"
     ]
    },
    {
     "name": "stdout",
     "output_type": "stream",
     "text": [
      "21.1\n",
      "80.5\n",
      "| ID | GPU | MEM |\n",
      "------------------\n",
      "|  0 |  0% | 19% |\n",
      "|  1 |  0% |  0% |\n"
     ]
    },
    {
     "name": "stderr",
     "output_type": "stream",
     "text": [
      " 37%|██████████████████████████████████████████████████████████████████████████████████████████████████████████████████████████████████████████▉                                                                                                                                                                                                                                               | 327/890.0 [13:42<23:43,  2.53s/it]"
     ]
    },
    {
     "name": "stdout",
     "output_type": "stream",
     "text": [
      "21.8\n",
      "80.5\n",
      "| ID | GPU | MEM |\n",
      "------------------\n",
      "|  0 |  0% | 19% |\n",
      "|  1 |  0% |  0% |\n"
     ]
    },
    {
     "name": "stderr",
     "output_type": "stream",
     "text": [
      " 37%|███████████████████████████████████████████████████████████████████████████████████████████████████████████████████████████████████████████▎                                                                                                                                                                                                                                              | 328/890.0 [13:44<23:17,  2.49s/it]"
     ]
    },
    {
     "name": "stdout",
     "output_type": "stream",
     "text": [
      "22.0\n",
      "80.5\n",
      "| ID | GPU | MEM |\n",
      "------------------\n",
      "|  0 |  0% | 19% |\n",
      "|  1 |  0% |  0% |\n"
     ]
    },
    {
     "name": "stderr",
     "output_type": "stream",
     "text": [
      " 37%|███████████████████████████████████████████████████████████████████████████████████████████████████████████████████████████████████████████▋                                                                                                                                                                                                                                              | 329/890.0 [13:47<22:59,  2.46s/it]"
     ]
    },
    {
     "name": "stdout",
     "output_type": "stream",
     "text": [
      "18.8\n",
      "80.5\n",
      "| ID | GPU | MEM |\n",
      "------------------\n",
      "|  0 |  0% | 19% |\n",
      "|  1 |  0% |  0% |\n"
     ]
    },
    {
     "name": "stderr",
     "output_type": "stream",
     "text": [
      " 37%|████████████████████████████████████████████████████████████████████████████████████████████████████████████████████████████████████████████▏                                                                                                                                                                                                                                             | 330/890.0 [13:50<26:03,  2.79s/it]"
     ]
    },
    {
     "name": "stdout",
     "output_type": "stream",
     "text": [
      "21.2\n",
      "80.5\n",
      "| ID | GPU | MEM |\n",
      "------------------\n",
      "|  0 |  0% | 19% |\n",
      "|  1 |  0% |  0% |\n"
     ]
    },
    {
     "name": "stderr",
     "output_type": "stream",
     "text": [
      " 37%|████████████████████████████████████████████████████████████████████████████████████████████████████████████████████████████████████████████▌                                                                                                                                                                                                                                             | 331/890.0 [13:53<25:08,  2.70s/it]"
     ]
    },
    {
     "name": "stdout",
     "output_type": "stream",
     "text": [
      "21.2\n",
      "80.5\n",
      "| ID | GPU | MEM |\n",
      "------------------\n",
      "|  0 |  0% | 19% |\n",
      "|  1 |  0% |  0% |\n"
     ]
    },
    {
     "name": "stderr",
     "output_type": "stream",
     "text": [
      " 37%|█████████████████████████████████████████████████████████████████████████████████████████████████████████████████████████████████████████████                                                                                                                                                                                                                                             | 332/890.0 [13:55<24:27,  2.63s/it]"
     ]
    },
    {
     "name": "stdout",
     "output_type": "stream",
     "text": [
      "21.8\n",
      "80.5\n",
      "| ID | GPU | MEM |\n",
      "------------------\n",
      "|  0 |  0% | 19% |\n",
      "|  1 |  0% |  0% |\n"
     ]
    },
    {
     "name": "stderr",
     "output_type": "stream",
     "text": [
      " 37%|█████████████████████████████████████████████████████████████████████████████████████████████████████████████████████████████████████████████▍                                                                                                                                                                                                                                            | 333/890.0 [13:58<23:35,  2.54s/it]"
     ]
    },
    {
     "name": "stdout",
     "output_type": "stream",
     "text": [
      "21.1\n",
      "80.5\n",
      "| ID | GPU | MEM |\n",
      "------------------\n",
      "|  0 |  0% | 19% |\n",
      "|  1 |  0% |  0% |\n"
     ]
    },
    {
     "name": "stderr",
     "output_type": "stream",
     "text": [
      " 38%|█████████████████████████████████████████████████████████████████████████████████████████████████████████████████████████████████████████████▊                                                                                                                                                                                                                                            | 334/890.0 [14:00<23:31,  2.54s/it]"
     ]
    },
    {
     "name": "stdout",
     "output_type": "stream",
     "text": [
      "22.0\n",
      "80.5\n",
      "| ID | GPU | MEM |\n",
      "------------------\n",
      "|  0 |  0% | 19% |\n",
      "|  1 |  0% |  0% |\n"
     ]
    },
    {
     "name": "stderr",
     "output_type": "stream",
     "text": [
      " 38%|██████████████████████████████████████████████████████████████████████████████████████████████████████████████████████████████████████████████▎                                                                                                                                                                                                                                           | 335/890.0 [14:03<23:00,  2.49s/it]"
     ]
    },
    {
     "name": "stdout",
     "output_type": "stream",
     "text": [
      "21.8\n",
      "80.5\n",
      "| ID | GPU | MEM |\n",
      "------------------\n",
      "|  0 |  0% | 19% |\n",
      "|  1 |  0% |  0% |\n"
     ]
    },
    {
     "name": "stderr",
     "output_type": "stream",
     "text": [
      " 38%|██████████████████████████████████████████████████████████████████████████████████████████████████████████████████████████████████████████████▋                                                                                                                                                                                                                                           | 336/890.0 [14:05<22:43,  2.46s/it]"
     ]
    },
    {
     "name": "stdout",
     "output_type": "stream",
     "text": [
      "22.1\n",
      "80.5\n",
      "| ID | GPU | MEM |\n",
      "------------------\n",
      "|  0 |  0% | 19% |\n",
      "|  1 |  0% |  0% |\n"
     ]
    },
    {
     "name": "stderr",
     "output_type": "stream",
     "text": [
      " 38%|███████████████████████████████████████████████████████████████████████████████████████████████████████████████████████████████████████████████▏                                                                                                                                                                                                                                          | 337/890.0 [14:07<22:26,  2.43s/it]"
     ]
    },
    {
     "name": "stdout",
     "output_type": "stream",
     "text": [
      "22.3\n",
      "80.5\n",
      "| ID | GPU | MEM |\n",
      "------------------\n",
      "|  0 |  0% | 19% |\n",
      "|  1 |  0% |  0% |\n"
     ]
    },
    {
     "name": "stderr",
     "output_type": "stream",
     "text": [
      " 38%|███████████████████████████████████████████████████████████████████████████████████████████████████████████████████████████████████████████████▌                                                                                                                                                                                                                                          | 338/890.0 [14:10<22:08,  2.41s/it]"
     ]
    },
    {
     "name": "stdout",
     "output_type": "stream",
     "text": [
      "22.3\n",
      "80.5\n",
      "| ID | GPU | MEM |\n",
      "------------------\n",
      "|  0 |  0% | 19% |\n",
      "|  1 |  0% |  0% |\n"
     ]
    },
    {
     "name": "stderr",
     "output_type": "stream",
     "text": [
      " 38%|███████████████████████████████████████████████████████████████████████████████████████████████████████████████████████████████████████████████▉                                                                                                                                                                                                                                          | 339/890.0 [14:12<21:59,  2.39s/it]"
     ]
    },
    {
     "name": "stdout",
     "output_type": "stream",
     "text": [
      "22.0\n",
      "80.5\n",
      "| ID | GPU | MEM |\n",
      "------------------\n",
      "|  0 |  0% | 19% |\n",
      "|  1 |  0% |  0% |\n"
     ]
    },
    {
     "name": "stderr",
     "output_type": "stream",
     "text": [
      " 38%|████████████████████████████████████████████████████████████████████████████████████████████████████████████████████████████████████████████████▍                                                                                                                                                                                                                                         | 340/890.0 [14:14<21:56,  2.39s/it]"
     ]
    },
    {
     "name": "stdout",
     "output_type": "stream",
     "text": [
      "22.1\n",
      "80.5\n",
      "| ID | GPU | MEM |\n",
      "------------------\n",
      "|  0 |  0% | 19% |\n",
      "|  1 |  0% |  0% |\n"
     ]
    },
    {
     "name": "stderr",
     "output_type": "stream",
     "text": [
      " 38%|████████████████████████████████████████████████████████████████████████████████████████████████████████████████████████████████████████████████▊                                                                                                                                                                                                                                         | 341/890.0 [14:17<21:45,  2.38s/it]"
     ]
    },
    {
     "name": "stdout",
     "output_type": "stream",
     "text": [
      "21.5\n",
      "80.5\n",
      "| ID | GPU | MEM |\n",
      "------------------\n",
      "|  0 |  0% | 19% |\n",
      "|  1 |  0% |  0% |\n"
     ]
    },
    {
     "name": "stderr",
     "output_type": "stream",
     "text": [
      " 38%|█████████████████████████████████████████████████████████████████████████████████████████████████████████████████████████████████████████████████▎                                                                                                                                                                                                                                        | 342/890.0 [14:19<21:57,  2.40s/it]"
     ]
    },
    {
     "name": "stdout",
     "output_type": "stream",
     "text": [
      "22.1\n",
      "80.5\n",
      "| ID | GPU | MEM |\n",
      "------------------\n",
      "|  0 |  0% | 19% |\n",
      "|  1 |  0% |  0% |\n"
     ]
    },
    {
     "name": "stderr",
     "output_type": "stream",
     "text": [
      " 39%|█████████████████████████████████████████████████████████████████████████████████████████████████████████████████████████████████████████████████▋                                                                                                                                                                                                                                        | 343/890.0 [14:22<22:01,  2.42s/it]"
     ]
    },
    {
     "name": "stdout",
     "output_type": "stream",
     "text": [
      "21.2\n",
      "80.5\n",
      "| ID | GPU | MEM |\n",
      "------------------\n",
      "|  0 |  0% | 19% |\n",
      "|  1 |  0% |  0% |\n"
     ]
    },
    {
     "name": "stderr",
     "output_type": "stream",
     "text": [
      " 39%|██████████████████████████████████████████████████████████████████████████████████████████████████████████████████████████████████████████████████                                                                                                                                                                                                                                        | 344/890.0 [14:24<21:55,  2.41s/it]"
     ]
    },
    {
     "name": "stdout",
     "output_type": "stream",
     "text": [
      "21.8\n",
      "80.5\n",
      "| ID | GPU | MEM |\n",
      "------------------\n",
      "|  0 |  0% | 19% |\n",
      "|  1 |  0% |  0% |\n"
     ]
    },
    {
     "name": "stderr",
     "output_type": "stream",
     "text": [
      " 39%|██████████████████████████████████████████████████████████████████████████████████████████████████████████████████████████████████████████████████▌                                                                                                                                                                                                                                       | 345/890.0 [14:26<21:45,  2.40s/it]"
     ]
    },
    {
     "name": "stdout",
     "output_type": "stream",
     "text": [
      "22.0\n",
      "80.6\n",
      "| ID | GPU | MEM |\n",
      "------------------\n",
      "|  0 |  0% | 19% |\n",
      "|  1 |  0% |  0% |\n"
     ]
    },
    {
     "name": "stderr",
     "output_type": "stream",
     "text": [
      " 39%|██████████████████████████████████████████████████████████████████████████████████████████████████████████████████████████████████████████████████▉                                                                                                                                                                                                                                       | 346/890.0 [14:29<21:32,  2.38s/it]"
     ]
    },
    {
     "name": "stdout",
     "output_type": "stream",
     "text": [
      "21.7\n",
      "80.6\n",
      "| ID | GPU | MEM |\n",
      "------------------\n",
      "|  0 |  0% | 19% |\n",
      "|  1 |  0% |  0% |\n"
     ]
    },
    {
     "name": "stderr",
     "output_type": "stream",
     "text": [
      " 39%|███████████████████████████████████████████████████████████████████████████████████████████████████████████████████████████████████████████████████▍                                                                                                                                                                                                                                      | 347/890.0 [14:31<21:34,  2.38s/it]"
     ]
    },
    {
     "name": "stdout",
     "output_type": "stream",
     "text": [
      "21.4\n",
      "80.6\n",
      "| ID | GPU | MEM |\n",
      "------------------\n",
      "|  0 |  0% | 19% |\n",
      "|  1 |  0% |  0% |\n"
     ]
    },
    {
     "name": "stderr",
     "output_type": "stream",
     "text": [
      " 39%|███████████████████████████████████████████████████████████████████████████████████████████████████████████████████████████████████████████████████▊                                                                                                                                                                                                                                      | 348/890.0 [14:34<21:46,  2.41s/it]"
     ]
    },
    {
     "name": "stdout",
     "output_type": "stream",
     "text": [
      "21.8\n",
      "80.6\n",
      "| ID | GPU | MEM |\n",
      "------------------\n",
      "|  0 |  0% | 19% |\n",
      "|  1 |  0% |  0% |\n"
     ]
    },
    {
     "name": "stderr",
     "output_type": "stream",
     "text": [
      " 39%|████████████████████████████████████████████████████████████████████████████████████████████████████████████████████████████████████████████████████▏                                                                                                                                                                                                                                     | 349/890.0 [14:36<21:38,  2.40s/it]"
     ]
    },
    {
     "name": "stdout",
     "output_type": "stream",
     "text": [
      "22.2\n",
      "80.6\n",
      "| ID | GPU | MEM |\n",
      "------------------\n",
      "|  0 |  0% | 19% |\n",
      "|  1 |  0% |  0% |\n"
     ]
    },
    {
     "name": "stderr",
     "output_type": "stream",
     "text": [
      " 39%|████████████████████████████████████████████████████████████████████████████████████████████████████████████████████████████████████████████████████▋                                                                                                                                                                                                                                     | 350/890.0 [14:38<21:26,  2.38s/it]"
     ]
    },
    {
     "name": "stdout",
     "output_type": "stream",
     "text": [
      "21.9\n",
      "80.6\n",
      "| ID | GPU | MEM |\n",
      "------------------\n",
      "|  0 |  0% | 19% |\n",
      "|  1 |  0% |  0% |\n"
     ]
    },
    {
     "name": "stderr",
     "output_type": "stream",
     "text": [
      " 39%|█████████████████████████████████████████████████████████████████████████████████████████████████████████████████████████████████████████████████████                                                                                                                                                                                                                                     | 351/890.0 [14:41<21:18,  2.37s/it]"
     ]
    },
    {
     "name": "stdout",
     "output_type": "stream",
     "text": [
      "20.9\n",
      "80.6\n",
      "| ID | GPU | MEM |\n",
      "------------------\n",
      "|  0 |  0% | 19% |\n",
      "|  1 |  0% |  0% |\n"
     ]
    },
    {
     "name": "stderr",
     "output_type": "stream",
     "text": [
      " 40%|█████████████████████████████████████████████████████████████████████████████████████████████████████████████████████████████████████████████████████▌                                                                                                                                                                                                                                    | 352/890.0 [14:43<21:32,  2.40s/it]"
     ]
    },
    {
     "name": "stdout",
     "output_type": "stream",
     "text": [
      "21.4\n",
      "80.6\n",
      "| ID | GPU | MEM |\n",
      "------------------\n",
      "|  0 |  0% | 19% |\n",
      "|  1 |  0% |  0% |\n"
     ]
    },
    {
     "name": "stderr",
     "output_type": "stream",
     "text": [
      " 40%|█████████████████████████████████████████████████████████████████████████████████████████████████████████████████████████████████████████████████████▉                                                                                                                                                                                                                                    | 353/890.0 [14:46<21:40,  2.42s/it]"
     ]
    },
    {
     "name": "stdout",
     "output_type": "stream",
     "text": [
      "21.9\n",
      "80.6\n",
      "| ID | GPU | MEM |\n",
      "------------------\n",
      "|  0 |  0% | 19% |\n",
      "|  1 |  0% |  0% |\n"
     ]
    },
    {
     "name": "stderr",
     "output_type": "stream",
     "text": [
      " 40%|██████████████████████████████████████████████████████████████████████████████████████████████████████████████████████████████████████████████████████▎                                                                                                                                                                                                                                   | 354/890.0 [14:48<21:31,  2.41s/it]"
     ]
    },
    {
     "name": "stdout",
     "output_type": "stream",
     "text": [
      "19.2\n",
      "80.5\n",
      "| ID | GPU | MEM |\n",
      "------------------\n",
      "|  0 |  0% | 19% |\n",
      "|  1 |  0% |  0% |\n"
     ]
    },
    {
     "name": "stderr",
     "output_type": "stream",
     "text": [
      " 40%|██████████████████████████████████████████████████████████████████████████████████████████████████████████████████████████████████████████████████████▊                                                                                                                                                                                                                                   | 355/890.0 [14:52<24:18,  2.73s/it]"
     ]
    },
    {
     "name": "stdout",
     "output_type": "stream",
     "text": [
      "21.9\n",
      "80.5\n",
      "| ID | GPU | MEM |\n",
      "------------------\n",
      "|  0 |  0% | 19% |\n",
      "|  1 |  0% |  0% |\n"
     ]
    },
    {
     "name": "stderr",
     "output_type": "stream",
     "text": [
      " 40%|███████████████████████████████████████████████████████████████████████████████████████████████████████████████████████████████████████████████████████▏                                                                                                                                                                                                                                  | 356/890.0 [14:54<23:16,  2.62s/it]"
     ]
    },
    {
     "name": "stdout",
     "output_type": "stream",
     "text": [
      "22.2\n",
      "80.5\n",
      "| ID | GPU | MEM |\n",
      "------------------\n",
      "|  0 |  0% | 19% |\n",
      "|  1 |  0% |  0% |\n"
     ]
    },
    {
     "name": "stderr",
     "output_type": "stream",
     "text": [
      " 40%|███████████████████████████████████████████████████████████████████████████████████████████████████████████████████████████████████████████████████████▌                                                                                                                                                                                                                                  | 357/890.0 [14:56<22:30,  2.53s/it]"
     ]
    },
    {
     "name": "stdout",
     "output_type": "stream",
     "text": [
      "22.0\n",
      "80.5\n",
      "| ID | GPU | MEM |\n",
      "------------------\n",
      "|  0 |  0% | 19% |\n",
      "|  1 |  0% |  0% |\n"
     ]
    },
    {
     "name": "stderr",
     "output_type": "stream",
     "text": [
      " 40%|████████████████████████████████████████████████████████████████████████████████████████████████████████████████████████████████████████████████████████                                                                                                                                                                                                                                  | 358/890.0 [14:58<21:08,  2.38s/it]"
     ]
    },
    {
     "name": "stdout",
     "output_type": "stream",
     "text": [
      "21.9\n",
      "80.5\n",
      "| ID | GPU | MEM |\n",
      "------------------\n",
      "|  0 |  0% | 19% |\n",
      "|  1 |  0% |  0% |\n"
     ]
    },
    {
     "name": "stderr",
     "output_type": "stream",
     "text": [
      " 40%|████████████████████████████████████████████████████████████████████████████████████████████████████████████████████████████████████████████████████████▍                                                                                                                                                                                                                                 | 359/890.0 [15:01<21:09,  2.39s/it]"
     ]
    },
    {
     "name": "stdout",
     "output_type": "stream",
     "text": [
      "21.6\n",
      "80.5\n",
      "| ID | GPU | MEM |\n",
      "------------------\n",
      "|  0 |  0% | 19% |\n",
      "|  1 |  0% |  0% |\n"
     ]
    },
    {
     "name": "stderr",
     "output_type": "stream",
     "text": [
      " 40%|████████████████████████████████████████████████████████████████████████████████████████████████████████████████████████████████████████████████████████▉                                                                                                                                                                                                                                 | 360/890.0 [15:03<21:20,  2.42s/it]"
     ]
    },
    {
     "name": "stdout",
     "output_type": "stream",
     "text": [
      "22.0\n",
      "80.5\n",
      "| ID | GPU | MEM |\n",
      "------------------\n",
      "|  0 |  0% | 19% |\n",
      "|  1 |  0% |  0% |\n"
     ]
    },
    {
     "name": "stderr",
     "output_type": "stream",
     "text": [
      " 41%|█████████████████████████████████████████████████████████████████████████████████████████████████████████████████████████████████████████████████████████▎                                                                                                                                                                                                                                | 361/890.0 [15:06<21:25,  2.43s/it]"
     ]
    },
    {
     "name": "stdout",
     "output_type": "stream",
     "text": [
      "21.2\n",
      "80.5\n",
      "| ID | GPU | MEM |\n",
      "------------------\n",
      "|  0 |  0% | 19% |\n",
      "|  1 |  0% |  0% |\n"
     ]
    },
    {
     "name": "stderr",
     "output_type": "stream",
     "text": [
      " 41%|█████████████████████████████████████████████████████████████████████████████████████████████████████████████████████████████████████████████████████████▋                                                                                                                                                                                                                                | 362/890.0 [15:08<21:30,  2.44s/it]"
     ]
    },
    {
     "name": "stdout",
     "output_type": "stream",
     "text": [
      "19.1\n",
      "80.5\n",
      "| ID | GPU | MEM |\n",
      "------------------\n",
      "|  0 |  0% | 19% |\n",
      "|  1 |  0% |  0% |\n"
     ]
    },
    {
     "name": "stderr",
     "output_type": "stream",
     "text": [
      " 41%|██████████████████████████████████████████████████████████████████████████████████████████████████████████████████████████████████████████████████████████▏                                                                                                                                                                                                                               | 363/890.0 [15:12<24:11,  2.75s/it]"
     ]
    },
    {
     "name": "stdout",
     "output_type": "stream",
     "text": [
      "21.4\n",
      "80.5\n",
      "| ID | GPU | MEM |\n",
      "------------------\n",
      "|  0 |  0% | 19% |\n",
      "|  1 |  0% |  0% |\n"
     ]
    },
    {
     "name": "stderr",
     "output_type": "stream",
     "text": [
      " 41%|██████████████████████████████████████████████████████████████████████████████████████████████████████████████████████████████████████████████████████████▌                                                                                                                                                                                                                               | 364/890.0 [15:14<23:24,  2.67s/it]"
     ]
    },
    {
     "name": "stdout",
     "output_type": "stream",
     "text": [
      "21.9\n",
      "80.5\n",
      "| ID | GPU | MEM |\n",
      "------------------\n",
      "|  0 |  0% | 19% |\n",
      "|  1 |  0% |  0% |\n"
     ]
    },
    {
     "name": "stderr",
     "output_type": "stream",
     "text": [
      " 41%|███████████████████████████████████████████████████████████████████████████████████████████████████████████████████████████████████████████████████████████                                                                                                                                                                                                                               | 365/890.0 [15:16<22:39,  2.59s/it]"
     ]
    },
    {
     "name": "stdout",
     "output_type": "stream",
     "text": [
      "22.2\n",
      "80.5\n",
      "| ID | GPU | MEM |\n",
      "------------------\n",
      "|  0 |  0% | 19% |\n",
      "|  1 |  0% |  0% |\n"
     ]
    },
    {
     "name": "stderr",
     "output_type": "stream",
     "text": [
      " 41%|███████████████████████████████████████████████████████████████████████████████████████████████████████████████████████████████████████████████████████████▍                                                                                                                                                                                                                              | 366/890.0 [15:19<21:59,  2.52s/it]"
     ]
    },
    {
     "name": "stdout",
     "output_type": "stream",
     "text": [
      "22.4\n",
      "80.5\n",
      "| ID | GPU | MEM |\n",
      "------------------\n",
      "|  0 |  0% | 19% |\n",
      "|  1 |  0% |  0% |\n"
     ]
    },
    {
     "name": "stderr",
     "output_type": "stream",
     "text": [
      " 41%|███████████████████████████████████████████████████████████████████████████████████████████████████████████████████████████████████████████████████████████▊                                                                                                                                                                                                                              | 367/890.0 [15:21<21:32,  2.47s/it]"
     ]
    },
    {
     "name": "stdout",
     "output_type": "stream",
     "text": [
      "22.2\n",
      "80.5\n",
      "| ID | GPU | MEM |\n",
      "------------------\n",
      "|  0 |  0% | 19% |\n",
      "|  1 |  0% |  0% |\n"
     ]
    },
    {
     "name": "stderr",
     "output_type": "stream",
     "text": [
      " 41%|████████████████████████████████████████████████████████████████████████████████████████████████████████████████████████████████████████████████████████████▎                                                                                                                                                                                                                             | 368/890.0 [15:23<21:12,  2.44s/it]"
     ]
    },
    {
     "name": "stdout",
     "output_type": "stream",
     "text": [
      "21.5\n",
      "80.5\n",
      "| ID | GPU | MEM |\n",
      "------------------\n",
      "|  0 |  0% | 19% |\n",
      "|  1 |  0% |  0% |\n"
     ]
    },
    {
     "name": "stderr",
     "output_type": "stream",
     "text": [
      " 41%|████████████████████████████████████████████████████████████████████████████████████████████████████████████████████████████████████████████████████████████▋                                                                                                                                                                                                                             | 369/890.0 [15:26<21:13,  2.44s/it]"
     ]
    },
    {
     "name": "stdout",
     "output_type": "stream",
     "text": [
      "19.9\n",
      "80.5\n",
      "| ID | GPU | MEM |\n",
      "------------------\n",
      "|  0 |  0% | 19% |\n",
      "|  1 |  0% |  0% |\n"
     ]
    },
    {
     "name": "stderr",
     "output_type": "stream",
     "text": [
      " 42%|█████████████████████████████████████████████████████████████████████████████████████████████████████████████████████████████████████████████████████████████▏                                                                                                                                                                                                                            | 370/890.0 [15:29<23:01,  2.66s/it]"
     ]
    },
    {
     "name": "stdout",
     "output_type": "stream",
     "text": [
      "22.1\n",
      "80.5\n",
      "| ID | GPU | MEM |\n",
      "------------------\n",
      "|  0 |  0% | 19% |\n",
      "|  1 |  0% |  0% |\n"
     ]
    },
    {
     "name": "stderr",
     "output_type": "stream",
     "text": [
      " 42%|█████████████████████████████████████████████████████████████████████████████████████████████████████████████████████████████████████████████████████████████▌                                                                                                                                                                                                                            | 371/890.0 [15:31<22:16,  2.58s/it]"
     ]
    },
    {
     "name": "stdout",
     "output_type": "stream",
     "text": [
      "22.4\n",
      "80.5\n",
      "| ID | GPU | MEM |\n",
      "------------------\n",
      "|  0 |  0% | 19% |\n",
      "|  1 |  0% |  0% |\n"
     ]
    },
    {
     "name": "stderr",
     "output_type": "stream",
     "text": [
      " 42%|█████████████████████████████████████████████████████████████████████████████████████████████████████████████████████████████████████████████████████████████▉                                                                                                                                                                                                                            | 372/890.0 [15:34<21:50,  2.53s/it]"
     ]
    },
    {
     "name": "stdout",
     "output_type": "stream",
     "text": [
      "22.6\n",
      "80.5\n",
      "| ID | GPU | MEM |\n",
      "------------------\n",
      "|  0 |  0% | 19% |\n",
      "|  1 |  0% |  0% |\n"
     ]
    },
    {
     "name": "stderr",
     "output_type": "stream",
     "text": [
      " 42%|██████████████████████████████████████████████████████████████████████████████████████████████████████████████████████████████████████████████████████████████▍                                                                                                                                                                                                                           | 373/890.0 [15:36<21:21,  2.48s/it]"
     ]
    },
    {
     "name": "stdout",
     "output_type": "stream",
     "text": [
      "22.6\n",
      "80.5\n",
      "| ID | GPU | MEM |\n",
      "------------------\n",
      "|  0 |  0% | 19% |\n",
      "|  1 |  0% |  0% |\n"
     ]
    },
    {
     "name": "stderr",
     "output_type": "stream",
     "text": [
      " 42%|██████████████████████████████████████████████████████████████████████████████████████████████████████████████████████████████████████████████████████████████▊                                                                                                                                                                                                                           | 374/890.0 [15:39<21:02,  2.45s/it]"
     ]
    },
    {
     "name": "stdout",
     "output_type": "stream",
     "text": [
      "22.0\n",
      "80.5\n",
      "| ID | GPU | MEM |\n",
      "------------------\n",
      "|  0 |  0% | 19% |\n",
      "|  1 |  0% |  0% |\n"
     ]
    },
    {
     "name": "stderr",
     "output_type": "stream",
     "text": [
      " 42%|███████████████████████████████████████████████████████████████████████████████████████████████████████████████████████████████████████████████████████████████▎                                                                                                                                                                                                                          | 375/890.0 [15:41<21:00,  2.45s/it]"
     ]
    },
    {
     "name": "stdout",
     "output_type": "stream",
     "text": [
      "22.5\n",
      "80.5\n",
      "| ID | GPU | MEM |\n",
      "------------------\n",
      "|  0 |  0% | 19% |\n",
      "|  1 |  0% |  0% |\n"
     ]
    },
    {
     "name": "stderr",
     "output_type": "stream",
     "text": [
      " 42%|███████████████████████████████████████████████████████████████████████████████████████████████████████████████████████████████████████████████████████████████▋                                                                                                                                                                                                                          | 376/890.0 [15:43<20:45,  2.42s/it]"
     ]
    },
    {
     "name": "stdout",
     "output_type": "stream",
     "text": [
      "22.2\n",
      "80.5\n",
      "| ID | GPU | MEM |\n",
      "------------------\n",
      "|  0 |  0% | 19% |\n",
      "|  1 |  0% |  0% |\n"
     ]
    },
    {
     "name": "stderr",
     "output_type": "stream",
     "text": [
      " 42%|████████████████████████████████████████████████████████████████████████████████████████████████████████████████████████████████████████████████████████████████                                                                                                                                                                                                                          | 377/890.0 [15:46<20:49,  2.44s/it]"
     ]
    },
    {
     "name": "stdout",
     "output_type": "stream",
     "text": [
      "21.6\n",
      "80.5\n",
      "| ID | GPU | MEM |\n",
      "------------------\n",
      "|  0 |  0% | 19% |\n",
      "|  1 |  0% |  0% |\n"
     ]
    },
    {
     "name": "stderr",
     "output_type": "stream",
     "text": [
      " 42%|████████████████████████████████████████████████████████████████████████████████████████████████████████████████████████████████████████████████████████████████▌                                                                                                                                                                                                                         | 378/890.0 [15:49<21:33,  2.53s/it]"
     ]
    },
    {
     "name": "stdout",
     "output_type": "stream",
     "text": [
      "22.4\n",
      "80.5\n",
      "| ID | GPU | MEM |\n",
      "------------------\n",
      "|  0 |  0% | 19% |\n",
      "|  1 |  0% |  0% |\n"
     ]
    },
    {
     "name": "stderr",
     "output_type": "stream",
     "text": [
      " 43%|████████████████████████████████████████████████████████████████████████████████████████████████████████████████████████████████████████████████████████████████▉                                                                                                                                                                                                                         | 379/890.0 [15:51<21:09,  2.48s/it]"
     ]
    },
    {
     "name": "stdout",
     "output_type": "stream",
     "text": [
      "22.4\n",
      "80.5\n",
      "| ID | GPU | MEM |\n",
      "------------------\n",
      "|  0 |  0% | 19% |\n",
      "|  1 |  0% |  0% |\n"
     ]
    },
    {
     "name": "stderr",
     "output_type": "stream",
     "text": [
      " 43%|█████████████████████████████████████████████████████████████████████████████████████████████████████████████████████████████████████████████████████████████████▍                                                                                                                                                                                                                        | 380/890.0 [15:53<20:54,  2.46s/it]"
     ]
    },
    {
     "name": "stdout",
     "output_type": "stream",
     "text": [
      "22.2\n",
      "80.5\n",
      "| ID | GPU | MEM |\n",
      "------------------\n",
      "|  0 |  0% | 19% |\n",
      "|  1 |  0% |  0% |\n"
     ]
    },
    {
     "name": "stderr",
     "output_type": "stream",
     "text": [
      " 43%|█████████████████████████████████████████████████████████████████████████████████████████████████████████████████████████████████████████████████████████████████▊                                                                                                                                                                                                                        | 381/890.0 [15:56<20:38,  2.43s/it]"
     ]
    },
    {
     "name": "stdout",
     "output_type": "stream",
     "text": [
      "19.6\n",
      "80.5\n",
      "| ID | GPU | MEM |\n",
      "------------------\n",
      "|  0 |  0% | 19% |\n",
      "|  1 |  0% |  0% |\n"
     ]
    },
    {
     "name": "stderr",
     "output_type": "stream",
     "text": [
      " 43%|██████████████████████████████████████████████████████████████████████████████████████████████████████████████████████████████████████████████████████████████████▏                                                                                                                                                                                                                       | 382/890.0 [15:59<23:14,  2.75s/it]"
     ]
    },
    {
     "name": "stdout",
     "output_type": "stream",
     "text": [
      "19.8\n",
      "80.5\n",
      "| ID | GPU | MEM |\n",
      "------------------\n",
      "|  0 |  0% | 19% |\n",
      "|  1 |  0% |  0% |\n"
     ]
    },
    {
     "name": "stderr",
     "output_type": "stream",
     "text": [
      " 43%|██████████████████████████████████████████████████████████████████████████████████████████████████████████████████████████████████████████████████████████████████▋                                                                                                                                                                                                                       | 383/890.0 [16:03<24:31,  2.90s/it]"
     ]
    },
    {
     "name": "stdout",
     "output_type": "stream",
     "text": [
      "21.8\n",
      "80.5\n",
      "| ID | GPU | MEM |\n",
      "------------------\n",
      "|  0 |  0% | 19% |\n",
      "|  1 |  0% |  0% |\n"
     ]
    },
    {
     "name": "stderr",
     "output_type": "stream",
     "text": [
      " 43%|███████████████████████████████████████████████████████████████████████████████████████████████████████████████████████████████████████████████████████████████████                                                                                                                                                                                                                       | 384/890.0 [16:05<23:24,  2.78s/it]"
     ]
    },
    {
     "name": "stdout",
     "output_type": "stream",
     "text": [
      "22.4\n",
      "80.5\n",
      "| ID | GPU | MEM |\n",
      "------------------\n",
      "|  0 |  0% | 19% |\n",
      "|  1 |  0% |  0% |\n"
     ]
    },
    {
     "name": "stderr",
     "output_type": "stream",
     "text": [
      " 43%|███████████████████████████████████████████████████████████████████████████████████████████████████████████████████████████████████████████████████████████████████▌                                                                                                                                                                                                                      | 385/890.0 [16:07<22:17,  2.65s/it]"
     ]
    },
    {
     "name": "stdout",
     "output_type": "stream",
     "text": [
      "22.7\n",
      "80.5\n",
      "| ID | GPU | MEM |\n",
      "------------------\n",
      "|  0 |  0% | 19% |\n",
      "|  1 |  0% |  0% |\n"
     ]
    },
    {
     "name": "stderr",
     "output_type": "stream",
     "text": [
      " 43%|███████████████████████████████████████████████████████████████████████████████████████████████████████████████████████████████████████████████████████████████████▉                                                                                                                                                                                                                      | 386/890.0 [16:10<21:28,  2.56s/it]"
     ]
    },
    {
     "name": "stdout",
     "output_type": "stream",
     "text": [
      "20.1\n",
      "80.5\n",
      "| ID | GPU | MEM |\n",
      "------------------\n",
      "|  0 |  0% | 19% |\n",
      "|  1 |  0% |  0% |\n"
     ]
    },
    {
     "name": "stderr",
     "output_type": "stream",
     "text": [
      " 43%|████████████████████████████████████████████████████████████████████████████████████████████████████████████████████████████████████████████████████████████████████▎                                                                                                                                                                                                                     | 387/890.0 [16:13<23:17,  2.78s/it]"
     ]
    },
    {
     "name": "stdout",
     "output_type": "stream",
     "text": [
      "22.0\n",
      "80.5\n",
      "| ID | GPU | MEM |\n",
      "------------------\n",
      "|  0 |  0% | 19% |\n",
      "|  1 |  0% |  0% |\n"
     ]
    },
    {
     "name": "stderr",
     "output_type": "stream",
     "text": [
      " 44%|████████████████████████████████████████████████████████████████████████████████████████████████████████████████████████████████████████████████████████████████████▊                                                                                                                                                                                                                     | 388/890.0 [16:15<22:14,  2.66s/it]"
     ]
    },
    {
     "name": "stdout",
     "output_type": "stream",
     "text": [
      "22.2\n",
      "80.5\n",
      "| ID | GPU | MEM |\n",
      "------------------\n",
      "|  0 |  0% | 19% |\n",
      "|  1 |  0% |  0% |\n"
     ]
    },
    {
     "name": "stderr",
     "output_type": "stream",
     "text": [
      " 44%|█████████████████████████████████████████████████████████████████████████████████████████████████████████████████████████████████████████████████████████████████████▏                                                                                                                                                                                                                    | 389/890.0 [16:18<21:26,  2.57s/it]"
     ]
    },
    {
     "name": "stdout",
     "output_type": "stream",
     "text": [
      "19.7\n",
      "80.5\n",
      "| ID | GPU | MEM |\n",
      "------------------\n",
      "|  0 |  0% | 19% |\n",
      "|  1 |  0% |  0% |\n"
     ]
    },
    {
     "name": "stderr",
     "output_type": "stream",
     "text": [
      " 44%|█████████████████████████████████████████████████████████████████████████████████████████████████████████████████████████████████████████████████████████████████████▋                                                                                                                                                                                                                    | 390/890.0 [16:21<23:41,  2.84s/it]"
     ]
    },
    {
     "name": "stdout",
     "output_type": "stream",
     "text": [
      "21.6\n",
      "80.5\n",
      "| ID | GPU | MEM |\n",
      "------------------\n",
      "|  0 |  0% | 19% |\n",
      "|  1 |  0% |  0% |\n"
     ]
    },
    {
     "name": "stderr",
     "output_type": "stream",
     "text": [
      " 44%|██████████████████████████████████████████████████████████████████████████████████████████████████████████████████████████████████████████████████████████████████████                                                                                                                                                                                                                    | 391/890.0 [16:24<22:31,  2.71s/it]"
     ]
    },
    {
     "name": "stdout",
     "output_type": "stream",
     "text": [
      "19.4\n",
      "80.5\n",
      "| ID | GPU | MEM |\n",
      "------------------\n",
      "|  0 |  0% | 19% |\n",
      "|  1 |  0% |  0% |\n"
     ]
    },
    {
     "name": "stderr",
     "output_type": "stream",
     "text": [
      " 44%|██████████████████████████████████████████████████████████████████████████████████████████████████████████████████████████████████████████████████████████████████████▍                                                                                                                                                                                                                   | 392/890.0 [16:27<24:21,  2.93s/it]"
     ]
    },
    {
     "name": "stdout",
     "output_type": "stream",
     "text": [
      "21.9\n",
      "80.5\n",
      "| ID | GPU | MEM |\n",
      "------------------\n",
      "|  0 |  0% | 19% |\n",
      "|  1 |  0% |  0% |\n"
     ]
    },
    {
     "name": "stderr",
     "output_type": "stream",
     "text": [
      " 44%|██████████████████████████████████████████████████████████████████████████████████████████████████████████████████████████████████████████████████████████████████████▉                                                                                                                                                                                                                   | 393/890.0 [16:29<22:56,  2.77s/it]"
     ]
    },
    {
     "name": "stdout",
     "output_type": "stream",
     "text": [
      "21.6\n",
      "80.5\n",
      "| ID | GPU | MEM |\n",
      "------------------\n",
      "|  0 |  0% | 19% |\n",
      "|  1 |  0% |  0% |\n"
     ]
    },
    {
     "name": "stderr",
     "output_type": "stream",
     "text": [
      " 44%|███████████████████████████████████████████████████████████████████████████████████████████████████████████████████████████████████████████████████████████████████████▎                                                                                                                                                                                                                  | 394/890.0 [16:32<21:59,  2.66s/it]"
     ]
    },
    {
     "name": "stdout",
     "output_type": "stream",
     "text": [
      "22.1\n",
      "80.5\n",
      "| ID | GPU | MEM |\n",
      "------------------\n",
      "|  0 |  0% | 19% |\n",
      "|  1 |  0% |  0% |\n"
     ]
    },
    {
     "name": "stderr",
     "output_type": "stream",
     "text": [
      " 44%|███████████████████████████████████████████████████████████████████████████████████████████████████████████████████████████████████████████████████████████████████████▊                                                                                                                                                                                                                  | 395/890.0 [16:34<21:14,  2.58s/it]"
     ]
    },
    {
     "name": "stdout",
     "output_type": "stream",
     "text": [
      "22.2\n",
      "80.5\n",
      "| ID | GPU | MEM |\n",
      "------------------\n",
      "|  0 |  0% | 19% |\n",
      "|  1 |  0% |  0% |\n"
     ]
    },
    {
     "name": "stderr",
     "output_type": "stream",
     "text": [
      " 44%|████████████████████████████████████████████████████████████████████████████████████████████████████████████████████████████████████████████████████████████████████████▏                                                                                                                                                                                                                 | 396/890.0 [16:37<20:43,  2.52s/it]"
     ]
    },
    {
     "name": "stdout",
     "output_type": "stream",
     "text": [
      "21.8\n",
      "80.5\n",
      "| ID | GPU | MEM |\n",
      "------------------\n",
      "|  0 |  0% | 19% |\n",
      "|  1 |  0% |  0% |\n"
     ]
    },
    {
     "name": "stderr",
     "output_type": "stream",
     "text": [
      " 45%|████████████████████████████████████████████████████████████████████████████████████████████████████████████████████████████████████████████████████████████████████████▌                                                                                                                                                                                                                 | 397/890.0 [16:39<20:26,  2.49s/it]"
     ]
    },
    {
     "name": "stdout",
     "output_type": "stream",
     "text": [
      "22.2\n",
      "80.5\n",
      "| ID | GPU | MEM |\n",
      "------------------\n",
      "|  0 |  0% | 19% |\n",
      "|  1 |  0% |  0% |\n"
     ]
    },
    {
     "name": "stderr",
     "output_type": "stream",
     "text": [
      " 45%|█████████████████████████████████████████████████████████████████████████████████████████████████████████████████████████████████████████████████████████████████████████                                                                                                                                                                                                                 | 398/890.0 [16:41<20:05,  2.45s/it]"
     ]
    },
    {
     "name": "stdout",
     "output_type": "stream",
     "text": [
      "21.8\n",
      "80.5\n",
      "| ID | GPU | MEM |\n",
      "------------------\n",
      "|  0 |  0% | 19% |\n",
      "|  1 |  0% |  0% |\n"
     ]
    },
    {
     "name": "stderr",
     "output_type": "stream",
     "text": [
      " 45%|█████████████████████████████████████████████████████████████████████████████████████████████████████████████████████████████████████████████████████████████████████████▍                                                                                                                                                                                                                | 399/890.0 [16:44<19:54,  2.43s/it]"
     ]
    },
    {
     "name": "stdout",
     "output_type": "stream",
     "text": [
      "22.1\n",
      "80.5\n",
      "| ID | GPU | MEM |\n",
      "------------------\n",
      "|  0 |  0% | 19% |\n",
      "|  1 |  0% |  0% |\n"
     ]
    },
    {
     "name": "stderr",
     "output_type": "stream",
     "text": [
      " 45%|█████████████████████████████████████████████████████████████████████████████████████████████████████████████████████████████████████████████████████████████████████████▉                                                                                                                                                                                                                | 400/890.0 [16:46<19:45,  2.42s/it]"
     ]
    },
    {
     "name": "stdout",
     "output_type": "stream",
     "text": [
      "21.6\n",
      "80.5\n",
      "| ID | GPU | MEM |\n",
      "------------------\n",
      "|  0 |  0% | 19% |\n",
      "|  1 |  0% |  0% |\n"
     ]
    },
    {
     "name": "stderr",
     "output_type": "stream",
     "text": [
      " 45%|██████████████████████████████████████████████████████████████████████████████████████████████████████████████████████████████████████████████████████████████████████████▎                                                                                                                                                                                                               | 401/890.0 [16:49<19:44,  2.42s/it]"
     ]
    },
    {
     "name": "stdout",
     "output_type": "stream",
     "text": [
      "20.1\n",
      "80.6\n",
      "| ID | GPU | MEM |\n",
      "------------------\n",
      "|  0 |  0% | 19% |\n",
      "|  1 |  0% |  0% |\n"
     ]
    },
    {
     "name": "stderr",
     "output_type": "stream",
     "text": [
      " 45%|██████████████████████████████████████████████████████████████████████████████████████████████████████████████████████████████████████████████████████████████████████████▋                                                                                                                                                                                                               | 402/890.0 [16:52<21:56,  2.70s/it]"
     ]
    },
    {
     "name": "stdout",
     "output_type": "stream",
     "text": [
      "22.1\n",
      "80.6\n",
      "| ID | GPU | MEM |\n",
      "------------------\n",
      "|  0 |  0% | 19% |\n",
      "|  1 |  0% |  0% |\n"
     ]
    },
    {
     "name": "stderr",
     "output_type": "stream",
     "text": [
      " 45%|███████████████████████████████████████████████████████████████████████████████████████████████████████████████████████████████████████████████████████████████████████████▏                                                                                                                                                                                                              | 403/890.0 [16:54<21:16,  2.62s/it]"
     ]
    },
    {
     "name": "stdout",
     "output_type": "stream",
     "text": [
      "23.0\n",
      "80.6\n",
      "| ID | GPU | MEM |\n",
      "------------------\n",
      "|  0 |  0% | 19% |\n",
      "|  1 |  0% |  0% |\n"
     ]
    },
    {
     "name": "stderr",
     "output_type": "stream",
     "text": [
      " 45%|███████████████████████████████████████████████████████████████████████████████████████████████████████████████████████████████████████████████████████████████████████████▌                                                                                                                                                                                                              | 404/890.0 [16:57<21:04,  2.60s/it]"
     ]
    },
    {
     "name": "stdout",
     "output_type": "stream",
     "text": [
      "19.5\n",
      "80.5\n",
      "| ID | GPU | MEM |\n",
      "------------------\n",
      "|  0 | 31% | 20% |\n",
      "|  1 |  0% |  0% |\n"
     ]
    },
    {
     "name": "stderr",
     "output_type": "stream",
     "text": [
      " 46%|████████████████████████████████████████████████████████████████████████████████████████████████████████████████████████████████████████████████████████████████████████████                                                                                                                                                                                                              | 405/890.0 [17:00<23:09,  2.87s/it]"
     ]
    },
    {
     "name": "stdout",
     "output_type": "stream",
     "text": [
      "22.4\n",
      "80.5\n",
      "| ID | GPU | MEM |\n",
      "------------------\n",
      "|  0 |  0% | 20% |\n",
      "|  1 |  0% |  0% |\n"
     ]
    },
    {
     "name": "stderr",
     "output_type": "stream",
     "text": [
      " 46%|████████████████████████████████████████████████████████████████████████████████████████████████████████████████████████████████████████████████████████████████████████████▍                                                                                                                                                                                                             | 406/890.0 [17:03<21:55,  2.72s/it]"
     ]
    },
    {
     "name": "stdout",
     "output_type": "stream",
     "text": [
      "22.0\n",
      "80.5\n",
      "| ID | GPU | MEM |\n",
      "------------------\n",
      "|  0 |  0% | 20% |\n",
      "|  1 |  0% |  0% |\n"
     ]
    },
    {
     "name": "stderr",
     "output_type": "stream",
     "text": [
      " 46%|████████████████████████████████████████████████████████████████████████████████████████████████████████████████████████████████████████████████████████████████████████████▊                                                                                                                                                                                                             | 407/890.0 [17:05<21:06,  2.62s/it]"
     ]
    },
    {
     "name": "stdout",
     "output_type": "stream",
     "text": [
      "21.9\n",
      "80.5\n",
      "| ID | GPU | MEM |\n",
      "------------------\n",
      "|  0 |  0% | 20% |\n",
      "|  1 |  0% |  0% |\n"
     ]
    },
    {
     "name": "stderr",
     "output_type": "stream",
     "text": [
      " 46%|█████████████████████████████████████████████████████████████████████████████████████████████████████████████████████████████████████████████████████████████████████████████▎                                                                                                                                                                                                            | 408/890.0 [17:08<20:41,  2.58s/it]"
     ]
    },
    {
     "name": "stdout",
     "output_type": "stream",
     "text": [
      "20.3\n",
      "80.5\n",
      "| ID | GPU | MEM |\n",
      "------------------\n",
      "|  0 |  0% | 20% |\n",
      "|  1 |  0% |  0% |\n"
     ]
    },
    {
     "name": "stderr",
     "output_type": "stream",
     "text": [
      " 46%|█████████████████████████████████████████████████████████████████████████████████████████████████████████████████████████████████████████████████████████████████████████████▋                                                                                                                                                                                                            | 409/890.0 [17:11<22:27,  2.80s/it]"
     ]
    },
    {
     "name": "stdout",
     "output_type": "stream",
     "text": [
      "22.7\n",
      "80.5\n",
      "| ID | GPU | MEM |\n",
      "------------------\n",
      "|  0 |  7% | 20% |\n",
      "|  1 |  0% |  0% |\n"
     ]
    },
    {
     "name": "stderr",
     "output_type": "stream",
     "text": [
      " 46%|██████████████████████████████████████████████████████████████████████████████████████████████████████████████████████████████████████████████████████████████████████████████▏                                                                                                                                                                                                           | 410/890.0 [17:13<21:33,  2.69s/it]"
     ]
    },
    {
     "name": "stdout",
     "output_type": "stream",
     "text": [
      "24.5\n",
      "80.5\n",
      "| ID | GPU | MEM |\n",
      "------------------\n",
      "|  0 | 56% | 20% |\n",
      "|  1 |  0% |  0% |\n"
     ]
    },
    {
     "name": "stderr",
     "output_type": "stream",
     "text": [
      " 46%|██████████████████████████████████████████████████████████████████████████████████████████████████████████████████████████████████████████████████████████████████████████████▌                                                                                                                                                                                                           | 411/890.0 [17:16<20:42,  2.59s/it]"
     ]
    },
    {
     "name": "stdout",
     "output_type": "stream",
     "text": [
      "23.9\n",
      "80.5\n",
      "| ID | GPU | MEM |\n",
      "------------------\n",
      "|  0 |  2% | 20% |\n",
      "|  1 |  0% |  0% |\n"
     ]
    },
    {
     "name": "stderr",
     "output_type": "stream",
     "text": [
      " 46%|██████████████████████████████████████████████████████████████████████████████████████████████████████████████████████████████████████████████████████████████████████████████▉                                                                                                                                                                                                           | 412/890.0 [17:18<20:33,  2.58s/it]"
     ]
    },
    {
     "name": "stdout",
     "output_type": "stream",
     "text": [
      "21.6\n",
      "80.5\n",
      "| ID | GPU | MEM |\n",
      "------------------\n",
      "|  0 |  0% | 20% |\n",
      "|  1 |  0% |  0% |\n"
     ]
    },
    {
     "name": "stderr",
     "output_type": "stream",
     "text": [
      " 46%|███████████████████████████████████████████████████████████████████████████████████████████████████████████████████████████████████████████████████████████████████████████████▍                                                                                                                                                                                                          | 413/890.0 [17:21<20:02,  2.52s/it]"
     ]
    },
    {
     "name": "stdout",
     "output_type": "stream",
     "text": [
      "22.0\n",
      "80.5\n",
      "| ID | GPU | MEM |\n",
      "------------------\n",
      "|  0 |  0% | 20% |\n",
      "|  1 |  0% |  0% |\n"
     ]
    },
    {
     "name": "stderr",
     "output_type": "stream",
     "text": [
      " 47%|███████████████████████████████████████████████████████████████████████████████████████████████████████████████████████████████████████████████████████████████████████████████▊                                                                                                                                                                                                          | 414/890.0 [17:23<19:42,  2.48s/it]"
     ]
    },
    {
     "name": "stdout",
     "output_type": "stream",
     "text": [
      "22.4\n",
      "80.5\n",
      "| ID | GPU | MEM |\n",
      "------------------\n",
      "|  0 |  0% | 20% |\n",
      "|  1 |  0% |  0% |\n"
     ]
    },
    {
     "name": "stderr",
     "output_type": "stream",
     "text": [
      " 47%|████████████████████████████████████████████████████████████████████████████████████████████████████████████████████████████████████████████████████████████████████████████████▎                                                                                                                                                                                                         | 415/890.0 [17:25<18:27,  2.33s/it]"
     ]
    },
    {
     "name": "stdout",
     "output_type": "stream",
     "text": [
      "22.5\n",
      "80.5\n",
      "| ID | GPU | MEM |\n",
      "------------------\n",
      "|  0 |  0% | 20% |\n",
      "|  1 |  0% |  0% |\n"
     ]
    },
    {
     "name": "stderr",
     "output_type": "stream",
     "text": [
      " 47%|████████████████████████████████████████████████████████████████████████████████████████████████████████████████████████████████████████████████████████████████████████████████▋                                                                                                                                                                                                         | 416/890.0 [17:28<18:28,  2.34s/it]"
     ]
    },
    {
     "name": "stdout",
     "output_type": "stream",
     "text": [
      "19.6\n",
      "80.5\n",
      "| ID | GPU | MEM |\n",
      "------------------\n",
      "|  0 |  0% | 20% |\n",
      "|  1 |  0% |  0% |\n"
     ]
    },
    {
     "name": "stderr",
     "output_type": "stream",
     "text": [
      " 47%|█████████████████████████████████████████████████████████████████████████████████████████████████████████████████████████████████████████████████████████████████████████████████                                                                                                                                                                                                         | 417/890.0 [17:31<21:06,  2.68s/it]"
     ]
    },
    {
     "name": "stdout",
     "output_type": "stream",
     "text": [
      "21.3\n",
      "80.5\n",
      "| ID | GPU | MEM |\n",
      "------------------\n",
      "|  0 |  0% | 20% |\n",
      "|  1 |  0% |  0% |\n"
     ]
    },
    {
     "name": "stderr",
     "output_type": "stream",
     "text": [
      " 47%|█████████████████████████████████████████████████████████████████████████████████████████████████████████████████████████████████████████████████████████████████████████████████▌                                                                                                                                                                                                        | 418/890.0 [17:33<20:32,  2.61s/it]"
     ]
    },
    {
     "name": "stdout",
     "output_type": "stream",
     "text": [
      "21.9\n",
      "80.5\n",
      "| ID | GPU | MEM |\n",
      "------------------\n",
      "|  0 |  0% | 20% |\n",
      "|  1 |  0% |  0% |\n"
     ]
    },
    {
     "name": "stderr",
     "output_type": "stream",
     "text": [
      " 47%|█████████████████████████████████████████████████████████████████████████████████████████████████████████████████████████████████████████████████████████████████████████████████▉                                                                                                                                                                                                        | 419/890.0 [17:36<20:00,  2.55s/it]"
     ]
    },
    {
     "name": "stdout",
     "output_type": "stream",
     "text": [
      "21.9\n",
      "80.5\n",
      "| ID | GPU | MEM |\n",
      "------------------\n",
      "|  0 |  0% | 20% |\n",
      "|  1 |  0% |  0% |\n"
     ]
    },
    {
     "name": "stderr",
     "output_type": "stream",
     "text": [
      " 47%|██████████████████████████████████████████████████████████████████████████████████████████████████████████████████████████████████████████████████████████████████████████████████▍                                                                                                                                                                                                       | 420/890.0 [17:38<19:40,  2.51s/it]"
     ]
    },
    {
     "name": "stdout",
     "output_type": "stream",
     "text": [
      "19.2\n",
      "80.5\n",
      "| ID | GPU | MEM |\n",
      "------------------\n",
      "|  0 |  0% | 19% |\n",
      "|  1 |  0% |  0% |\n"
     ]
    },
    {
     "name": "stderr",
     "output_type": "stream",
     "text": [
      " 47%|██████████████████████████████████████████████████████████████████████████████████████████████████████████████████████████████████████████████████████████████████████████████████▊                                                                                                                                                                                                       | 421/890.0 [17:42<22:02,  2.82s/it]"
     ]
    },
    {
     "name": "stdout",
     "output_type": "stream",
     "text": [
      "21.7\n",
      "80.5\n",
      "| ID | GPU | MEM |\n",
      "------------------\n",
      "|  0 |  0% | 19% |\n",
      "|  1 |  0% |  0% |\n"
     ]
    },
    {
     "name": "stderr",
     "output_type": "stream",
     "text": [
      " 47%|███████████████████████████████████████████████████████████████████████████████████████████████████████████████████████████████████████████████████████████████████████████████████▏                                                                                                                                                                                                      | 422/890.0 [17:44<21:06,  2.71s/it]"
     ]
    },
    {
     "name": "stdout",
     "output_type": "stream",
     "text": [
      "22.1\n",
      "80.5\n",
      "| ID | GPU | MEM |\n",
      "------------------\n",
      "|  0 |  0% | 19% |\n",
      "|  1 |  0% |  0% |\n"
     ]
    },
    {
     "name": "stderr",
     "output_type": "stream",
     "text": [
      " 48%|███████████████████████████████████████████████████████████████████████████████████████████████████████████████████████████████████████████████████████████████████████████████████▋                                                                                                                                                                                                      | 423/890.0 [17:47<20:16,  2.60s/it]"
     ]
    },
    {
     "name": "stdout",
     "output_type": "stream",
     "text": [
      "22.1\n",
      "80.5\n",
      "| ID | GPU | MEM |\n",
      "------------------\n",
      "|  0 |  0% | 19% |\n",
      "|  1 |  0% |  0% |\n"
     ]
    },
    {
     "name": "stderr",
     "output_type": "stream",
     "text": [
      " 48%|████████████████████████████████████████████████████████████████████████████████████████████████████████████████████████████████████████████████████████████████████████████████████                                                                                                                                                                                                      | 424/890.0 [17:49<19:38,  2.53s/it]"
     ]
    },
    {
     "name": "stdout",
     "output_type": "stream",
     "text": [
      "22.1\n",
      "80.5\n",
      "| ID | GPU | MEM |\n",
      "------------------\n",
      "|  0 |  0% | 19% |\n",
      "|  1 |  0% |  0% |\n"
     ]
    },
    {
     "name": "stderr",
     "output_type": "stream",
     "text": [
      " 48%|████████████████████████████████████████████████████████████████████████████████████████████████████████████████████████████████████████████████████████████████████████████████████▌                                                                                                                                                                                                     | 425/890.0 [17:51<19:11,  2.48s/it]"
     ]
    },
    {
     "name": "stdout",
     "output_type": "stream",
     "text": [
      "21.7\n",
      "80.5\n",
      "| ID | GPU | MEM |\n",
      "------------------\n",
      "|  0 |  0% | 19% |\n",
      "|  1 |  0% |  0% |\n"
     ]
    },
    {
     "name": "stderr",
     "output_type": "stream",
     "text": [
      " 48%|████████████████████████████████████████████████████████████████████████████████████████████████████████████████████████████████████████████████████████████████████████████████████▉                                                                                                                                                                                                     | 426/890.0 [17:54<18:59,  2.46s/it]"
     ]
    },
    {
     "name": "stdout",
     "output_type": "stream",
     "text": [
      "22.1\n",
      "80.5\n",
      "| ID | GPU | MEM |\n",
      "------------------\n",
      "|  0 |  0% | 19% |\n",
      "|  1 |  0% |  0% |\n"
     ]
    },
    {
     "name": "stderr",
     "output_type": "stream",
     "text": [
      " 48%|█████████████████████████████████████████████████████████████████████████████████████████████████████████████████████████████████████████████████████████████████████████████████████▎                                                                                                                                                                                                    | 427/890.0 [17:56<18:45,  2.43s/it]"
     ]
    },
    {
     "name": "stdout",
     "output_type": "stream",
     "text": [
      "21.7\n",
      "80.5\n",
      "| ID | GPU | MEM |\n",
      "------------------\n",
      "|  0 |  0% | 19% |\n",
      "|  1 |  0% |  0% |\n"
     ]
    },
    {
     "name": "stderr",
     "output_type": "stream",
     "text": [
      " 48%|█████████████████████████████████████████████████████████████████████████████████████████████████████████████████████████████████████████████████████████████████████████████████████▊                                                                                                                                                                                                    | 428/890.0 [17:58<18:38,  2.42s/it]"
     ]
    },
    {
     "name": "stdout",
     "output_type": "stream",
     "text": [
      "21.9\n",
      "80.5\n",
      "| ID | GPU | MEM |\n",
      "------------------\n",
      "|  0 |  0% | 19% |\n",
      "|  1 |  0% |  0% |\n"
     ]
    },
    {
     "name": "stderr",
     "output_type": "stream",
     "text": [
      " 48%|██████████████████████████████████████████████████████████████████████████████████████████████████████████████████████████████████████████████████████████████████████████████████████▏                                                                                                                                                                                                   | 429/890.0 [18:01<17:42,  2.30s/it]"
     ]
    },
    {
     "name": "stdout",
     "output_type": "stream",
     "text": [
      "22.7\n",
      "80.5\n",
      "| ID | GPU | MEM |\n",
      "------------------\n",
      "|  0 |  0% | 19% |\n",
      "|  1 |  0% |  0% |\n"
     ]
    },
    {
     "name": "stderr",
     "output_type": "stream",
     "text": [
      " 48%|██████████████████████████████████████████████████████████████████████████████████████████████████████████████████████████████████████████████████████████████████████████████████████▋                                                                                                                                                                                                   | 430/890.0 [18:03<17:45,  2.32s/it]"
     ]
    },
    {
     "name": "stdout",
     "output_type": "stream",
     "text": [
      "19.5\n",
      "80.5\n",
      "| ID | GPU | MEM |\n",
      "------------------\n",
      "|  0 |  0% | 19% |\n",
      "|  1 |  0% |  0% |\n"
     ]
    },
    {
     "name": "stderr",
     "output_type": "stream",
     "text": [
      " 48%|███████████████████████████████████████████████████████████████████████████████████████████████████████████████████████████████████████████████████████████████████████████████████████                                                                                                                                                                                                   | 431/890.0 [18:06<20:15,  2.65s/it]"
     ]
    },
    {
     "name": "stdout",
     "output_type": "stream",
     "text": [
      "21.6\n",
      "80.5\n",
      "| ID | GPU | MEM |\n",
      "------------------\n",
      "|  0 |  0% | 19% |\n",
      "|  1 |  0% |  0% |\n"
     ]
    },
    {
     "name": "stderr",
     "output_type": "stream",
     "text": [
      " 49%|███████████████████████████████████████████████████████████████████████████████████████████████████████████████████████████████████████████████████████████████████████████████████████▍                                                                                                                                                                                                  | 432/890.0 [18:09<19:41,  2.58s/it]"
     ]
    },
    {
     "name": "stdout",
     "output_type": "stream",
     "text": [
      "19.5\n",
      "80.5\n",
      "| ID | GPU | MEM |\n",
      "------------------\n",
      "|  0 |  0% | 19% |\n",
      "|  1 |  0% |  0% |\n"
     ]
    },
    {
     "name": "stderr",
     "output_type": "stream",
     "text": [
      " 49%|███████████████████████████████████████████████████████████████████████████████████████████████████████████████████████████████████████████████████████████████████████████████████████▉                                                                                                                                                                                                  | 433/890.0 [18:12<21:39,  2.84s/it]"
     ]
    },
    {
     "name": "stdout",
     "output_type": "stream",
     "text": [
      "21.6\n",
      "80.5\n",
      "| ID | GPU | MEM |\n",
      "------------------\n",
      "|  0 |  0% | 19% |\n",
      "|  1 |  0% |  0% |\n"
     ]
    },
    {
     "name": "stderr",
     "output_type": "stream",
     "text": [
      " 49%|████████████████████████████████████████████████████████████████████████████████████████████████████████████████████████████████████████████████████████████████████████████████████████▎                                                                                                                                                                                                 | 434/890.0 [18:15<20:38,  2.72s/it]"
     ]
    },
    {
     "name": "stdout",
     "output_type": "stream",
     "text": [
      "22.0\n",
      "80.5\n",
      "| ID | GPU | MEM |\n",
      "------------------\n",
      "|  0 |  0% | 19% |\n",
      "|  1 |  0% |  0% |\n"
     ]
    },
    {
     "name": "stderr",
     "output_type": "stream",
     "text": [
      " 49%|████████████████████████████████████████████████████████████████████████████████████████████████████████████████████████████████████████████████████████████████████████████████████████▊                                                                                                                                                                                                 | 435/890.0 [18:17<19:49,  2.62s/it]"
     ]
    },
    {
     "name": "stdout",
     "output_type": "stream",
     "text": [
      "19.6\n",
      "80.5\n",
      "| ID | GPU | MEM |\n",
      "------------------\n",
      "|  0 |  0% | 19% |\n",
      "|  1 |  0% |  0% |\n"
     ]
    },
    {
     "name": "stderr",
     "output_type": "stream",
     "text": [
      " 49%|█████████████████████████████████████████████████████████████████████████████████████████████████████████████████████████████████████████████████████████████████████████████████████████▏                                                                                                                                                                                                | 436/890.0 [18:20<21:45,  2.88s/it]"
     ]
    },
    {
     "name": "stdout",
     "output_type": "stream",
     "text": [
      "19.3\n",
      "80.5\n",
      "| ID | GPU | MEM |\n",
      "------------------\n",
      "|  0 |  0% | 19% |\n",
      "|  1 |  0% |  0% |\n"
     ]
    },
    {
     "name": "stderr",
     "output_type": "stream",
     "text": [
      " 49%|█████████████████████████████████████████████████████████████████████████████████████████████████████████████████████████████████████████████████████████████████████████████████████████▌                                                                                                                                                                                                | 437/890.0 [18:24<23:00,  3.05s/it]"
     ]
    },
    {
     "name": "stdout",
     "output_type": "stream",
     "text": [
      "21.8\n",
      "80.5\n",
      "| ID | GPU | MEM |\n",
      "------------------\n",
      "|  0 |  0% | 19% |\n",
      "|  1 |  0% |  0% |\n"
     ]
    },
    {
     "name": "stderr",
     "output_type": "stream",
     "text": [
      " 49%|██████████████████████████████████████████████████████████████████████████████████████████████████████████████████████████████████████████████████████████████████████████████████████████                                                                                                                                                                                                | 438/890.0 [18:26<21:24,  2.84s/it]"
     ]
    },
    {
     "name": "stdout",
     "output_type": "stream",
     "text": [
      "21.3\n",
      "80.5\n",
      "| ID | GPU | MEM |\n",
      "------------------\n",
      "|  0 |  0% | 19% |\n",
      "|  1 |  0% |  0% |\n"
     ]
    },
    {
     "name": "stderr",
     "output_type": "stream",
     "text": [
      " 49%|██████████████████████████████████████████████████████████████████████████████████████████████████████████████████████████████████████████████████████████████████████████████████████████▍                                                                                                                                                                                               | 439/890.0 [18:29<20:37,  2.74s/it]"
     ]
    },
    {
     "name": "stdout",
     "output_type": "stream",
     "text": [
      "22.3\n",
      "80.5\n",
      "| ID | GPU | MEM |\n",
      "------------------\n",
      "|  0 |  0% | 19% |\n",
      "|  1 |  0% |  0% |\n"
     ]
    },
    {
     "name": "stderr",
     "output_type": "stream",
     "text": [
      " 49%|██████████████████████████████████████████████████████████████████████████████████████████████████████████████████████████████████████████████████████████████████████████████████████████▉                                                                                                                                                                                               | 440/890.0 [18:31<18:47,  2.51s/it]"
     ]
    },
    {
     "name": "stdout",
     "output_type": "stream",
     "text": [
      "22.5\n",
      "80.5\n",
      "| ID | GPU | MEM |\n",
      "------------------\n",
      "|  0 |  0% | 19% |\n",
      "|  1 |  0% |  0% |\n"
     ]
    },
    {
     "name": "stderr",
     "output_type": "stream",
     "text": [
      " 50%|███████████████████████████████████████████████████████████████████████████████████████████████████████████████████████████████████████████████████████████████████████████████████████████▎                                                                                                                                                                                              | 441/890.0 [18:33<18:22,  2.46s/it]"
     ]
    },
    {
     "name": "stdout",
     "output_type": "stream",
     "text": [
      "22.9\n",
      "80.5\n",
      "| ID | GPU | MEM |\n",
      "------------------\n",
      "|  0 |  0% | 19% |\n",
      "|  1 |  0% |  0% |\n"
     ]
    },
    {
     "name": "stderr",
     "output_type": "stream",
     "text": [
      " 50%|███████████████████████████████████████████████████████████████████████████████████████████████████████████████████████████████████████████████████████████████████████████████████████████▋                                                                                                                                                                                              | 442/890.0 [18:35<18:03,  2.42s/it]"
     ]
    },
    {
     "name": "stdout",
     "output_type": "stream",
     "text": [
      "23.0\n",
      "80.5\n",
      "| ID | GPU | MEM |\n",
      "------------------\n",
      "|  0 |  0% | 19% |\n",
      "|  1 |  0% |  0% |\n"
     ]
    },
    {
     "name": "stderr",
     "output_type": "stream",
     "text": [
      " 50%|████████████████████████████████████████████████████████████████████████████████████████████████████████████████████████████████████████████████████████████████████████████████████████████▏                                                                                                                                                                                             | 443/890.0 [18:38<17:51,  2.40s/it]"
     ]
    },
    {
     "name": "stdout",
     "output_type": "stream",
     "text": [
      "22.4\n",
      "80.6\n",
      "| ID | GPU | MEM |\n",
      "------------------\n",
      "|  0 |  0% | 19% |\n",
      "|  1 |  0% |  0% |\n"
     ]
    },
    {
     "name": "stderr",
     "output_type": "stream",
     "text": [
      " 50%|████████████████████████████████████████████████████████████████████████████████████████████████████████████████████████████████████████████████████████████████████████████████████████████▌                                                                                                                                                                                             | 444/890.0 [18:40<16:54,  2.27s/it]"
     ]
    },
    {
     "name": "stdout",
     "output_type": "stream",
     "text": [
      "22.1\n",
      "80.6\n",
      "| ID | GPU | MEM |\n",
      "------------------\n",
      "|  0 |  0% | 19% |\n",
      "|  1 |  0% |  0% |\n"
     ]
    },
    {
     "name": "stderr",
     "output_type": "stream",
     "text": [
      " 50%|█████████████████████████████████████████████████████████████████████████████████████████████████████████████████████████████████████████████████████████████████████████████████████████████                                                                                                                                                                                             | 445/890.0 [18:42<17:13,  2.32s/it]"
     ]
    },
    {
     "name": "stdout",
     "output_type": "stream",
     "text": [
      "22.4\n",
      "80.6\n",
      "| ID | GPU | MEM |\n",
      "------------------\n",
      "|  0 |  0% | 19% |\n",
      "|  1 |  0% |  0% |\n"
     ]
    },
    {
     "name": "stderr",
     "output_type": "stream",
     "text": [
      " 50%|█████████████████████████████████████████████████████████████████████████████████████████████████████████████████████████████████████████████████████████████████████████████████████████████▍                                                                                                                                                                                            | 446/890.0 [18:45<17:19,  2.34s/it]"
     ]
    },
    {
     "name": "stdout",
     "output_type": "stream",
     "text": [
      "22.0\n",
      "80.6\n",
      "| ID | GPU | MEM |\n",
      "------------------\n",
      "|  0 |  0% | 19% |\n",
      "|  1 |  0% |  0% |\n"
     ]
    },
    {
     "name": "stderr",
     "output_type": "stream",
     "text": [
      " 50%|█████████████████████████████████████████████████████████████████████████████████████████████████████████████████████████████████████████████████████████████████████████████████████████████▊                                                                                                                                                                                            | 447/890.0 [18:47<18:12,  2.47s/it]"
     ]
    },
    {
     "name": "stdout",
     "output_type": "stream",
     "text": [
      "22.6\n",
      "80.6\n",
      "| ID | GPU | MEM |\n",
      "------------------\n",
      "|  0 |  0% | 19% |\n",
      "|  1 |  0% |  0% |\n"
     ]
    },
    {
     "name": "stderr",
     "output_type": "stream",
     "text": [
      " 50%|██████████████████████████████████████████████████████████████████████████████████████████████████████████████████████████████████████████████████████████████████████████████████████████████▎                                                                                                                                                                                           | 448/890.0 [18:50<17:56,  2.44s/it]"
     ]
    },
    {
     "name": "stdout",
     "output_type": "stream",
     "text": [
      "22.1\n",
      "80.6\n",
      "| ID | GPU | MEM |\n",
      "------------------\n",
      "|  0 |  0% | 19% |\n",
      "|  1 |  0% |  0% |\n"
     ]
    },
    {
     "name": "stderr",
     "output_type": "stream",
     "text": [
      " 50%|██████████████████████████████████████████████████████████████████████████████████████████████████████████████████████████████████████████████████████████████████████████████████████████████▋                                                                                                                                                                                           | 449/890.0 [18:52<17:49,  2.42s/it]"
     ]
    },
    {
     "name": "stdout",
     "output_type": "stream",
     "text": [
      "19.4\n",
      "80.6\n",
      "| ID | GPU | MEM |\n",
      "------------------\n",
      "|  0 |  0% | 19% |\n",
      "|  1 |  0% |  0% |\n"
     ]
    },
    {
     "name": "stderr",
     "output_type": "stream",
     "text": [
      " 51%|███████████████████████████████████████████████████████████████████████████████████████████████████████████████████████████████████████████████████████████████████████████████████████████████                                                                                                                                                                                           | 450/890.0 [18:56<20:13,  2.76s/it]"
     ]
    },
    {
     "name": "stdout",
     "output_type": "stream",
     "text": [
      "21.9\n",
      "80.6\n",
      "| ID | GPU | MEM |\n",
      "------------------\n",
      "|  0 |  0% | 19% |\n",
      "|  1 |  0% |  0% |\n"
     ]
    },
    {
     "name": "stderr",
     "output_type": "stream",
     "text": [
      " 51%|███████████████████████████████████████████████████████████████████████████████████████████████████████████████████████████████████████████████████████████████████████████████████████████████▌                                                                                                                                                                                          | 451/890.0 [18:58<19:24,  2.65s/it]"
     ]
    },
    {
     "name": "stdout",
     "output_type": "stream",
     "text": [
      "21.7\n",
      "80.6\n",
      "| ID | GPU | MEM |\n",
      "------------------\n",
      "|  0 |  0% | 19% |\n",
      "|  1 |  0% |  0% |\n"
     ]
    },
    {
     "name": "stderr",
     "output_type": "stream",
     "text": [
      " 51%|███████████████████████████████████████████████████████████████████████████████████████████████████████████████████████████████████████████████████████████████████████████████████████████████▉                                                                                                                                                                                          | 452/890.0 [19:00<18:50,  2.58s/it]"
     ]
    },
    {
     "name": "stdout",
     "output_type": "stream",
     "text": [
      "19.3\n",
      "80.6\n",
      "| ID | GPU | MEM |\n",
      "------------------\n",
      "|  0 |  0% | 19% |\n",
      "|  1 |  0% |  0% |\n"
     ]
    },
    {
     "name": "stderr",
     "output_type": "stream",
     "text": [
      " 51%|████████████████████████████████████████████████████████████████████████████████████████████████████████████████████████████████████████████████████████████████████████████████████████████████▍                                                                                                                                                                                         | 453/890.0 [19:04<20:45,  2.85s/it]"
     ]
    },
    {
     "name": "stdout",
     "output_type": "stream",
     "text": [
      "22.0\n",
      "80.6\n",
      "| ID | GPU | MEM |\n",
      "------------------\n",
      "|  0 |  0% | 19% |\n",
      "|  1 |  0% |  0% |\n"
     ]
    },
    {
     "name": "stderr",
     "output_type": "stream",
     "text": [
      " 51%|████████████████████████████████████████████████████████████████████████████████████████████████████████████████████████████████████████████████████████████████████████████████████████████████▊                                                                                                                                                                                         | 454/890.0 [19:06<19:41,  2.71s/it]"
     ]
    },
    {
     "name": "stdout",
     "output_type": "stream",
     "text": [
      "22.2\n",
      "80.6\n",
      "| ID | GPU | MEM |\n",
      "------------------\n",
      "|  0 |  0% | 19% |\n",
      "|  1 |  0% |  0% |\n"
     ]
    },
    {
     "name": "stderr",
     "output_type": "stream",
     "text": [
      " 51%|█████████████████████████████████████████████████████████████████████████████████████████████████████████████████████████████████████████████████████████████████████████████████████████████████▏                                                                                                                                                                                        | 455/890.0 [19:09<18:56,  2.61s/it]"
     ]
    },
    {
     "name": "stdout",
     "output_type": "stream",
     "text": [
      "22.1\n",
      "80.6\n",
      "| ID | GPU | MEM |\n",
      "------------------\n",
      "|  0 |  0% | 19% |\n",
      "|  1 |  0% |  0% |\n"
     ]
    },
    {
     "name": "stderr",
     "output_type": "stream",
     "text": [
      " 51%|█████████████████████████████████████████████████████████████████████████████████████████████████████████████████████████████████████████████████████████████████████████████████████████████████▋                                                                                                                                                                                        | 456/890.0 [19:11<18:23,  2.54s/it]"
     ]
    },
    {
     "name": "stdout",
     "output_type": "stream",
     "text": [
      "21.9\n",
      "80.6\n",
      "| ID | GPU | MEM |\n",
      "------------------\n",
      "|  0 |  0% | 19% |\n",
      "|  1 |  0% |  0% |\n"
     ]
    },
    {
     "name": "stderr",
     "output_type": "stream",
     "text": [
      " 51%|██████████████████████████████████████████████████████████████████████████████████████████████████████████████████████████████████████████████████████████████████████████████████████████████████                                                                                                                                                                                        | 457/890.0 [19:13<17:13,  2.39s/it]"
     ]
    },
    {
     "name": "stdout",
     "output_type": "stream",
     "text": [
      "22.6\n",
      "80.6\n",
      "| ID | GPU | MEM |\n",
      "------------------\n",
      "|  0 |  0% | 19% |\n",
      "|  1 |  0% |  0% |\n"
     ]
    },
    {
     "name": "stderr",
     "output_type": "stream",
     "text": [
      " 51%|██████████████████████████████████████████████████████████████████████████████████████████████████████████████████████████████████████████████████████████████████████████████████████████████████▌                                                                                                                                                                                       | 458/890.0 [19:15<17:07,  2.38s/it]"
     ]
    },
    {
     "name": "stdout",
     "output_type": "stream",
     "text": [
      "22.5\n",
      "80.6\n",
      "| ID | GPU | MEM |\n",
      "------------------\n",
      "|  0 |  0% | 19% |\n",
      "|  1 |  0% |  0% |\n"
     ]
    },
    {
     "name": "stderr",
     "output_type": "stream",
     "text": [
      " 52%|██████████████████████████████████████████████████████████████████████████████████████████████████████████████████████████████████████████████████████████████████████████████████████████████████▉                                                                                                                                                                                       | 459/890.0 [19:18<17:06,  2.38s/it]"
     ]
    },
    {
     "name": "stdout",
     "output_type": "stream",
     "text": [
      "22.5\n",
      "80.6\n",
      "| ID | GPU | MEM |\n",
      "------------------\n",
      "|  0 |  2% | 19% |\n",
      "|  1 |  0% |  0% |\n"
     ]
    },
    {
     "name": "stderr",
     "output_type": "stream",
     "text": [
      " 52%|███████████████████████████████████████████████████████████████████████████████████████████████████████████████████████████████████████████████████████████████████████████████████████████████████▎                                                                                                                                                                                      | 460/890.0 [19:20<17:07,  2.39s/it]"
     ]
    },
    {
     "name": "stdout",
     "output_type": "stream",
     "text": [
      "22.6\n",
      "80.6\n",
      "| ID | GPU | MEM |\n",
      "------------------\n",
      "|  0 |  0% | 19% |\n",
      "|  1 |  0% |  0% |\n"
     ]
    },
    {
     "name": "stderr",
     "output_type": "stream",
     "text": [
      " 52%|███████████████████████████████████████████████████████████████████████████████████████████████████████████████████████████████████████████████████████████████████████████████████████████████████▊                                                                                                                                                                                      | 461/890.0 [19:23<17:01,  2.38s/it]"
     ]
    },
    {
     "name": "stdout",
     "output_type": "stream",
     "text": [
      "22.6\n",
      "80.6\n",
      "| ID | GPU | MEM |\n",
      "------------------\n",
      "|  0 |  0% | 19% |\n",
      "|  1 |  0% |  0% |\n"
     ]
    },
    {
     "name": "stderr",
     "output_type": "stream",
     "text": [
      " 52%|████████████████████████████████████████████████████████████████████████████████████████████████████████████████████████████████████████████████████████████████████████████████████████████████████▏                                                                                                                                                                                     | 462/890.0 [19:25<16:56,  2.37s/it]"
     ]
    },
    {
     "name": "stdout",
     "output_type": "stream",
     "text": [
      "19.5\n",
      "80.6\n",
      "| ID | GPU | MEM |\n",
      "------------------\n",
      "|  0 |  0% | 19% |\n",
      "|  1 |  0% |  0% |\n"
     ]
    },
    {
     "name": "stderr",
     "output_type": "stream",
     "text": [
      " 52%|████████████████████████████████████████████████████████████████████████████████████████████████████████████████████████████████████████████████████████████████████████████████████████████████████▋                                                                                                                                                                                     | 463/890.0 [19:28<19:19,  2.71s/it]"
     ]
    },
    {
     "name": "stdout",
     "output_type": "stream",
     "text": [
      "21.4\n",
      "80.6\n",
      "| ID | GPU | MEM |\n",
      "------------------\n",
      "|  0 |  0% | 19% |\n",
      "|  1 |  0% |  0% |\n"
     ]
    },
    {
     "name": "stderr",
     "output_type": "stream",
     "text": [
      " 52%|█████████████████████████████████████████████████████████████████████████████████████████████████████████████████████████████████████████████████████████████████████████████████████████████████████                                                                                                                                                                                     | 464/890.0 [19:31<18:47,  2.65s/it]"
     ]
    },
    {
     "name": "stdout",
     "output_type": "stream",
     "text": [
      "21.9\n",
      "80.6\n",
      "| ID | GPU | MEM |\n",
      "------------------\n",
      "|  0 |  0% | 19% |\n",
      "|  1 |  0% |  0% |\n"
     ]
    },
    {
     "name": "stderr",
     "output_type": "stream",
     "text": [
      " 52%|█████████████████████████████████████████████████████████████████████████████████████████████████████████████████████████████████████████████████████████████████████████████████████████████████████▍                                                                                                                                                                                    | 465/890.0 [19:33<18:20,  2.59s/it]"
     ]
    },
    {
     "name": "stdout",
     "output_type": "stream",
     "text": [
      "19.0\n",
      "80.6\n",
      "| ID | GPU | MEM |\n",
      "------------------\n",
      "|  0 |  0% | 19% |\n",
      "|  1 |  0% |  0% |\n"
     ]
    },
    {
     "name": "stderr",
     "output_type": "stream",
     "text": [
      " 52%|█████████████████████████████████████████████████████████████████████████████████████████████████████████████████████████████████████████████████████████████████████████████████████████████████████▉                                                                                                                                                                                    | 466/890.0 [19:37<20:25,  2.89s/it]"
     ]
    },
    {
     "name": "stdout",
     "output_type": "stream",
     "text": [
      "22.0\n",
      "80.6\n",
      "| ID | GPU | MEM |\n",
      "------------------\n",
      "|  0 |  0% | 19% |\n",
      "|  1 |  0% |  0% |\n"
     ]
    },
    {
     "name": "stderr",
     "output_type": "stream",
     "text": [
      " 52%|██████████████████████████████████████████████████████████████████████████████████████████████████████████████████████████████████████████████████████████████████████████████████████████████████████▎                                                                                                                                                                                   | 467/890.0 [19:39<19:20,  2.74s/it]"
     ]
    },
    {
     "name": "stdout",
     "output_type": "stream",
     "text": [
      "21.8\n",
      "80.6\n",
      "| ID | GPU | MEM |\n",
      "------------------\n",
      "|  0 |  0% | 19% |\n",
      "|  1 |  0% |  0% |\n"
     ]
    },
    {
     "name": "stderr",
     "output_type": "stream",
     "text": [
      " 53%|██████████████████████████████████████████████████████████████████████████████████████████████████████████████████████████████████████████████████████████████████████████████████████████████████████▊                                                                                                                                                                                   | 468/890.0 [19:42<18:36,  2.65s/it]"
     ]
    },
    {
     "name": "stdout",
     "output_type": "stream",
     "text": [
      "22.3\n",
      "80.6\n",
      "| ID | GPU | MEM |\n",
      "------------------\n",
      "|  0 |  0% | 19% |\n",
      "|  1 |  0% |  0% |\n"
     ]
    },
    {
     "name": "stderr",
     "output_type": "stream",
     "text": [
      " 53%|███████████████████████████████████████████████████████████████████████████████████████████████████████████████████████████████████████████████████████████████████████████████████████████████████████▏                                                                                                                                                                                  | 469/890.0 [19:44<17:56,  2.56s/it]"
     ]
    },
    {
     "name": "stdout",
     "output_type": "stream",
     "text": [
      "22.0\n",
      "80.6\n",
      "| ID | GPU | MEM |\n",
      "------------------\n",
      "|  0 |  0% | 19% |\n",
      "|  1 |  0% |  0% |\n"
     ]
    },
    {
     "name": "stderr",
     "output_type": "stream",
     "text": [
      " 53%|███████████████████████████████████████████████████████████████████████████████████████████████████████████████████████████████████████████████████████████████████████████████████████████████████████▌                                                                                                                                                                                  | 470/890.0 [19:47<17:34,  2.51s/it]"
     ]
    },
    {
     "name": "stdout",
     "output_type": "stream",
     "text": [
      "22.0\n",
      "80.6\n",
      "| ID | GPU | MEM |\n",
      "------------------\n",
      "|  0 |  0% | 19% |\n",
      "|  1 |  0% |  0% |\n"
     ]
    },
    {
     "name": "stderr",
     "output_type": "stream",
     "text": [
      " 53%|████████████████████████████████████████████████████████████████████████████████████████████████████████████████████████████████████████████████████████████████████████████████████████████████████████                                                                                                                                                                                  | 471/890.0 [19:49<17:18,  2.48s/it]"
     ]
    },
    {
     "name": "stdout",
     "output_type": "stream",
     "text": [
      "22.0\n",
      "80.6\n",
      "| ID | GPU | MEM |\n",
      "------------------\n",
      "|  0 |  0% | 19% |\n",
      "|  1 |  0% |  0% |\n"
     ]
    },
    {
     "name": "stderr",
     "output_type": "stream",
     "text": [
      " 53%|████████████████████████████████████████████████████████████████████████████████████████████████████████████████████████████████████████████████████████████████████████████████████████████████████████▍                                                                                                                                                                                 | 472/890.0 [19:51<17:05,  2.45s/it]"
     ]
    },
    {
     "name": "stdout",
     "output_type": "stream",
     "text": [
      "19.3\n",
      "80.6\n",
      "| ID | GPU | MEM |\n",
      "------------------\n",
      "|  0 |  0% | 19% |\n",
      "|  1 |  0% |  0% |\n"
     ]
    },
    {
     "name": "stderr",
     "output_type": "stream",
     "text": [
      " 53%|████████████████████████████████████████████████████████████████████████████████████████████████████████████████████████████████████████████████████████████████████████████████████████████████████████▉                                                                                                                                                                                 | 473/890.0 [19:55<19:12,  2.76s/it]"
     ]
    },
    {
     "name": "stdout",
     "output_type": "stream",
     "text": [
      "21.9\n",
      "80.6\n",
      "| ID | GPU | MEM |\n",
      "------------------\n",
      "|  0 |  0% | 19% |\n",
      "|  1 |  0% |  0% |\n"
     ]
    },
    {
     "name": "stderr",
     "output_type": "stream",
     "text": [
      " 53%|█████████████████████████████████████████████████████████████████████████████████████████████████████████████████████████████████████████████████████████████████████████████████████████████████████████▎                                                                                                                                                                                | 474/890.0 [19:57<18:24,  2.66s/it]"
     ]
    },
    {
     "name": "stdout",
     "output_type": "stream",
     "text": [
      "22.0\n",
      "80.6\n",
      "| ID | GPU | MEM |\n",
      "------------------\n",
      "|  0 |  0% | 19% |\n",
      "|  1 |  0% |  0% |\n"
     ]
    },
    {
     "name": "stderr",
     "output_type": "stream",
     "text": [
      " 53%|█████████████████████████████████████████████████████████████████████████████████████████████████████████████████████████████████████████████████████████████████████████████████████████████████████████▋                                                                                                                                                                                | 475/890.0 [20:00<17:55,  2.59s/it]"
     ]
    },
    {
     "name": "stdout",
     "output_type": "stream",
     "text": [
      "21.5\n",
      "80.6\n",
      "| ID | GPU | MEM |\n",
      "------------------\n",
      "|  0 |  0% | 19% |\n",
      "|  1 |  0% |  0% |\n"
     ]
    },
    {
     "name": "stderr",
     "output_type": "stream",
     "text": [
      " 53%|██████████████████████████████████████████████████████████████████████████████████████████████████████████████████████████████████████████████████████████████████████████████████████████████████████████▏                                                                                                                                                                               | 476/890.0 [20:02<17:35,  2.55s/it]"
     ]
    },
    {
     "name": "stdout",
     "output_type": "stream",
     "text": [
      "21.7\n",
      "80.6\n",
      "| ID | GPU | MEM |\n",
      "------------------\n",
      "|  0 |  0% | 19% |\n",
      "|  1 |  0% |  0% |\n"
     ]
    },
    {
     "name": "stderr",
     "output_type": "stream",
     "text": [
      " 54%|██████████████████████████████████████████████████████████████████████████████████████████████████████████████████████████████████████████████████████████████████████████████████████████████████████████▌                                                                                                                                                                               | 477/890.0 [20:05<17:26,  2.54s/it]"
     ]
    },
    {
     "name": "stdout",
     "output_type": "stream",
     "text": [
      "21.5\n",
      "80.6\n",
      "| ID | GPU | MEM |\n",
      "------------------\n",
      "|  0 |  0% | 19% |\n",
      "|  1 |  0% |  0% |\n"
     ]
    },
    {
     "name": "stderr",
     "output_type": "stream",
     "text": [
      " 54%|███████████████████████████████████████████████████████████████████████████████████████████████████████████████████████████████████████████████████████████████████████████████████████████████████████████                                                                                                                                                                               | 478/890.0 [20:07<17:10,  2.50s/it]"
     ]
    },
    {
     "name": "stdout",
     "output_type": "stream",
     "text": [
      "22.6\n",
      "80.6\n",
      "| ID | GPU | MEM |\n",
      "------------------\n",
      "|  0 |  0% | 19% |\n",
      "|  1 |  0% |  0% |\n"
     ]
    },
    {
     "name": "stderr",
     "output_type": "stream",
     "text": [
      " 54%|███████████████████████████████████████████████████████████████████████████████████████████████████████████████████████████████████████████████████████████████████████████████████████████████████████████▍                                                                                                                                                                              | 479/890.0 [20:09<16:50,  2.46s/it]"
     ]
    },
    {
     "name": "stdout",
     "output_type": "stream",
     "text": [
      "21.0\n",
      "80.6\n",
      "| ID | GPU | MEM |\n",
      "------------------\n",
      "|  0 |  0% | 19% |\n",
      "|  1 |  0% |  0% |\n"
     ]
    },
    {
     "name": "stderr",
     "output_type": "stream",
     "text": [
      " 54%|███████████████████████████████████████████████████████████████████████████████████████████████████████████████████████████████████████████████████████████████████████████████████████████████████████████▊                                                                                                                                                                              | 480/890.0 [20:12<16:58,  2.48s/it]"
     ]
    },
    {
     "name": "stdout",
     "output_type": "stream",
     "text": [
      "21.7\n",
      "80.6\n",
      "| ID | GPU | MEM |\n",
      "------------------\n",
      "|  0 |  0% | 19% |\n",
      "|  1 |  0% |  0% |\n"
     ]
    },
    {
     "name": "stderr",
     "output_type": "stream",
     "text": [
      " 54%|████████████████████████████████████████████████████████████████████████████████████████████████████████████████████████████████████████████████████████████████████████████████████████████████████████████▎                                                                                                                                                                             | 481/890.0 [20:14<16:48,  2.47s/it]"
     ]
    },
    {
     "name": "stdout",
     "output_type": "stream",
     "text": [
      "21.5\n",
      "80.6\n",
      "| ID | GPU | MEM |\n",
      "------------------\n",
      "|  0 |  0% | 19% |\n",
      "|  1 |  0% |  0% |\n"
     ]
    },
    {
     "name": "stderr",
     "output_type": "stream",
     "text": [
      " 54%|████████████████████████████████████████████████████████████████████████████████████████████████████████████████████████████████████████████████████████████████████████████████████████████████████████████▋                                                                                                                                                                             | 482/890.0 [20:17<17:19,  2.55s/it]"
     ]
    },
    {
     "name": "stdout",
     "output_type": "stream",
     "text": [
      "21.5\n",
      "80.6\n",
      "| ID | GPU | MEM |\n",
      "------------------\n",
      "|  0 |  0% | 19% |\n",
      "|  1 |  0% |  0% |\n"
     ]
    },
    {
     "name": "stderr",
     "output_type": "stream",
     "text": [
      " 54%|█████████████████████████████████████████████████████████████████████████████████████████████████████████████████████████████████████████████████████████████████████████████████████████████████████████████▏                                                                                                                                                                            | 483/890.0 [20:20<17:08,  2.53s/it]"
     ]
    },
    {
     "name": "stdout",
     "output_type": "stream",
     "text": [
      "18.8\n",
      "80.5\n",
      "| ID | GPU | MEM |\n",
      "------------------\n",
      "|  0 |  0% | 19% |\n",
      "|  1 |  0% |  0% |\n"
     ]
    },
    {
     "name": "stderr",
     "output_type": "stream",
     "text": [
      " 54%|█████████████████████████████████████████████████████████████████████████████████████████████████████████████████████████████████████████████████████████████████████████████████████████████████████████████▌                                                                                                                                                                            | 484/890.0 [20:23<19:16,  2.85s/it]"
     ]
    },
    {
     "name": "stdout",
     "output_type": "stream",
     "text": [
      "21.5\n",
      "80.6\n",
      "| ID | GPU | MEM |\n",
      "------------------\n",
      "|  0 |  0% | 19% |\n",
      "|  1 |  0% |  0% |\n"
     ]
    },
    {
     "name": "stderr",
     "output_type": "stream",
     "text": [
      " 54%|█████████████████████████████████████████████████████████████████████████████████████████████████████████████████████████████████████████████████████████████████████████████████████████████████████████████▉                                                                                                                                                                            | 485/890.0 [20:26<18:22,  2.72s/it]"
     ]
    },
    {
     "name": "stdout",
     "output_type": "stream",
     "text": [
      "22.3\n",
      "80.6\n",
      "| ID | GPU | MEM |\n",
      "------------------\n",
      "|  0 |  0% | 19% |\n",
      "|  1 |  0% |  0% |\n"
     ]
    },
    {
     "name": "stderr",
     "output_type": "stream",
     "text": [
      " 55%|██████████████████████████████████████████████████████████████████████████████████████████████████████████████████████████████████████████████████████████████████████████████████████████████████████████████▍                                                                                                                                                                           | 486/890.0 [20:28<17:39,  2.62s/it]"
     ]
    },
    {
     "name": "stdout",
     "output_type": "stream",
     "text": [
      "19.6\n",
      "80.6\n",
      "| ID | GPU | MEM |\n",
      "------------------\n",
      "|  0 |  0% | 19% |\n",
      "|  1 |  0% |  0% |\n"
     ]
    },
    {
     "name": "stderr",
     "output_type": "stream",
     "text": [
      " 55%|██████████████████████████████████████████████████████████████████████████████████████████████████████████████████████████████████████████████████████████████████████████████████████████████████████████████▊                                                                                                                                                                           | 487/890.0 [20:32<19:21,  2.88s/it]"
     ]
    },
    {
     "name": "stdout",
     "output_type": "stream",
     "text": [
      "21.9\n",
      "80.6\n",
      "| ID | GPU | MEM |\n",
      "------------------\n",
      "|  0 |  0% | 19% |\n",
      "|  1 |  0% |  0% |\n"
     ]
    },
    {
     "name": "stderr",
     "output_type": "stream",
     "text": [
      " 55%|███████████████████████████████████████████████████████████████████████████████████████████████████████████████████████████████████████████████████████████████████████████████████████████████████████████████▎                                                                                                                                                                          | 488/890.0 [20:34<18:16,  2.73s/it]"
     ]
    },
    {
     "name": "stdout",
     "output_type": "stream",
     "text": [
      "22.4\n",
      "80.6\n",
      "| ID | GPU | MEM |\n",
      "------------------\n",
      "|  0 |  0% | 19% |\n",
      "|  1 |  0% |  0% |\n"
     ]
    },
    {
     "name": "stderr",
     "output_type": "stream",
     "text": [
      " 55%|███████████████████████████████████████████████████████████████████████████████████████████████████████████████████████████████████████████████████████████████████████████████████████████████████████████████▋                                                                                                                                                                          | 489/890.0 [20:36<17:31,  2.62s/it]"
     ]
    },
    {
     "name": "stdout",
     "output_type": "stream",
     "text": [
      "21.8\n",
      "80.6\n",
      "| ID | GPU | MEM |\n",
      "------------------\n",
      "|  0 |  0% | 19% |\n",
      "|  1 |  0% |  0% |\n"
     ]
    },
    {
     "name": "stderr",
     "output_type": "stream",
     "text": [
      " 55%|████████████████████████████████████████████████████████████████████████████████████████████████████████████████████████████████████████████████████████████████████████████████████████████████████████████████                                                                                                                                                                          | 490/890.0 [20:39<17:06,  2.57s/it]"
     ]
    },
    {
     "name": "stdout",
     "output_type": "stream",
     "text": [
      "21.8\n",
      "80.6\n",
      "| ID | GPU | MEM |\n",
      "------------------\n",
      "|  0 |  0% | 19% |\n",
      "|  1 |  0% |  0% |\n"
     ]
    },
    {
     "name": "stderr",
     "output_type": "stream",
     "text": [
      " 55%|████████████████████████████████████████████████████████████████████████████████████████████████████████████████████████████████████████████████████████████████████████████████████████████████████████████████▌                                                                                                                                                                         | 491/890.0 [20:41<16:52,  2.54s/it]"
     ]
    },
    {
     "name": "stdout",
     "output_type": "stream",
     "text": [
      "21.5\n",
      "80.6\n",
      "| ID | GPU | MEM |\n",
      "------------------\n",
      "|  0 |  0% | 19% |\n",
      "|  1 |  0% |  0% |\n"
     ]
    },
    {
     "name": "stderr",
     "output_type": "stream",
     "text": [
      " 55%|████████████████████████████████████████████████████████████████████████████████████████████████████████████████████████████████████████████████████████████████████████████████████████████████████████████████▉                                                                                                                                                                         | 492/890.0 [20:44<16:39,  2.51s/it]"
     ]
    },
    {
     "name": "stdout",
     "output_type": "stream",
     "text": [
      "22.1\n",
      "80.6\n",
      "| ID | GPU | MEM |\n",
      "------------------\n",
      "|  0 |  0% | 19% |\n",
      "|  1 |  0% |  0% |\n"
     ]
    },
    {
     "name": "stderr",
     "output_type": "stream",
     "text": [
      " 55%|█████████████████████████████████████████████████████████████████████████████████████████████████████████████████████████████████████████████████████████████████████████████████████████████████████████████████▍                                                                                                                                                                        | 493/890.0 [20:46<16:38,  2.52s/it]"
     ]
    },
    {
     "name": "stdout",
     "output_type": "stream",
     "text": [
      "22.4\n",
      "80.6\n",
      "| ID | GPU | MEM |\n",
      "------------------\n",
      "|  0 |  0% | 19% |\n",
      "|  1 |  0% |  0% |\n"
     ]
    },
    {
     "name": "stderr",
     "output_type": "stream",
     "text": [
      " 56%|█████████████████████████████████████████████████████████████████████████████████████████████████████████████████████████████████████████████████████████████████████████████████████████████████████████████████▊                                                                                                                                                                        | 494/890.0 [20:49<16:16,  2.47s/it]"
     ]
    },
    {
     "name": "stdout",
     "output_type": "stream",
     "text": [
      "21.3\n",
      "80.6\n",
      "| ID | GPU | MEM |\n",
      "------------------\n",
      "|  0 |  0% | 19% |\n",
      "|  1 |  0% |  0% |\n"
     ]
    },
    {
     "name": "stderr",
     "output_type": "stream",
     "text": [
      " 56%|██████████████████████████████████████████████████████████████████████████████████████████████████████████████████████████████████████████████████████████████████████████████████████████████████████████████████▏                                                                                                                                                                       | 495/890.0 [20:51<16:24,  2.49s/it]"
     ]
    },
    {
     "name": "stdout",
     "output_type": "stream",
     "text": [
      "21.9\n",
      "80.6\n",
      "| ID | GPU | MEM |\n",
      "------------------\n",
      "|  0 |  0% | 19% |\n",
      "|  1 |  0% |  0% |\n"
     ]
    },
    {
     "name": "stderr",
     "output_type": "stream",
     "text": [
      " 56%|██████████████████████████████████████████████████████████████████████████████████████████████████████████████████████████████████████████████████████████████████████████████████████████████████████████████████▋                                                                                                                                                                       | 496/890.0 [20:53<16:11,  2.46s/it]"
     ]
    },
    {
     "name": "stdout",
     "output_type": "stream",
     "text": [
      "21.9\n",
      "80.6\n",
      "| ID | GPU | MEM |\n",
      "------------------\n",
      "|  0 |  0% | 19% |\n",
      "|  1 |  0% |  0% |\n"
     ]
    },
    {
     "name": "stderr",
     "output_type": "stream",
     "text": [
      " 56%|███████████████████████████████████████████████████████████████████████████████████████████████████████████████████████████████████████████████████████████████████████████████████████████████████████████████████                                                                                                                                                                       | 497/890.0 [20:56<16:01,  2.45s/it]"
     ]
    },
    {
     "name": "stdout",
     "output_type": "stream",
     "text": [
      "22.4\n",
      "80.7\n",
      "| ID | GPU | MEM |\n",
      "------------------\n",
      "|  0 |  0% | 19% |\n",
      "|  1 |  0% |  0% |\n"
     ]
    },
    {
     "name": "stderr",
     "output_type": "stream",
     "text": [
      " 56%|███████████████████████████████████████████████████████████████████████████████████████████████████████████████████████████████████████████████████████████████████████████████████████████████████████████████████▌                                                                                                                                                                      | 498/890.0 [20:58<15:54,  2.43s/it]"
     ]
    },
    {
     "name": "stdout",
     "output_type": "stream",
     "text": [
      "21.9\n",
      "80.7\n",
      "| ID | GPU | MEM |\n",
      "------------------\n",
      "|  0 |  0% | 19% |\n",
      "|  1 |  0% |  0% |\n"
     ]
    },
    {
     "name": "stderr",
     "output_type": "stream",
     "text": [
      " 56%|███████████████████████████████████████████████████████████████████████████████████████████████████████████████████████████████████████████████████████████████████████████████████████████████████████████████████▉                                                                                                                                                                      | 499/890.0 [21:00<15:00,  2.30s/it]"
     ]
    },
    {
     "name": "stdout",
     "output_type": "stream",
     "text": [
      "22.2\n",
      "80.7\n",
      "| ID | GPU | MEM |\n",
      "------------------\n",
      "|  0 |  0% | 19% |\n",
      "|  1 |  0% |  0% |\n"
     ]
    },
    {
     "name": "stderr",
     "output_type": "stream",
     "text": [
      " 56%|████████████████████████████████████████████████████████████████████████████████████████████████████████████████████████████████████████████████████████████████████████████████████████████████████████████████████▎                                                                                                                                                                     | 500/890.0 [21:03<15:11,  2.34s/it]"
     ]
    },
    {
     "name": "stdout",
     "output_type": "stream",
     "text": [
      "22.5\n",
      "80.7\n",
      "| ID | GPU | MEM |\n",
      "------------------\n",
      "|  0 |  0% | 19% |\n",
      "|  1 |  0% |  0% |\n"
     ]
    },
    {
     "name": "stderr",
     "output_type": "stream",
     "text": [
      " 56%|████████████████████████████████████████████████████████████████████████████████████████████████████████████████████████████████████████████████████████████████████████████████████████████████████████████████████▊                                                                                                                                                                     | 501/890.0 [21:05<15:10,  2.34s/it]"
     ]
    },
    {
     "name": "stdout",
     "output_type": "stream",
     "text": [
      "22.5\n",
      "80.6\n",
      "| ID | GPU | MEM |\n",
      "------------------\n",
      "|  0 |  0% | 19% |\n",
      "|  1 |  0% |  0% |\n"
     ]
    },
    {
     "name": "stderr",
     "output_type": "stream",
     "text": [
      " 56%|█████████████████████████████████████████████████████████████████████████████████████████████████████████████████████████████████████████████████████████████████████████████████████████████████████████████████████▏                                                                                                                                                                    | 502/890.0 [21:07<15:15,  2.36s/it]"
     ]
    },
    {
     "name": "stdout",
     "output_type": "stream",
     "text": [
      "22.7\n",
      "80.6\n",
      "| ID | GPU | MEM |\n",
      "------------------\n",
      "|  0 |  0% | 19% |\n",
      "|  1 |  0% |  0% |\n"
     ]
    },
    {
     "name": "stderr",
     "output_type": "stream",
     "text": [
      " 57%|█████████████████████████████████████████████████████████████████████████████████████████████████████████████████████████████████████████████████████████████████████████████████████████████████████████████████████▋                                                                                                                                                                    | 503/890.0 [21:10<15:11,  2.36s/it]"
     ]
    },
    {
     "name": "stdout",
     "output_type": "stream",
     "text": [
      "21.5\n",
      "80.6\n",
      "| ID | GPU | MEM |\n",
      "------------------\n",
      "|  0 |  0% | 19% |\n",
      "|  1 |  0% |  0% |\n"
     ]
    },
    {
     "name": "stderr",
     "output_type": "stream",
     "text": [
      " 57%|██████████████████████████████████████████████████████████████████████████████████████████████████████████████████████████████████████████████████████████████████████████████████████████████████████████████████████                                                                                                                                                                    | 504/890.0 [21:12<15:25,  2.40s/it]"
     ]
    },
    {
     "name": "stdout",
     "output_type": "stream",
     "text": [
      "22.6\n",
      "80.6\n",
      "| ID | GPU | MEM |\n",
      "------------------\n",
      "|  0 |  0% | 19% |\n",
      "|  1 |  0% |  0% |\n"
     ]
    },
    {
     "name": "stderr",
     "output_type": "stream",
     "text": [
      " 57%|██████████████████████████████████████████████████████████████████████████████████████████████████████████████████████████████████████████████████████████████████████████████████████████████████████████████████████▍                                                                                                                                                                   | 505/890.0 [21:15<15:18,  2.39s/it]"
     ]
    },
    {
     "name": "stdout",
     "output_type": "stream",
     "text": [
      "22.1\n",
      "80.6\n",
      "| ID | GPU | MEM |\n",
      "------------------\n",
      "|  0 |  0% | 19% |\n",
      "|  1 |  0% |  0% |\n"
     ]
    },
    {
     "name": "stderr",
     "output_type": "stream",
     "text": [
      " 57%|██████████████████████████████████████████████████████████████████████████████████████████████████████████████████████████████████████████████████████████████████████████████████████████████████████████████████████▉                                                                                                                                                                   | 506/890.0 [21:17<15:22,  2.40s/it]"
     ]
    },
    {
     "name": "stdout",
     "output_type": "stream",
     "text": [
      "22.2\n",
      "80.6\n",
      "| ID | GPU | MEM |\n",
      "------------------\n",
      "|  0 |  0% | 19% |\n",
      "|  1 |  0% |  0% |\n"
     ]
    },
    {
     "name": "stderr",
     "output_type": "stream",
     "text": [
      " 57%|███████████████████████████████████████████████████████████████████████████████████████████████████████████████████████████████████████████████████████████████████████████████████████████████████████████████████████▎                                                                                                                                                                  | 507/890.0 [21:19<15:19,  2.40s/it]"
     ]
    },
    {
     "name": "stdout",
     "output_type": "stream",
     "text": [
      "22.5\n",
      "80.6\n",
      "| ID | GPU | MEM |\n",
      "------------------\n",
      "|  0 |  0% | 19% |\n",
      "|  1 |  0% |  0% |\n"
     ]
    },
    {
     "name": "stderr",
     "output_type": "stream",
     "text": [
      " 57%|███████████████████████████████████████████████████████████████████████████████████████████████████████████████████████████████████████████████████████████████████████████████████████████████████████████████████████▊                                                                                                                                                                  | 508/890.0 [21:22<15:13,  2.39s/it]"
     ]
    },
    {
     "name": "stdout",
     "output_type": "stream",
     "text": [
      "21.7\n",
      "80.6\n",
      "| ID | GPU | MEM |\n",
      "------------------\n",
      "|  0 |  0% | 19% |\n",
      "|  1 |  0% |  0% |\n"
     ]
    },
    {
     "name": "stderr",
     "output_type": "stream",
     "text": [
      " 57%|████████████████████████████████████████████████████████████████████████████████████████████████████████████████████████████████████████████████████████████████████████████████████████████████████████████████████████▏                                                                                                                                                                 | 509/890.0 [21:24<15:17,  2.41s/it]"
     ]
    },
    {
     "name": "stdout",
     "output_type": "stream",
     "text": [
      "22.3\n",
      "80.6\n",
      "| ID | GPU | MEM |\n",
      "------------------\n",
      "|  0 |  0% | 19% |\n",
      "|  1 |  0% |  0% |\n"
     ]
    },
    {
     "name": "stderr",
     "output_type": "stream",
     "text": [
      " 57%|████████████████████████████████████████████████████████████████████████████████████████████████████████████████████████████████████████████████████████████████████████████████████████████████████████████████████████▌                                                                                                                                                                 | 510/890.0 [21:27<15:19,  2.42s/it]"
     ]
    },
    {
     "name": "stdout",
     "output_type": "stream",
     "text": [
      "22.2\n",
      "80.6\n",
      "| ID | GPU | MEM |\n",
      "------------------\n",
      "|  0 |  0% | 19% |\n",
      "|  1 |  0% |  0% |\n"
     ]
    },
    {
     "name": "stderr",
     "output_type": "stream",
     "text": [
      " 57%|█████████████████████████████████████████████████████████████████████████████████████████████████████████████████████████████████████████████████████████████████████████████████████████████████████████████████████████                                                                                                                                                                 | 511/890.0 [21:29<15:14,  2.41s/it]"
     ]
    },
    {
     "name": "stdout",
     "output_type": "stream",
     "text": [
      "21.7\n",
      "80.6\n",
      "| ID | GPU | MEM |\n",
      "------------------\n",
      "|  0 |  0% | 19% |\n",
      "|  1 |  0% |  0% |\n"
     ]
    },
    {
     "name": "stderr",
     "output_type": "stream",
     "text": [
      " 58%|█████████████████████████████████████████████████████████████████████████████████████████████████████████████████████████████████████████████████████████████████████████████████████████████████████████████████████████▍                                                                                                                                                                | 512/890.0 [21:32<15:15,  2.42s/it]"
     ]
    },
    {
     "name": "stdout",
     "output_type": "stream",
     "text": [
      "22.6\n",
      "80.6\n",
      "| ID | GPU | MEM |\n",
      "------------------\n",
      "|  0 |  0% | 19% |\n",
      "|  1 |  0% |  0% |\n"
     ]
    },
    {
     "name": "stderr",
     "output_type": "stream",
     "text": [
      " 58%|█████████████████████████████████████████████████████████████████████████████████████████████████████████████████████████████████████████████████████████████████████████████████████████████████████████████████████████▉                                                                                                                                                                | 513/890.0 [21:34<15:05,  2.40s/it]"
     ]
    },
    {
     "name": "stdout",
     "output_type": "stream",
     "text": [
      "21.7\n",
      "80.6\n",
      "| ID | GPU | MEM |\n",
      "------------------\n",
      "|  0 |  0% | 19% |\n",
      "|  1 |  0% |  0% |\n"
     ]
    },
    {
     "name": "stderr",
     "output_type": "stream",
     "text": [
      " 58%|██████████████████████████████████████████████████████████████████████████████████████████████████████████████████████████████████████████████████████████████████████████████████████████████████████████████████████████▎                                                                                                                                                               | 514/890.0 [21:36<15:20,  2.45s/it]"
     ]
    },
    {
     "name": "stdout",
     "output_type": "stream",
     "text": [
      "22.0\n",
      "80.6\n",
      "| ID | GPU | MEM |\n",
      "------------------\n",
      "|  0 |  0% | 19% |\n",
      "|  1 |  0% |  0% |\n"
     ]
    },
    {
     "name": "stderr",
     "output_type": "stream",
     "text": [
      " 58%|██████████████████████████████████████████████████████████████████████████████████████████████████████████████████████████████████████████████████████████████████████████████████████████████████████████████████████████▋                                                                                                                                                               | 515/890.0 [21:39<15:09,  2.43s/it]"
     ]
    },
    {
     "name": "stdout",
     "output_type": "stream",
     "text": [
      "22.1\n",
      "80.6\n",
      "| ID | GPU | MEM |\n",
      "------------------\n",
      "|  0 |  0% | 19% |\n",
      "|  1 |  0% |  0% |\n"
     ]
    },
    {
     "name": "stderr",
     "output_type": "stream",
     "text": [
      " 58%|███████████████████████████████████████████████████████████████████████████████████████████████████████████████████████████████████████████████████████████████████████████████████████████████████████████████████████████▏                                                                                                                                                              | 516/890.0 [21:41<14:59,  2.41s/it]"
     ]
    },
    {
     "name": "stdout",
     "output_type": "stream",
     "text": [
      "19.2\n",
      "80.6\n",
      "| ID | GPU | MEM |\n",
      "------------------\n",
      "|  0 |  0% | 19% |\n",
      "|  1 |  0% |  0% |\n"
     ]
    },
    {
     "name": "stderr",
     "output_type": "stream",
     "text": [
      " 58%|███████████████████████████████████████████████████████████████████████████████████████████████████████████████████████████████████████████████████████████████████████████████████████████████████████████████████████████▌                                                                                                                                                              | 517/890.0 [21:44<16:29,  2.65s/it]"
     ]
    },
    {
     "name": "stdout",
     "output_type": "stream",
     "text": [
      "19.0\n",
      "80.6\n",
      "| ID | GPU | MEM |\n",
      "------------------\n",
      "|  0 |  0% | 19% |\n",
      "|  1 |  0% |  0% |\n"
     ]
    },
    {
     "name": "stderr",
     "output_type": "stream",
     "text": [
      " 58%|████████████████████████████████████████████████████████████████████████████████████████████████████████████████████████████████████████████████████████████████████████████████████████████████████████████████████████████                                                                                                                                                              | 518/890.0 [21:48<17:58,  2.90s/it]"
     ]
    },
    {
     "name": "stdout",
     "output_type": "stream",
     "text": [
      "20.6\n",
      "80.6\n",
      "| ID | GPU | MEM |\n",
      "------------------\n",
      "|  0 |  0% | 19% |\n",
      "|  1 |  0% |  0% |\n"
     ]
    },
    {
     "name": "stderr",
     "output_type": "stream",
     "text": [
      " 58%|████████████████████████████████████████████████████████████████████████████████████████████████████████████████████████████████████████████████████████████████████████████████████████████████████████████████████████████▍                                                                                                                                                             | 519/890.0 [21:50<16:17,  2.63s/it]"
     ]
    },
    {
     "name": "stdout",
     "output_type": "stream",
     "text": [
      "21.4\n",
      "80.6\n",
      "| ID | GPU | MEM |\n",
      "------------------\n",
      "|  0 |  0% | 19% |\n",
      "|  1 |  0% |  0% |\n"
     ]
    },
    {
     "name": "stderr",
     "output_type": "stream",
     "text": [
      " 58%|████████████████████████████████████████████████████████████████████████████████████████████████████████████████████████████████████████████████████████████████████████████████████████████████████████████████████████████▊                                                                                                                                                             | 520/890.0 [21:52<15:56,  2.59s/it]"
     ]
    },
    {
     "name": "stdout",
     "output_type": "stream",
     "text": [
      "22.1\n",
      "80.6\n",
      "| ID | GPU | MEM |\n",
      "------------------\n",
      "|  0 |  0% | 19% |\n",
      "|  1 |  0% |  0% |\n"
     ]
    },
    {
     "name": "stderr",
     "output_type": "stream",
     "text": [
      " 59%|█████████████████████████████████████████████████████████████████████████████████████████████████████████████████████████████████████████████████████████████████████████████████████████████████████████████████████████████▎                                                                                                                                                            | 521/890.0 [21:55<15:32,  2.53s/it]"
     ]
    },
    {
     "name": "stdout",
     "output_type": "stream",
     "text": [
      "20.0\n",
      "80.6\n",
      "| ID | GPU | MEM |\n",
      "------------------\n",
      "|  0 |  0% | 19% |\n",
      "|  1 |  0% |  0% |\n"
     ]
    },
    {
     "name": "stderr",
     "output_type": "stream",
     "text": [
      " 59%|█████████████████████████████████████████████████████████████████████████████████████████████████████████████████████████████████████████████████████████████████████████████████████████████████████████████████████████████▋                                                                                                                                                            | 522/890.0 [21:58<17:04,  2.78s/it]"
     ]
    },
    {
     "name": "stdout",
     "output_type": "stream",
     "text": [
      "21.5\n",
      "80.6\n",
      "| ID | GPU | MEM |\n",
      "------------------\n",
      "|  0 |  0% | 19% |\n",
      "|  1 |  0% |  0% |\n"
     ]
    },
    {
     "name": "stderr",
     "output_type": "stream",
     "text": [
      " 59%|██████████████████████████████████████████████████████████████████████████████████████████████████████████████████████████████████████████████████████████████████████████████████████████████████████████████████████████████▏                                                                                                                                                           | 523/890.0 [22:01<16:57,  2.77s/it]"
     ]
    },
    {
     "name": "stdout",
     "output_type": "stream",
     "text": [
      "21.4\n",
      "80.6\n",
      "| ID | GPU | MEM |\n",
      "------------------\n",
      "|  0 |  0% | 19% |\n",
      "|  1 |  0% |  0% |\n"
     ]
    },
    {
     "name": "stderr",
     "output_type": "stream",
     "text": [
      " 59%|██████████████████████████████████████████████████████████████████████████████████████████████████████████████████████████████████████████████████████████████████████████████████████████████████████████████████████████████▌                                                                                                                                                           | 524/890.0 [22:03<16:22,  2.68s/it]"
     ]
    },
    {
     "name": "stdout",
     "output_type": "stream",
     "text": [
      "22.3\n",
      "80.6\n",
      "| ID | GPU | MEM |\n",
      "------------------\n",
      "|  0 |  0% | 19% |\n",
      "|  1 |  0% |  0% |\n"
     ]
    },
    {
     "name": "stderr",
     "output_type": "stream",
     "text": [
      " 59%|██████████████████████████████████████████████████████████████████████████████████████████████████████████████████████████████████████████████████████████████████████████████████████████████████████████████████████████████▉                                                                                                                                                           | 525/890.0 [22:06<15:46,  2.59s/it]"
     ]
    },
    {
     "name": "stdout",
     "output_type": "stream",
     "text": [
      "22.3\n",
      "80.6\n",
      "| ID | GPU | MEM |\n",
      "------------------\n",
      "|  0 |  0% | 19% |\n",
      "|  1 |  0% |  0% |\n"
     ]
    },
    {
     "name": "stderr",
     "output_type": "stream",
     "text": [
      " 59%|███████████████████████████████████████████████████████████████████████████████████████████████████████████████████████████████████████████████████████████████████████████████████████████████████████████████████████████████▍                                                                                                                                                          | 526/890.0 [22:08<15:23,  2.54s/it]"
     ]
    },
    {
     "name": "stdout",
     "output_type": "stream",
     "text": [
      "21.6\n",
      "80.6\n",
      "| ID | GPU | MEM |\n",
      "------------------\n",
      "|  0 |  0% | 19% |\n",
      "|  1 |  0% |  0% |\n"
     ]
    },
    {
     "name": "stderr",
     "output_type": "stream",
     "text": [
      " 59%|███████████████████████████████████████████████████████████████████████████████████████████████████████████████████████████████████████████████████████████████████████████████████████████████████████████████████████████████▊                                                                                                                                                          | 527/890.0 [22:11<15:23,  2.54s/it]"
     ]
    },
    {
     "name": "stdout",
     "output_type": "stream",
     "text": [
      "22.6\n",
      "80.6\n",
      "| ID | GPU | MEM |\n",
      "------------------\n",
      "|  0 |  0% | 19% |\n",
      "|  1 |  0% |  0% |\n"
     ]
    },
    {
     "name": "stderr",
     "output_type": "stream",
     "text": [
      " 59%|████████████████████████████████████████████████████████████████████████████████████████████████████████████████████████████████████████████████████████████████████████████████████████████████████████████████████████████████▎                                                                                                                                                         | 528/890.0 [22:13<15:01,  2.49s/it]"
     ]
    },
    {
     "name": "stdout",
     "output_type": "stream",
     "text": [
      "22.7\n",
      "80.6\n",
      "| ID | GPU | MEM |\n",
      "------------------\n",
      "|  0 |  0% | 19% |\n",
      "|  1 |  0% |  0% |\n"
     ]
    },
    {
     "name": "stderr",
     "output_type": "stream",
     "text": [
      " 59%|████████████████████████████████████████████████████████████████████████████████████████████████████████████████████████████████████████████████████████████████████████████████████████████████████████████████████████████████▋                                                                                                                                                         | 529/890.0 [22:15<14:44,  2.45s/it]"
     ]
    },
    {
     "name": "stdout",
     "output_type": "stream",
     "text": [
      "22.1\n",
      "80.6\n",
      "| ID | GPU | MEM |\n",
      "------------------\n",
      "|  0 |  0% | 19% |\n",
      "|  1 |  0% |  0% |\n"
     ]
    },
    {
     "name": "stderr",
     "output_type": "stream",
     "text": [
      " 60%|█████████████████████████████████████████████████████████████████████████████████████████████████████████████████████████████████████████████████████████████████████████████████████████████████████████████████████████████████                                                                                                                                                         | 530/890.0 [22:18<14:39,  2.44s/it]"
     ]
    },
    {
     "name": "stdout",
     "output_type": "stream",
     "text": [
      "21.7\n",
      "80.6\n",
      "| ID | GPU | MEM |\n",
      "------------------\n",
      "|  0 |  0% | 19% |\n",
      "|  1 |  0% |  0% |\n"
     ]
    },
    {
     "name": "stderr",
     "output_type": "stream",
     "text": [
      " 60%|█████████████████████████████████████████████████████████████████████████████████████████████████████████████████████████████████████████████████████████████████████████████████████████████████████████████████████████████████▌                                                                                                                                                        | 531/890.0 [22:21<14:54,  2.49s/it]"
     ]
    },
    {
     "name": "stdout",
     "output_type": "stream",
     "text": [
      "21.8\n",
      "80.6\n",
      "| ID | GPU | MEM |\n",
      "------------------\n",
      "|  0 |  0% | 19% |\n",
      "|  1 |  0% |  0% |\n"
     ]
    },
    {
     "name": "stderr",
     "output_type": "stream",
     "text": [
      " 60%|█████████████████████████████████████████████████████████████████████████████████████████████████████████████████████████████████████████████████████████████████████████████████████████████████████████████████████████████████▉                                                                                                                                                        | 532/890.0 [22:23<14:36,  2.45s/it]"
     ]
    },
    {
     "name": "stdout",
     "output_type": "stream",
     "text": [
      "22.2\n",
      "80.7\n",
      "| ID | GPU | MEM |\n",
      "------------------\n",
      "|  0 |  0% | 19% |\n",
      "|  1 |  0% |  0% |\n"
     ]
    },
    {
     "name": "stderr",
     "output_type": "stream",
     "text": [
      " 60%|██████████████████████████████████████████████████████████████████████████████████████████████████████████████████████████████████████████████████████████████████████████████████████████████████████████████████████████████████▍                                                                                                                                                       | 533/890.0 [22:25<14:21,  2.41s/it]"
     ]
    },
    {
     "name": "stdout",
     "output_type": "stream",
     "text": [
      "21.4\n",
      "80.6\n",
      "| ID | GPU | MEM |\n",
      "------------------\n",
      "|  0 |  0% | 19% |\n",
      "|  1 |  0% |  0% |\n"
     ]
    },
    {
     "name": "stderr",
     "output_type": "stream",
     "text": [
      " 60%|██████████████████████████████████████████████████████████████████████████████████████████████████████████████████████████████████████████████████████████████████████████████████████████████████████████████████████████████████▊                                                                                                                                                       | 534/890.0 [22:28<14:37,  2.46s/it]"
     ]
    },
    {
     "name": "stdout",
     "output_type": "stream",
     "text": [
      "19.8\n",
      "80.6\n",
      "| ID | GPU | MEM |\n",
      "------------------\n",
      "|  0 |  0% | 19% |\n",
      "|  1 |  0% |  0% |\n"
     ]
    },
    {
     "name": "stderr",
     "output_type": "stream",
     "text": [
      " 60%|███████████████████████████████████████████████████████████████████████████████████████████████████████████████████████████████████████████████████████████████████████████████████████████████████████████████████████████████████▏                                                                                                                                                      | 535/890.0 [22:31<16:05,  2.72s/it]"
     ]
    },
    {
     "name": "stdout",
     "output_type": "stream",
     "text": [
      "21.0\n",
      "80.6\n",
      "| ID | GPU | MEM |\n",
      "------------------\n",
      "|  0 |  0% | 19% |\n",
      "|  1 |  0% |  0% |\n"
     ]
    },
    {
     "name": "stderr",
     "output_type": "stream",
     "text": [
      " 60%|███████████████████████████████████████████████████████████████████████████████████████████████████████████████████████████████████████████████████████████████████████████████████████████████████████████████████████████████████▋                                                                                                                                                      | 536/890.0 [22:33<15:28,  2.62s/it]"
     ]
    },
    {
     "name": "stdout",
     "output_type": "stream",
     "text": [
      "21.7\n",
      "80.6\n",
      "| ID | GPU | MEM |\n",
      "------------------\n",
      "|  0 |  0% | 19% |\n",
      "|  1 |  0% |  0% |\n"
     ]
    },
    {
     "name": "stderr",
     "output_type": "stream",
     "text": [
      " 60%|████████████████████████████████████████████████████████████████████████████████████████████████████████████████████████████████████████████████████████████████████████████████████████████████████████████████████████████████████                                                                                                                                                      | 537/890.0 [22:36<14:57,  2.54s/it]"
     ]
    },
    {
     "name": "stdout",
     "output_type": "stream",
     "text": [
      "19.1\n",
      "80.6\n",
      "| ID | GPU | MEM |\n",
      "------------------\n",
      "|  0 |  0% | 19% |\n",
      "|  1 |  0% |  0% |\n"
     ]
    },
    {
     "name": "stderr",
     "output_type": "stream",
     "text": [
      " 60%|████████████████████████████████████████████████████████████████████████████████████████████████████████████████████████████████████████████████████████████████████████████████████████████████████████████████████████████████████▍                                                                                                                                                     | 538/890.0 [22:39<16:37,  2.83s/it]"
     ]
    },
    {
     "name": "stdout",
     "output_type": "stream",
     "text": [
      "22.0\n",
      "80.6\n",
      "| ID | GPU | MEM |\n",
      "------------------\n",
      "|  0 |  0% | 19% |\n",
      "|  1 |  0% |  0% |\n"
     ]
    },
    {
     "name": "stderr",
     "output_type": "stream",
     "text": [
      " 61%|████████████████████████████████████████████████████████████████████████████████████████████████████████████████████████████████████████████████████████████████████████████████████████████████████████████████████████████████████▉                                                                                                                                                     | 539/890.0 [22:42<15:45,  2.69s/it]"
     ]
    },
    {
     "name": "stdout",
     "output_type": "stream",
     "text": [
      "19.4\n",
      "80.6\n",
      "| ID | GPU | MEM |\n",
      "------------------\n",
      "|  0 |  0% | 19% |\n",
      "|  1 |  0% |  0% |\n"
     ]
    },
    {
     "name": "stderr",
     "output_type": "stream",
     "text": [
      " 61%|█████████████████████████████████████████████████████████████████████████████████████████████████████████████████████████████████████████████████████████████████████████████████████████████████████████████████████████████████████▎                                                                                                                                                    | 540/890.0 [22:45<17:04,  2.93s/it]"
     ]
    },
    {
     "name": "stdout",
     "output_type": "stream",
     "text": [
      "21.7\n",
      "80.6\n",
      "| ID | GPU | MEM |\n",
      "------------------\n",
      "|  0 |  0% | 19% |\n",
      "|  1 |  1% |  0% |\n"
     ]
    },
    {
     "name": "stderr",
     "output_type": "stream",
     "text": [
      " 61%|█████████████████████████████████████████████████████████████████████████████████████████████████████████████████████████████████████████████████████████████████████████████████████████████████████████████████████████████████████▊                                                                                                                                                    | 541/890.0 [22:48<16:03,  2.76s/it]"
     ]
    },
    {
     "name": "stdout",
     "output_type": "stream",
     "text": [
      "19.7\n",
      "80.6\n",
      "| ID | GPU | MEM |\n",
      "------------------\n",
      "|  0 |  0% | 19% |\n",
      "|  1 |  0% |  0% |\n"
     ]
    },
    {
     "name": "stderr",
     "output_type": "stream",
     "text": [
      " 61%|██████████████████████████████████████████████████████████████████████████████████████████████████████████████████████████████████████████████████████████████████████████████████████████████████████████████████████████████████████▏                                                                                                                                                   | 542/890.0 [22:51<17:15,  2.97s/it]"
     ]
    },
    {
     "name": "stdout",
     "output_type": "stream",
     "text": [
      "20.4\n",
      "80.6\n",
      "| ID | GPU | MEM |\n",
      "------------------\n",
      "|  0 |  0% | 19% |\n",
      "|  1 |  0% |  0% |\n"
     ]
    },
    {
     "name": "stderr",
     "output_type": "stream",
     "text": [
      " 61%|██████████████████████████████████████████████████████████████████████████████████████████████████████████████████████████████████████████████████████████████████████████████████████████████████████████████████████████████████████▌                                                                                                                                                   | 543/890.0 [22:53<16:18,  2.82s/it]"
     ]
    },
    {
     "name": "stdout",
     "output_type": "stream",
     "text": [
      "21.0\n",
      "80.6\n",
      "| ID | GPU | MEM |\n",
      "------------------\n",
      "|  0 |  0% | 19% |\n",
      "|  1 |  0% |  0% |\n"
     ]
    },
    {
     "name": "stderr",
     "output_type": "stream",
     "text": [
      " 61%|███████████████████████████████████████████████████████████████████████████████████████████████████████████████████████████████████████████████████████████████████████████████████████████████████████████████████████████████████████                                                                                                                                                   | 544/890.0 [22:56<15:39,  2.72s/it]"
     ]
    },
    {
     "name": "stdout",
     "output_type": "stream",
     "text": [
      "22.4\n",
      "80.6\n",
      "| ID | GPU | MEM |\n",
      "------------------\n",
      "|  0 |  0% | 19% |\n",
      "|  1 |  0% |  0% |\n"
     ]
    },
    {
     "name": "stderr",
     "output_type": "stream",
     "text": [
      " 61%|███████████████████████████████████████████████████████████████████████████████████████████████████████████████████████████████████████████████████████████████████████████████████████████████████████████████████████████████████████▍                                                                                                                                                  | 545/890.0 [22:58<14:55,  2.60s/it]"
     ]
    },
    {
     "name": "stdout",
     "output_type": "stream",
     "text": [
      "21.9\n",
      "80.6\n",
      "| ID | GPU | MEM |\n",
      "------------------\n",
      "|  0 |  0% | 19% |\n",
      "|  1 |  0% |  0% |\n"
     ]
    },
    {
     "name": "stderr",
     "output_type": "stream",
     "text": [
      " 61%|███████████████████████████████████████████████████████████████████████████████████████████████████████████████████████████████████████████████████████████████████████████████████████████████████████████████████████████████████████▉                                                                                                                                                  | 546/890.0 [23:01<14:35,  2.54s/it]"
     ]
    },
    {
     "name": "stdout",
     "output_type": "stream",
     "text": [
      "22.1\n",
      "80.6\n",
      "| ID | GPU | MEM |\n",
      "------------------\n",
      "|  0 |  0% | 19% |\n",
      "|  1 |  0% |  0% |\n"
     ]
    },
    {
     "name": "stderr",
     "output_type": "stream",
     "text": [
      " 61%|████████████████████████████████████████████████████████████████████████████████████████████████████████████████████████████████████████████████████████████████████████████████████████████████████████████████████████████████████████▎                                                                                                                                                 | 547/890.0 [23:03<14:17,  2.50s/it]"
     ]
    },
    {
     "name": "stdout",
     "output_type": "stream",
     "text": [
      "19.2\n",
      "80.6\n",
      "| ID | GPU | MEM |\n",
      "------------------\n",
      "|  0 |  0% | 19% |\n",
      "|  1 |  0% |  0% |\n"
     ]
    },
    {
     "name": "stderr",
     "output_type": "stream",
     "text": [
      " 62%|████████████████████████████████████████████████████████████████████████████████████████████████████████████████████████████████████████████████████████████████████████████████████████████████████████████████████████████████████████▋                                                                                                                                                 | 548/890.0 [23:07<15:59,  2.81s/it]"
     ]
    },
    {
     "name": "stdout",
     "output_type": "stream",
     "text": [
      "19.1\n",
      "80.6\n",
      "| ID | GPU | MEM |\n",
      "------------------\n",
      "|  0 |  0% | 19% |\n",
      "|  1 |  0% |  0% |\n"
     ]
    },
    {
     "name": "stderr",
     "output_type": "stream",
     "text": [
      " 62%|█████████████████████████████████████████████████████████████████████████████████████████████████████████████████████████████████████████████████████████████████████████████████████████████████████████████████████████████████████████▏                                                                                                                                                | 549/890.0 [23:10<17:07,  3.01s/it]"
     ]
    },
    {
     "name": "stdout",
     "output_type": "stream",
     "text": [
      "18.9\n",
      "80.6\n",
      "| ID | GPU | MEM |\n",
      "------------------\n",
      "|  0 |  0% | 19% |\n",
      "|  1 |  0% |  0% |\n"
     ]
    },
    {
     "name": "stderr",
     "output_type": "stream",
     "text": [
      " 62%|█████████████████████████████████████████████████████████████████████████████████████████████████████████████████████████████████████████████████████████████████████████████████████████████████████████████████████████████████████████▌                                                                                                                                                | 550/890.0 [23:14<17:59,  3.18s/it]"
     ]
    },
    {
     "name": "stdout",
     "output_type": "stream",
     "text": [
      "21.4\n",
      "80.6\n",
      "| ID | GPU | MEM |\n",
      "------------------\n",
      "|  0 |  0% | 19% |\n",
      "|  1 |  0% |  0% |\n"
     ]
    },
    {
     "name": "stderr",
     "output_type": "stream",
     "text": [
      " 62%|██████████████████████████████████████████████████████████████████████████████████████████████████████████████████████████████████████████████████████████████████████████████████████████████████████████████████████████████████████████                                                                                                                                                | 551/890.0 [23:16<16:41,  2.95s/it]"
     ]
    },
    {
     "name": "stdout",
     "output_type": "stream",
     "text": [
      "21.9\n",
      "80.6\n",
      "| ID | GPU | MEM |\n",
      "------------------\n",
      "|  0 |  0% | 19% |\n",
      "|  1 |  0% |  0% |\n"
     ]
    },
    {
     "name": "stderr",
     "output_type": "stream",
     "text": [
      " 62%|██████████████████████████████████████████████████████████████████████████████████████████████████████████████████████████████████████████████████████████████████████████████████████████████████████████████████████████████████████████▍                                                                                                                                               | 552/890.0 [23:19<15:41,  2.79s/it]"
     ]
    },
    {
     "name": "stdout",
     "output_type": "stream",
     "text": [
      "21.9\n",
      "80.6\n",
      "| ID | GPU | MEM |\n",
      "------------------\n",
      "|  0 |  0% | 19% |\n",
      "|  1 |  0% |  0% |\n"
     ]
    },
    {
     "name": "stderr",
     "output_type": "stream",
     "text": [
      " 62%|██████████████████████████████████████████████████████████████████████████████████████████████████████████████████████████████████████████████████████████████████████████████████████████████████████████████████████████████████████████▊                                                                                                                                               | 553/890.0 [23:21<15:01,  2.67s/it]"
     ]
    },
    {
     "name": "stdout",
     "output_type": "stream",
     "text": [
      "19.2\n",
      "80.6\n",
      "| ID | GPU | MEM |\n",
      "------------------\n",
      "|  0 |  0% | 19% |\n",
      "|  1 |  0% |  0% |\n"
     ]
    },
    {
     "name": "stderr",
     "output_type": "stream",
     "text": [
      " 62%|███████████████████████████████████████████████████████████████████████████████████████████████████████████████████████████████████████████████████████████████████████████████████████████████████████████████████████████████████████████▎                                                                                                                                              | 554/890.0 [23:24<16:22,  2.92s/it]"
     ]
    },
    {
     "name": "stdout",
     "output_type": "stream",
     "text": [
      "21.6\n",
      "80.6\n",
      "| ID | GPU | MEM |\n",
      "------------------\n",
      "|  0 |  0% | 19% |\n",
      "|  1 |  0% |  0% |\n"
     ]
    },
    {
     "name": "stderr",
     "output_type": "stream",
     "text": [
      " 62%|███████████████████████████████████████████████████████████████████████████████████████████████████████████████████████████████████████████████████████████████████████████████████████████████████████████████████████████████████████████▋                                                                                                                                              | 555/890.0 [23:27<15:26,  2.77s/it]"
     ]
    },
    {
     "name": "stdout",
     "output_type": "stream",
     "text": [
      "21.7\n",
      "80.6\n",
      "| ID | GPU | MEM |\n",
      "------------------\n",
      "|  0 |  0% | 19% |\n",
      "|  1 |  0% |  0% |\n"
     ]
    },
    {
     "name": "stderr",
     "output_type": "stream",
     "text": [
      " 62%|████████████████████████████████████████████████████████████████████████████████████████████████████████████████████████████████████████████████████████████████████████████████████████████████████████████████████████████████████████████▏                                                                                                                                             | 556/890.0 [23:29<14:08,  2.54s/it]"
     ]
    },
    {
     "name": "stdout",
     "output_type": "stream",
     "text": [
      "22.4\n",
      "80.6\n",
      "| ID | GPU | MEM |\n",
      "------------------\n",
      "|  0 |  0% | 19% |\n",
      "|  1 |  0% |  0% |\n"
     ]
    },
    {
     "name": "stderr",
     "output_type": "stream",
     "text": [
      " 63%|████████████████████████████████████████████████████████████████████████████████████████████████████████████████████████████████████████████████████████████████████████████████████████████████████████████████████████████████████████████▌                                                                                                                                             | 557/890.0 [23:31<13:50,  2.49s/it]"
     ]
    },
    {
     "name": "stdout",
     "output_type": "stream",
     "text": [
      "22.5\n",
      "80.6\n",
      "| ID | GPU | MEM |\n",
      "------------------\n",
      "|  0 |  0% | 19% |\n",
      "|  1 |  0% |  0% |\n"
     ]
    },
    {
     "name": "stderr",
     "output_type": "stream",
     "text": [
      " 63%|████████████████████████████████████████████████████████████████████████████████████████████████████████████████████████████████████████████████████████████████████████████████████████████████████████████████████████████████████████████▉                                                                                                                                             | 558/890.0 [23:33<13:01,  2.35s/it]"
     ]
    },
    {
     "name": "stdout",
     "output_type": "stream",
     "text": [
      "22.0\n",
      "80.6\n",
      "| ID | GPU | MEM |\n",
      "------------------\n",
      "|  0 |  0% | 19% |\n",
      "|  1 |  0% |  0% |\n"
     ]
    },
    {
     "name": "stderr",
     "output_type": "stream",
     "text": [
      " 63%|█████████████████████████████████████████████████████████████████████████████████████████████████████████████████████████████████████████████████████████████████████████████████████████████████████████████████████████████████████████████▍                                                                                                                                            | 559/890.0 [23:36<13:06,  2.38s/it]"
     ]
    },
    {
     "name": "stdout",
     "output_type": "stream",
     "text": [
      "21.7\n",
      "80.6\n",
      "| ID | GPU | MEM |\n",
      "------------------\n",
      "|  0 |  0% | 19% |\n",
      "|  1 |  0% |  0% |\n"
     ]
    },
    {
     "name": "stderr",
     "output_type": "stream",
     "text": [
      " 63%|█████████████████████████████████████████████████████████████████████████████████████████████████████████████████████████████████████████████████████████████████████████████████████████████████████████████████████████████████████████████▊                                                                                                                                            | 560/890.0 [23:38<13:10,  2.40s/it]"
     ]
    },
    {
     "name": "stdout",
     "output_type": "stream",
     "text": [
      "21.9\n",
      "80.6\n",
      "| ID | GPU | MEM |\n",
      "------------------\n",
      "|  0 |  0% | 19% |\n",
      "|  1 |  0% |  0% |\n"
     ]
    },
    {
     "name": "stderr",
     "output_type": "stream",
     "text": [
      " 63%|██████████████████████████████████████████████████████████████████████████████████████████████████████████████████████████████████████████████████████████████████████████████████████████████████████████████████████████████████████████████▎                                                                                                                                           | 561/890.0 [23:41<13:14,  2.42s/it]"
     ]
    },
    {
     "name": "stdout",
     "output_type": "stream",
     "text": [
      "20.6\n",
      "80.6\n",
      "| ID | GPU | MEM |\n",
      "------------------\n",
      "|  0 |  0% | 19% |\n",
      "|  1 |  0% |  0% |\n"
     ]
    },
    {
     "name": "stderr",
     "output_type": "stream",
     "text": [
      " 63%|██████████████████████████████████████████████████████████████████████████████████████████████████████████████████████████████████████████████████████████████████████████████████████████████████████████████████████████████████████████████▋                                                                                                                                           | 562/890.0 [23:44<14:41,  2.69s/it]"
     ]
    },
    {
     "name": "stdout",
     "output_type": "stream",
     "text": [
      "20.8\n",
      "80.6\n",
      "| ID | GPU | MEM |\n",
      "------------------\n",
      "|  0 |  0% | 19% |\n",
      "|  1 |  0% |  0% |\n"
     ]
    },
    {
     "name": "stderr",
     "output_type": "stream",
     "text": [
      " 63%|███████████████████████████████████████████████████████████████████████████████████████████████████████████████████████████████████████████████████████████████████████████████████████████████████████████████████████████████████████████████                                                                                                                                           | 563/890.0 [23:46<14:09,  2.60s/it]"
     ]
    },
    {
     "name": "stdout",
     "output_type": "stream",
     "text": [
      "21.3\n",
      "80.6\n",
      "| ID | GPU | MEM |\n",
      "------------------\n",
      "|  0 |  0% | 19% |\n",
      "|  1 |  0% |  0% |\n"
     ]
    },
    {
     "name": "stderr",
     "output_type": "stream",
     "text": [
      " 63%|███████████████████████████████████████████████████████████████████████████████████████████████████████████████████████████████████████████████████████████████████████████████████████████████████████████████████████████████████████████████▌                                                                                                                                          | 564/890.0 [23:49<13:54,  2.56s/it]"
     ]
    },
    {
     "name": "stdout",
     "output_type": "stream",
     "text": [
      "21.9\n",
      "80.6\n",
      "| ID | GPU | MEM |\n",
      "------------------\n",
      "|  0 |  0% | 19% |\n",
      "|  1 |  0% |  0% |\n"
     ]
    },
    {
     "name": "stderr",
     "output_type": "stream",
     "text": [
      " 63%|███████████████████████████████████████████████████████████████████████████████████████████████████████████████████████████████████████████████████████████████████████████████████████████████████████████████████████████████████████████████▉                                                                                                                                          | 565/890.0 [23:51<12:55,  2.39s/it]"
     ]
    },
    {
     "name": "stdout",
     "output_type": "stream",
     "text": [
      "22.5\n",
      "80.6\n",
      "| ID | GPU | MEM |\n",
      "------------------\n",
      "|  0 |  0% | 19% |\n",
      "|  1 |  1% |  0% |\n"
     ]
    },
    {
     "name": "stderr",
     "output_type": "stream",
     "text": [
      " 64%|████████████████████████████████████████████████████████████████████████████████████████████████████████████████████████████████████████████████████████████████████████████████████████████████████████████████████████████████████████████████▍                                                                                                                                         | 566/890.0 [23:53<12:53,  2.39s/it]"
     ]
    },
    {
     "name": "stdout",
     "output_type": "stream",
     "text": [
      "22.5\n",
      "80.6\n",
      "| ID | GPU | MEM |\n",
      "------------------\n",
      "|  0 |  0% | 19% |\n",
      "|  1 |  0% |  0% |\n"
     ]
    },
    {
     "name": "stderr",
     "output_type": "stream",
     "text": [
      " 64%|████████████████████████████████████████████████████████████████████████████████████████████████████████████████████████████████████████████████████████████████████████████████████████████████████████████████████████████████████████████████▊                                                                                                                                         | 567/890.0 [23:56<12:51,  2.39s/it]"
     ]
    },
    {
     "name": "stdout",
     "output_type": "stream",
     "text": [
      "22.8\n",
      "80.6\n",
      "| ID | GPU | MEM |\n",
      "------------------\n",
      "|  0 |  0% | 19% |\n",
      "|  1 |  0% |  0% |\n"
     ]
    },
    {
     "name": "stderr",
     "output_type": "stream",
     "text": [
      " 64%|█████████████████████████████████████████████████████████████████████████████████████████████████████████████████████████████████████████████████████████████████████████████████████████████████████████████████████████████████████████████████▏                                                                                                                                        | 568/890.0 [23:58<12:46,  2.38s/it]"
     ]
    },
    {
     "name": "stdout",
     "output_type": "stream",
     "text": [
      "22.0\n",
      "80.6\n",
      "| ID | GPU | MEM |\n",
      "------------------\n",
      "|  0 |  0% | 19% |\n",
      "|  1 |  1% |  0% |\n"
     ]
    },
    {
     "name": "stderr",
     "output_type": "stream",
     "text": [
      " 64%|█████████████████████████████████████████████████████████████████████████████████████████████████████████████████████████████████████████████████████████████████████████████████████████████████████████████████████████████████████████████████▋                                                                                                                                        | 569/890.0 [24:00<12:45,  2.38s/it]"
     ]
    },
    {
     "name": "stdout",
     "output_type": "stream",
     "text": [
      "22.4\n",
      "80.6\n",
      "| ID | GPU | MEM |\n",
      "------------------\n",
      "|  0 |  0% | 19% |\n",
      "|  1 |  0% |  0% |\n"
     ]
    },
    {
     "name": "stderr",
     "output_type": "stream",
     "text": [
      " 64%|██████████████████████████████████████████████████████████████████████████████████████████████████████████████████████████████████████████████████████████████████████████████████████████████████████████████████████████████████████████████████                                                                                                                                        | 570/890.0 [24:03<12:42,  2.38s/it]"
     ]
    },
    {
     "name": "stdout",
     "output_type": "stream",
     "text": [
      "22.9\n",
      "80.6\n",
      "| ID | GPU | MEM |\n",
      "------------------\n",
      "|  0 |  0% | 19% |\n",
      "|  1 |  0% |  0% |\n"
     ]
    },
    {
     "name": "stderr",
     "output_type": "stream",
     "text": [
      " 64%|██████████████████████████████████████████████████████████████████████████████████████████████████████████████████████████████████████████████████████████████████████████████████████████████████████████████████████████████████████████████████▌                                                                                                                                       | 571/890.0 [24:05<12:38,  2.38s/it]"
     ]
    },
    {
     "name": "stdout",
     "output_type": "stream",
     "text": [
      "22.1\n",
      "80.6\n",
      "| ID | GPU | MEM |\n",
      "------------------\n",
      "|  0 |  0% | 19% |\n",
      "|  1 |  0% |  0% |\n"
     ]
    },
    {
     "name": "stderr",
     "output_type": "stream",
     "text": [
      " 64%|██████████████████████████████████████████████████████████████████████████████████████████████████████████████████████████████████████████████████████████████████████████████████████████████████████████████████████████████████████████████████▉                                                                                                                                       | 572/890.0 [24:07<12:37,  2.38s/it]"
     ]
    },
    {
     "name": "stdout",
     "output_type": "stream",
     "text": [
      "22.3\n",
      "80.6\n",
      "| ID | GPU | MEM |\n",
      "------------------\n",
      "|  0 |  0% | 19% |\n",
      "|  1 |  0% |  0% |\n"
     ]
    },
    {
     "name": "stderr",
     "output_type": "stream",
     "text": [
      " 64%|███████████████████████████████████████████████████████████████████████████████████████████████████████████████████████████████████████████████████████████████████████████████████████████████████████████████████████████████████████████████████▎                                                                                                                                      | 573/890.0 [24:10<12:35,  2.38s/it]"
     ]
    },
    {
     "name": "stdout",
     "output_type": "stream",
     "text": [
      "22.1\n",
      "80.6\n",
      "| ID | GPU | MEM |\n",
      "------------------\n",
      "|  0 |  0% | 19% |\n",
      "|  1 |  0% |  0% |\n"
     ]
    },
    {
     "name": "stderr",
     "output_type": "stream",
     "text": [
      " 64%|███████████████████████████████████████████████████████████████████████████████████████████████████████████████████████████████████████████████████████████████████████████████████████████████████████████████████████████████████████████████████▊                                                                                                                                      | 574/890.0 [24:12<12:31,  2.38s/it]"
     ]
    },
    {
     "name": "stdout",
     "output_type": "stream",
     "text": [
      "18.4\n",
      "80.6\n",
      "| ID | GPU | MEM |\n",
      "------------------\n",
      "|  0 |  0% | 19% |\n",
      "|  1 |  0% |  0% |\n"
     ]
    },
    {
     "name": "stderr",
     "output_type": "stream",
     "text": [
      " 65%|████████████████████████████████████████████████████████████████████████████████████████████████████████████████████████████████████████████████████████████████████████████████████████████████████████████████████████████████████████████████████▏                                                                                                                                     | 575/890.0 [24:16<14:23,  2.74s/it]"
     ]
    },
    {
     "name": "stdout",
     "output_type": "stream",
     "text": [
      "21.5\n",
      "80.6\n",
      "| ID | GPU | MEM |\n",
      "------------------\n",
      "|  0 |  0% | 19% |\n",
      "|  1 |  0% |  0% |\n"
     ]
    },
    {
     "name": "stderr",
     "output_type": "stream",
     "text": [
      " 65%|████████████████████████████████████████████████████████████████████████████████████████████████████████████████████████████████████████████████████████████████████████████████████████████████████████████████████████████████████████████████████▋                                                                                                                                     | 576/890.0 [24:18<13:40,  2.61s/it]"
     ]
    },
    {
     "name": "stdout",
     "output_type": "stream",
     "text": [
      "21.3\n",
      "80.6\n",
      "| ID | GPU | MEM |\n",
      "------------------\n",
      "|  0 |  0% | 19% |\n",
      "|  1 |  0% |  0% |\n"
     ]
    },
    {
     "name": "stderr",
     "output_type": "stream",
     "text": [
      " 65%|█████████████████████████████████████████████████████████████████████████████████████████████████████████████████████████████████████████████████████████████████████████████████████████████████████████████████████████████████████████████████████                                                                                                                                     | 577/890.0 [24:21<13:22,  2.56s/it]"
     ]
    },
    {
     "name": "stdout",
     "output_type": "stream",
     "text": [
      "21.9\n",
      "80.6\n",
      "| ID | GPU | MEM |\n",
      "------------------\n",
      "|  0 |  0% | 19% |\n",
      "|  1 |  0% |  0% |\n"
     ]
    },
    {
     "name": "stderr",
     "output_type": "stream",
     "text": [
      " 65%|█████████████████████████████████████████████████████████████████████████████████████████████████████████████████████████████████████████████████████████████████████████████████████████████████████████████████████████████████████████████████████▍                                                                                                                                    | 578/890.0 [24:23<13:02,  2.51s/it]"
     ]
    },
    {
     "name": "stdout",
     "output_type": "stream",
     "text": [
      "22.0\n",
      "80.6\n",
      "| ID | GPU | MEM |\n",
      "------------------\n",
      "|  0 |  0% | 19% |\n",
      "|  1 |  0% |  0% |\n"
     ]
    },
    {
     "name": "stderr",
     "output_type": "stream",
     "text": [
      " 65%|█████████████████████████████████████████████████████████████████████████████████████████████████████████████████████████████████████████████████████████████████████████████████████████████████████████████████████████████████████████████████████▉                                                                                                                                    | 579/890.0 [24:25<12:50,  2.48s/it]"
     ]
    },
    {
     "name": "stdout",
     "output_type": "stream",
     "text": [
      "21.4\n",
      "80.6\n",
      "| ID | GPU | MEM |\n",
      "------------------\n",
      "|  0 |  0% | 19% |\n",
      "|  1 |  0% |  0% |\n"
     ]
    },
    {
     "name": "stderr",
     "output_type": "stream",
     "text": [
      " 65%|██████████████████████████████████████████████████████████████████████████████████████████████████████████████████████████████████████████████████████████████████████████████████████████████████████████████████████████████████████████████████████▎                                                                                                                                   | 580/890.0 [24:28<12:48,  2.48s/it]"
     ]
    },
    {
     "name": "stdout",
     "output_type": "stream",
     "text": [
      "22.1\n",
      "80.6\n",
      "| ID | GPU | MEM |\n",
      "------------------\n",
      "|  0 |  0% | 19% |\n",
      "|  1 |  0% |  0% |\n"
     ]
    },
    {
     "name": "stderr",
     "output_type": "stream",
     "text": [
      " 65%|██████████████████████████████████████████████████████████████████████████████████████████████████████████████████████████████████████████████████████████████████████████████████████████████████████████████████████████████████████████████████████▊                                                                                                                                   | 581/890.0 [24:30<12:37,  2.45s/it]"
     ]
    },
    {
     "name": "stdout",
     "output_type": "stream",
     "text": [
      "22.0\n",
      "80.6\n",
      "| ID | GPU | MEM |\n",
      "------------------\n",
      "|  0 |  0% | 19% |\n",
      "|  1 |  0% |  0% |\n"
     ]
    },
    {
     "name": "stderr",
     "output_type": "stream",
     "text": [
      " 65%|███████████████████████████████████████████████████████████████████████████████████████████████████████████████████████████████████████████████████████████████████████████████████████████████████████████████████████████████████████████████████████▏                                                                                                                                  | 582/890.0 [24:33<12:29,  2.43s/it]"
     ]
    },
    {
     "name": "stdout",
     "output_type": "stream",
     "text": [
      "21.9\n",
      "80.6\n",
      "| ID | GPU | MEM |\n",
      "------------------\n",
      "|  0 |  0% | 19% |\n",
      "|  1 |  0% |  0% |\n"
     ]
    },
    {
     "name": "stderr",
     "output_type": "stream",
     "text": [
      " 66%|███████████████████████████████████████████████████████████████████████████████████████████████████████████████████████████████████████████████████████████████████████████████████████████████████████████████████████████████████████████████████████▌                                                                                                                                  | 583/890.0 [24:35<12:23,  2.42s/it]"
     ]
    },
    {
     "name": "stdout",
     "output_type": "stream",
     "text": [
      "22.0\n",
      "80.6\n",
      "| ID | GPU | MEM |\n",
      "------------------\n",
      "|  0 |  0% | 19% |\n",
      "|  1 |  0% |  0% |\n"
     ]
    },
    {
     "name": "stderr",
     "output_type": "stream",
     "text": [
      " 66%|████████████████████████████████████████████████████████████████████████████████████████████████████████████████████████████████████████████████████████████████████████████████████████████████████████████████████████████████████████████████████████                                                                                                                                  | 584/890.0 [24:37<12:19,  2.42s/it]"
     ]
    },
    {
     "name": "stdout",
     "output_type": "stream",
     "text": [
      "21.7\n",
      "80.6\n",
      "| ID | GPU | MEM |\n",
      "------------------\n",
      "|  0 |  0% | 19% |\n",
      "|  1 |  0% |  0% |\n"
     ]
    },
    {
     "name": "stderr",
     "output_type": "stream",
     "text": [
      " 66%|████████████████████████████████████████████████████████████████████████████████████████████████████████████████████████████████████████████████████████████████████████████████████████████████████████████████████████████████████████████████████████▍                                                                                                                                 | 585/890.0 [24:40<12:26,  2.45s/it]"
     ]
    },
    {
     "name": "stdout",
     "output_type": "stream",
     "text": [
      "20.9\n",
      "80.6\n",
      "| ID | GPU | MEM |\n",
      "------------------\n",
      "|  0 |  0% | 19% |\n",
      "|  1 |  0% |  0% |\n"
     ]
    },
    {
     "name": "stderr",
     "output_type": "stream",
     "text": [
      " 66%|████████████████████████████████████████████████████████████████████████████████████████████████████████████████████████████████████████████████████████████████████████████████████████████████████████████████████████████████████████████████████████▉                                                                                                                                 | 586/890.0 [24:42<12:25,  2.45s/it]"
     ]
    },
    {
     "name": "stdout",
     "output_type": "stream",
     "text": [
      "21.8\n",
      "80.6\n",
      "| ID | GPU | MEM |\n",
      "------------------\n",
      "|  0 |  0% | 19% |\n",
      "|  1 |  0% |  0% |\n"
     ]
    },
    {
     "name": "stderr",
     "output_type": "stream",
     "text": [
      " 66%|█████████████████████████████████████████████████████████████████████████████████████████████████████████████████████████████████████████████████████████████████████████████████████████████████████████████████████████████████████████████████████████▎                                                                                                                                | 587/890.0 [24:45<12:15,  2.43s/it]"
     ]
    },
    {
     "name": "stdout",
     "output_type": "stream",
     "text": [
      "20.7\n",
      "80.6\n",
      "| ID | GPU | MEM |\n",
      "------------------\n",
      "|  0 |  0% | 19% |\n",
      "|  1 |  0% |  0% |\n"
     ]
    },
    {
     "name": "stderr",
     "output_type": "stream",
     "text": [
      " 66%|█████████████████████████████████████████████████████████████████████████████████████████████████████████████████████████████████████████████████████████████████████████████████████████████████████████████████████████████████████████████████████████▋                                                                                                                                | 588/890.0 [24:47<12:17,  2.44s/it]"
     ]
    },
    {
     "name": "stdout",
     "output_type": "stream",
     "text": [
      "22.0\n",
      "80.6\n",
      "| ID | GPU | MEM |\n",
      "------------------\n",
      "|  0 |  0% | 19% |\n",
      "|  1 |  0% |  0% |\n"
     ]
    },
    {
     "name": "stderr",
     "output_type": "stream",
     "text": [
      " 66%|██████████████████████████████████████████████████████████████████████████████████████████████████████████████████████████████████████████████████████████████████████████████████████████████████████████████████████████████████████████████████████████▏                                                                                                                               | 589/890.0 [24:50<12:02,  2.40s/it]"
     ]
    },
    {
     "name": "stdout",
     "output_type": "stream",
     "text": [
      "18.9\n",
      "80.6\n",
      "| ID | GPU | MEM |\n",
      "------------------\n",
      "|  0 |  0% | 19% |\n",
      "|  1 |  0% |  0% |\n"
     ]
    },
    {
     "name": "stderr",
     "output_type": "stream",
     "text": [
      " 66%|██████████████████████████████████████████████████████████████████████████████████████████████████████████████████████████████████████████████████████████████████████████████████████████████████████████████████████████████████████████████████████████▌                                                                                                                               | 590/890.0 [24:53<13:30,  2.70s/it]"
     ]
    },
    {
     "name": "stdout",
     "output_type": "stream",
     "text": [
      "21.3\n",
      "80.6\n",
      "| ID | GPU | MEM |\n",
      "------------------\n",
      "|  0 |  0% | 19% |\n",
      "|  1 |  0% |  0% |\n"
     ]
    },
    {
     "name": "stderr",
     "output_type": "stream",
     "text": [
      " 66%|███████████████████████████████████████████████████████████████████████████████████████████████████████████████████████████████████████████████████████████████████████████████████████████████████████████████████████████████████████████████████████████                                                                                                                               | 591/890.0 [24:55<13:00,  2.61s/it]"
     ]
    },
    {
     "name": "stdout",
     "output_type": "stream",
     "text": [
      "21.6\n",
      "80.6\n",
      "| ID | GPU | MEM |\n",
      "------------------\n",
      "|  0 |  0% | 19% |\n",
      "|  1 |  0% |  0% |\n"
     ]
    },
    {
     "name": "stderr",
     "output_type": "stream",
     "text": [
      " 67%|███████████████████████████████████████████████████████████████████████████████████████████████████████████████████████████████████████████████████████████████████████████████████████████████████████████████████████████████████████████████████████████▍                                                                                                                              | 592/890.0 [24:58<12:36,  2.54s/it]"
     ]
    },
    {
     "name": "stdout",
     "output_type": "stream",
     "text": [
      "21.3\n",
      "80.6\n",
      "| ID | GPU | MEM |\n",
      "------------------\n",
      "|  0 |  0% | 19% |\n",
      "|  1 |  0% |  0% |\n"
     ]
    },
    {
     "name": "stderr",
     "output_type": "stream",
     "text": [
      " 67%|███████████████████████████████████████████████████████████████████████████████████████████████████████████████████████████████████████████████████████████████████████████████████████████████████████████████████████████████████████████████████████████▊                                                                                                                              | 593/890.0 [25:00<12:30,  2.53s/it]"
     ]
    },
    {
     "name": "stdout",
     "output_type": "stream",
     "text": [
      "21.7\n",
      "80.6\n",
      "| ID | GPU | MEM |\n",
      "------------------\n",
      "|  0 |  0% | 19% |\n",
      "|  1 |  0% |  0% |\n"
     ]
    },
    {
     "name": "stderr",
     "output_type": "stream",
     "text": [
      " 67%|████████████████████████████████████████████████████████████████████████████████████████████████████████████████████████████████████████████████████████████████████████████████████████████████████████████████████████████████████████████████████████████▎                                                                                                                             | 594/890.0 [25:03<12:15,  2.49s/it]"
     ]
    },
    {
     "name": "stdout",
     "output_type": "stream",
     "text": [
      "21.7\n",
      "80.6\n",
      "| ID | GPU | MEM |\n",
      "------------------\n",
      "|  0 |  0% | 19% |\n",
      "|  1 |  0% |  0% |\n"
     ]
    },
    {
     "name": "stderr",
     "output_type": "stream",
     "text": [
      " 67%|████████████████████████████████████████████████████████████████████████████████████████████████████████████████████████████████████████████████████████████████████████████████████████████████████████████████████████████████████████████████████████████▋                                                                                                                             | 595/890.0 [25:05<12:07,  2.46s/it]"
     ]
    },
    {
     "name": "stdout",
     "output_type": "stream",
     "text": [
      "21.5\n",
      "80.6\n",
      "| ID | GPU | MEM |\n",
      "------------------\n",
      "|  0 |  0% | 19% |\n",
      "|  1 |  0% |  0% |\n"
     ]
    },
    {
     "name": "stderr",
     "output_type": "stream",
     "text": [
      " 67%|█████████████████████████████████████████████████████████████████████████████████████████████████████████████████████████████████████████████████████████████████████████████████████████████████████████████████████████████████████████████████████████████▏                                                                                                                            | 596/890.0 [25:07<12:05,  2.47s/it]"
     ]
    },
    {
     "name": "stdout",
     "output_type": "stream",
     "text": [
      "21.8\n",
      "80.6\n",
      "| ID | GPU | MEM |\n",
      "------------------\n",
      "|  0 |  0% | 19% |\n",
      "|  1 |  0% |  0% |\n"
     ]
    },
    {
     "name": "stderr",
     "output_type": "stream",
     "text": [
      " 67%|█████████████████████████████████████████████████████████████████████████████████████████████████████████████████████████████████████████████████████████████████████████████████████████████████████████████████████████████████████████████████████████████▌                                                                                                                            | 597/890.0 [25:10<11:59,  2.46s/it]"
     ]
    },
    {
     "name": "stdout",
     "output_type": "stream",
     "text": [
      "19.1\n",
      "80.6\n",
      "| ID | GPU | MEM |\n",
      "------------------\n",
      "|  0 |  0% | 19% |\n",
      "|  1 |  0% |  0% |\n"
     ]
    },
    {
     "name": "stderr",
     "output_type": "stream",
     "text": [
      " 67%|█████████████████████████████████████████████████████████████████████████████████████████████████████████████████████████████████████████████████████████████████████████████████████████████████████████████████████████████████████████████████████████████▉                                                                                                                            | 598/890.0 [25:13<13:30,  2.78s/it]"
     ]
    },
    {
     "name": "stdout",
     "output_type": "stream",
     "text": [
      "20.9\n",
      "80.6\n",
      "| ID | GPU | MEM |\n",
      "------------------\n",
      "|  0 |  0% | 19% |\n",
      "|  1 |  0% |  0% |\n"
     ]
    },
    {
     "name": "stderr",
     "output_type": "stream",
     "text": [
      " 67%|██████████████████████████████████████████████████████████████████████████████████████████████████████████████████████████████████████████████████████████████████████████████████████████████████████████████████████████████████████████████████████████████▍                                                                                                                           | 599/890.0 [25:16<13:07,  2.71s/it]"
     ]
    },
    {
     "name": "stdout",
     "output_type": "stream",
     "text": [
      "21.3\n",
      "80.6\n",
      "| ID | GPU | MEM |\n",
      "------------------\n",
      "|  0 |  0% | 19% |\n",
      "|  1 |  0% |  0% |\n"
     ]
    },
    {
     "name": "stderr",
     "output_type": "stream",
     "text": [
      " 67%|██████████████████████████████████████████████████████████████████████████████████████████████████████████████████████████████████████████████████████████████████████████████████████████████████████████████████████████████████████████████████████████████▊                                                                                                                           | 600/890.0 [25:18<12:41,  2.63s/it]"
     ]
    },
    {
     "name": "stdout",
     "output_type": "stream",
     "text": [
      "21.7\n",
      "80.6\n",
      "| ID | GPU | MEM |\n",
      "------------------\n",
      "|  0 |  0% | 19% |\n",
      "|  1 |  0% |  0% |\n"
     ]
    },
    {
     "name": "stderr",
     "output_type": "stream",
     "text": [
      " 68%|███████████████████████████████████████████████████████████████████████████████████████████████████████████████████████████████████████████████████████████████████████████████████████████████████████████████████████████████████████████████████████████████▎                                                                                                                          | 601/890.0 [25:21<12:22,  2.57s/it]"
     ]
    },
    {
     "name": "stdout",
     "output_type": "stream",
     "text": [
      "18.9\n",
      "80.6\n",
      "| ID | GPU | MEM |\n",
      "------------------\n",
      "|  0 |  0% | 19% |\n",
      "|  1 |  0% |  0% |\n"
     ]
    },
    {
     "name": "stderr",
     "output_type": "stream",
     "text": [
      " 68%|███████████████████████████████████████████████████████████████████████████████████████████████████████████████████████████████████████████████████████████████████████████████████████████████████████████████████████████████████████████████████████████████▋                                                                                                                          | 602/890.0 [25:24<13:39,  2.84s/it]"
     ]
    },
    {
     "name": "stdout",
     "output_type": "stream",
     "text": [
      "19.3\n",
      "80.6\n",
      "| ID | GPU | MEM |\n",
      "------------------\n",
      "|  0 |  0% | 19% |\n",
      "|  1 |  0% |  0% |\n"
     ]
    },
    {
     "name": "stderr",
     "output_type": "stream",
     "text": [
      " 68%|████████████████████████████████████████████████████████████████████████████████████████████████████████████████████████████████████████████████████████████████████████████████████████████████████████████████████████████████████████████████████████████████                                                                                                                          | 603/890.0 [25:28<14:28,  3.02s/it]"
     ]
    },
    {
     "name": "stdout",
     "output_type": "stream",
     "text": [
      "21.8\n",
      "80.6\n",
      "| ID | GPU | MEM |\n",
      "------------------\n",
      "|  0 |  0% | 19% |\n",
      "|  1 |  0% |  0% |\n"
     ]
    },
    {
     "name": "stderr",
     "output_type": "stream",
     "text": [
      " 68%|████████████████████████████████████████████████████████████████████████████████████████████████████████████████████████████████████████████████████████████████████████████████████████████████████████████████████████████████████████████████████████████████▌                                                                                                                         | 604/890.0 [25:30<13:26,  2.82s/it]"
     ]
    },
    {
     "name": "stdout",
     "output_type": "stream",
     "text": [
      "19.1\n",
      "80.6\n",
      "| ID | GPU | MEM |\n",
      "------------------\n",
      "|  0 |  0% | 19% |\n",
      "|  1 |  0% |  0% |\n"
     ]
    },
    {
     "name": "stderr",
     "output_type": "stream",
     "text": [
      " 68%|████████████████████████████████████████████████████████████████████████████████████████████████████████████████████████████████████████████████████████████████████████████████████████████████████████████████████████████████████████████████████████████████▉                                                                                                                         | 605/890.0 [25:34<14:16,  3.01s/it]"
     ]
    },
    {
     "name": "stdout",
     "output_type": "stream",
     "text": [
      "21.7\n",
      "80.6\n",
      "| ID | GPU | MEM |\n",
      "------------------\n",
      "|  0 |  0% | 19% |\n",
      "|  1 |  0% |  0% |\n"
     ]
    },
    {
     "name": "stderr",
     "output_type": "stream",
     "text": [
      " 68%|█████████████████████████████████████████████████████████████████████████████████████████████████████████████████████████████████████████████████████████████████████████████████████████████████████████████████████████████████████████████████████████████████▍                                                                                                                        | 606/890.0 [25:36<13:21,  2.82s/it]"
     ]
    },
    {
     "name": "stdout",
     "output_type": "stream",
     "text": [
      "21.7\n",
      "80.6\n",
      "| ID | GPU | MEM |\n",
      "------------------\n",
      "|  0 |  0% | 19% |\n",
      "|  1 |  0% |  0% |\n"
     ]
    },
    {
     "name": "stderr",
     "output_type": "stream",
     "text": [
      " 68%|█████████████████████████████████████████████████████████████████████████████████████████████████████████████████████████████████████████████████████████████████████████████████████████████████████████████████████████████████████████████████████████████████▊                                                                                                                        | 607/890.0 [25:38<12:40,  2.69s/it]"
     ]
    },
    {
     "name": "stdout",
     "output_type": "stream",
     "text": [
      "21.6\n",
      "80.7\n",
      "| ID | GPU | MEM |\n",
      "------------------\n",
      "|  0 |  0% | 19% |\n",
      "|  1 |  0% |  0% |\n"
     ]
    },
    {
     "name": "stderr",
     "output_type": "stream",
     "text": [
      " 68%|██████████████████████████████████████████████████████████████████████████████████████████████████████████████████████████████████████████████████████████████████████████████████████████████████████████████████████████████████████████████████████████████████▏                                                                                                                       | 608/890.0 [25:40<11:41,  2.49s/it]"
     ]
    },
    {
     "name": "stdout",
     "output_type": "stream",
     "text": [
      "20.3\n",
      "80.6\n",
      "| ID | GPU | MEM |\n",
      "------------------\n",
      "|  0 |  0% | 19% |\n",
      "|  1 |  0% |  0% |\n"
     ]
    },
    {
     "name": "stderr",
     "output_type": "stream",
     "text": [
      " 68%|██████████████████████████████████████████████████████████████████████████████████████████████████████████████████████████████████████████████████████████████████████████████████████████████████████████████████████████████████████████████████████████████████▋                                                                                                                       | 609/890.0 [25:44<12:40,  2.71s/it]"
     ]
    },
    {
     "name": "stdout",
     "output_type": "stream",
     "text": [
      "21.4\n",
      "80.6\n",
      "| ID | GPU | MEM |\n",
      "------------------\n",
      "|  0 |  0% | 19% |\n",
      "|  1 |  0% |  0% |\n"
     ]
    },
    {
     "name": "stderr",
     "output_type": "stream",
     "text": [
      " 69%|███████████████████████████████████████████████████████████████████████████████████████████████████████████████████████████████████████████████████████████████████████████████████████████████████████████████████████████████████████████████████████████████████                                                                                                                       | 610/890.0 [25:46<12:17,  2.64s/it]"
     ]
    },
    {
     "name": "stdout",
     "output_type": "stream",
     "text": [
      "22.3\n",
      "80.6\n",
      "| ID | GPU | MEM |\n",
      "------------------\n",
      "|  0 |  0% | 19% |\n",
      "|  1 |  0% |  0% |\n"
     ]
    },
    {
     "name": "stderr",
     "output_type": "stream",
     "text": [
      " 69%|███████████████████████████████████████████████████████████████████████████████████████████████████████████████████████████████████████████████████████████████████████████████████████████████████████████████████████████████████████████████████████████████████▌                                                                                                                      | 611/890.0 [25:48<11:51,  2.55s/it]"
     ]
    },
    {
     "name": "stdout",
     "output_type": "stream",
     "text": [
      "21.6\n",
      "80.6\n",
      "| ID | GPU | MEM |\n",
      "------------------\n",
      "|  0 |  0% | 19% |\n",
      "|  1 |  0% |  0% |\n"
     ]
    },
    {
     "name": "stderr",
     "output_type": "stream",
     "text": [
      " 69%|███████████████████████████████████████████████████████████████████████████████████████████████████████████████████████████████████████████████████████████████████████████████████████████████████████████████████████████████████████████████████████████████████▉                                                                                                                      | 612/890.0 [25:51<11:39,  2.52s/it]"
     ]
    },
    {
     "name": "stdout",
     "output_type": "stream",
     "text": [
      "22.1\n",
      "80.6\n",
      "| ID | GPU | MEM |\n",
      "------------------\n",
      "|  0 |  0% | 19% |\n",
      "|  1 |  0% |  0% |\n"
     ]
    },
    {
     "name": "stderr",
     "output_type": "stream",
     "text": [
      " 69%|████████████████████████████████████████████████████████████████████████████████████████████████████████████████████████████████████████████████████████████████████████████████████████████████████████████████████████████████████████████████████████████████████▎                                                                                                                     | 613/890.0 [25:53<11:26,  2.48s/it]"
     ]
    },
    {
     "name": "stdout",
     "output_type": "stream",
     "text": [
      "21.9\n",
      "80.6\n",
      "| ID | GPU | MEM |\n",
      "------------------\n",
      "|  0 |  0% | 19% |\n",
      "|  1 |  0% |  0% |\n"
     ]
    },
    {
     "name": "stderr",
     "output_type": "stream",
     "text": [
      " 69%|████████████████████████████████████████████████████████████████████████████████████████████████████████████████████████████████████████████████████████████████████████████████████████████████████████████████████████████████████████████████████████████████████▊                                                                                                                     | 614/890.0 [25:56<11:17,  2.45s/it]"
     ]
    },
    {
     "name": "stdout",
     "output_type": "stream",
     "text": [
      "19.2\n",
      "80.6\n",
      "| ID | GPU | MEM |\n",
      "------------------\n",
      "|  0 |  0% | 19% |\n",
      "|  1 |  0% |  0% |\n"
     ]
    },
    {
     "name": "stderr",
     "output_type": "stream",
     "text": [
      " 69%|█████████████████████████████████████████████████████████████████████████████████████████████████████████████████████████████████████████████████████████████████████████████████████████████████████████████████████████████████████████████████████████████████████▏                                                                                                                    | 615/890.0 [25:59<12:41,  2.77s/it]"
     ]
    },
    {
     "name": "stdout",
     "output_type": "stream",
     "text": [
      "21.7\n",
      "80.6\n",
      "| ID | GPU | MEM |\n",
      "------------------\n",
      "|  0 |  0% | 19% |\n",
      "|  1 |  0% |  0% |\n"
     ]
    },
    {
     "name": "stderr",
     "output_type": "stream",
     "text": [
      " 69%|█████████████████████████████████████████████████████████████████████████████████████████████████████████████████████████████████████████████████████████████████████████████████████████████████████████████████████████████████████████████████████████████████████▋                                                                                                                    | 616/890.0 [26:01<12:06,  2.65s/it]"
     ]
    },
    {
     "name": "stdout",
     "output_type": "stream",
     "text": [
      "21.9\n",
      "80.6\n",
      "| ID | GPU | MEM |\n",
      "------------------\n",
      "|  0 |  0% | 19% |\n",
      "|  1 |  0% |  0% |\n"
     ]
    },
    {
     "name": "stderr",
     "output_type": "stream",
     "text": [
      " 69%|██████████████████████████████████████████████████████████████████████████████████████████████████████████████████████████████████████████████████████████████████████████████████████████████████████████████████████████████████████████████████████████████████████                                                                                                                    | 617/890.0 [26:04<11:44,  2.58s/it]"
     ]
    },
    {
     "name": "stdout",
     "output_type": "stream",
     "text": [
      "21.8\n",
      "80.6\n",
      "| ID | GPU | MEM |\n",
      "------------------\n",
      "|  0 |  0% | 19% |\n",
      "|  1 |  0% |  0% |\n"
     ]
    },
    {
     "name": "stderr",
     "output_type": "stream",
     "text": [
      " 69%|██████████████████████████████████████████████████████████████████████████████████████████████████████████████████████████████████████████████████████████████████████████████████████████████████████████████████████████████████████████████████████████████████████▍                                                                                                                   | 618/890.0 [26:06<11:26,  2.52s/it]"
     ]
    },
    {
     "name": "stdout",
     "output_type": "stream",
     "text": [
      "22.0\n",
      "80.6\n",
      "| ID | GPU | MEM |\n",
      "------------------\n",
      "|  0 |  0% | 19% |\n",
      "|  1 |  0% |  0% |\n"
     ]
    },
    {
     "name": "stderr",
     "output_type": "stream",
     "text": [
      " 70%|██████████████████████████████████████████████████████████████████████████████████████████████████████████████████████████████████████████████████████████████████████████████████████████████████████████████████████████████████████████████████████████████████████▉                                                                                                                   | 619/890.0 [26:09<11:11,  2.48s/it]"
     ]
    },
    {
     "name": "stdout",
     "output_type": "stream",
     "text": [
      "22.0\n",
      "80.6\n",
      "| ID | GPU | MEM |\n",
      "------------------\n",
      "|  0 |  0% | 19% |\n",
      "|  1 |  0% |  0% |\n"
     ]
    },
    {
     "name": "stderr",
     "output_type": "stream",
     "text": [
      " 70%|███████████████████████████████████████████████████████████████████████████████████████████████████████████████████████████████████████████████████████████████████████████████████████████████████████████████████████████████████████████████████████████████████████▎                                                                                                                  | 620/890.0 [26:11<11:00,  2.44s/it]"
     ]
    },
    {
     "name": "stdout",
     "output_type": "stream",
     "text": [
      "22.1\n",
      "80.6\n",
      "| ID | GPU | MEM |\n",
      "------------------\n",
      "|  0 |  0% | 19% |\n",
      "|  1 |  0% |  0% |\n"
     ]
    },
    {
     "name": "stderr",
     "output_type": "stream",
     "text": [
      " 70%|███████████████████████████████████████████████████████████████████████████████████████████████████████████████████████████████████████████████████████████████████████████████████████████████████████████████████████████████████████████████████████████████████████▊                                                                                                                  | 621/890.0 [26:13<10:52,  2.42s/it]"
     ]
    },
    {
     "name": "stdout",
     "output_type": "stream",
     "text": [
      "21.7\n",
      "80.6\n",
      "| ID | GPU | MEM |\n",
      "------------------\n",
      "|  0 |  0% | 19% |\n",
      "|  1 |  0% |  0% |\n"
     ]
    },
    {
     "name": "stderr",
     "output_type": "stream",
     "text": [
      " 70%|████████████████████████████████████████████████████████████████████████████████████████████████████████████████████████████████████████████████████████████████████████████████████████████████████████████████████████████████████████████████████████████████████████▏                                                                                                                 | 622/890.0 [26:16<10:46,  2.41s/it]"
     ]
    },
    {
     "name": "stdout",
     "output_type": "stream",
     "text": [
      "19.3\n",
      "80.6\n",
      "| ID | GPU | MEM |\n",
      "------------------\n",
      "|  0 |  0% | 19% |\n",
      "|  1 |  0% |  0% |\n"
     ]
    },
    {
     "name": "stderr",
     "output_type": "stream",
     "text": [
      " 70%|████████████████████████████████████████████████████████████████████████████████████████████████████████████████████████████████████████████████████████████████████████████████████████████████████████████████████████████████████████████████████████████████████████▌                                                                                                                 | 623/890.0 [26:19<12:10,  2.74s/it]"
     ]
    },
    {
     "name": "stdout",
     "output_type": "stream",
     "text": [
      "22.0\n",
      "80.6\n",
      "| ID | GPU | MEM |\n",
      "------------------\n",
      "|  0 |  0% | 19% |\n",
      "|  1 |  0% |  0% |\n"
     ]
    },
    {
     "name": "stderr",
     "output_type": "stream",
     "text": [
      " 70%|█████████████████████████████████████████████████████████████████████████████████████████████████████████████████████████████████████████████████████████████████████████████████████████████████████████████████████████████████████████████████████████████████████████                                                                                                                 | 624/890.0 [26:22<11:37,  2.62s/it]"
     ]
    },
    {
     "name": "stdout",
     "output_type": "stream",
     "text": [
      "21.9\n",
      "80.6\n",
      "| ID | GPU | MEM |\n",
      "------------------\n",
      "|  0 |  0% | 19% |\n",
      "|  1 |  0% |  0% |\n"
     ]
    },
    {
     "name": "stderr",
     "output_type": "stream",
     "text": [
      " 70%|█████████████████████████████████████████████████████████████████████████████████████████████████████████████████████████████████████████████████████████████████████████████████████████████████████████████████████████████████████████████████████████████████████████▍                                                                                                                | 625/890.0 [26:24<11:17,  2.56s/it]"
     ]
    },
    {
     "name": "stdout",
     "output_type": "stream",
     "text": [
      "21.8\n",
      "80.6\n",
      "| ID | GPU | MEM |\n",
      "------------------\n",
      "|  0 |  0% | 19% |\n",
      "|  1 |  0% |  0% |\n"
     ]
    },
    {
     "name": "stderr",
     "output_type": "stream",
     "text": [
      " 70%|█████████████████████████████████████████████████████████████████████████████████████████████████████████████████████████████████████████████████████████████████████████████████████████████████████████████████████████████████████████████████████████████████████████▊                                                                                                                | 626/890.0 [26:26<11:00,  2.50s/it]"
     ]
    },
    {
     "name": "stdout",
     "output_type": "stream",
     "text": [
      "21.9\n",
      "80.6\n",
      "| ID | GPU | MEM |\n",
      "------------------\n",
      "|  0 |  0% | 19% |\n",
      "|  1 |  0% |  0% |\n"
     ]
    },
    {
     "name": "stderr",
     "output_type": "stream",
     "text": [
      " 70%|██████████████████████████████████████████████████████████████████████████████████████████████████████████████████████████████████████████████████████████████████████████████████████████████████████████████████████████████████████████████████████████████████████████▎                                                                                                               | 627/890.0 [26:29<10:49,  2.47s/it]"
     ]
    },
    {
     "name": "stdout",
     "output_type": "stream",
     "text": [
      "21.8\n",
      "80.6\n",
      "| ID | GPU | MEM |\n",
      "------------------\n",
      "|  0 |  0% | 19% |\n",
      "|  1 |  0% |  0% |\n"
     ]
    },
    {
     "name": "stderr",
     "output_type": "stream",
     "text": [
      " 71%|██████████████████████████████████████████████████████████████████████████████████████████████████████████████████████████████████████████████████████████████████████████████████████████████████████████████████████████████████████████████████████████████████████████▋                                                                                                               | 628/890.0 [26:31<10:41,  2.45s/it]"
     ]
    },
    {
     "name": "stdout",
     "output_type": "stream",
     "text": [
      "19.1\n",
      "80.6\n",
      "| ID | GPU | MEM |\n",
      "------------------\n",
      "|  0 |  0% | 19% |\n",
      "|  1 |  0% |  0% |\n"
     ]
    },
    {
     "name": "stderr",
     "output_type": "stream",
     "text": [
      " 71%|███████████████████████████████████████████████████████████████████████████████████████████████████████████████████████████████████████████████████████████████████████████████████████████████████████████████████████████████████████████████████████████████████████████▏                                                                                                              | 629/890.0 [26:35<12:01,  2.77s/it]"
     ]
    },
    {
     "name": "stdout",
     "output_type": "stream",
     "text": [
      "21.6\n",
      "80.6\n",
      "| ID | GPU | MEM |\n",
      "------------------\n",
      "|  0 |  0% | 19% |\n",
      "|  1 |  0% |  0% |\n"
     ]
    },
    {
     "name": "stderr",
     "output_type": "stream",
     "text": [
      " 71%|███████████████████████████████████████████████████████████████████████████████████████████████████████████████████████████████████████████████████████████████████████████████████████████████████████████████████████████████████████████████████████████████████████████▌                                                                                                              | 630/890.0 [26:37<11:32,  2.66s/it]"
     ]
    },
    {
     "name": "stdout",
     "output_type": "stream",
     "text": [
      "21.8\n",
      "80.6\n",
      "| ID | GPU | MEM |\n",
      "------------------\n",
      "|  0 |  0% | 19% |\n",
      "|  1 |  0% |  0% |\n"
     ]
    },
    {
     "name": "stderr",
     "output_type": "stream",
     "text": [
      " 71%|███████████████████████████████████████████████████████████████████████████████████████████████████████████████████████████████████████████████████████████████████████████████████████████████████████████████████████████████████████████████████████████████████████████▉                                                                                                              | 631/890.0 [26:40<11:09,  2.58s/it]"
     ]
    },
    {
     "name": "stdout",
     "output_type": "stream",
     "text": [
      "21.8\n",
      "80.6\n",
      "| ID | GPU | MEM |\n",
      "------------------\n",
      "|  0 |  0% | 19% |\n",
      "|  1 |  0% |  0% |\n"
     ]
    },
    {
     "name": "stderr",
     "output_type": "stream",
     "text": [
      " 71%|████████████████████████████████████████████████████████████████████████████████████████████████████████████████████████████████████████████████████████████████████████████████████████████████████████████████████████████████████████████████████████████████████████████▍                                                                                                             | 632/890.0 [26:42<10:51,  2.53s/it]"
     ]
    },
    {
     "name": "stdout",
     "output_type": "stream",
     "text": [
      "22.2\n",
      "80.6\n",
      "| ID | GPU | MEM |\n",
      "------------------\n",
      "|  0 |  0% | 19% |\n",
      "|  1 |  0% |  0% |\n"
     ]
    },
    {
     "name": "stderr",
     "output_type": "stream",
     "text": [
      " 71%|████████████████████████████████████████████████████████████████████████████████████████████████████████████████████████████████████████████████████████████████████████████████████████████████████████████████████████████████████████████████████████████████████████████▊                                                                                                             | 633/890.0 [26:44<10:36,  2.48s/it]"
     ]
    },
    {
     "name": "stdout",
     "output_type": "stream",
     "text": [
      "21.9\n",
      "80.6\n",
      "| ID | GPU | MEM |\n",
      "------------------\n",
      "|  0 |  0% | 19% |\n",
      "|  1 |  0% |  0% |\n"
     ]
    },
    {
     "name": "stderr",
     "output_type": "stream",
     "text": [
      " 71%|█████████████████████████████████████████████████████████████████████████████████████████████████████████████████████████████████████████████████████████████████████████████████████████████████████████████████████████████████████████████████████████████████████████████▎                                                                                                            | 634/890.0 [26:47<10:26,  2.45s/it]"
     ]
    },
    {
     "name": "stdout",
     "output_type": "stream",
     "text": [
      "21.1\n",
      "80.6\n",
      "| ID | GPU | MEM |\n",
      "------------------\n",
      "|  0 |  0% | 19% |\n",
      "|  1 |  0% |  0% |\n"
     ]
    },
    {
     "name": "stderr",
     "output_type": "stream",
     "text": [
      " 71%|█████████████████████████████████████████████████████████████████████████████████████████████████████████████████████████████████████████████████████████████████████████████████████████████████████████████████████████████████████████████████████████████████████████████▋                                                                                                            | 635/890.0 [26:49<10:31,  2.48s/it]"
     ]
    },
    {
     "name": "stdout",
     "output_type": "stream",
     "text": [
      "21.8\n",
      "80.6\n",
      "| ID | GPU | MEM |\n",
      "------------------\n",
      "|  0 |  0% | 19% |\n",
      "|  1 |  0% |  0% |\n"
     ]
    },
    {
     "name": "stderr",
     "output_type": "stream",
     "text": [
      " 71%|██████████████████████████████████████████████████████████████████████████████████████████████████████████████████████████████████████████████████████████████████████████████████████████████████████████████████████████████████████████████████████████████████████████████                                                                                                            | 636/890.0 [26:52<10:21,  2.45s/it]"
     ]
    },
    {
     "name": "stdout",
     "output_type": "stream",
     "text": [
      "22.1\n",
      "80.6\n",
      "| ID | GPU | MEM |\n",
      "------------------\n",
      "|  0 |  0% | 19% |\n",
      "|  1 |  0% |  0% |\n"
     ]
    },
    {
     "name": "stderr",
     "output_type": "stream",
     "text": [
      " 72%|██████████████████████████████████████████████████████████████████████████████████████████████████████████████████████████████████████████████████████████████████████████████████████████████████████████████████████████████████████████████████████████████████████████████▌                                                                                                           | 637/890.0 [26:54<10:16,  2.44s/it]"
     ]
    },
    {
     "name": "stdout",
     "output_type": "stream",
     "text": [
      "19.5\n",
      "80.6\n",
      "| ID | GPU | MEM |\n",
      "------------------\n",
      "|  0 |  0% | 19% |\n",
      "|  1 |  0% |  0% |\n"
     ]
    },
    {
     "name": "stderr",
     "output_type": "stream",
     "text": [
      " 72%|██████████████████████████████████████████████████████████████████████████████████████████████████████████████████████████████████████████████████████████████████████████████████████████████████████████████████████████████████████████████████████████████████████████████▉                                                                                                           | 638/890.0 [26:57<11:33,  2.75s/it]"
     ]
    },
    {
     "name": "stdout",
     "output_type": "stream",
     "text": [
      "21.7\n",
      "80.6\n",
      "| ID | GPU | MEM |\n",
      "------------------\n",
      "|  0 |  0% | 19% |\n",
      "|  1 |  0% |  0% |\n"
     ]
    },
    {
     "name": "stderr",
     "output_type": "stream",
     "text": [
      " 72%|███████████████████████████████████████████████████████████████████████████████████████████████████████████████████████████████████████████████████████████████████████████████████████████████████████████████████████████████████████████████████████████████████████████████▍                                                                                                          | 639/890.0 [27:00<11:11,  2.68s/it]"
     ]
    },
    {
     "name": "stdout",
     "output_type": "stream",
     "text": [
      "22.2\n",
      "80.6\n",
      "| ID | GPU | MEM |\n",
      "------------------\n",
      "|  0 |  0% | 19% |\n",
      "|  1 |  0% |  0% |\n"
     ]
    },
    {
     "name": "stderr",
     "output_type": "stream",
     "text": [
      " 72%|███████████████████████████████████████████████████████████████████████████████████████████████████████████████████████████████████████████████████████████████████████████████████████████████████████████████████████████████████████████████████████████████████████████████▊                                                                                                          | 640/890.0 [27:02<10:47,  2.59s/it]"
     ]
    },
    {
     "name": "stdout",
     "output_type": "stream",
     "text": [
      "21.4\n",
      "80.6\n",
      "| ID | GPU | MEM |\n",
      "------------------\n",
      "|  0 |  0% | 19% |\n",
      "|  1 |  0% |  0% |\n"
     ]
    },
    {
     "name": "stderr",
     "output_type": "stream",
     "text": [
      " 72%|████████████████████████████████████████████████████████████████████████████████████████████████████████████████████████████████████████████████████████████████████████████████████████████████████████████████████████████████████████████████████████████████████████████████▏                                                                                                         | 641/890.0 [27:05<10:39,  2.57s/it]"
     ]
    },
    {
     "name": "stdout",
     "output_type": "stream",
     "text": [
      "22.1\n",
      "80.6\n",
      "| ID | GPU | MEM |\n",
      "------------------\n",
      "|  0 |  0% | 19% |\n",
      "|  1 |  0% |  0% |\n"
     ]
    },
    {
     "name": "stderr",
     "output_type": "stream",
     "text": [
      " 72%|████████████████████████████████████████████████████████████████████████████████████████████████████████████████████████████████████████████████████████████████████████████████████████████████████████████████████████████████████████████████████████████████████████████████▋                                                                                                         | 642/890.0 [27:07<10:24,  2.52s/it]"
     ]
    },
    {
     "name": "stdout",
     "output_type": "stream",
     "text": [
      "22.1\n",
      "80.6\n",
      "| ID | GPU | MEM |\n",
      "------------------\n",
      "|  0 |  0% | 19% |\n",
      "|  1 |  0% |  0% |\n"
     ]
    },
    {
     "name": "stderr",
     "output_type": "stream",
     "text": [
      " 72%|█████████████████████████████████████████████████████████████████████████████████████████████████████████████████████████████████████████████████████████████████████████████████████████████████████████████████████████████████████████████████████████████████████████████████                                                                                                         | 643/890.0 [27:10<10:12,  2.48s/it]"
     ]
    },
    {
     "name": "stdout",
     "output_type": "stream",
     "text": [
      "22.2\n",
      "80.6\n",
      "| ID | GPU | MEM |\n",
      "------------------\n",
      "|  0 |  0% | 19% |\n",
      "|  1 |  0% |  0% |\n"
     ]
    },
    {
     "name": "stderr",
     "output_type": "stream",
     "text": [
      " 72%|█████████████████████████████████████████████████████████████████████████████████████████████████████████████████████████████████████████████████████████████████████████████████████████████████████████████████████████████████████████████████████████████████████████████████▌                                                                                                        | 644/890.0 [27:12<10:04,  2.46s/it]"
     ]
    },
    {
     "name": "stdout",
     "output_type": "stream",
     "text": [
      "22.0\n",
      "80.6\n",
      "| ID | GPU | MEM |\n",
      "------------------\n",
      "|  0 |  0% | 19% |\n",
      "|  1 |  0% |  0% |\n"
     ]
    },
    {
     "name": "stderr",
     "output_type": "stream",
     "text": [
      " 72%|█████████████████████████████████████████████████████████████████████████████████████████████████████████████████████████████████████████████████████████████████████████████████████████████████████████████████████████████████████████████████████████████████████████████████▉                                                                                                        | 645/890.0 [27:14<09:57,  2.44s/it]"
     ]
    },
    {
     "name": "stdout",
     "output_type": "stream",
     "text": [
      "21.0\n",
      "80.6\n",
      "| ID | GPU | MEM |\n",
      "------------------\n",
      "|  0 |  0% | 19% |\n",
      "|  1 |  0% |  0% |\n"
     ]
    },
    {
     "name": "stderr",
     "output_type": "stream",
     "text": [
      " 73%|██████████████████████████████████████████████████████████████████████████████████████████████████████████████████████████████████████████████████████████████████████████████████████████████████████████████████████████████████████████████████████████████████████████████████▎                                                                                                       | 646/890.0 [27:17<10:06,  2.48s/it]"
     ]
    },
    {
     "name": "stdout",
     "output_type": "stream",
     "text": [
      "21.8\n",
      "80.6\n",
      "| ID | GPU | MEM |\n",
      "------------------\n",
      "|  0 |  0% | 19% |\n",
      "|  1 |  0% |  0% |\n"
     ]
    },
    {
     "name": "stderr",
     "output_type": "stream",
     "text": [
      " 73%|██████████████████████████████████████████████████████████████████████████████████████████████████████████████████████████████████████████████████████████████████████████████████████████████████████████████████████████████████████████████████████████████████████████████████▊                                                                                                       | 647/890.0 [27:19<09:59,  2.47s/it]"
     ]
    },
    {
     "name": "stdout",
     "output_type": "stream",
     "text": [
      "22.3\n",
      "80.6\n",
      "| ID | GPU | MEM |\n",
      "------------------\n",
      "|  0 |  0% | 19% |\n",
      "|  1 |  0% |  0% |\n"
     ]
    },
    {
     "name": "stderr",
     "output_type": "stream",
     "text": [
      " 73%|███████████████████████████████████████████████████████████████████████████████████████████████████████████████████████████████████████████████████████████████████████████████████████████████████████████████████████████████████████████████████████████████████████████████████▏                                                                                                      | 648/890.0 [27:22<09:50,  2.44s/it]"
     ]
    },
    {
     "name": "stdout",
     "output_type": "stream",
     "text": [
      "22.0\n",
      "80.7\n",
      "| ID | GPU | MEM |\n",
      "------------------\n",
      "|  0 |  0% | 19% |\n",
      "|  1 |  0% |  0% |\n"
     ]
    },
    {
     "name": "stderr",
     "output_type": "stream",
     "text": [
      " 73%|███████████████████████████████████████████████████████████████████████████████████████████████████████████████████████████████████████████████████████████████████████████████████████████████████████████████████████████████████████████████████████████████████████████████████▋                                                                                                      | 649/890.0 [27:24<09:49,  2.45s/it]"
     ]
    },
    {
     "name": "stdout",
     "output_type": "stream",
     "text": [
      "19.7\n",
      "80.7\n",
      "| ID | GPU | MEM |\n",
      "------------------\n",
      "|  0 |  0% | 19% |\n",
      "|  1 |  0% |  0% |\n"
     ]
    },
    {
     "name": "stderr",
     "output_type": "stream",
     "text": [
      " 73%|████████████████████████████████████████████████████████████████████████████████████████████████████████████████████████████████████████████████████████████████████████████████████████████████████████████████████████████████████████████████████████████████████████████████████                                                                                                      | 650/890.0 [27:28<10:59,  2.75s/it]"
     ]
    },
    {
     "name": "stdout",
     "output_type": "stream",
     "text": [
      "21.8\n",
      "80.7\n",
      "| ID | GPU | MEM |\n",
      "------------------\n",
      "|  0 |  0% | 19% |\n",
      "|  1 |  0% |  0% |\n"
     ]
    },
    {
     "name": "stderr",
     "output_type": "stream",
     "text": [
      " 73%|████████████████████████████████████████████████████████████████████████████████████████████████████████████████████████████████████████████████████████████████████████████████████████████████████████████████████████████████████████████████████████████████████████████████████▍                                                                                                     | 651/890.0 [27:30<10:33,  2.65s/it]"
     ]
    },
    {
     "name": "stdout",
     "output_type": "stream",
     "text": [
      "22.0\n",
      "80.7\n",
      "| ID | GPU | MEM |\n",
      "------------------\n",
      "|  0 |  0% | 19% |\n",
      "|  1 |  0% |  0% |\n"
     ]
    },
    {
     "name": "stderr",
     "output_type": "stream",
     "text": [
      " 73%|████████████████████████████████████████████████████████████████████████████████████████████████████████████████████████████████████████████████████████████████████████████████████████████████████████████████████████████████████████████████████████████████████████████████████▉                                                                                                     | 652/890.0 [27:33<10:11,  2.57s/it]"
     ]
    },
    {
     "name": "stdout",
     "output_type": "stream",
     "text": [
      "22.1\n",
      "80.7\n",
      "| ID | GPU | MEM |\n",
      "------------------\n",
      "|  0 |  0% | 19% |\n",
      "|  1 |  0% |  0% |\n"
     ]
    },
    {
     "name": "stderr",
     "output_type": "stream",
     "text": [
      " 73%|█████████████████████████████████████████████████████████████████████████████████████████████████████████████████████████████████████████████████████████████████████████████████████████████████████████████████████████████████████████████████████████████████████████████████████▎                                                                                                    | 653/890.0 [27:35<09:58,  2.53s/it]"
     ]
    },
    {
     "name": "stdout",
     "output_type": "stream",
     "text": [
      "22.3\n",
      "80.7\n",
      "| ID | GPU | MEM |\n",
      "------------------\n",
      "|  0 |  0% | 19% |\n",
      "|  1 |  0% |  0% |\n"
     ]
    },
    {
     "name": "stderr",
     "output_type": "stream",
     "text": [
      " 73%|█████████████████████████████████████████████████████████████████████████████████████████████████████████████████████████████████████████████████████████████████████████████████████████████████████████████████████████████████████████████████████████████████████████████████████▊                                                                                                    | 654/890.0 [27:37<09:49,  2.50s/it]"
     ]
    },
    {
     "name": "stdout",
     "output_type": "stream",
     "text": [
      "21.9\n",
      "80.7\n",
      "| ID | GPU | MEM |\n",
      "------------------\n",
      "|  0 |  0% | 19% |\n",
      "|  1 |  0% |  0% |\n"
     ]
    },
    {
     "name": "stderr",
     "output_type": "stream",
     "text": [
      " 74%|██████████████████████████████████████████████████████████████████████████████████████████████████████████████████████████████████████████████████████████████████████████████████████████████████████████████████████████████████████████████████████████████████████████████████████▏                                                                                                   | 655/890.0 [27:40<09:48,  2.51s/it]"
     ]
    },
    {
     "name": "stdout",
     "output_type": "stream",
     "text": [
      "21.9\n",
      "80.7\n",
      "| ID | GPU | MEM |\n",
      "------------------\n",
      "|  0 |  0% | 19% |\n",
      "|  1 |  0% |  0% |\n"
     ]
    },
    {
     "name": "stderr",
     "output_type": "stream",
     "text": [
      " 74%|██████████████████████████████████████████████████████████████████████████████████████████████████████████████████████████████████████████████████████████████████████████████████████████████████████████████████████████████████████████████████████████████████████████████████████▌                                                                                                   | 656/890.0 [27:42<09:38,  2.47s/it]"
     ]
    },
    {
     "name": "stdout",
     "output_type": "stream",
     "text": [
      "22.1\n",
      "80.7\n",
      "| ID | GPU | MEM |\n",
      "------------------\n",
      "|  0 |  0% | 19% |\n",
      "|  1 |  0% |  0% |\n"
     ]
    },
    {
     "name": "stderr",
     "output_type": "stream",
     "text": [
      " 74%|███████████████████████████████████████████████████████████████████████████████████████████████████████████████████████████████████████████████████████████████████████████████████████████████████████████████████████████████████████████████████████████████████████████████████████                                                                                                   | 657/890.0 [27:45<09:32,  2.46s/it]"
     ]
    },
    {
     "name": "stdout",
     "output_type": "stream",
     "text": [
      "22.0\n",
      "80.7\n",
      "| ID | GPU | MEM |\n",
      "------------------\n",
      "|  0 |  0% | 19% |\n",
      "|  1 |  0% |  0% |\n"
     ]
    },
    {
     "name": "stderr",
     "output_type": "stream",
     "text": [
      " 74%|███████████████████████████████████████████████████████████████████████████████████████████████████████████████████████████████████████████████████████████████████████████████████████████████████████████████████████████████████████████████████████████████████████████████████████▍                                                                                                  | 658/890.0 [27:47<09:25,  2.44s/it]"
     ]
    },
    {
     "name": "stdout",
     "output_type": "stream",
     "text": [
      "22.0\n",
      "80.7\n",
      "| ID | GPU | MEM |\n",
      "------------------\n",
      "|  0 |  0% | 19% |\n",
      "|  1 |  0% |  0% |\n"
     ]
    },
    {
     "name": "stderr",
     "output_type": "stream",
     "text": [
      " 74%|███████████████████████████████████████████████████████████████████████████████████████████████████████████████████████████████████████████████████████████████████████████████████████████████████████████████████████████████████████████████████████████████████████████████████████▉                                                                                                  | 659/890.0 [27:50<09:22,  2.43s/it]"
     ]
    },
    {
     "name": "stdout",
     "output_type": "stream",
     "text": [
      "22.0\n",
      "80.7\n",
      "| ID | GPU | MEM |\n",
      "------------------\n",
      "|  0 |  0% | 19% |\n",
      "|  1 |  0% |  0% |\n"
     ]
    },
    {
     "name": "stderr",
     "output_type": "stream",
     "text": [
      " 74%|████████████████████████████████████████████████████████████████████████████████████████████████████████████████████████████████████████████████████████████████████████████████████████████████████████████████████████████████████████████████████████████████████████████████████████▎                                                                                                 | 660/890.0 [27:52<09:19,  2.43s/it]"
     ]
    },
    {
     "name": "stdout",
     "output_type": "stream",
     "text": [
      "22.0\n",
      "80.7\n",
      "| ID | GPU | MEM |\n",
      "------------------\n",
      "|  0 |  0% | 19% |\n",
      "|  1 |  0% |  0% |\n"
     ]
    },
    {
     "name": "stderr",
     "output_type": "stream",
     "text": [
      " 74%|████████████████████████████████████████████████████████████████████████████████████████████████████████████████████████████████████████████████████████████████████████████████████████████████████████████████████████████████████████████████████████████████████████████████████████▋                                                                                                 | 661/890.0 [27:54<09:14,  2.42s/it]"
     ]
    },
    {
     "name": "stdout",
     "output_type": "stream",
     "text": [
      "22.2\n",
      "80.7\n",
      "| ID | GPU | MEM |\n",
      "------------------\n",
      "|  0 |  0% | 19% |\n",
      "|  1 |  0% |  0% |\n"
     ]
    },
    {
     "name": "stderr",
     "output_type": "stream",
     "text": [
      " 74%|█████████████████████████████████████████████████████████████████████████████████████████████████████████████████████████████████████████████████████████████████████████████████████████████████████████████████████████████████████████████████████████████████████████████████████████▏                                                                                                | 662/890.0 [27:57<09:09,  2.41s/it]"
     ]
    },
    {
     "name": "stdout",
     "output_type": "stream",
     "text": [
      "22.2\n",
      "80.7\n",
      "| ID | GPU | MEM |\n",
      "------------------\n",
      "|  0 |  0% | 19% |\n",
      "|  1 |  0% |  0% |\n"
     ]
    },
    {
     "name": "stderr",
     "output_type": "stream",
     "text": [
      " 74%|█████████████████████████████████████████████████████████████████████████████████████████████████████████████████████████████████████████████████████████████████████████████████████████████████████████████████████████████████████████████████████████████████████████████████████████▌                                                                                                | 663/890.0 [27:59<09:05,  2.40s/it]"
     ]
    },
    {
     "name": "stdout",
     "output_type": "stream",
     "text": [
      "22.0\n",
      "80.7\n",
      "| ID | GPU | MEM |\n",
      "------------------\n",
      "|  0 |  0% | 19% |\n",
      "|  1 |  0% |  0% |\n"
     ]
    },
    {
     "name": "stderr",
     "output_type": "stream",
     "text": [
      " 75%|██████████████████████████████████████████████████████████████████████████████████████████████████████████████████████████████████████████████████████████████████████████████████████████████████████████████████████████████████████████████████████████████████████████████████████████                                                                                                | 664/890.0 [28:02<09:03,  2.40s/it]"
     ]
    },
    {
     "name": "stdout",
     "output_type": "stream",
     "text": [
      "22.0\n",
      "80.7\n",
      "| ID | GPU | MEM |\n",
      "------------------\n",
      "|  0 |  0% | 19% |\n",
      "|  1 |  0% |  0% |\n"
     ]
    },
    {
     "name": "stderr",
     "output_type": "stream",
     "text": [
      " 75%|██████████████████████████████████████████████████████████████████████████████████████████████████████████████████████████████████████████████████████████████████████████████████████████████████████████████████████████████████████████████████████████████████████████████████████████▍                                                                                               | 665/890.0 [28:04<09:02,  2.41s/it]"
     ]
    },
    {
     "name": "stdout",
     "output_type": "stream",
     "text": [
      "22.2\n",
      "80.7\n",
      "| ID | GPU | MEM |\n",
      "------------------\n",
      "|  0 |  0% | 19% |\n",
      "|  1 |  0% |  0% |\n"
     ]
    },
    {
     "name": "stderr",
     "output_type": "stream",
     "text": [
      " 75%|██████████████████████████████████████████████████████████████████████████████████████████████████████████████████████████████████████████████████████████████████████████████████████████████████████████████████████████████████████████████████████████████████████████████████████████▊                                                                                               | 666/890.0 [28:06<08:59,  2.41s/it]"
     ]
    },
    {
     "name": "stdout",
     "output_type": "stream",
     "text": [
      "22.0\n",
      "80.7\n",
      "| ID | GPU | MEM |\n",
      "------------------\n",
      "|  0 |  0% | 19% |\n",
      "|  1 |  0% |  0% |\n"
     ]
    },
    {
     "name": "stderr",
     "output_type": "stream",
     "text": [
      " 75%|███████████████████████████████████████████████████████████████████████████████████████████████████████████████████████████████████████████████████████████████████████████████████████████████████████████████████████████████████████████████████████████████████████████████████████████▎                                                                                              | 667/890.0 [28:09<08:58,  2.41s/it]"
     ]
    },
    {
     "name": "stdout",
     "output_type": "stream",
     "text": [
      "21.8\n",
      "80.7\n",
      "| ID | GPU | MEM |\n",
      "------------------\n",
      "|  0 |  0% | 19% |\n",
      "|  1 |  0% |  0% |\n"
     ]
    },
    {
     "name": "stderr",
     "output_type": "stream",
     "text": [
      " 75%|███████████████████████████████████████████████████████████████████████████████████████████████████████████████████████████████████████████████████████████████████████████████████████████████████████████████████████████████████████████████████████████████████████████████████████████▋                                                                                              | 668/890.0 [28:11<08:57,  2.42s/it]"
     ]
    },
    {
     "name": "stdout",
     "output_type": "stream",
     "text": [
      "22.2\n",
      "80.7\n",
      "| ID | GPU | MEM |\n",
      "------------------\n",
      "|  0 |  0% | 19% |\n",
      "|  1 |  0% |  0% |\n"
     ]
    },
    {
     "name": "stderr",
     "output_type": "stream",
     "text": [
      " 75%|████████████████████████████████████████████████████████████████████████████████████████████████████████████████████████████████████████████████████████████████████████████████████████████████████████████████████████████████████████████████████████████████████████████████████████████▏                                                                                             | 669/890.0 [28:14<08:53,  2.41s/it]"
     ]
    },
    {
     "name": "stdout",
     "output_type": "stream",
     "text": [
      "21.8\n",
      "80.7\n",
      "| ID | GPU | MEM |\n",
      "------------------\n",
      "|  0 |  0% | 19% |\n",
      "|  1 |  0% |  0% |\n"
     ]
    },
    {
     "name": "stderr",
     "output_type": "stream",
     "text": [
      " 75%|████████████████████████████████████████████████████████████████████████████████████████████████████████████████████████████████████████████████████████████████████████████████████████████████████████████████████████████████████████████████████████████████████████████████████████████▌                                                                                             | 670/890.0 [28:16<08:50,  2.41s/it]"
     ]
    },
    {
     "name": "stdout",
     "output_type": "stream",
     "text": [
      "22.2\n",
      "80.7\n",
      "| ID | GPU | MEM |\n",
      "------------------\n",
      "|  0 |  0% | 19% |\n",
      "|  1 |  0% |  0% |\n"
     ]
    },
    {
     "name": "stderr",
     "output_type": "stream",
     "text": [
      " 75%|████████████████████████████████████████████████████████████████████████████████████████████████████████████████████████████████████████████████████████████████████████████████████████████████████████████████████████████████████████████████████████████████████████████████████████████▉                                                                                             | 671/890.0 [28:19<08:47,  2.41s/it]"
     ]
    },
    {
     "name": "stdout",
     "output_type": "stream",
     "text": [
      "21.5\n",
      "80.7\n",
      "| ID | GPU | MEM |\n",
      "------------------\n",
      "|  0 |  0% | 19% |\n",
      "|  1 |  0% |  0% |\n"
     ]
    },
    {
     "name": "stderr",
     "output_type": "stream",
     "text": [
      " 76%|█████████████████████████████████████████████████████████████████████████████████████████████████████████████████████████████████████████████████████████████████████████████████████████████████████████████████████████████████████████████████████████████████████████████████████████████▍                                                                                            | 672/890.0 [28:21<08:49,  2.43s/it]"
     ]
    },
    {
     "name": "stdout",
     "output_type": "stream",
     "text": [
      "22.2\n",
      "80.7\n",
      "| ID | GPU | MEM |\n",
      "------------------\n",
      "|  0 |  0% | 19% |\n",
      "|  1 |  0% |  0% |\n"
     ]
    },
    {
     "name": "stderr",
     "output_type": "stream",
     "text": [
      " 76%|█████████████████████████████████████████████████████████████████████████████████████████████████████████████████████████████████████████████████████████████████████████████████████████████████████████████████████████████████████████████████████████████████████████████████████████████▊                                                                                            | 673/890.0 [28:23<08:43,  2.41s/it]"
     ]
    },
    {
     "name": "stdout",
     "output_type": "stream",
     "text": [
      "19.7\n",
      "80.7\n",
      "| ID | GPU | MEM |\n",
      "------------------\n",
      "|  0 |  0% | 19% |\n",
      "|  1 |  0% |  0% |\n"
     ]
    },
    {
     "name": "stderr",
     "output_type": "stream",
     "text": [
      " 76%|██████████████████████████████████████████████████████████████████████████████████████████████████████████████████████████████████████████████████████████████████████████████████████████████████████████████████████████████████████████████████████████████████████████████████████████████▎                                                                                           | 674/890.0 [28:26<09:00,  2.50s/it]"
     ]
    },
    {
     "name": "stdout",
     "output_type": "stream",
     "text": [
      "18.8\n",
      "80.6\n",
      "| ID | GPU | MEM |\n",
      "------------------\n",
      "|  0 |  0% | 19% |\n",
      "|  1 |  0% |  0% |\n"
     ]
    },
    {
     "name": "stderr",
     "output_type": "stream",
     "text": [
      " 76%|██████████████████████████████████████████████████████████████████████████████████████████████████████████████████████████████████████████████████████████████████████████████████████████████████████████████████████████████████████████████████████████████████████████████████████████████▋                                                                                           | 675/890.0 [28:29<09:56,  2.78s/it]"
     ]
    },
    {
     "name": "stdout",
     "output_type": "stream",
     "text": [
      "21.7\n",
      "80.7\n",
      "| ID | GPU | MEM |\n",
      "------------------\n",
      "|  0 |  0% | 19% |\n",
      "|  1 |  0% |  0% |\n"
     ]
    },
    {
     "name": "stderr",
     "output_type": "stream",
     "text": [
      " 76%|███████████████████████████████████████████████████████████████████████████████████████████████████████████████████████████████████████████████████████████████████████████████████████████████████████████████████████████████████████████████████████████████████████████████████████████████                                                                                           | 676/890.0 [28:31<09:05,  2.55s/it]"
     ]
    },
    {
     "name": "stdout",
     "output_type": "stream",
     "text": [
      "22.6\n",
      "80.7\n",
      "| ID | GPU | MEM |\n",
      "------------------\n",
      "|  0 |  0% | 19% |\n",
      "|  1 |  0% |  0% |\n"
     ]
    },
    {
     "name": "stderr",
     "output_type": "stream",
     "text": [
      " 76%|███████████████████████████████████████████████████████████████████████████████████████████████████████████████████████████████████████████████████████████████████████████████████████████████████████████████████████████████████████████████████████████████████████████████████████████████▌                                                                                          | 677/890.0 [28:34<08:51,  2.50s/it]"
     ]
    },
    {
     "name": "stdout",
     "output_type": "stream",
     "text": [
      "22.0\n",
      "80.7\n",
      "| ID | GPU | MEM |\n",
      "------------------\n",
      "|  0 |  0% | 19% |\n",
      "|  1 |  0% |  0% |\n"
     ]
    },
    {
     "name": "stderr",
     "output_type": "stream",
     "text": [
      " 76%|███████████████████████████████████████████████████████████████████████████████████████████████████████████████████████████████████████████████████████████████████████████████████████████████████████████████████████████████████████████████████████████████████████████████████████████████▉                                                                                          | 678/890.0 [28:36<08:44,  2.48s/it]"
     ]
    },
    {
     "name": "stdout",
     "output_type": "stream",
     "text": [
      "22.1\n",
      "80.7\n",
      "| ID | GPU | MEM |\n",
      "------------------\n",
      "|  0 |  0% | 19% |\n",
      "|  1 |  0% |  0% |\n"
     ]
    },
    {
     "name": "stderr",
     "output_type": "stream",
     "text": [
      " 76%|████████████████████████████████████████████████████████████████████████████████████████████████████████████████████████████████████████████████████████████████████████████████████████████████████████████████████████████████████████████████████████████████████████████████████████████████▍                                                                                         | 679/890.0 [28:39<08:37,  2.45s/it]"
     ]
    },
    {
     "name": "stdout",
     "output_type": "stream",
     "text": [
      "22.6\n",
      "80.7\n",
      "| ID | GPU | MEM |\n",
      "------------------\n",
      "|  0 |  0% | 19% |\n",
      "|  1 |  0% |  0% |\n"
     ]
    },
    {
     "name": "stderr",
     "output_type": "stream",
     "text": [
      " 76%|████████████████████████████████████████████████████████████████████████████████████████████████████████████████████████████████████████████████████████████████████████████████████████████████████████████████████████████████████████████████████████████████████████████████████████████████▊                                                                                         | 680/890.0 [28:41<08:29,  2.43s/it]"
     ]
    },
    {
     "name": "stdout",
     "output_type": "stream",
     "text": [
      "21.4\n",
      "80.7\n",
      "| ID | GPU | MEM |\n",
      "------------------\n",
      "|  0 |  0% | 19% |\n",
      "|  1 |  0% |  0% |\n"
     ]
    },
    {
     "name": "stderr",
     "output_type": "stream",
     "text": [
      " 77%|█████████████████████████████████████████████████████████████████████████████████████████████████████████████████████████████████████████████████████████████████████████████████████████████████████████████████████████████████████████████████████████████████████████████████████████████████▏                                                                                        | 681/890.0 [28:44<08:33,  2.46s/it]"
     ]
    },
    {
     "name": "stdout",
     "output_type": "stream",
     "text": [
      "20.2\n",
      "80.7\n",
      "| ID | GPU | MEM |\n",
      "------------------\n",
      "|  0 |  0% | 19% |\n",
      "|  1 |  0% |  0% |\n"
     ]
    },
    {
     "name": "stderr",
     "output_type": "stream",
     "text": [
      " 77%|█████████████████████████████████████████████████████████████████████████████████████████████████████████████████████████████████████████████████████████████████████████████████████████████████████████████████████████████████████████████████████████████████████████████████████████████████▋                                                                                        | 682/890.0 [28:47<09:28,  2.73s/it]"
     ]
    },
    {
     "name": "stdout",
     "output_type": "stream",
     "text": [
      "21.8\n",
      "80.7\n",
      "| ID | GPU | MEM |\n",
      "------------------\n",
      "|  0 |  0% | 19% |\n",
      "|  1 |  0% |  0% |\n"
     ]
    },
    {
     "name": "stderr",
     "output_type": "stream",
     "text": [
      " 77%|██████████████████████████████████████████████████████████████████████████████████████████████████████████████████████████████████████████████████████████████████████████████████████████████████████████████████████████████████████████████████████████████████████████████████████████████████                                                                                        | 683/890.0 [28:49<09:06,  2.64s/it]"
     ]
    },
    {
     "name": "stdout",
     "output_type": "stream",
     "text": [
      "18.7\n",
      "80.7\n",
      "| ID | GPU | MEM |\n",
      "------------------\n",
      "|  0 |  0% | 19% |\n",
      "|  1 |  0% |  0% |\n"
     ]
    },
    {
     "name": "stderr",
     "output_type": "stream",
     "text": [
      " 77%|██████████████████████████████████████████████████████████████████████████████████████████████████████████████████████████████████████████████████████████████████████████████████████████████████████████████████████████████████████████████████████████████████████████████████████████████████▌                                                                                       | 684/890.0 [28:53<10:03,  2.93s/it]"
     ]
    },
    {
     "name": "stdout",
     "output_type": "stream",
     "text": [
      "19.2\n",
      "80.7\n",
      "| ID | GPU | MEM |\n",
      "------------------\n",
      "|  0 |  0% | 19% |\n",
      "|  1 |  0% |  0% |\n"
     ]
    },
    {
     "name": "stderr",
     "output_type": "stream",
     "text": [
      " 77%|██████████████████████████████████████████████████████████████████████████████████████████████████████████████████████████████████████████████████████████████████████████████████████████████████████████████████████████████████████████████████████████████████████████████████████████████████▉                                                                                       | 685/890.0 [28:56<10:34,  3.09s/it]"
     ]
    },
    {
     "name": "stdout",
     "output_type": "stream",
     "text": [
      "21.3\n",
      "80.7\n",
      "| ID | GPU | MEM |\n",
      "------------------\n",
      "|  0 |  0% | 19% |\n",
      "|  1 |  0% |  0% |\n"
     ]
    },
    {
     "name": "stderr",
     "output_type": "stream",
     "text": [
      " 77%|███████████████████████████████████████████████████████████████████████████████████████████████████████████████████████████████████████████████████████████████████████████████████████████████████████████████████████████████████████████████████████████████████████████████████████████████████▎                                                                                      | 686/890.0 [28:59<09:51,  2.90s/it]"
     ]
    },
    {
     "name": "stdout",
     "output_type": "stream",
     "text": [
      "21.7\n",
      "80.7\n",
      "| ID | GPU | MEM |\n",
      "------------------\n",
      "|  0 |  0% | 19% |\n",
      "|  1 |  0% |  0% |\n"
     ]
    },
    {
     "name": "stderr",
     "output_type": "stream",
     "text": [
      " 77%|███████████████████████████████████████████████████████████████████████████████████████████████████████████████████████████████████████████████████████████████████████████████████████████████████████████████████████████████████████████████████████████████████████████████████████████████████▊                                                                                      | 687/890.0 [29:01<09:24,  2.78s/it]"
     ]
    },
    {
     "name": "stdout",
     "output_type": "stream",
     "text": [
      "21.8\n",
      "80.7\n",
      "| ID | GPU | MEM |\n",
      "------------------\n",
      "|  0 |  0% | 19% |\n",
      "|  1 |  0% |  0% |\n"
     ]
    },
    {
     "name": "stderr",
     "output_type": "stream",
     "text": [
      " 77%|████████████████████████████████████████████████████████████████████████████████████████████████████████████████████████████████████████████████████████████████████████████████████████████████████████████████████████████████████████████████████████████████████████████████████████████████████▏                                                                                     | 688/890.0 [29:04<09:00,  2.68s/it]"
     ]
    },
    {
     "name": "stdout",
     "output_type": "stream",
     "text": [
      "19.6\n",
      "80.7\n",
      "| ID | GPU | MEM |\n",
      "------------------\n",
      "|  0 |  0% | 19% |\n",
      "|  1 |  0% |  0% |\n"
     ]
    },
    {
     "name": "stderr",
     "output_type": "stream",
     "text": [
      " 77%|████████████████████████████████████████████████████████████████████████████████████████████████████████████████████████████████████████████████████████████████████████████████████████████████████████████████████████████████████████████████████████████████████████████████████████████████████▋                                                                                     | 689/890.0 [29:07<09:47,  2.92s/it]"
     ]
    },
    {
     "name": "stdout",
     "output_type": "stream",
     "text": [
      "19.0\n",
      "80.7\n",
      "| ID | GPU | MEM |\n",
      "------------------\n",
      "|  0 |  0% | 19% |\n",
      "|  1 |  0% |  0% |\n"
     ]
    },
    {
     "name": "stderr",
     "output_type": "stream",
     "text": [
      " 78%|█████████████████████████████████████████████████████████████████████████████████████████████████████████████████████████████████████████████████████████████████████████████████████████████████████████████████████████████████████████████████████████████████████████████████████████████████████                                                                                     | 690/890.0 [29:11<10:18,  3.09s/it]"
     ]
    },
    {
     "name": "stdout",
     "output_type": "stream",
     "text": [
      "21.8\n",
      "80.7\n",
      "| ID | GPU | MEM |\n",
      "------------------\n",
      "|  0 |  0% | 19% |\n",
      "|  1 |  0% |  0% |\n"
     ]
    },
    {
     "name": "stderr",
     "output_type": "stream",
     "text": [
      " 78%|█████████████████████████████████████████████████████████████████████████████████████████████████████████████████████████████████████████████████████████████████████████████████████████████████████████████████████████████████████████████████████████████████████████████████████████████████████▍                                                                                    | 691/890.0 [29:13<09:09,  2.76s/it]"
     ]
    },
    {
     "name": "stdout",
     "output_type": "stream",
     "text": [
      "22.3\n",
      "80.7\n",
      "| ID | GPU | MEM |\n",
      "------------------\n",
      "|  0 |  0% | 19% |\n",
      "|  1 |  0% |  0% |\n"
     ]
    },
    {
     "name": "stderr",
     "output_type": "stream",
     "text": [
      " 78%|█████████████████████████████████████████████████████████████████████████████████████████████████████████████████████████████████████████████████████████████████████████████████████████████████████████████████████████████████████████████████████████████████████████████████████████████████████▉                                                                                    | 692/890.0 [29:15<08:44,  2.65s/it]"
     ]
    },
    {
     "name": "stdout",
     "output_type": "stream",
     "text": [
      "20.4\n",
      "80.7\n",
      "| ID | GPU | MEM |\n",
      "------------------\n",
      "|  0 |  0% | 19% |\n",
      "|  1 |  0% |  0% |\n"
     ]
    },
    {
     "name": "stderr",
     "output_type": "stream",
     "text": [
      " 78%|██████████████████████████████████████████████████████████████████████████████████████████████████████████████████████████████████████████████████████████████████████████████████████████████████████████████████████████████████████████████████████████████████████████████████████████████████████▎                                                                                   | 693/890.0 [29:18<09:18,  2.84s/it]"
     ]
    },
    {
     "name": "stdout",
     "output_type": "stream",
     "text": [
      "21.8\n",
      "80.7\n",
      "| ID | GPU | MEM |\n",
      "------------------\n",
      "|  0 |  0% | 19% |\n",
      "|  1 |  0% |  0% |\n"
     ]
    },
    {
     "name": "stderr",
     "output_type": "stream",
     "text": [
      " 78%|██████████████████████████████████████████████████████████████████████████████████████████████████████████████████████████████████████████████████████████████████████████████████████████████████████████████████████████████████████████████████████████████████████████████████████████████████████▊                                                                                   | 694/890.0 [29:21<08:52,  2.72s/it]"
     ]
    },
    {
     "name": "stdout",
     "output_type": "stream",
     "text": [
      "19.6\n",
      "80.7\n",
      "| ID | GPU | MEM |\n",
      "------------------\n",
      "|  0 |  0% | 19% |\n",
      "|  1 |  0% |  0% |\n"
     ]
    },
    {
     "name": "stderr",
     "output_type": "stream",
     "text": [
      " 78%|███████████████████████████████████████████████████████████████████████████████████████████████████████████████████████████████████████████████████████████████████████████████████████████████████████████████████████████████████████████████████████████████████████████████████████████████████████▏                                                                                  | 695/890.0 [29:24<09:33,  2.94s/it]"
     ]
    },
    {
     "name": "stdout",
     "output_type": "stream",
     "text": [
      "22.0\n",
      "80.7\n",
      "| ID | GPU | MEM |\n",
      "------------------\n",
      "|  0 |  0% | 19% |\n",
      "|  1 |  0% |  0% |\n"
     ]
    },
    {
     "name": "stderr",
     "output_type": "stream",
     "text": [
      " 78%|███████████████████████████████████████████████████████████████████████████████████████████████████████████████████████████████████████████████████████████████████████████████████████████████████████████████████████████████████████████████████████████████████████████████████████████████████████▌                                                                                  | 696/890.0 [29:27<08:56,  2.77s/it]"
     ]
    },
    {
     "name": "stdout",
     "output_type": "stream",
     "text": [
      "22.0\n",
      "80.7\n",
      "| ID | GPU | MEM |\n",
      "------------------\n",
      "|  0 |  0% | 19% |\n",
      "|  1 |  0% |  0% |\n"
     ]
    },
    {
     "name": "stderr",
     "output_type": "stream",
     "text": [
      " 78%|████████████████████████████████████████████████████████████████████████████████████████████████████████████████████████████████████████████████████████████████████████████████████████████████████████████████████████████████████████████████████████████████████████████████████████████████████████                                                                                  | 697/890.0 [29:29<08:31,  2.65s/it]"
     ]
    },
    {
     "name": "stdout",
     "output_type": "stream",
     "text": [
      "22.0\n",
      "80.7\n",
      "| ID | GPU | MEM |\n",
      "------------------\n",
      "|  0 |  0% | 19% |\n",
      "|  1 |  0% |  0% |\n"
     ]
    },
    {
     "name": "stderr",
     "output_type": "stream",
     "text": [
      " 78%|████████████████████████████████████████████████████████████████████████████████████████████████████████████████████████████████████████████████████████████████████████████████████████████████████████████████████████████████████████████████████████████████████████████████████████████████████████▍                                                                                 | 698/890.0 [29:32<08:13,  2.57s/it]"
     ]
    },
    {
     "name": "stdout",
     "output_type": "stream",
     "text": [
      "19.2\n",
      "80.7\n",
      "| ID | GPU | MEM |\n",
      "------------------\n",
      "|  0 |  0% | 19% |\n",
      "|  1 |  0% |  0% |\n"
     ]
    },
    {
     "name": "stderr",
     "output_type": "stream",
     "text": [
      " 79%|████████████████████████████████████████████████████████████████████████████████████████████████████████████████████████████████████████████████████████████████████████████████████████████████████████████████████████████████████████████████████████████████████████████████████████████████████████▉                                                                                 | 699/890.0 [29:35<09:04,  2.85s/it]"
     ]
    },
    {
     "name": "stdout",
     "output_type": "stream",
     "text": [
      "22.2\n",
      "80.7\n",
      "| ID | GPU | MEM |\n",
      "------------------\n",
      "|  0 | 24% | 20% |\n",
      "|  1 |  0% |  0% |\n"
     ]
    },
    {
     "name": "stderr",
     "output_type": "stream",
     "text": [
      " 79%|█████████████████████████████████████████████████████████████████████████████████████████████████████████████████████████████████████████████████████████████████████████████████████████████████████████████████████████████████████████████████████████████████████████████████████████████████████████▎                                                                                | 700/890.0 [29:37<08:37,  2.73s/it]"
     ]
    },
    {
     "name": "stdout",
     "output_type": "stream",
     "text": [
      "23.4\n",
      "80.7\n",
      "| ID | GPU | MEM |\n",
      "------------------\n",
      "|  0 |  6% | 19% |\n",
      "|  1 |  0% |  0% |\n"
     ]
    },
    {
     "name": "stderr",
     "output_type": "stream",
     "text": [
      " 79%|█████████████████████████████████████████████████████████████████████████████████████████████████████████████████████████████████████████████████████████████████████████████████████████████████████████████████████████████████████████████████████████████████████████████████████████████████████████▋                                                                                | 701/890.0 [29:40<08:18,  2.64s/it]"
     ]
    },
    {
     "name": "stdout",
     "output_type": "stream",
     "text": [
      "24.8\n",
      "80.7\n",
      "| ID | GPU | MEM |\n",
      "------------------\n",
      "|  0 | 31% | 20% |\n",
      "|  1 |  0% |  0% |\n"
     ]
    },
    {
     "name": "stderr",
     "output_type": "stream",
     "text": [
      " 79%|██████████████████████████████████████████████████████████████████████████████████████████████████████████████████████████████████████████████████████████████████████████████████████████████████████████████████████████████████████████████████████████████████████████████████████████████████████████▏                                                                               | 702/890.0 [29:42<08:08,  2.60s/it]"
     ]
    },
    {
     "name": "stdout",
     "output_type": "stream",
     "text": [
      "23.2\n",
      "80.7\n",
      "| ID | GPU | MEM |\n",
      "------------------\n",
      "|  0 | 32% | 20% |\n",
      "|  1 |  0% |  0% |\n"
     ]
    },
    {
     "name": "stderr",
     "output_type": "stream",
     "text": [
      " 79%|██████████████████████████████████████████████████████████████████████████████████████████████████████████████████████████████████████████████████████████████████████████████████████████████████████████████████████████████████████████████████████████████████████████████████████████████████████████▌                                                                               | 703/890.0 [29:45<08:02,  2.58s/it]"
     ]
    },
    {
     "name": "stdout",
     "output_type": "stream",
     "text": [
      "23.7\n",
      "80.7\n",
      "| ID | GPU | MEM |\n",
      "------------------\n",
      "|  0 | 28% | 19% |\n",
      "|  1 |  0% |  0% |\n"
     ]
    },
    {
     "name": "stderr",
     "output_type": "stream",
     "text": [
      " 79%|███████████████████████████████████████████████████████████████████████████████████████████████████████████████████████████████████████████████████████████████████████████████████████████████████████████████████████████████████████████████████████████████████████████████████████████████████████████                                                                               | 704/890.0 [29:47<07:55,  2.56s/it]"
     ]
    },
    {
     "name": "stdout",
     "output_type": "stream",
     "text": [
      "22.0\n",
      "80.7\n",
      "| ID | GPU | MEM |\n",
      "------------------\n",
      "|  0 | 26% | 19% |\n",
      "|  1 |  0% |  0% |\n"
     ]
    },
    {
     "name": "stderr",
     "output_type": "stream",
     "text": [
      " 79%|███████████████████████████████████████████████████████████████████████████████████████████████████████████████████████████████████████████████████████████████████████████████████████████████████████████████████████████████████████████████████████████████████████████████████████████████████████████▍                                                                              | 705/890.0 [29:50<07:48,  2.53s/it]"
     ]
    },
    {
     "name": "stdout",
     "output_type": "stream",
     "text": [
      "21.1\n",
      "80.7\n",
      "| ID | GPU | MEM |\n",
      "------------------\n",
      "|  0 |  0% | 19% |\n",
      "|  1 |  0% |  0% |\n"
     ]
    },
    {
     "name": "stderr",
     "output_type": "stream",
     "text": [
      " 79%|███████████████████████████████████████████████████████████████████████████████████████████████████████████████████████████████████████████████████████████████████████████████████████████████████████████████████████████████████████████████████████████████████████████████████████████████████████████▊                                                                              | 706/890.0 [29:52<07:45,  2.53s/it]"
     ]
    },
    {
     "name": "stdout",
     "output_type": "stream",
     "text": [
      "21.9\n",
      "80.7\n",
      "| ID | GPU | MEM |\n",
      "------------------\n",
      "|  0 |  0% | 19% |\n",
      "|  1 |  0% |  0% |\n"
     ]
    },
    {
     "name": "stderr",
     "output_type": "stream",
     "text": [
      " 79%|████████████████████████████████████████████████████████████████████████████████████████████████████████████████████████████████████████████████████████████████████████████████████████████████████████████████████████████████████████████████████████████████████████████████████████████████████████████▎                                                                             | 707/890.0 [29:55<07:36,  2.49s/it]"
     ]
    },
    {
     "name": "stdout",
     "output_type": "stream",
     "text": [
      "21.3\n",
      "80.7\n",
      "| ID | GPU | MEM |\n",
      "------------------\n",
      "|  0 |  0% | 19% |\n",
      "|  1 |  0% |  0% |\n"
     ]
    },
    {
     "name": "stderr",
     "output_type": "stream",
     "text": [
      " 80%|████████████████████████████████████████████████████████████████████████████████████████████████████████████████████████████████████████████████████████████████████████████████████████████████████████████████████████████████████████████████████████████████████████████████████████████████████████████▋                                                                             | 708/890.0 [29:57<07:33,  2.49s/it]"
     ]
    },
    {
     "name": "stdout",
     "output_type": "stream",
     "text": [
      "20.5\n",
      "80.7\n",
      "| ID | GPU | MEM |\n",
      "------------------\n",
      "|  0 |  0% | 19% |\n",
      "|  1 |  0% |  0% |\n"
     ]
    },
    {
     "name": "stderr",
     "output_type": "stream",
     "text": [
      " 80%|█████████████████████████████████████████████████████████████████████████████████████████████████████████████████████████████████████████████████████████████████████████████████████████████████████████████████████████████████████████████████████████████████████████████████████████████████████████████▏                                                                            | 709/890.0 [30:00<07:39,  2.54s/it]"
     ]
    },
    {
     "name": "stdout",
     "output_type": "stream",
     "text": [
      "21.4\n",
      "80.7\n",
      "| ID | GPU | MEM |\n",
      "------------------\n",
      "|  0 |  0% | 19% |\n",
      "|  1 |  0% |  0% |\n"
     ]
    },
    {
     "name": "stderr",
     "output_type": "stream",
     "text": [
      " 80%|█████████████████████████████████████████████████████████████████████████████████████████████████████████████████████████████████████████████████████████████████████████████████████████████████████████████████████████████████████████████████████████████████████████████████████████████████████████████▌                                                                            | 710/890.0 [30:03<07:36,  2.54s/it]"
     ]
    },
    {
     "name": "stdout",
     "output_type": "stream",
     "text": [
      "21.7\n",
      "80.8\n",
      "| ID | GPU | MEM |\n",
      "------------------\n",
      "|  0 |  0% | 19% |\n",
      "|  1 |  0% |  0% |\n"
     ]
    },
    {
     "name": "stderr",
     "output_type": "stream",
     "text": [
      " 80%|█████████████████████████████████████████████████████████████████████████████████████████████████████████████████████████████████████████████████████████████████████████████████████████████████████████████████████████████████████████████████████████████████████████████████████████████████████████████▉                                                                            | 711/890.0 [30:05<07:28,  2.51s/it]"
     ]
    },
    {
     "name": "stdout",
     "output_type": "stream",
     "text": [
      "21.8\n",
      "80.8\n",
      "| ID | GPU | MEM |\n",
      "------------------\n",
      "|  0 |  0% | 19% |\n",
      "|  1 |  0% |  0% |\n"
     ]
    },
    {
     "name": "stderr",
     "output_type": "stream",
     "text": [
      " 80%|██████████████████████████████████████████████████████████████████████████████████████████████████████████████████████████████████████████████████████████████████████████████████████████████████████████████████████████████████████████████████████████████████████████████████████████████████████████████▍                                                                           | 712/890.0 [30:07<07:22,  2.49s/it]"
     ]
    },
    {
     "name": "stdout",
     "output_type": "stream",
     "text": [
      "21.5\n",
      "80.8\n",
      "| ID | GPU | MEM |\n",
      "------------------\n",
      "|  0 |  0% | 19% |\n",
      "|  1 |  0% |  0% |\n"
     ]
    },
    {
     "name": "stderr",
     "output_type": "stream",
     "text": [
      " 80%|██████████████████████████████████████████████████████████████████████████████████████████████████████████████████████████████████████████████████████████████████████████████████████████████████████████████████████████████████████████████████████████████████████████████████████████████████████████████▊                                                                           | 713/890.0 [30:10<07:18,  2.48s/it]"
     ]
    },
    {
     "name": "stdout",
     "output_type": "stream",
     "text": [
      "21.7\n",
      "80.8\n",
      "| ID | GPU | MEM |\n",
      "------------------\n",
      "|  0 |  0% | 19% |\n",
      "|  1 |  0% |  0% |\n"
     ]
    },
    {
     "name": "stderr",
     "output_type": "stream",
     "text": [
      " 80%|███████████████████████████████████████████████████████████████████████████████████████████████████████████████████████████████████████████████████████████████████████████████████████████████████████████████████████████████████████████████████████████████████████████████████████████████████████████████▏                                                                          | 714/890.0 [30:12<07:12,  2.46s/it]"
     ]
    },
    {
     "name": "stdout",
     "output_type": "stream",
     "text": [
      "20.0\n",
      "80.7\n",
      "| ID | GPU | MEM |\n",
      "------------------\n",
      "|  0 |  0% | 19% |\n",
      "|  1 |  0% |  0% |\n"
     ]
    },
    {
     "name": "stderr",
     "output_type": "stream",
     "text": [
      " 80%|███████████████████████████████████████████████████████████████████████████████████████████████████████████████████████████████████████████████████████████████████████████████████████████████████████████████████████████████████████████████████████████████████████████████████████████████████████████████▋                                                                          | 715/890.0 [30:16<07:59,  2.74s/it]"
     ]
    },
    {
     "name": "stdout",
     "output_type": "stream",
     "text": [
      "19.3\n",
      "80.7\n",
      "| ID | GPU | MEM |\n",
      "------------------\n",
      "|  0 |  0% | 19% |\n",
      "|  1 |  0% |  0% |\n"
     ]
    },
    {
     "name": "stderr",
     "output_type": "stream",
     "text": [
      " 80%|████████████████████████████████████████████████████████████████████████████████████████████████████████████████████████████████████████████████████████████████████████████████████████████████████████████████████████████████████████████████████████████████████████████████████████████████████████████████                                                                          | 716/890.0 [30:19<08:37,  2.97s/it]"
     ]
    },
    {
     "name": "stdout",
     "output_type": "stream",
     "text": [
      "22.2\n",
      "80.7\n",
      "| ID | GPU | MEM |\n",
      "------------------\n",
      "|  0 |  0% | 19% |\n",
      "|  1 |  0% |  0% |\n"
     ]
    },
    {
     "name": "stderr",
     "output_type": "stream",
     "text": [
      " 81%|████████████████████████████████████████████████████████████████████████████████████████████████████████████████████████████████████████████████████████████████████████████████████████████████████████████████████████████████████████████████████████████████████████████████████████████████████████████████▌                                                                         | 717/890.0 [30:22<08:05,  2.81s/it]"
     ]
    },
    {
     "name": "stdout",
     "output_type": "stream",
     "text": [
      "22.0\n",
      "80.7\n",
      "| ID | GPU | MEM |\n",
      "------------------\n",
      "|  0 |  0% | 19% |\n",
      "|  1 |  0% |  0% |\n"
     ]
    },
    {
     "name": "stderr",
     "output_type": "stream",
     "text": [
      " 81%|████████████████████████████████████████████████████████████████████████████████████████████████████████████████████████████████████████████████████████████████████████████████████████████████████████████████████████████████████████████████████████████████████████████████████████████████████████████████▉                                                                         | 718/890.0 [30:24<07:42,  2.69s/it]"
     ]
    },
    {
     "name": "stdout",
     "output_type": "stream",
     "text": [
      "22.3\n",
      "80.7\n",
      "| ID | GPU | MEM |\n",
      "------------------\n",
      "|  0 |  0% | 19% |\n",
      "|  1 |  0% |  0% |\n"
     ]
    },
    {
     "name": "stderr",
     "output_type": "stream",
     "text": [
      " 81%|█████████████████████████████████████████████████████████████████████████████████████████████████████████████████████████████████████████████████████████████████████████████████████████████████████████████████████████████████████████████████████████████████████████████████████████████████████████████████▎                                                                        | 719/890.0 [30:26<07:24,  2.60s/it]"
     ]
    },
    {
     "name": "stdout",
     "output_type": "stream",
     "text": [
      "21.9\n",
      "80.7\n",
      "| ID | GPU | MEM |\n",
      "------------------\n",
      "|  0 |  0% | 19% |\n",
      "|  1 |  0% |  0% |\n"
     ]
    },
    {
     "name": "stderr",
     "output_type": "stream",
     "text": [
      " 81%|█████████████████████████████████████████████████████████████████████████████████████████████████████████████████████████████████████████████████████████████████████████████████████████████████████████████████████████████████████████████████████████████████████████████████████████████████████████████████▊                                                                        | 720/890.0 [30:29<07:13,  2.55s/it]"
     ]
    },
    {
     "name": "stdout",
     "output_type": "stream",
     "text": [
      "22.0\n",
      "80.7\n",
      "| ID | GPU | MEM |\n",
      "------------------\n",
      "|  0 |  0% | 19% |\n",
      "|  1 |  0% |  0% |\n"
     ]
    },
    {
     "name": "stderr",
     "output_type": "stream",
     "text": [
      " 81%|██████████████████████████████████████████████████████████████████████████████████████████████████████████████████████████████████████████████████████████████████████████████████████████████████████████████████████████████████████████████████████████████████████████████████████████████████████████████████▏                                                                       | 721/890.0 [30:31<07:03,  2.51s/it]"
     ]
    },
    {
     "name": "stdout",
     "output_type": "stream",
     "text": [
      "19.0\n",
      "80.7\n",
      "| ID | GPU | MEM |\n",
      "------------------\n",
      "|  0 |  0% | 19% |\n",
      "|  1 |  0% |  0% |\n"
     ]
    },
    {
     "name": "stderr",
     "output_type": "stream",
     "text": [
      " 81%|██████████████████████████████████████████████████████████████████████████████████████████████████████████████████████████████████████████████████████████████████████████████████████████████████████████████████████████████████████████████████████████████████████████████████████████████████████████████████▋                                                                       | 722/890.0 [30:35<07:55,  2.83s/it]"
     ]
    },
    {
     "name": "stdout",
     "output_type": "stream",
     "text": [
      "22.2\n",
      "80.7\n",
      "| ID | GPU | MEM |\n",
      "------------------\n",
      "|  0 |  0% | 19% |\n",
      "|  1 |  0% |  0% |\n"
     ]
    },
    {
     "name": "stderr",
     "output_type": "stream",
     "text": [
      " 81%|███████████████████████████████████████████████████████████████████████████████████████████████████████████████████████████████████████████████████████████████████████████████████████████████████████████████████████████████████████████████████████████████████████████████████████████████████████████████████                                                                       | 723/890.0 [30:37<07:32,  2.71s/it]"
     ]
    },
    {
     "name": "stdout",
     "output_type": "stream",
     "text": [
      "22.3\n",
      "80.7\n",
      "| ID | GPU | MEM |\n",
      "------------------\n",
      "|  0 |  0% | 19% |\n",
      "|  1 |  0% |  0% |\n"
     ]
    },
    {
     "name": "stderr",
     "output_type": "stream",
     "text": [
      " 81%|███████████████████████████████████████████████████████████████████████████████████████████████████████████████████████████████████████████████████████████████████████████████████████████████████████████████████████████████████████████████████████████████████████████████████████████████████████████████████▍                                                                      | 724/890.0 [30:40<07:12,  2.61s/it]"
     ]
    },
    {
     "name": "stdout",
     "output_type": "stream",
     "text": [
      "20.2\n",
      "80.7\n",
      "| ID | GPU | MEM |\n",
      "------------------\n",
      "|  0 |  0% | 19% |\n",
      "|  1 |  0% |  0% |\n"
     ]
    },
    {
     "name": "stderr",
     "output_type": "stream",
     "text": [
      " 81%|███████████████████████████████████████████████████████████████████████████████████████████████████████████████████████████████████████████████████████████████████████████████████████████████████████████████████████████████████████████████████████████████████████████████████████████████████████████████████▉                                                                      | 725/890.0 [30:43<07:43,  2.81s/it]"
     ]
    },
    {
     "name": "stdout",
     "output_type": "stream",
     "text": [
      "22.1\n",
      "80.7\n",
      "| ID | GPU | MEM |\n",
      "------------------\n",
      "|  0 |  0% | 19% |\n",
      "|  1 |  0% |  0% |\n"
     ]
    },
    {
     "name": "stderr",
     "output_type": "stream",
     "text": [
      " 82%|████████████████████████████████████████████████████████████████████████████████████████████████████████████████████████████████████████████████████████████████████████████████████████████████████████████████████████████████████████████████████████████████████████████████████████████████████████████████████▎                                                                     | 726/890.0 [30:45<07:23,  2.70s/it]"
     ]
    },
    {
     "name": "stdout",
     "output_type": "stream",
     "text": [
      "20.6\n",
      "80.7\n",
      "| ID | GPU | MEM |\n",
      "------------------\n",
      "|  0 |  0% | 19% |\n",
      "|  1 |  0% |  0% |\n"
     ]
    },
    {
     "name": "stderr",
     "output_type": "stream",
     "text": [
      " 82%|████████████████████████████████████████████████████████████████████████████████████████████████████████████████████████████████████████████████████████████████████████████████████████████████████████████████████████████████████████████████████████████████████████████████████████████████████████████████████▊                                                                     | 727/890.0 [30:49<07:50,  2.88s/it]"
     ]
    },
    {
     "name": "stdout",
     "output_type": "stream",
     "text": [
      "21.8\n",
      "80.7\n",
      "| ID | GPU | MEM |\n",
      "------------------\n",
      "|  0 |  0% | 19% |\n",
      "|  1 |  0% |  0% |\n"
     ]
    },
    {
     "name": "stderr",
     "output_type": "stream",
     "text": [
      " 82%|█████████████████████████████████████████████████████████████████████████████████████████████████████████████████████████████████████████████████████████████████████████████████████████████████████████████████████████████████████████████████████████████████████████████████████████████████████████████████████▏                                                                    | 728/890.0 [30:51<07:23,  2.74s/it]"
     ]
    },
    {
     "name": "stdout",
     "output_type": "stream",
     "text": [
      "22.2\n",
      "80.7\n",
      "| ID | GPU | MEM |\n",
      "------------------\n",
      "|  0 |  0% | 19% |\n",
      "|  1 |  0% |  0% |\n"
     ]
    },
    {
     "name": "stderr",
     "output_type": "stream",
     "text": [
      " 82%|█████████████████████████████████████████████████████████████████████████████████████████████████████████████████████████████████████████████████████████████████████████████████████████████████████████████████████████████████████████████████████████████████████████████████████████████████████████████████████▌                                                                    | 729/890.0 [30:53<07:04,  2.64s/it]"
     ]
    },
    {
     "name": "stdout",
     "output_type": "stream",
     "text": [
      "22.2\n",
      "80.7\n",
      "| ID | GPU | MEM |\n",
      "------------------\n",
      "|  0 |  0% | 19% |\n",
      "|  1 |  0% |  0% |\n"
     ]
    },
    {
     "name": "stderr",
     "output_type": "stream",
     "text": [
      " 82%|██████████████████████████████████████████████████████████████████████████████████████████████████████████████████████████████████████████████████████████████████████████████████████████████████████████████████████████████████████████████████████████████████████████████████████████████████████████████████████                                                                    | 730/890.0 [30:56<06:49,  2.56s/it]"
     ]
    },
    {
     "name": "stdout",
     "output_type": "stream",
     "text": [
      "22.2\n",
      "80.7\n",
      "| ID | GPU | MEM |\n",
      "------------------\n",
      "|  0 |  0% | 19% |\n",
      "|  1 |  0% |  0% |\n"
     ]
    },
    {
     "name": "stderr",
     "output_type": "stream",
     "text": [
      " 82%|██████████████████████████████████████████████████████████████████████████████████████████████████████████████████████████████████████████████████████████████████████████████████████████████████████████████████████████████████████████████████████████████████████████████████████████████████████████████████████▍                                                                   | 731/890.0 [30:58<06:38,  2.51s/it]"
     ]
    },
    {
     "name": "stdout",
     "output_type": "stream",
     "text": [
      "22.0\n",
      "80.7\n",
      "| ID | GPU | MEM |\n",
      "------------------\n",
      "|  0 |  0% | 19% |\n",
      "|  1 |  0% |  0% |\n"
     ]
    },
    {
     "name": "stderr",
     "output_type": "stream",
     "text": [
      " 82%|██████████████████████████████████████████████████████████████████████████████████████████████████████████████████████████████████████████████████████████████████████████████████████████████████████████████████████████████████████████████████████████████████████████████████████████████████████████████████████▉                                                                   | 732/890.0 [31:01<06:31,  2.48s/it]"
     ]
    },
    {
     "name": "stdout",
     "output_type": "stream",
     "text": [
      "19.4\n",
      "80.7\n",
      "| ID | GPU | MEM |\n",
      "------------------\n",
      "|  0 |  0% | 19% |\n",
      "|  1 |  0% |  0% |\n"
     ]
    },
    {
     "name": "stderr",
     "output_type": "stream",
     "text": [
      " 82%|███████████████████████████████████████████████████████████████████████████████████████████████████████████████████████████████████████████████████████████████████████████████████████████████████████████████████████████████████████████████████████████████████████████████████████████████████████████████████████▎                                                                  | 733/890.0 [31:04<07:16,  2.78s/it]"
     ]
    },
    {
     "name": "stdout",
     "output_type": "stream",
     "text": [
      "21.7\n",
      "80.7\n",
      "| ID | GPU | MEM |\n",
      "------------------\n",
      "|  0 |  0% | 19% |\n",
      "|  1 |  0% |  0% |\n"
     ]
    },
    {
     "name": "stderr",
     "output_type": "stream",
     "text": [
      " 82%|███████████████████████████████████████████████████████████████████████████████████████████████████████████████████████████████████████████████████████████████████████████████████████████████████████████████████████████████████████████████████████████████████████████████████████████████████████████████████████▋                                                                  | 734/890.0 [31:07<07:01,  2.70s/it]"
     ]
    },
    {
     "name": "stdout",
     "output_type": "stream",
     "text": [
      "19.9\n",
      "80.7\n",
      "| ID | GPU | MEM |\n",
      "------------------\n",
      "|  0 |  0% | 19% |\n",
      "|  1 |  0% |  0% |\n"
     ]
    },
    {
     "name": "stderr",
     "output_type": "stream",
     "text": [
      " 83%|████████████████████████████████████████████████████████████████████████████████████████████████████████████████████████████████████████████████████████████████████████████████████████████████████████████████████████████████████████████████████████████████████████████████████████████████████████████████████████▏                                                                 | 735/890.0 [31:10<07:27,  2.89s/it]"
     ]
    },
    {
     "name": "stdout",
     "output_type": "stream",
     "text": [
      "22.4\n",
      "80.7\n",
      "| ID | GPU | MEM |\n",
      "------------------\n",
      "|  0 |  0% | 19% |\n",
      "|  1 |  0% |  0% |\n"
     ]
    },
    {
     "name": "stderr",
     "output_type": "stream",
     "text": [
      " 83%|████████████████████████████████████████████████████████████████████████████████████████████████████████████████████████████████████████████████████████████████████████████████████████████████████████████████████████████████████████████████████████████████████████████████████████████████████████████████████████▌                                                                 | 736/890.0 [31:12<07:01,  2.74s/it]"
     ]
    },
    {
     "name": "stdout",
     "output_type": "stream",
     "text": [
      "22.6\n",
      "80.7\n",
      "| ID | GPU | MEM |\n",
      "------------------\n",
      "|  0 |  0% | 19% |\n",
      "|  1 |  0% |  0% |\n"
     ]
    },
    {
     "name": "stderr",
     "output_type": "stream",
     "text": [
      " 83%|█████████████████████████████████████████████████████████████████████████████████████████████████████████████████████████████████████████████████████████████████████████████████████████████████████████████████████████████████████████████████████████████████████████████████████████████████████████████████████████                                                                 | 737/890.0 [31:15<06:41,  2.62s/it]"
     ]
    },
    {
     "name": "stdout",
     "output_type": "stream",
     "text": [
      "21.6\n",
      "80.7\n",
      "| ID | GPU | MEM |\n",
      "------------------\n",
      "|  0 |  2% | 19% |\n",
      "|  1 |  0% |  0% |\n"
     ]
    },
    {
     "name": "stderr",
     "output_type": "stream",
     "text": [
      " 83%|█████████████████████████████████████████████████████████████████████████████████████████████████████████████████████████████████████████████████████████████████████████████████████████████████████████████████████████████████████████████████████████████████████████████████████████████████████████████████████████▍                                                                | 738/890.0 [31:17<06:34,  2.59s/it]"
     ]
    },
    {
     "name": "stdout",
     "output_type": "stream",
     "text": [
      "22.3\n",
      "80.7\n",
      "| ID | GPU | MEM |\n",
      "------------------\n",
      "|  0 |  0% | 19% |\n",
      "|  1 |  0% |  0% |\n"
     ]
    },
    {
     "name": "stderr",
     "output_type": "stream",
     "text": [
      " 83%|█████████████████████████████████████████████████████████████████████████████████████████████████████████████████████████████████████████████████████████████████████████████████████████████████████████████████████████████████████████████████████████████████████████████████████████████████████████████████████████▊                                                                | 739/890.0 [31:19<06:06,  2.43s/it]"
     ]
    },
    {
     "name": "stdout",
     "output_type": "stream",
     "text": [
      "20.2\n",
      "80.7\n",
      "| ID | GPU | MEM |\n",
      "------------------\n",
      "|  0 |  0% | 19% |\n",
      "|  1 |  0% |  0% |\n"
     ]
    },
    {
     "name": "stderr",
     "output_type": "stream",
     "text": [
      " 83%|██████████████████████████████████████████████████████████████████████████████████████████████████████████████████████████████████████████████████████████████████████████████████████████████████████████████████████████████████████████████████████████████████████████████████████████████████████████████████████████▎                                                               | 740/890.0 [31:23<06:43,  2.69s/it]"
     ]
    },
    {
     "name": "stdout",
     "output_type": "stream",
     "text": [
      "20.5\n",
      "80.7\n",
      "| ID | GPU | MEM |\n",
      "------------------\n",
      "|  0 |  0% | 19% |\n",
      "|  1 |  0% |  0% |\n"
     ]
    },
    {
     "name": "stderr",
     "output_type": "stream",
     "text": [
      " 83%|██████████████████████████████████████████████████████████████████████████████████████████████████████████████████████████████████████████████████████████████████████████████████████████████████████████████████████████████████████████████████████████████████████████████████████████████████████████████████████████▋                                                               | 741/890.0 [31:25<06:39,  2.68s/it]"
     ]
    },
    {
     "name": "stdout",
     "output_type": "stream",
     "text": [
      "21.0\n",
      "80.7\n",
      "| ID | GPU | MEM |\n",
      "------------------\n",
      "|  0 |  0% | 19% |\n",
      "|  1 |  0% |  0% |\n"
     ]
    },
    {
     "name": "stderr",
     "output_type": "stream",
     "text": [
      " 83%|███████████████████████████████████████████████████████████████████████████████████████████████████████████████████████████████████████████████████████████████████████████████████████████████████████████████████████████████████████████████████████████████████████████████████████████████████████████████████████████▏                                                              | 742/890.0 [31:28<06:30,  2.64s/it]"
     ]
    },
    {
     "name": "stdout",
     "output_type": "stream",
     "text": [
      "21.5\n",
      "80.7\n",
      "| ID | GPU | MEM |\n",
      "------------------\n",
      "|  0 |  0% | 19% |\n",
      "|  1 |  0% |  0% |\n"
     ]
    },
    {
     "name": "stderr",
     "output_type": "stream",
     "text": [
      " 83%|███████████████████████████████████████████████████████████████████████████████████████████████████████████████████████████████████████████████████████████████████████████████████████████████████████████████████████████████████████████████████████████████████████████████████████████████████████████████████████████▌                                                              | 743/890.0 [31:30<06:22,  2.60s/it]"
     ]
    },
    {
     "name": "stdout",
     "output_type": "stream",
     "text": [
      "21.1\n",
      "80.7\n",
      "| ID | GPU | MEM |\n",
      "------------------\n",
      "|  0 |  0% | 19% |\n",
      "|  1 |  0% |  0% |\n"
     ]
    },
    {
     "name": "stderr",
     "output_type": "stream",
     "text": [
      " 84%|███████████████████████████████████████████████████████████████████████████████████████████████████████████████████████████████████████████████████████████████████████████████████████████████████████████████████████████████████████████████████████████████████████████████████████████████████████████████████████████▉                                                              | 744/890.0 [31:33<06:26,  2.65s/it]"
     ]
    },
    {
     "name": "stdout",
     "output_type": "stream",
     "text": [
      "22.2\n",
      "80.7\n",
      "| ID | GPU | MEM |\n",
      "------------------\n",
      "|  0 |  0% | 19% |\n",
      "|  1 |  0% |  0% |\n"
     ]
    },
    {
     "name": "stderr",
     "output_type": "stream",
     "text": [
      " 84%|████████████████████████████████████████████████████████████████████████████████████████████████████████████████████████████████████████████████████████████████████████████████████████████████████████████████████████████████████████████████████████████████████████████████████████████████████████████████████████████▍                                                             | 745/890.0 [31:35<06:12,  2.57s/it]"
     ]
    },
    {
     "name": "stdout",
     "output_type": "stream",
     "text": [
      "22.4\n",
      "80.7\n",
      "| ID | GPU | MEM |\n",
      "------------------\n",
      "|  0 |  0% | 19% |\n",
      "|  1 |  0% |  0% |\n"
     ]
    },
    {
     "name": "stderr",
     "output_type": "stream",
     "text": [
      " 84%|████████████████████████████████████████████████████████████████████████████████████████████████████████████████████████████████████████████████████████████████████████████████████████████████████████████████████████████████████████████████████████████████████████████████████████████████████████████████████████████▊                                                             | 746/890.0 [31:38<06:03,  2.52s/it]"
     ]
    },
    {
     "name": "stdout",
     "output_type": "stream",
     "text": [
      "22.1\n",
      "80.7\n",
      "| ID | GPU | MEM |\n",
      "------------------\n",
      "|  0 |  0% | 19% |\n",
      "|  1 |  0% |  0% |\n"
     ]
    },
    {
     "name": "stderr",
     "output_type": "stream",
     "text": [
      " 84%|█████████████████████████████████████████████████████████████████████████████████████████████████████████████████████████████████████████████████████████████████████████████████████████████████████████████████████████████████████████████████████████████████████████████████████████████████████████████████████████████▎                                                            | 747/890.0 [31:40<05:56,  2.49s/it]"
     ]
    },
    {
     "name": "stdout",
     "output_type": "stream",
     "text": [
      "22.3\n",
      "80.7\n",
      "| ID | GPU | MEM |\n",
      "------------------\n",
      "|  0 |  0% | 19% |\n",
      "|  1 |  0% |  0% |\n"
     ]
    },
    {
     "name": "stderr",
     "output_type": "stream",
     "text": [
      " 84%|█████████████████████████████████████████████████████████████████████████████████████████████████████████████████████████████████████████████████████████████████████████████████████████████████████████████████████████████████████████████████████████████████████████████████████████████████████████████████████████████▋                                                            | 748/890.0 [31:43<05:49,  2.46s/it]"
     ]
    },
    {
     "name": "stdout",
     "output_type": "stream",
     "text": [
      "22.5\n",
      "80.7\n",
      "| ID | GPU | MEM |\n",
      "------------------\n",
      "|  0 |  0% | 19% |\n",
      "|  1 |  0% |  0% |\n"
     ]
    },
    {
     "name": "stderr",
     "output_type": "stream",
     "text": [
      " 84%|██████████████████████████████████████████████████████████████████████████████████████████████████████████████████████████████████████████████████████████████████████████████████████████████████████████████████████████████████████████████████████████████████████████████████████████████████████████████████████████████                                                            | 749/890.0 [31:45<05:44,  2.44s/it]"
     ]
    },
    {
     "name": "stdout",
     "output_type": "stream",
     "text": [
      "22.1\n",
      "80.7\n",
      "| ID | GPU | MEM |\n",
      "------------------\n",
      "|  0 |  0% | 19% |\n",
      "|  1 |  0% |  0% |\n"
     ]
    },
    {
     "name": "stderr",
     "output_type": "stream",
     "text": [
      " 84%|██████████████████████████████████████████████████████████████████████████████████████████████████████████████████████████████████████████████████████████████████████████████████████████████████████████████████████████████████████████████████████████████████████████████████████████████████████████████████████████████▌                                                           | 750/890.0 [31:47<05:41,  2.44s/it]"
     ]
    },
    {
     "name": "stdout",
     "output_type": "stream",
     "text": [
      "19.6\n",
      "80.7\n",
      "| ID | GPU | MEM |\n",
      "------------------\n",
      "|  0 |  0% | 19% |\n",
      "|  1 |  0% |  0% |\n"
     ]
    },
    {
     "name": "stderr",
     "output_type": "stream",
     "text": [
      " 84%|██████████████████████████████████████████████████████████████████████████████████████████████████████████████████████████████████████████████████████████████████████████████████████████████████████████████████████████████████████████████████████████████████████████████████████████████████████████████████████████████▉                                                           | 751/890.0 [31:51<06:22,  2.75s/it]"
     ]
    },
    {
     "name": "stdout",
     "output_type": "stream",
     "text": [
      "21.9\n",
      "80.7\n",
      "| ID | GPU | MEM |\n",
      "------------------\n",
      "|  0 |  0% | 19% |\n",
      "|  1 |  0% |  0% |\n"
     ]
    },
    {
     "name": "stderr",
     "output_type": "stream",
     "text": [
      " 84%|███████████████████████████████████████████████████████████████████████████████████████████████████████████████████████████████████████████████████████████████████████████████████████████████████████████████████████████████████████████████████████████████████████████████████████████████████████████████████████████████▍                                                          | 752/890.0 [31:53<06:04,  2.64s/it]"
     ]
    },
    {
     "name": "stdout",
     "output_type": "stream",
     "text": [
      "21.4\n",
      "80.7\n",
      "| ID | GPU | MEM |\n",
      "------------------\n",
      "|  0 |  0% | 19% |\n",
      "|  1 |  0% |  0% |\n"
     ]
    },
    {
     "name": "stderr",
     "output_type": "stream",
     "text": [
      " 85%|███████████████████████████████████████████████████████████████████████████████████████████████████████████████████████████████████████████████████████████████████████████████████████████████████████████████████████████████████████████████████████████████████████████████████████████████████████████████████████████████▊                                                          | 753/890.0 [31:56<05:55,  2.60s/it]"
     ]
    },
    {
     "name": "stdout",
     "output_type": "stream",
     "text": [
      "21.8\n",
      "80.7\n",
      "| ID | GPU | MEM |\n",
      "------------------\n",
      "|  0 |  0% | 19% |\n",
      "|  1 |  0% |  0% |\n"
     ]
    },
    {
     "name": "stderr",
     "output_type": "stream",
     "text": [
      " 85%|████████████████████████████████████████████████████████████████████████████████████████████████████████████████████████████████████████████████████████████████████████████████████████████████████████████████████████████████████████████████████████████████████████████████████████████████████████████████████████████████▏                                                         | 754/890.0 [31:58<05:44,  2.54s/it]"
     ]
    },
    {
     "name": "stdout",
     "output_type": "stream",
     "text": [
      "21.4\n",
      "80.7\n",
      "| ID | GPU | MEM |\n",
      "------------------\n",
      "|  0 |  0% | 19% |\n",
      "|  1 |  0% |  0% |\n"
     ]
    },
    {
     "name": "stderr",
     "output_type": "stream",
     "text": [
      " 85%|████████████████████████████████████████████████████████████████████████████████████████████████████████████████████████████████████████████████████████████████████████████████████████████████████████████████████████████████████████████████████████████████████████████████████████████████████████████████████████████████▋                                                         | 755/890.0 [32:01<05:39,  2.51s/it]"
     ]
    },
    {
     "name": "stdout",
     "output_type": "stream",
     "text": [
      "21.9\n",
      "80.7\n",
      "| ID | GPU | MEM |\n",
      "------------------\n",
      "|  0 |  0% | 19% |\n",
      "|  1 |  0% |  0% |\n"
     ]
    },
    {
     "name": "stderr",
     "output_type": "stream",
     "text": [
      " 85%|█████████████████████████████████████████████████████████████████████████████████████████████████████████████████████████████████████████████████████████████████████████████████████████████████████████████████████████████████████████████████████████████████████████████████████████████████████████████████████████████████                                                         | 756/890.0 [32:03<05:31,  2.47s/it]"
     ]
    },
    {
     "name": "stdout",
     "output_type": "stream",
     "text": [
      "19.2\n",
      "80.7\n",
      "| ID | GPU | MEM |\n",
      "------------------\n",
      "|  0 |  0% | 19% |\n",
      "|  1 |  0% |  0% |\n"
     ]
    },
    {
     "name": "stderr",
     "output_type": "stream",
     "text": [
      " 85%|█████████████████████████████████████████████████████████████████████████████████████████████████████████████████████████████████████████████████████████████████████████████████████████████████████████████████████████████████████████████████████████████████████████████████████████████████████████████████████████████████▌                                                        | 757/890.0 [32:07<06:11,  2.80s/it]"
     ]
    },
    {
     "name": "stdout",
     "output_type": "stream",
     "text": [
      "21.2\n",
      "80.7\n",
      "| ID | GPU | MEM |\n",
      "------------------\n",
      "|  0 |  0% | 19% |\n",
      "|  1 |  0% |  0% |\n"
     ]
    },
    {
     "name": "stderr",
     "output_type": "stream",
     "text": [
      " 85%|█████████████████████████████████████████████████████████████████████████████████████████████████████████████████████████████████████████████████████████████████████████████████████████████████████████████████████████████████████████████████████████████████████████████████████████████████████████████████████████████████▉                                                        | 758/890.0 [32:09<05:58,  2.72s/it]"
     ]
    },
    {
     "name": "stdout",
     "output_type": "stream",
     "text": [
      "21.2\n",
      "80.7\n",
      "| ID | GPU | MEM |\n",
      "------------------\n",
      "|  0 |  0% | 19% |\n",
      "|  1 |  0% |  0% |\n"
     ]
    },
    {
     "name": "stderr",
     "output_type": "stream",
     "text": [
      " 85%|██████████████████████████████████████████████████████████████████████████████████████████████████████████████████████████████████████████████████████████████████████████████████████████████████████████████████████████████████████████████████████████████████████████████████████████████████████████████████████████████████▎                                                       | 759/890.0 [32:12<05:49,  2.67s/it]"
     ]
    },
    {
     "name": "stdout",
     "output_type": "stream",
     "text": [
      "21.6\n",
      "80.7\n",
      "| ID | GPU | MEM |\n",
      "------------------\n",
      "|  0 |  0% | 19% |\n",
      "|  1 |  0% |  0% |\n"
     ]
    },
    {
     "name": "stderr",
     "output_type": "stream",
     "text": [
      " 85%|██████████████████████████████████████████████████████████████████████████████████████████████████████████████████████████████████████████████████████████████████████████████████████████████████████████████████████████████████████████████████████████████████████████████████████████████████████████████████████████████████▊                                                       | 760/890.0 [32:14<05:38,  2.60s/it]"
     ]
    },
    {
     "name": "stdout",
     "output_type": "stream",
     "text": [
      "21.8\n",
      "80.7\n",
      "| ID | GPU | MEM |\n",
      "------------------\n",
      "|  0 |  0% | 19% |\n",
      "|  1 |  0% |  0% |\n"
     ]
    },
    {
     "name": "stderr",
     "output_type": "stream",
     "text": [
      " 86%|███████████████████████████████████████████████████████████████████████████████████████████████████████████████████████████████████████████████████████████████████████████████████████████████████████████████████████████████████████████████████████████████████████████████████████████████████████████████████████████████████▏                                                      | 761/890.0 [32:17<05:28,  2.55s/it]"
     ]
    },
    {
     "name": "stdout",
     "output_type": "stream",
     "text": [
      "19.0\n",
      "80.7\n",
      "| ID | GPU | MEM |\n",
      "------------------\n",
      "|  0 |  1% | 19% |\n",
      "|  1 |  0% |  0% |\n"
     ]
    },
    {
     "name": "stderr",
     "output_type": "stream",
     "text": [
      " 86%|███████████████████████████████████████████████████████████████████████████████████████████████████████████████████████████████████████████████████████████████████████████████████████████████████████████████████████████████████████████████████████████████████████████████████████████████████████████████████████████████████▋                                                      | 762/890.0 [32:20<06:06,  2.86s/it]"
     ]
    },
    {
     "name": "stdout",
     "output_type": "stream",
     "text": [
      "20.7\n",
      "80.7\n",
      "| ID | GPU | MEM |\n",
      "------------------\n",
      "|  0 |  0% | 19% |\n",
      "|  1 |  0% |  0% |\n"
     ]
    },
    {
     "name": "stderr",
     "output_type": "stream",
     "text": [
      " 86%|████████████████████████████████████████████████████████████████████████████████████████████████████████████████████████████████████████████████████████████████████████████████████████████████████████████████████████████████████████████████████████████████████████████████████████████████████████████████████████████████████                                                      | 763/890.0 [32:23<05:51,  2.77s/it]"
     ]
    },
    {
     "name": "stdout",
     "output_type": "stream",
     "text": [
      "21.2\n",
      "80.7\n",
      "| ID | GPU | MEM |\n",
      "------------------\n",
      "|  0 |  0% | 19% |\n",
      "|  1 |  0% |  0% |\n"
     ]
    },
    {
     "name": "stderr",
     "output_type": "stream",
     "text": [
      " 86%|████████████████████████████████████████████████████████████████████████████████████████████████████████████████████████████████████████████████████████████████████████████████████████████████████████████████████████████████████████████████████████████████████████████████████████████████████████████████████████████████████▍                                                     | 764/890.0 [32:25<05:39,  2.69s/it]"
     ]
    },
    {
     "name": "stdout",
     "output_type": "stream",
     "text": [
      "19.8\n",
      "80.7\n",
      "| ID | GPU | MEM |\n",
      "------------------\n",
      "|  0 |  0% | 19% |\n",
      "|  1 |  0% |  0% |\n"
     ]
    },
    {
     "name": "stderr",
     "output_type": "stream",
     "text": [
      " 86%|████████████████████████████████████████████████████████████████████████████████████████████████████████████████████████████████████████████████████████████████████████████████████████████████████████████████████████████████████████████████████████████████████████████████████████████████████████████████████████████████████▉                                                     | 765/890.0 [32:29<05:59,  2.87s/it]"
     ]
    },
    {
     "name": "stdout",
     "output_type": "stream",
     "text": [
      "21.9\n",
      "80.7\n",
      "| ID | GPU | MEM |\n",
      "------------------\n",
      "|  0 |  0% | 19% |\n",
      "|  1 |  0% |  0% |\n"
     ]
    },
    {
     "name": "stderr",
     "output_type": "stream",
     "text": [
      " 86%|█████████████████████████████████████████████████████████████████████████████████████████████████████████████████████████████████████████████████████████████████████████████████████████████████████████████████████████████████████████████████████████████████████████████████████████████████████████████████████████████████████▎                                                    | 766/890.0 [32:31<05:37,  2.73s/it]"
     ]
    },
    {
     "name": "stdout",
     "output_type": "stream",
     "text": [
      "19.1\n",
      "80.7\n",
      "| ID | GPU | MEM |\n",
      "------------------\n",
      "|  0 |  0% | 19% |\n",
      "|  1 |  0% |  0% |\n"
     ]
    },
    {
     "name": "stderr",
     "output_type": "stream",
     "text": [
      " 86%|█████████████████████████████████████████████████████████████████████████████████████████████████████████████████████████████████████████████████████████████████████████████████████████████████████████████████████████████████████████████████████████████████████████████████████████████████████████████████████████████████████▊                                                    | 767/890.0 [32:34<06:04,  2.97s/it]"
     ]
    },
    {
     "name": "stdout",
     "output_type": "stream",
     "text": [
      "21.1\n",
      "80.7\n",
      "| ID | GPU | MEM |\n",
      "------------------\n",
      "|  0 |  0% | 19% |\n",
      "|  1 |  0% |  0% |\n"
     ]
    },
    {
     "name": "stderr",
     "output_type": "stream",
     "text": [
      " 86%|██████████████████████████████████████████████████████████████████████████████████████████████████████████████████████████████████████████████████████████████████████████████████████████████████████████████████████████████████████████████████████████████████████████████████████████████████████████████████████████████████████▏                                                   | 768/890.0 [32:37<05:45,  2.83s/it]"
     ]
    },
    {
     "name": "stdout",
     "output_type": "stream",
     "text": [
      "21.0\n",
      "80.7\n",
      "| ID | GPU | MEM |\n",
      "------------------\n",
      "|  0 |  0% | 19% |\n",
      "|  1 |  0% |  0% |\n"
     ]
    },
    {
     "name": "stderr",
     "output_type": "stream",
     "text": [
      " 86%|██████████████████████████████████████████████████████████████████████████████████████████████████████████████████████████████████████████████████████████████████████████████████████████████████████████████████████████████████████████████████████████████████████████████████████████████████████████████████████████████████████▌                                                   | 769/890.0 [32:40<05:34,  2.76s/it]"
     ]
    },
    {
     "name": "stdout",
     "output_type": "stream",
     "text": [
      "21.3\n",
      "80.7\n",
      "| ID | GPU | MEM |\n",
      "------------------\n",
      "|  0 |  0% | 19% |\n",
      "|  1 |  0% |  0% |\n"
     ]
    },
    {
     "name": "stderr",
     "output_type": "stream",
     "text": [
      " 87%|███████████████████████████████████████████████████████████████████████████████████████████████████████████████████████████████████████████████████████████████████████████████████████████████████████████████████████████████████████████████████████████████████████████████████████████████████████████████████████████████████████                                                   | 770/890.0 [32:42<05:20,  2.67s/it]"
     ]
    },
    {
     "name": "stdout",
     "output_type": "stream",
     "text": [
      "21.3\n",
      "80.7\n",
      "| ID | GPU | MEM |\n",
      "------------------\n",
      "|  0 |  0% | 19% |\n",
      "|  1 |  0% |  0% |\n"
     ]
    },
    {
     "name": "stderr",
     "output_type": "stream",
     "text": [
      " 87%|███████████████████████████████████████████████████████████████████████████████████████████████████████████████████████████████████████████████████████████████████████████████████████████████████████████████████████████████████████████████████████████████████████████████████████████████████████████████████████████████████████▍                                                  | 771/890.0 [32:45<05:13,  2.64s/it]"
     ]
    },
    {
     "name": "stdout",
     "output_type": "stream",
     "text": [
      "21.4\n",
      "80.7\n",
      "| ID | GPU | MEM |\n",
      "------------------\n",
      "|  0 |  0% | 19% |\n",
      "|  1 |  0% |  0% |\n"
     ]
    },
    {
     "name": "stderr",
     "output_type": "stream",
     "text": [
      " 87%|███████████████████████████████████████████████████████████████████████████████████████████████████████████████████████████████████████████████████████████████████████████████████████████████████████████████████████████████████████████████████████████████████████████████████████████████████████████████████████████████████████▉                                                  | 772/890.0 [32:47<05:07,  2.60s/it]"
     ]
    },
    {
     "name": "stdout",
     "output_type": "stream",
     "text": [
      "22.2\n",
      "80.7\n",
      "| ID | GPU | MEM |\n",
      "------------------\n",
      "|  0 |  0% | 19% |\n",
      "|  1 |  0% |  0% |\n"
     ]
    },
    {
     "name": "stderr",
     "output_type": "stream",
     "text": [
      " 87%|████████████████████████████████████████████████████████████████████████████████████████████████████████████████████████████████████████████████████████████████████████████████████████████████████████████████████████████████████████████████████████████████████████████████████████████████████████████████████████████████████████▎                                                 | 773/890.0 [32:49<04:56,  2.53s/it]"
     ]
    },
    {
     "name": "stdout",
     "output_type": "stream",
     "text": [
      "21.6\n",
      "80.7\n",
      "| ID | GPU | MEM |\n",
      "------------------\n",
      "|  0 |  0% | 19% |\n",
      "|  1 |  0% |  0% |\n"
     ]
    },
    {
     "name": "stderr",
     "output_type": "stream",
     "text": [
      " 87%|████████████████████████████████████████████████████████████████████████████████████████████████████████████████████████████████████████████████████████████████████████████████████████████████████████████████████████████████████████████████████████████████████████████████████████████████████████████████████████████████████████▋                                                 | 774/890.0 [32:52<04:50,  2.50s/it]"
     ]
    },
    {
     "name": "stdout",
     "output_type": "stream",
     "text": [
      "22.2\n",
      "80.7\n",
      "| ID | GPU | MEM |\n",
      "------------------\n",
      "|  0 |  0% | 19% |\n",
      "|  1 |  0% |  0% |\n"
     ]
    },
    {
     "name": "stderr",
     "output_type": "stream",
     "text": [
      " 87%|█████████████████████████████████████████████████████████████████████████████████████████████████████████████████████████████████████████████████████████████████████████████████████████████████████████████████████████████████████████████████████████████████████████████████████████████████████████████████████████████████████████▏                                                | 775/890.0 [32:54<04:43,  2.47s/it]"
     ]
    },
    {
     "name": "stdout",
     "output_type": "stream",
     "text": [
      "19.6\n",
      "80.7\n",
      "| ID | GPU | MEM |\n",
      "------------------\n",
      "|  0 |  0% | 19% |\n",
      "|  1 |  0% |  0% |\n"
     ]
    },
    {
     "name": "stderr",
     "output_type": "stream",
     "text": [
      " 87%|█████████████████████████████████████████████████████████████████████████████████████████████████████████████████████████████████████████████████████████████████████████████████████████████████████████████████████████████████████████████████████████████████████████████████████████████████████████████████████████████████████████▌                                                | 776/890.0 [32:58<05:17,  2.78s/it]"
     ]
    },
    {
     "name": "stdout",
     "output_type": "stream",
     "text": [
      "21.8\n",
      "80.7\n",
      "| ID | GPU | MEM |\n",
      "------------------\n",
      "|  0 |  0% | 19% |\n",
      "|  1 |  0% |  0% |\n"
     ]
    },
    {
     "name": "stderr",
     "output_type": "stream",
     "text": [
      " 87%|██████████████████████████████████████████████████████████████████████████████████████████████████████████████████████████████████████████████████████████████████████████████████████████████████████████████████████████████████████████████████████████████████████████████████████████████████████████████████████████████████████████                                                | 777/890.0 [33:00<04:47,  2.54s/it]"
     ]
    },
    {
     "name": "stdout",
     "output_type": "stream",
     "text": [
      "22.5\n",
      "80.7\n",
      "| ID | GPU | MEM |\n",
      "------------------\n",
      "|  0 |  0% | 19% |\n",
      "|  1 |  0% |  0% |\n"
     ]
    },
    {
     "name": "stderr",
     "output_type": "stream",
     "text": [
      " 87%|██████████████████████████████████████████████████████████████████████████████████████████████████████████████████████████████████████████████████████████████████████████████████████████████████████████████████████████████████████████████████████████████████████████████████████████████████████████████████████████████████████████▍                                               | 778/890.0 [33:02<04:39,  2.49s/it]"
     ]
    },
    {
     "name": "stdout",
     "output_type": "stream",
     "text": [
      "22.7\n",
      "80.7\n",
      "| ID | GPU | MEM |\n",
      "------------------\n",
      "|  0 |  0% | 19% |\n",
      "|  1 |  0% |  0% |\n"
     ]
    },
    {
     "name": "stderr",
     "output_type": "stream",
     "text": [
      " 88%|██████████████████████████████████████████████████████████████████████████████████████████████████████████████████████████████████████████████████████████████████████████████████████████████████████████████████████████████████████████████████████████████████████████████████████████████████████████████████████████████████████████▊                                               | 779/890.0 [33:04<04:32,  2.45s/it]"
     ]
    },
    {
     "name": "stdout",
     "output_type": "stream",
     "text": [
      "22.1\n",
      "80.7\n",
      "| ID | GPU | MEM |\n",
      "------------------\n",
      "|  0 |  0% | 19% |\n",
      "|  1 |  0% |  0% |\n"
     ]
    },
    {
     "name": "stderr",
     "output_type": "stream",
     "text": [
      " 88%|███████████████████████████████████████████████████████████████████████████████████████████████████████████████████████████████████████████████████████████████████████████████████████████████████████████████████████████████████████████████████████████████████████████████████████████████████████████████████████████████████████████▎                                              | 780/890.0 [33:07<04:30,  2.46s/it]"
     ]
    },
    {
     "name": "stdout",
     "output_type": "stream",
     "text": [
      "22.8\n",
      "80.7\n",
      "| ID | GPU | MEM |\n",
      "------------------\n",
      "|  0 |  0% | 19% |\n",
      "|  1 |  0% |  0% |\n"
     ]
    },
    {
     "name": "stderr",
     "output_type": "stream",
     "text": [
      " 88%|███████████████████████████████████████████████████████████████████████████████████████████████████████████████████████████████████████████████████████████████████████████████████████████████████████████████████████████████████████████████████████████████████████████████████████████████████████████████████████████████████████████▋                                              | 781/890.0 [33:09<04:25,  2.43s/it]"
     ]
    },
    {
     "name": "stdout",
     "output_type": "stream",
     "text": [
      "22.1\n",
      "80.7\n",
      "| ID | GPU | MEM |\n",
      "------------------\n",
      "|  0 |  0% | 19% |\n",
      "|  1 |  0% |  0% |\n"
     ]
    },
    {
     "name": "stderr",
     "output_type": "stream",
     "text": [
      " 88%|████████████████████████████████████████████████████████████████████████████████████████████████████████████████████████████████████████████████████████████████████████████████████████████████████████████████████████████████████████████████████████████████████████████████████████████████████████████████████████████████████████████▏                                             | 782/890.0 [33:12<04:23,  2.44s/it]"
     ]
    },
    {
     "name": "stdout",
     "output_type": "stream",
     "text": [
      "22.5\n",
      "80.7\n",
      "| ID | GPU | MEM |\n",
      "------------------\n",
      "|  0 |  0% | 19% |\n",
      "|  1 |  0% |  0% |\n"
     ]
    },
    {
     "name": "stderr",
     "output_type": "stream",
     "text": [
      " 88%|████████████████████████████████████████████████████████████████████████████████████████████████████████████████████████████████████████████████████████████████████████████████████████████████████████████████████████████████████████████████████████████████████████████████████████████████████████████████████████████████████████████▌                                             | 783/890.0 [33:14<04:20,  2.43s/it]"
     ]
    },
    {
     "name": "stdout",
     "output_type": "stream",
     "text": [
      "21.7\n",
      "80.7\n",
      "| ID | GPU | MEM |\n",
      "------------------\n",
      "|  0 |  0% | 19% |\n",
      "|  1 |  0% |  0% |\n"
     ]
    },
    {
     "name": "stderr",
     "output_type": "stream",
     "text": [
      " 88%|████████████████████████████████████████████████████████████████████████████████████████████████████████████████████████████████████████████████████████████████████████████████████████████████████████████████████████████████████████████████████████████████████████████████████████████████████████████████████████████████████████████▉                                             | 784/890.0 [33:17<04:19,  2.45s/it]"
     ]
    },
    {
     "name": "stdout",
     "output_type": "stream",
     "text": [
      "21.9\n",
      "80.7\n",
      "| ID | GPU | MEM |\n",
      "------------------\n",
      "|  0 |  0% | 19% |\n",
      "|  1 |  0% |  0% |\n"
     ]
    },
    {
     "name": "stderr",
     "output_type": "stream",
     "text": [
      " 88%|█████████████████████████████████████████████████████████████████████████████████████████████████████████████████████████████████████████████████████████████████████████████████████████████████████████████████████████████████████████████████████████████████████████████████████████████████████████████████████████████████████████████▍                                            | 785/890.0 [33:19<04:18,  2.46s/it]"
     ]
    },
    {
     "name": "stdout",
     "output_type": "stream",
     "text": [
      "22.5\n",
      "80.7\n",
      "| ID | GPU | MEM |\n",
      "------------------\n",
      "|  0 |  0% | 19% |\n",
      "|  1 |  0% |  0% |\n"
     ]
    },
    {
     "name": "stderr",
     "output_type": "stream",
     "text": [
      " 88%|█████████████████████████████████████████████████████████████████████████████████████████████████████████████████████████████████████████████████████████████████████████████████████████████████████████████████████████████████████████████████████████████████████████████████████████████████████████████████████████████████████████████▊                                            | 786/890.0 [33:22<04:13,  2.44s/it]"
     ]
    },
    {
     "name": "stdout",
     "output_type": "stream",
     "text": [
      "22.8\n",
      "80.8\n",
      "| ID | GPU | MEM |\n",
      "------------------\n",
      "|  0 |  0% | 19% |\n",
      "|  1 |  0% |  0% |\n"
     ]
    },
    {
     "name": "stderr",
     "output_type": "stream",
     "text": [
      " 88%|██████████████████████████████████████████████████████████████████████████████████████████████████████████████████████████████████████████████████████████████████████████████████████████████████████████████████████████████████████████████████████████████████████████████████████████████████████████████████████████████████████████████▎                                           | 787/890.0 [33:24<04:10,  2.44s/it]"
     ]
    },
    {
     "name": "stdout",
     "output_type": "stream",
     "text": [
      "22.5\n",
      "80.8\n",
      "| ID | GPU | MEM |\n",
      "------------------\n",
      "|  0 |  0% | 19% |\n",
      "|  1 |  0% |  0% |\n"
     ]
    },
    {
     "name": "stderr",
     "output_type": "stream",
     "text": [
      " 89%|██████████████████████████████████████████████████████████████████████████████████████████████████████████████████████████████████████████████████████████████████████████████████████████████████████████████████████████████████████████████████████████████████████████████████████████████████████████████████████████████████████████████▋                                           | 788/890.0 [33:26<04:07,  2.42s/it]"
     ]
    },
    {
     "name": "stdout",
     "output_type": "stream",
     "text": [
      "22.8\n",
      "80.8\n",
      "| ID | GPU | MEM |\n",
      "------------------\n",
      "|  0 |  0% | 19% |\n",
      "|  1 |  0% |  0% |\n"
     ]
    },
    {
     "name": "stderr",
     "output_type": "stream",
     "text": [
      " 89%|███████████████████████████████████████████████████████████████████████████████████████████████████████████████████████████████████████████████████████████████████████████████████████████████████████████████████████████████████████████████████████████████████████████████████████████████████████████████████████████████████████████████                                           | 789/890.0 [33:28<03:52,  2.30s/it]"
     ]
    },
    {
     "name": "stdout",
     "output_type": "stream",
     "text": [
      "22.3\n",
      "80.8\n",
      "| ID | GPU | MEM |\n",
      "------------------\n",
      "|  0 |  0% | 19% |\n",
      "|  1 |  0% |  0% |\n"
     ]
    },
    {
     "name": "stderr",
     "output_type": "stream",
     "text": [
      " 89%|███████████████████████████████████████████████████████████████████████████████████████████████████████████████████████████████████████████████████████████████████████████████████████████████████████████████████████████████████████████████████████████████████████████████████████████████████████████████████████████████████████████████▌                                          | 790/890.0 [33:31<03:53,  2.33s/it]"
     ]
    },
    {
     "name": "stdout",
     "output_type": "stream",
     "text": [
      "22.1\n",
      "80.8\n",
      "| ID | GPU | MEM |\n",
      "------------------\n",
      "|  0 |  0% | 19% |\n",
      "|  1 |  0% |  0% |\n"
     ]
    },
    {
     "name": "stderr",
     "output_type": "stream",
     "text": [
      " 89%|███████████████████████████████████████████████████████████████████████████████████████████████████████████████████████████████████████████████████████████████████████████████████████████████████████████████████████████████████████████████████████████████████████████████████████████████████████████████████████████████████████████████▉                                          | 791/890.0 [33:33<03:56,  2.39s/it]"
     ]
    },
    {
     "name": "stdout",
     "output_type": "stream",
     "text": [
      "20.9\n",
      "80.8\n",
      "| ID | GPU | MEM |\n",
      "------------------\n",
      "|  0 |  0% | 19% |\n",
      "|  1 |  0% |  0% |\n"
     ]
    },
    {
     "name": "stderr",
     "output_type": "stream",
     "text": [
      " 89%|████████████████████████████████████████████████████████████████████████████████████████████████████████████████████████████████████████████████████████████████████████████████████████████████████████████████████████████████████████████████████████████████████████████████████████████████████████████████████████████████████████████████▍                                         | 792/890.0 [33:36<03:56,  2.41s/it]"
     ]
    },
    {
     "name": "stdout",
     "output_type": "stream",
     "text": [
      "22.1\n",
      "80.8\n",
      "| ID | GPU | MEM |\n",
      "------------------\n",
      "|  0 |  0% | 19% |\n",
      "|  1 |  0% |  0% |\n"
     ]
    },
    {
     "name": "stderr",
     "output_type": "stream",
     "text": [
      " 89%|████████████████████████████████████████████████████████████████████████████████████████████████████████████████████████████████████████████████████████████████████████████████████████████████████████████████████████████████████████████████████████████████████████████████████████████████████████████████████████████████████████████████▊                                         | 793/890.0 [33:38<03:52,  2.40s/it]"
     ]
    },
    {
     "name": "stdout",
     "output_type": "stream",
     "text": [
      "22.2\n",
      "80.8\n",
      "| ID | GPU | MEM |\n",
      "------------------\n",
      "|  0 |  0% | 19% |\n",
      "|  1 |  0% |  0% |\n"
     ]
    },
    {
     "name": "stderr",
     "output_type": "stream",
     "text": [
      " 89%|█████████████████████████████████████████████████████████████████████████████████████████████████████████████████████████████████████████████████████████████████████████████████████████████████████████████████████████████████████████████████████████████████████████████████████████████████████████████████████████████████████████████████▏                                        | 794/890.0 [33:41<03:50,  2.40s/it]"
     ]
    },
    {
     "name": "stdout",
     "output_type": "stream",
     "text": [
      "22.8\n",
      "80.8\n",
      "| ID | GPU | MEM |\n",
      "------------------\n",
      "|  0 |  0% | 19% |\n",
      "|  1 |  0% |  0% |\n"
     ]
    },
    {
     "name": "stderr",
     "output_type": "stream",
     "text": [
      " 89%|█████████████████████████████████████████████████████████████████████████████████████████████████████████████████████████████████████████████████████████████████████████████████████████████████████████████████████████████████████████████████████████████████████████████████████████████████████████████████████████████████████████████████▋                                        | 795/890.0 [33:43<03:47,  2.40s/it]"
     ]
    },
    {
     "name": "stdout",
     "output_type": "stream",
     "text": [
      "20.8\n",
      "80.8\n",
      "| ID | GPU | MEM |\n",
      "------------------\n",
      "|  0 |  0% | 19% |\n",
      "|  1 |  0% |  0% |\n"
     ]
    },
    {
     "name": "stderr",
     "output_type": "stream",
     "text": [
      " 89%|██████████████████████████████████████████████████████████████████████████████████████████████████████████████████████████████████████████████████████████████████████████████████████████████████████████████████████████████████████████████████████████████████████████████████████████████████████████████████████████████████████████████████                                        | 796/890.0 [33:46<03:56,  2.52s/it]"
     ]
    },
    {
     "name": "stdout",
     "output_type": "stream",
     "text": [
      "19.6\n",
      "80.7\n",
      "| ID | GPU | MEM |\n",
      "------------------\n",
      "|  0 |  0% | 19% |\n",
      "|  1 |  0% |  0% |\n"
     ]
    },
    {
     "name": "stderr",
     "output_type": "stream",
     "text": [
      " 90%|██████████████████████████████████████████████████████████████████████████████████████████████████████████████████████████████████████████████████████████████████████████████████████████████████████████████████████████████████████████████████████████████████████████████████████████████████████████████████████████████████████████████████▌                                       | 797/890.0 [33:49<04:14,  2.74s/it]"
     ]
    },
    {
     "name": "stdout",
     "output_type": "stream",
     "text": [
      "21.6\n",
      "80.7\n",
      "| ID | GPU | MEM |\n",
      "------------------\n",
      "|  0 |  0% | 19% |\n",
      "|  1 |  0% |  0% |\n"
     ]
    },
    {
     "name": "stderr",
     "output_type": "stream",
     "text": [
      " 90%|██████████████████████████████████████████████████████████████████████████████████████████████████████████████████████████████████████████████████████████████████████████████████████████████████████████████████████████████████████████████████████████████████████████████████████████████████████████████████████████████████████████████████▉                                       | 798/890.0 [33:51<04:02,  2.63s/it]"
     ]
    },
    {
     "name": "stdout",
     "output_type": "stream",
     "text": [
      "21.6\n",
      "80.7\n",
      "| ID | GPU | MEM |\n",
      "------------------\n",
      "|  0 |  0% | 19% |\n",
      "|  1 |  0% |  0% |\n"
     ]
    },
    {
     "name": "stderr",
     "output_type": "stream",
     "text": [
      " 90%|███████████████████████████████████████████████████████████████████████████████████████████████████████████████████████████████████████████████████████████████████████████████████████████████████████████████████████████████████████████████████████████████████████████████████████████████████████████████████████████████████████████████████▎                                      | 799/890.0 [33:54<03:54,  2.57s/it]"
     ]
    },
    {
     "name": "stdout",
     "output_type": "stream",
     "text": [
      "21.8\n",
      "80.8\n",
      "| ID | GPU | MEM |\n",
      "------------------\n",
      "|  0 |  0% | 19% |\n",
      "|  1 |  0% |  0% |\n"
     ]
    },
    {
     "name": "stderr",
     "output_type": "stream",
     "text": [
      " 90%|███████████████████████████████████████████████████████████████████████████████████████████████████████████████████████████████████████████████████████████████████████████████████████████████████████████████████████████████████████████████████████████████████████████████████████████████████████████████████████████████████████████████████▊                                      | 800/890.0 [33:56<03:36,  2.41s/it]"
     ]
    },
    {
     "name": "stdout",
     "output_type": "stream",
     "text": [
      "19.6\n",
      "80.7\n",
      "| ID | GPU | MEM |\n",
      "------------------\n",
      "|  0 |  0% | 19% |\n",
      "|  1 |  0% |  0% |\n"
     ]
    },
    {
     "name": "stderr",
     "output_type": "stream",
     "text": [
      " 90%|████████████████████████████████████████████████████████████████████████████████████████████████████████████████████████████████████████████████████████████████████████████████████████████████████████████████████████████████████████████████████████████████████████████████████████████████████████████████████████████████████████████████████▏                                     | 801/890.0 [33:59<04:02,  2.73s/it]"
     ]
    },
    {
     "name": "stdout",
     "output_type": "stream",
     "text": [
      "21.1\n",
      "80.7\n",
      "| ID | GPU | MEM |\n",
      "------------------\n",
      "|  0 |  0% | 19% |\n",
      "|  1 |  0% |  0% |\n"
     ]
    },
    {
     "name": "stderr",
     "output_type": "stream",
     "text": [
      " 90%|████████████████████████████████████████████████████████████████████████████████████████████████████████████████████████████████████████████████████████████████████████████████████████████████████████████████████████████████████████████████████████████████████████████████████████████████████████████████████████████████████████████████████▌                                     | 802/890.0 [34:02<03:50,  2.62s/it]"
     ]
    },
    {
     "name": "stdout",
     "output_type": "stream",
     "text": [
      "21.3\n",
      "80.7\n",
      "| ID | GPU | MEM |\n",
      "------------------\n",
      "|  0 |  0% | 19% |\n",
      "|  1 |  0% |  0% |\n"
     ]
    },
    {
     "name": "stderr",
     "output_type": "stream",
     "text": [
      " 90%|█████████████████████████████████████████████████████████████████████████████████████████████████████████████████████████████████████████████████████████████████████████████████████████████████████████████████████████████████████████████████████████████████████████████████████████████████████████████████████████████████████████████████████                                     | 803/890.0 [34:04<03:43,  2.57s/it]"
     ]
    },
    {
     "name": "stdout",
     "output_type": "stream",
     "text": [
      "21.8\n",
      "80.7\n",
      "| ID | GPU | MEM |\n",
      "------------------\n",
      "|  0 |  0% | 19% |\n",
      "|  1 |  0% |  0% |\n"
     ]
    },
    {
     "name": "stderr",
     "output_type": "stream",
     "text": [
      " 90%|█████████████████████████████████████████████████████████████████████████████████████████████████████████████████████████████████████████████████████████████████████████████████████████████████████████████████████████████████████████████████████████████████████████████████████████████████████████████████████████████████████████████████████▍                                    | 804/890.0 [34:07<03:36,  2.52s/it]"
     ]
    },
    {
     "name": "stdout",
     "output_type": "stream",
     "text": [
      "20.4\n",
      "80.6\n",
      "| ID | GPU | MEM |\n",
      "------------------\n",
      "|  0 |  0% | 19% |\n",
      "|  1 |  0% |  0% |\n"
     ]
    },
    {
     "name": "stderr",
     "output_type": "stream",
     "text": [
      " 90%|█████████████████████████████████████████████████████████████████████████████████████████████████████████████████████████████████████████████████████████████████████████████████████████████████████████████████████████████████████████████████████████████████████████████████████████████████████████████████████████████████████████████████████▉                                    | 805/890.0 [34:10<03:53,  2.75s/it]"
     ]
    },
    {
     "name": "stdout",
     "output_type": "stream",
     "text": [
      "22.6\n",
      "80.6\n",
      "| ID | GPU | MEM |\n",
      "------------------\n",
      "|  0 |  0% | 19% |\n",
      "|  1 |  0% |  0% |\n"
     ]
    },
    {
     "name": "stderr",
     "output_type": "stream",
     "text": [
      " 91%|██████████████████████████████████████████████████████████████████████████████████████████████████████████████████████████████████████████████████████████████████████████████████████████████████████████████████████████████████████████████████████████████████████████████████████████████████████████████████████████████████████████████████████▎                                   | 806/890.0 [34:12<03:40,  2.63s/it]"
     ]
    },
    {
     "name": "stdout",
     "output_type": "stream",
     "text": [
      "22.4\n",
      "80.6\n",
      "| ID | GPU | MEM |\n",
      "------------------\n",
      "|  0 |  0% | 19% |\n",
      "|  1 |  0% |  0% |\n"
     ]
    },
    {
     "name": "stderr",
     "output_type": "stream",
     "text": [
      " 91%|██████████████████████████████████████████████████████████████████████████████████████████████████████████████████████████████████████████████████████████████████████████████████████████████████████████████████████████████████████████████████████████████████████████████████████████████████████████████████████████████████████████████████████▋                                   | 807/890.0 [34:15<03:32,  2.56s/it]"
     ]
    },
    {
     "name": "stdout",
     "output_type": "stream",
     "text": [
      "19.7\n",
      "80.6\n",
      "| ID | GPU | MEM |\n",
      "------------------\n",
      "|  0 |  0% | 19% |\n",
      "|  1 |  0% |  0% |\n"
     ]
    },
    {
     "name": "stderr",
     "output_type": "stream",
     "text": [
      " 91%|███████████████████████████████████████████████████████████████████████████████████████████████████████████████████████████████████████████████████████████████████████████████████████████████████████████████████████████████████████████████████████████████████████████████████████████████████████████████████████████████████████████████████████▏                                  | 808/890.0 [34:18<03:52,  2.84s/it]"
     ]
    },
    {
     "name": "stdout",
     "output_type": "stream",
     "text": [
      "19.4\n",
      "80.6\n",
      "| ID | GPU | MEM |\n",
      "------------------\n",
      "|  0 |  0% | 19% |\n",
      "|  1 |  0% |  0% |\n"
     ]
    },
    {
     "name": "stderr",
     "output_type": "stream",
     "text": [
      " 91%|███████████████████████████████████████████████████████████████████████████████████████████████████████████████████████████████████████████████████████████████████████████████████████████████████████████████████████████████████████████████████████████████████████████████████████████████████████████████████████████████████████████████████████▌                                  | 809/890.0 [34:22<04:07,  3.05s/it]"
     ]
    },
    {
     "name": "stdout",
     "output_type": "stream",
     "text": [
      "21.5\n",
      "80.6\n",
      "| ID | GPU | MEM |\n",
      "------------------\n",
      "|  0 |  0% | 19% |\n",
      "|  1 |  0% |  0% |\n"
     ]
    },
    {
     "name": "stderr",
     "output_type": "stream",
     "text": [
      " 91%|████████████████████████████████████████████████████████████████████████████████████████████████████████████████████████████████████████████████████████████████████████████████████████████████████████████████████████████████████████████████████████████████████████████████████████████████████████████████████████████████████████████████████████                                  | 810/890.0 [34:24<03:49,  2.87s/it]"
     ]
    },
    {
     "name": "stdout",
     "output_type": "stream",
     "text": [
      "21.9\n",
      "80.6\n",
      "| ID | GPU | MEM |\n",
      "------------------\n",
      "|  0 |  0% | 19% |\n",
      "|  1 |  0% |  0% |\n"
     ]
    },
    {
     "name": "stderr",
     "output_type": "stream",
     "text": [
      " 91%|████████████████████████████████████████████████████████████████████████████████████████████████████████████████████████████████████████████████████████████████████████████████████████████████████████████████████████████████████████████████████████████████████████████████████████████████████████████████████████████████████████████████████████▍                                 | 811/890.0 [34:27<03:37,  2.76s/it]"
     ]
    },
    {
     "name": "stdout",
     "output_type": "stream",
     "text": [
      "22.0\n",
      "80.6\n",
      "| ID | GPU | MEM |\n",
      "------------------\n",
      "|  0 |  0% | 19% |\n",
      "|  1 |  0% |  0% |\n"
     ]
    },
    {
     "name": "stderr",
     "output_type": "stream",
     "text": [
      " 91%|████████████████████████████████████████████████████████████████████████████████████████████████████████████████████████████████████████████████████████████████████████████████████████████████████████████████████████████████████████████████████████████████████████████████████████████████████████████████████████████████████████████████████████▊                                 | 812/890.0 [34:29<03:27,  2.67s/it]"
     ]
    },
    {
     "name": "stdout",
     "output_type": "stream",
     "text": [
      "22.2\n",
      "80.6\n",
      "| ID | GPU | MEM |\n",
      "------------------\n",
      "|  0 |  0% | 19% |\n",
      "|  1 |  0% |  0% |\n"
     ]
    },
    {
     "name": "stderr",
     "output_type": "stream",
     "text": [
      " 91%|█████████████████████████████████████████████████████████████████████████████████████████████████████████████████████████████████████████████████████████████████████████████████████████████████████████████████████████████████████████████████████████████████████████████████████████████████████████████████████████████████████████████████████████▎                                | 813/890.0 [34:31<03:19,  2.59s/it]"
     ]
    },
    {
     "name": "stdout",
     "output_type": "stream",
     "text": [
      "21.8\n",
      "80.6\n",
      "| ID | GPU | MEM |\n",
      "------------------\n",
      "|  0 |  0% | 19% |\n",
      "|  1 |  0% |  0% |\n"
     ]
    },
    {
     "name": "stderr",
     "output_type": "stream",
     "text": [
      " 91%|█████████████████████████████████████████████████████████████████████████████████████████████████████████████████████████████████████████████████████████████████████████████████████████████████████████████████████████████████████████████████████████████████████████████████████████████████████████████████████████████████████████████████████████▋                                | 814/890.0 [34:34<03:15,  2.57s/it]"
     ]
    },
    {
     "name": "stdout",
     "output_type": "stream",
     "text": [
      "21.7\n",
      "80.6\n",
      "| ID | GPU | MEM |\n",
      "------------------\n",
      "|  0 |  0% | 19% |\n",
      "|  1 |  0% |  0% |\n"
     ]
    },
    {
     "name": "stderr",
     "output_type": "stream",
     "text": [
      " 92%|██████████████████████████████████████████████████████████████████████████████████████████████████████████████████████████████████████████████████████████████████████████████████████████████████████████████████████████████████████████████████████████████████████████████████████████████████████████████████████████████████████████████████████████▏                               | 815/890.0 [34:36<03:10,  2.54s/it]"
     ]
    },
    {
     "name": "stdout",
     "output_type": "stream",
     "text": [
      "22.5\n",
      "80.6\n",
      "| ID | GPU | MEM |\n",
      "------------------\n",
      "|  0 |  0% | 19% |\n",
      "|  1 |  0% |  0% |\n"
     ]
    },
    {
     "name": "stderr",
     "output_type": "stream",
     "text": [
      " 92%|██████████████████████████████████████████████████████████████████████████████████████████████████████████████████████████████████████████████████████████████████████████████████████████████████████████████████████████████████████████████████████████████████████████████████████████████████████████████████████████████████████████████████████████▌                               | 816/890.0 [34:39<03:04,  2.49s/it]"
     ]
    },
    {
     "name": "stdout",
     "output_type": "stream",
     "text": [
      "21.1\n",
      "80.6\n",
      "| ID | GPU | MEM |\n",
      "------------------\n",
      "|  0 |  0% | 19% |\n",
      "|  1 |  0% |  0% |\n"
     ]
    },
    {
     "name": "stderr",
     "output_type": "stream",
     "text": [
      " 92%|██████████████████████████████████████████████████████████████████████████████████████████████████████████████████████████████████████████████████████████████████████████████████████████████████████████████████████████████████████████████████████████████████████████████████████████████████████████████████████████████████████████████████████████▉                               | 817/890.0 [34:41<03:04,  2.53s/it]"
     ]
    },
    {
     "name": "stdout",
     "output_type": "stream",
     "text": [
      "21.9\n",
      "80.6\n",
      "| ID | GPU | MEM |\n",
      "------------------\n",
      "|  0 |  0% | 19% |\n",
      "|  1 |  0% |  0% |\n"
     ]
    },
    {
     "name": "stderr",
     "output_type": "stream",
     "text": [
      " 92%|███████████████████████████████████████████████████████████████████████████████████████████████████████████████████████████████████████████████████████████████████████████████████████████████████████████████████████████████████████████████████████████████████████████████████████████████████████████████████████████████████████████████████████████▍                              | 818/890.0 [34:44<02:59,  2.50s/it]"
     ]
    },
    {
     "name": "stdout",
     "output_type": "stream",
     "text": [
      "21.8\n",
      "80.9\n",
      "| ID | GPU | MEM |\n",
      "------------------\n",
      "|  0 |  0% | 19% |\n",
      "|  1 |  0% |  0% |\n"
     ]
    },
    {
     "name": "stderr",
     "output_type": "stream",
     "text": [
      " 92%|███████████████████████████████████████████████████████████████████████████████████████████████████████████████████████████████████████████████████████████████████████████████████████████████████████████████████████████████████████████████████████████████████████████████████████████████████████████████████████████████████████████████████████████▊                              | 819/890.0 [34:46<02:56,  2.48s/it]"
     ]
    },
    {
     "name": "stdout",
     "output_type": "stream",
     "text": [
      "21.8\n",
      "80.7\n",
      "| ID | GPU | MEM |\n",
      "------------------\n",
      "|  0 |  0% | 19% |\n",
      "|  1 |  0% |  0% |\n"
     ]
    },
    {
     "name": "stderr",
     "output_type": "stream",
     "text": [
      " 92%|████████████████████████████████████████████████████████████████████████████████████████████████████████████████████████████████████████████████████████████████████████████████████████████████████████████████████████████████████████████████████████████████████████████████████████████████████████████████████████████████████████████████████████████▎                             | 820/890.0 [34:49<02:52,  2.47s/it]"
     ]
    },
    {
     "name": "stdout",
     "output_type": "stream",
     "text": [
      "18.7\n",
      "80.6\n",
      "| ID | GPU | MEM |\n",
      "------------------\n",
      "|  0 |  0% | 19% |\n",
      "|  1 |  0% |  0% |\n"
     ]
    },
    {
     "name": "stderr",
     "output_type": "stream",
     "text": [
      " 92%|████████████████████████████████████████████████████████████████████████████████████████████████████████████████████████████████████████████████████████████████████████████████████████████████████████████████████████████████████████████████████████████████████████████████████████████████████████████████████████████████████████████████████████████▋                             | 821/890.0 [34:52<03:10,  2.75s/it]"
     ]
    },
    {
     "name": "stdout",
     "output_type": "stream",
     "text": [
      "20.8\n",
      "80.6\n",
      "| ID | GPU | MEM |\n",
      "------------------\n",
      "|  0 |  0% | 19% |\n",
      "|  1 |  0% |  0% |\n"
     ]
    },
    {
     "name": "stderr",
     "output_type": "stream",
     "text": [
      " 92%|█████████████████████████████████████████████████████████████████████████████████████████████████████████████████████████████████████████████████████████████████████████████████████████████████████████████████████████████████████████████████████████████████████████████████████████████████████████████████████████████████████████████████████████████                             | 822/890.0 [34:55<03:00,  2.65s/it]"
     ]
    },
    {
     "name": "stdout",
     "output_type": "stream",
     "text": [
      "21.4\n",
      "80.6\n",
      "| ID | GPU | MEM |\n",
      "------------------\n",
      "|  0 |  0% | 19% |\n",
      "|  1 |  0% |  0% |\n"
     ]
    },
    {
     "name": "stderr",
     "output_type": "stream",
     "text": [
      " 92%|█████████████████████████████████████████████████████████████████████████████████████████████████████████████████████████████████████████████████████████████████████████████████████████████████████████████████████████████████████████████████████████████████████████████████████████████████████████████████████████████████████████████████████████████▌                            | 823/890.0 [34:57<02:51,  2.57s/it]"
     ]
    },
    {
     "name": "stdout",
     "output_type": "stream",
     "text": [
      "20.9\n",
      "80.6\n",
      "| ID | GPU | MEM |\n",
      "------------------\n",
      "|  0 |  0% | 19% |\n",
      "|  1 |  1% |  0% |\n"
     ]
    },
    {
     "name": "stderr",
     "output_type": "stream",
     "text": [
      " 93%|█████████████████████████████████████████████████████████████████████████████████████████████████████████████████████████████████████████████████████████████████████████████████████████████████████████████████████████████████████████████████████████████████████████████████████████████████████████████████████████████████████████████████████████████▉                            | 824/890.0 [35:00<02:53,  2.63s/it]"
     ]
    },
    {
     "name": "stdout",
     "output_type": "stream",
     "text": [
      "19.9\n",
      "80.6\n",
      "| ID | GPU | MEM |\n",
      "------------------\n",
      "|  0 |  0% | 19% |\n",
      "|  1 |  0% |  0% |\n"
     ]
    },
    {
     "name": "stderr",
     "output_type": "stream",
     "text": [
      " 93%|██████████████████████████████████████████████████████████████████████████████████████████████████████████████████████████████████████████████████████████████████████████████████████████████████████████████████████████████████████████████████████████████████████████████████████████████████████████████████████████████████████████████████████████████▍                           | 825/890.0 [35:03<03:02,  2.81s/it]"
     ]
    },
    {
     "name": "stdout",
     "output_type": "stream",
     "text": [
      "21.6\n",
      "80.6\n",
      "| ID | GPU | MEM |\n",
      "------------------\n",
      "|  0 |  0% | 19% |\n",
      "|  1 |  0% |  0% |\n"
     ]
    },
    {
     "name": "stderr",
     "output_type": "stream",
     "text": [
      " 93%|██████████████████████████████████████████████████████████████████████████████████████████████████████████████████████████████████████████████████████████████████████████████████████████████████████████████████████████████████████████████████████████████████████████████████████████████████████████████████████████████████████████████████████████████▊                           | 826/890.0 [35:05<02:51,  2.68s/it]"
     ]
    },
    {
     "name": "stdout",
     "output_type": "stream",
     "text": [
      "21.4\n",
      "80.6\n",
      "| ID | GPU | MEM |\n",
      "------------------\n",
      "|  0 |  0% | 19% |\n",
      "|  1 |  0% |  0% |\n"
     ]
    },
    {
     "name": "stderr",
     "output_type": "stream",
     "text": [
      " 93%|███████████████████████████████████████████████████████████████████████████████████████████████████████████████████████████████████████████████████████████████████████████████████████████████████████████████████████████████████████████████████████████████████████████████████████████████████████████████████████████████████████████████████████████████▏                          | 827/890.0 [35:08<02:44,  2.62s/it]"
     ]
    },
    {
     "name": "stdout",
     "output_type": "stream",
     "text": [
      "22.1\n",
      "80.6\n",
      "| ID | GPU | MEM |\n",
      "------------------\n",
      "|  0 |  0% | 19% |\n",
      "|  1 |  0% |  0% |\n"
     ]
    },
    {
     "name": "stderr",
     "output_type": "stream",
     "text": [
      " 93%|███████████████████████████████████████████████████████████████████████████████████████████████████████████████████████████████████████████████████████████████████████████████████████████████████████████████████████████████████████████████████████████████████████████████████████████████████████████████████████████████████████████████████████████████▋                          | 828/890.0 [35:10<02:38,  2.56s/it]"
     ]
    },
    {
     "name": "stdout",
     "output_type": "stream",
     "text": [
      "21.3\n",
      "80.6\n",
      "| ID | GPU | MEM |\n",
      "------------------\n",
      "|  0 |  0% | 19% |\n",
      "|  1 |  0% |  0% |\n"
     ]
    },
    {
     "name": "stderr",
     "output_type": "stream",
     "text": [
      " 93%|████████████████████████████████████████████████████████████████████████████████████████████████████████████████████████████████████████████████████████████████████████████████████████████████████████████████████████████████████████████████████████████████████████████████████████████████████████████████████████████████████████████████████████████████                          | 829/890.0 [35:13<02:35,  2.55s/it]"
     ]
    },
    {
     "name": "stdout",
     "output_type": "stream",
     "text": [
      "21.1\n",
      "80.6\n",
      "| ID | GPU | MEM |\n",
      "------------------\n",
      "|  0 |  0% | 19% |\n",
      "|  1 |  0% |  0% |\n"
     ]
    },
    {
     "name": "stderr",
     "output_type": "stream",
     "text": [
      " 93%|████████████████████████████████████████████████████████████████████████████████████████████████████████████████████████████████████████████████████████████████████████████████████████████████████████████████████████████████████████████████████████████████████████████████████████████████████████████████████████████████████████████████████████████████▌                         | 830/890.0 [35:15<02:32,  2.54s/it]"
     ]
    },
    {
     "name": "stdout",
     "output_type": "stream",
     "text": [
      "21.6\n",
      "80.6\n",
      "| ID | GPU | MEM |\n",
      "------------------\n",
      "|  0 |  0% | 19% |\n",
      "|  1 |  0% |  0% |\n"
     ]
    },
    {
     "name": "stderr",
     "output_type": "stream",
     "text": [
      " 93%|████████████████████████████████████████████████████████████████████████████████████████████████████████████████████████████████████████████████████████████████████████████████████████████████████████████████████████████████████████████████████████████████████████████████████████████████████████████████████████████████████████████████████████████████▉                         | 831/890.0 [35:18<02:28,  2.51s/it]"
     ]
    },
    {
     "name": "stdout",
     "output_type": "stream",
     "text": [
      "22.1\n",
      "80.7\n",
      "| ID | GPU | MEM |\n",
      "------------------\n",
      "|  0 |  1% | 19% |\n",
      "|  1 |  0% |  0% |\n"
     ]
    },
    {
     "name": "stderr",
     "output_type": "stream",
     "text": [
      " 93%|█████████████████████████████████████████████████████████████████████████████████████████████████████████████████████████████████████████████████████████████████████████████████████████████████████████████████████████████████████████████████████████████████████████████████████████████████████████████████████████████████████████████████████████████████▎                        | 832/890.0 [35:20<02:23,  2.48s/it]"
     ]
    },
    {
     "name": "stdout",
     "output_type": "stream",
     "text": [
      "22.0\n",
      "80.7\n",
      "| ID | GPU | MEM |\n",
      "------------------\n",
      "|  0 |  0% | 19% |\n",
      "|  1 |  0% |  0% |\n"
     ]
    },
    {
     "name": "stderr",
     "output_type": "stream",
     "text": [
      " 94%|█████████████████████████████████████████████████████████████████████████████████████████████████████████████████████████████████████████████████████████████████████████████████████████████████████████████████████████████████████████████████████████████████████████████████████████████████████████████████████████████████████████████████████████████████▊                        | 833/890.0 [35:23<02:20,  2.46s/it]"
     ]
    },
    {
     "name": "stdout",
     "output_type": "stream",
     "text": [
      "21.6\n",
      "80.7\n",
      "| ID | GPU | MEM |\n",
      "------------------\n",
      "|  0 |  0% | 19% |\n",
      "|  1 |  0% |  0% |\n"
     ]
    },
    {
     "name": "stderr",
     "output_type": "stream",
     "text": [
      " 94%|██████████████████████████████████████████████████████████████████████████████████████████████████████████████████████████████████████████████████████████████████████████████████████████████████████████████████████████████████████████████████████████████████████████████████████████████████████████████████████████████████████████████████████████████████▏                       | 834/890.0 [35:25<02:16,  2.44s/it]"
     ]
    },
    {
     "name": "stdout",
     "output_type": "stream",
     "text": [
      "21.5\n",
      "80.7\n",
      "| ID | GPU | MEM |\n",
      "------------------\n",
      "|  0 |  0% | 19% |\n",
      "|  1 |  0% |  0% |\n"
     ]
    },
    {
     "name": "stderr",
     "output_type": "stream",
     "text": [
      " 94%|██████████████████████████████████████████████████████████████████████████████████████████████████████████████████████████████████████████████████████████████████████████████████████████████████████████████████████████████████████████████████████████████████████████████████████████████████████████████████████████████████████████████████████████████████▋                       | 835/890.0 [35:27<02:12,  2.41s/it]"
     ]
    },
    {
     "name": "stdout",
     "output_type": "stream",
     "text": [
      "20.2\n",
      "80.7\n",
      "| ID | GPU | MEM |\n",
      "------------------\n",
      "|  0 |  0% | 19% |\n",
      "|  1 |  0% |  0% |\n"
     ]
    },
    {
     "name": "stderr",
     "output_type": "stream",
     "text": [
      " 94%|███████████████████████████████████████████████████████████████████████████████████████████████████████████████████████████████████████████████████████████████████████████████████████████████████████████████████████████████████████████████████████████████████████████████████████████████████████████████████████████████████████████████████████████████████                       | 836/890.0 [35:30<02:13,  2.47s/it]"
     ]
    },
    {
     "name": "stdout",
     "output_type": "stream",
     "text": [
      "21.4\n",
      "80.7\n",
      "| ID | GPU | MEM |\n",
      "------------------\n",
      "|  0 |  0% | 19% |\n",
      "|  1 |  0% |  0% |\n"
     ]
    },
    {
     "name": "stderr",
     "output_type": "stream",
     "text": [
      " 94%|███████████████████████████████████████████████████████████████████████████████████████████████████████████████████████████████████████████████████████████████████████████████████████████████████████████████████████████████████████████████████████████████████████████████████████████████████████████████████████████████████████████████████████████████████▍                      | 837/890.0 [35:32<02:08,  2.43s/it]"
     ]
    },
    {
     "name": "stdout",
     "output_type": "stream",
     "text": [
      "21.3\n",
      "80.7\n",
      "| ID | GPU | MEM |\n",
      "------------------\n",
      "|  0 |  0% | 19% |\n",
      "|  1 |  0% |  0% |\n"
     ]
    },
    {
     "name": "stderr",
     "output_type": "stream",
     "text": [
      " 94%|███████████████████████████████████████████████████████████████████████████████████████████████████████████████████████████████████████████████████████████████████████████████████████████████████████████████████████████████████████████████████████████████████████████████████████████████████████████████████████████████████████████████████████████████████▉                      | 838/890.0 [35:35<02:05,  2.42s/it]"
     ]
    },
    {
     "name": "stdout",
     "output_type": "stream",
     "text": [
      "21.9\n",
      "80.7\n",
      "| ID | GPU | MEM |\n",
      "------------------\n",
      "|  0 |  0% | 19% |\n",
      "|  1 |  0% |  0% |\n"
     ]
    },
    {
     "name": "stderr",
     "output_type": "stream",
     "text": [
      " 94%|████████████████████████████████████████████████████████████████████████████████████████████████████████████████████████████████████████████████████████████████████████████████████████████████████████████████████████████████████████████████████████████████████████████████████████████████████████████████████████████████████████████████████████████████████▎                     | 839/890.0 [35:37<02:03,  2.42s/it]"
     ]
    },
    {
     "name": "stdout",
     "output_type": "stream",
     "text": [
      "21.6\n",
      "80.7\n",
      "| ID | GPU | MEM |\n",
      "------------------\n",
      "|  0 |  0% | 19% |\n",
      "|  1 |  0% |  0% |\n"
     ]
    },
    {
     "name": "stderr",
     "output_type": "stream",
     "text": [
      " 94%|████████████████████████████████████████████████████████████████████████████████████████████████████████████████████████████████████████████████████████████████████████████████████████████████████████████████████████████████████████████████████████████████████████████████████████████████████████████████████████████████████████████████████████████████████▊                     | 840/890.0 [35:39<02:00,  2.41s/it]"
     ]
    },
    {
     "name": "stdout",
     "output_type": "stream",
     "text": [
      "20.3\n",
      "80.7\n",
      "| ID | GPU | MEM |\n",
      "------------------\n",
      "|  0 |  0% | 19% |\n",
      "|  1 |  0% |  0% |\n"
     ]
    },
    {
     "name": "stderr",
     "output_type": "stream",
     "text": [
      " 94%|█████████████████████████████████████████████████████████████████████████████████████████████████████████████████████████████████████████████████████████████████████████████████████████████████████████████████████████████████████████████████████████████████████████████████████████████████████████████████████████████████████████████████████████████████████▏                    | 841/890.0 [35:43<02:11,  2.68s/it]"
     ]
    },
    {
     "name": "stdout",
     "output_type": "stream",
     "text": [
      "21.5\n",
      "80.7\n",
      "| ID | GPU | MEM |\n",
      "------------------\n",
      "|  0 |  0% | 19% |\n",
      "|  1 |  0% |  0% |\n"
     ]
    },
    {
     "name": "stderr",
     "output_type": "stream",
     "text": [
      " 95%|█████████████████████████████████████████████████████████████████████████████████████████████████████████████████████████████████████████████████████████████████████████████████████████████████████████████████████████████████████████████████████████████████████████████████████████████████████████████████████████████████████████████████████████████████████▌                    | 842/890.0 [35:45<02:04,  2.59s/it]"
     ]
    },
    {
     "name": "stdout",
     "output_type": "stream",
     "text": [
      "21.4\n",
      "80.6\n",
      "| ID | GPU | MEM |\n",
      "------------------\n",
      "|  0 |  0% | 19% |\n",
      "|  1 |  0% |  0% |\n"
     ]
    },
    {
     "name": "stderr",
     "output_type": "stream",
     "text": [
      " 95%|██████████████████████████████████████████████████████████████████████████████████████████████████████████████████████████████████████████████████████████████████████████████████████████████████████████████████████████████████████████████████████████████████████████████████████████████████████████████████████████████████████████████████████████████████████                    | 843/890.0 [35:48<01:59,  2.55s/it]"
     ]
    },
    {
     "name": "stdout",
     "output_type": "stream",
     "text": [
      "21.6\n",
      "80.6\n",
      "| ID | GPU | MEM |\n",
      "------------------\n",
      "|  0 |  0% | 19% |\n",
      "|  1 |  1% |  0% |\n"
     ]
    },
    {
     "name": "stderr",
     "output_type": "stream",
     "text": [
      " 95%|██████████████████████████████████████████████████████████████████████████████████████████████████████████████████████████████████████████████████████████████████████████████████████████████████████████████████████████████████████████████████████████████████████████████████████████████████████████████████████████████████████████████████████████████████████▍                   | 844/890.0 [35:50<01:54,  2.50s/it]"
     ]
    },
    {
     "name": "stdout",
     "output_type": "stream",
     "text": [
      "22.2\n",
      "80.6\n",
      "| ID | GPU | MEM |\n",
      "------------------\n",
      "|  0 |  0% | 19% |\n",
      "|  1 |  0% |  0% |\n"
     ]
    },
    {
     "name": "stderr",
     "output_type": "stream",
     "text": [
      " 95%|██████████████████████████████████████████████████████████████████████████████████████████████████████████████████████████████████████████████████████████████████████████████████████████████████████████████████████████████████████████████████████████████████████████████████████████████████████████████████████████████████████████████████████████████████████▉                   | 845/890.0 [35:52<01:51,  2.47s/it]"
     ]
    },
    {
     "name": "stdout",
     "output_type": "stream",
     "text": [
      "22.0\n",
      "80.6\n",
      "| ID | GPU | MEM |\n",
      "------------------\n",
      "|  0 |  0% | 19% |\n",
      "|  1 |  0% |  0% |\n"
     ]
    },
    {
     "name": "stderr",
     "output_type": "stream",
     "text": [
      " 95%|███████████████████████████████████████████████████████████████████████████████████████████████████████████████████████████████████████████████████████████████████████████████████████████████████████████████████████████████████████████████████████████████████████████████████████████████████████████████████████████████████████████████████████████████████████▎                  | 846/890.0 [35:55<01:47,  2.45s/it]"
     ]
    },
    {
     "name": "stdout",
     "output_type": "stream",
     "text": [
      "22.3\n",
      "80.6\n",
      "| ID | GPU | MEM |\n",
      "------------------\n",
      "|  0 |  0% | 19% |\n",
      "|  1 |  1% |  0% |\n"
     ]
    },
    {
     "name": "stderr",
     "output_type": "stream",
     "text": [
      " 95%|███████████████████████████████████████████████████████████████████████████████████████████████████████████████████████████████████████████████████████████████████████████████████████████████████████████████████████████████████████████████████████████████████████████████████████████████████████████████████████████████████████████████████████████████████████▋                  | 847/890.0 [35:57<01:44,  2.44s/it]"
     ]
    },
    {
     "name": "stdout",
     "output_type": "stream",
     "text": [
      "22.3\n",
      "80.6\n",
      "| ID | GPU | MEM |\n",
      "------------------\n",
      "|  0 |  0% | 19% |\n",
      "|  1 |  0% |  0% |\n"
     ]
    },
    {
     "name": "stderr",
     "output_type": "stream",
     "text": [
      " 95%|████████████████████████████████████████████████████████████████████████████████████████████████████████████████████████████████████████████████████████████████████████████████████████████████████████████████████████████████████████████████████████████████████████████████████████████████████████████████████████████████████████████████████████████████████████▏                 | 848/890.0 [35:59<01:41,  2.42s/it]"
     ]
    },
    {
     "name": "stdout",
     "output_type": "stream",
     "text": [
      "21.5\n",
      "80.6\n",
      "| ID | GPU | MEM |\n",
      "------------------\n",
      "|  0 |  0% | 19% |\n",
      "|  1 |  0% |  0% |\n"
     ]
    },
    {
     "name": "stderr",
     "output_type": "stream",
     "text": [
      " 95%|████████████████████████████████████████████████████████████████████████████████████████████████████████████████████████████████████████████████████████████████████████████████████████████████████████████████████████████████████████████████████████████████████████████████████████████████████████████████████████████████████████████████████████████████████████▌                 | 849/890.0 [36:02<01:40,  2.46s/it]"
     ]
    },
    {
     "name": "stdout",
     "output_type": "stream",
     "text": [
      "21.9\n",
      "80.6\n",
      "| ID | GPU | MEM |\n",
      "------------------\n",
      "|  0 |  0% | 19% |\n",
      "|  1 |  0% |  0% |\n"
     ]
    },
    {
     "name": "stderr",
     "output_type": "stream",
     "text": [
      " 96%|█████████████████████████████████████████████████████████████████████████████████████████████████████████████████████████████████████████████████████████████████████████████████████████████████████████████████████████████████████████████████████████████████████████████████████████████████████████████████████████████████████████████████████████████████████████                 | 850/890.0 [36:04<01:38,  2.45s/it]"
     ]
    },
    {
     "name": "stdout",
     "output_type": "stream",
     "text": [
      "22.2\n",
      "80.7\n",
      "| ID | GPU | MEM |\n",
      "------------------\n",
      "|  0 |  0% | 19% |\n",
      "|  1 |  0% |  0% |\n"
     ]
    },
    {
     "name": "stderr",
     "output_type": "stream",
     "text": [
      " 96%|█████████████████████████████████████████████████████████████████████████████████████████████████████████████████████████████████████████████████████████████████████████████████████████████████████████████████████████████████████████████████████████████████████████████████████████████████████████████████████████████████████████████████████████████████████████▍                | 851/890.0 [36:07<01:34,  2.43s/it]"
     ]
    },
    {
     "name": "stdout",
     "output_type": "stream",
     "text": [
      "22.3\n",
      "80.7\n",
      "| ID | GPU | MEM |\n",
      "------------------\n",
      "|  0 |  0% | 19% |\n",
      "|  1 |  0% |  0% |\n"
     ]
    },
    {
     "name": "stderr",
     "output_type": "stream",
     "text": [
      " 96%|█████████████████████████████████████████████████████████████████████████████████████████████████████████████████████████████████████████████████████████████████████████████████████████████████████████████████████████████████████████████████████████████████████████████████████████████████████████████████████████████████████████████████████████████████████████▊                | 852/890.0 [36:09<01:31,  2.42s/it]"
     ]
    },
    {
     "name": "stdout",
     "output_type": "stream",
     "text": [
      "21.6\n",
      "80.7\n",
      "| ID | GPU | MEM |\n",
      "------------------\n",
      "|  0 |  0% | 19% |\n",
      "|  1 |  0% |  0% |\n"
     ]
    },
    {
     "name": "stderr",
     "output_type": "stream",
     "text": [
      " 96%|██████████████████████████████████████████████████████████████████████████████████████████████████████████████████████████████████████████████████████████████████████████████████████████████████████████████████████████████████████████████████████████████████████████████████████████████████████████████████████████████████████████████████████████████████████████▎               | 853/890.0 [36:12<01:28,  2.40s/it]"
     ]
    },
    {
     "name": "stdout",
     "output_type": "stream",
     "text": [
      "21.7\n",
      "80.7\n",
      "| ID | GPU | MEM |\n",
      "------------------\n",
      "|  0 |  0% | 19% |\n",
      "|  1 |  0% |  0% |\n"
     ]
    },
    {
     "name": "stderr",
     "output_type": "stream",
     "text": [
      " 96%|██████████████████████████████████████████████████████████████████████████████████████████████████████████████████████████████████████████████████████████████████████████████████████████████████████████████████████████████████████████████████████████████████████████████████████████████████████████████████████████████████████████████████████████████████████████▋               | 854/890.0 [36:14<01:25,  2.38s/it]"
     ]
    },
    {
     "name": "stdout",
     "output_type": "stream",
     "text": [
      "21.7\n",
      "80.7\n",
      "| ID | GPU | MEM |\n",
      "------------------\n",
      "|  0 |  0% | 19% |\n",
      "|  1 |  0% |  0% |\n"
     ]
    },
    {
     "name": "stderr",
     "output_type": "stream",
     "text": [
      " 96%|███████████████████████████████████████████████████████████████████████████████████████████████████████████████████████████████████████████████████████████████████████████████████████████████████████████████████████████████████████████████████████████████████████████████████████████████████████████████████████████████████████████████████████████████████████████▏              | 855/890.0 [36:16<01:23,  2.38s/it]"
     ]
    },
    {
     "name": "stdout",
     "output_type": "stream",
     "text": [
      "22.2\n",
      "80.7\n",
      "| ID | GPU | MEM |\n",
      "------------------\n",
      "|  0 |  0% | 19% |\n",
      "|  1 |  0% |  0% |\n"
     ]
    },
    {
     "name": "stderr",
     "output_type": "stream",
     "text": [
      " 96%|███████████████████████████████████████████████████████████████████████████████████████████████████████████████████████████████████████████████████████████████████████████████████████████████████████████████████████████████████████████████████████████████████████████████████████████████████████████████████████████████████████████████████████████████████████████▌              | 856/890.0 [36:19<01:20,  2.37s/it]"
     ]
    },
    {
     "name": "stdout",
     "output_type": "stream",
     "text": [
      "22.0\n",
      "80.7\n",
      "| ID | GPU | MEM |\n",
      "------------------\n",
      "|  0 |  0% | 19% |\n",
      "|  1 |  0% |  0% |\n"
     ]
    },
    {
     "name": "stderr",
     "output_type": "stream",
     "text": [
      " 96%|███████████████████████████████████████████████████████████████████████████████████████████████████████████████████████████████████████████████████████████████████████████████████████████████████████████████████████████████████████████████████████████████████████████████████████████████████████████████████████████████████████████████████████████████████████████▉              | 857/890.0 [36:21<01:18,  2.38s/it]"
     ]
    },
    {
     "name": "stdout",
     "output_type": "stream",
     "text": [
      "21.4\n",
      "80.7\n",
      "| ID | GPU | MEM |\n",
      "------------------\n",
      "|  0 |  0% | 19% |\n",
      "|  1 |  0% |  0% |\n"
     ]
    },
    {
     "name": "stderr",
     "output_type": "stream",
     "text": [
      " 96%|████████████████████████████████████████████████████████████████████████████████████████████████████████████████████████████████████████████████████████████████████████████████████████████████████████████████████████████████████████████████████████████████████████████████████████████████████████████████████████████████████████████████████████████████████████████▍             | 858/890.0 [36:24<01:17,  2.42s/it]"
     ]
    },
    {
     "name": "stdout",
     "output_type": "stream",
     "text": [
      "22.0\n",
      "80.7\n",
      "| ID | GPU | MEM |\n",
      "------------------\n",
      "|  0 |  0% | 19% |\n",
      "|  1 |  0% |  0% |\n"
     ]
    },
    {
     "name": "stderr",
     "output_type": "stream",
     "text": [
      " 97%|████████████████████████████████████████████████████████████████████████████████████████████████████████████████████████████████████████████████████████████████████████████████████████████████████████████████████████████████████████████████████████████████████████████████████████████████████████████████████████████████████████████████████████████████████████████▊             | 859/890.0 [36:26<01:14,  2.42s/it]"
     ]
    },
    {
     "name": "stdout",
     "output_type": "stream",
     "text": [
      "21.6\n",
      "80.7\n",
      "| ID | GPU | MEM |\n",
      "------------------\n",
      "|  0 |  0% | 19% |\n",
      "|  1 |  0% |  0% |\n"
     ]
    },
    {
     "name": "stderr",
     "output_type": "stream",
     "text": [
      " 97%|█████████████████████████████████████████████████████████████████████████████████████████████████████████████████████████████████████████████████████████████████████████████████████████████████████████████████████████████████████████████████████████████████████████████████████████████████████████████████████████████████████████████████████████████████████████████▎            | 860/890.0 [36:28<01:12,  2.41s/it]"
     ]
    },
    {
     "name": "stdout",
     "output_type": "stream",
     "text": [
      "22.2\n",
      "80.7\n",
      "| ID | GPU | MEM |\n",
      "------------------\n",
      "|  0 |  0% | 19% |\n",
      "|  1 |  0% |  0% |\n"
     ]
    },
    {
     "name": "stderr",
     "output_type": "stream",
     "text": [
      " 97%|█████████████████████████████████████████████████████████████████████████████████████████████████████████████████████████████████████████████████████████████████████████████████████████████████████████████████████████████████████████████████████████████████████████████████████████████████████████████████████████████████████████████████████████████████████████████▋            | 861/890.0 [36:31<01:09,  2.39s/it]"
     ]
    },
    {
     "name": "stdout",
     "output_type": "stream",
     "text": [
      "21.3\n",
      "80.7\n",
      "| ID | GPU | MEM |\n",
      "------------------\n",
      "|  0 |  0% | 19% |\n",
      "|  1 |  0% |  0% |\n"
     ]
    },
    {
     "name": "stderr",
     "output_type": "stream",
     "text": [
      " 97%|██████████████████████████████████████████████████████████████████████████████████████████████████████████████████████████████████████████████████████████████████████████████████████████████████████████████████████████████████████████████████████████████████████████████████████████████████████████████████████████████████████████████████████████████████████████████            | 862/890.0 [36:33<01:09,  2.48s/it]"
     ]
    },
    {
     "name": "stdout",
     "output_type": "stream",
     "text": [
      "21.7\n",
      "80.7\n",
      "| ID | GPU | MEM |\n",
      "------------------\n",
      "|  0 |  0% | 19% |\n",
      "|  1 |  0% |  0% |\n"
     ]
    },
    {
     "name": "stderr",
     "output_type": "stream",
     "text": [
      " 97%|██████████████████████████████████████████████████████████████████████████████████████████████████████████████████████████████████████████████████████████████████████████████████████████████████████████████████████████████████████████████████████████████████████████████████████████████████████████████████████████████████████████████████████████████████████████████▌           | 863/890.0 [36:36<01:06,  2.47s/it]"
     ]
    },
    {
     "name": "stdout",
     "output_type": "stream",
     "text": [
      "22.2\n",
      "80.7\n",
      "| ID | GPU | MEM |\n",
      "------------------\n",
      "|  0 |  0% | 19% |\n",
      "|  1 |  0% |  0% |\n"
     ]
    },
    {
     "name": "stderr",
     "output_type": "stream",
     "text": [
      " 97%|██████████████████████████████████████████████████████████████████████████████████████████████████████████████████████████████████████████████████████████████████████████████████████████████████████████████████████████████████████████████████████████████████████████████████████████████████████████████████████████████████████████████████████████████████████████████▉           | 864/890.0 [36:38<01:03,  2.44s/it]"
     ]
    },
    {
     "name": "stdout",
     "output_type": "stream",
     "text": [
      "22.0\n",
      "80.7\n",
      "| ID | GPU | MEM |\n",
      "------------------\n",
      "|  0 |  0% | 19% |\n",
      "|  1 |  0% |  0% |\n"
     ]
    },
    {
     "name": "stderr",
     "output_type": "stream",
     "text": [
      " 97%|███████████████████████████████████████████████████████████████████████████████████████████████████████████████████████████████████████████████████████████████████████████████████████████████████████████████████████████████████████████████████████████████████████████████████████████████████████████████████████████████████████████████████████████████████████████████▍          | 865/890.0 [36:41<01:00,  2.43s/it]"
     ]
    },
    {
     "name": "stdout",
     "output_type": "stream",
     "text": [
      "21.8\n",
      "80.7\n",
      "| ID | GPU | MEM |\n",
      "------------------\n",
      "|  0 |  0% | 19% |\n",
      "|  1 |  0% |  0% |\n"
     ]
    },
    {
     "name": "stderr",
     "output_type": "stream",
     "text": [
      " 97%|███████████████████████████████████████████████████████████████████████████████████████████████████████████████████████████████████████████████████████████████████████████████████████████████████████████████████████████████████████████████████████████████████████████████████████████████████████████████████████████████████████████████████████████████████████████████▊          | 866/890.0 [36:43<00:58,  2.42s/it]"
     ]
    },
    {
     "name": "stdout",
     "output_type": "stream",
     "text": [
      "22.2\n",
      "80.7\n",
      "| ID | GPU | MEM |\n",
      "------------------\n",
      "|  0 |  0% | 19% |\n",
      "|  1 |  0% |  0% |\n"
     ]
    },
    {
     "name": "stderr",
     "output_type": "stream",
     "text": [
      " 97%|████████████████████████████████████████████████████████████████████████████████████████████████████████████████████████████████████████████████████████████████████████████████████████████████████████████████████████████████████████████████████████████████████████████████████████████████████████████████████████████████████████████████████████████████████████████████▏         | 867/890.0 [36:45<00:55,  2.40s/it]"
     ]
    },
    {
     "name": "stdout",
     "output_type": "stream",
     "text": [
      "21.9\n",
      "80.7\n",
      "| ID | GPU | MEM |\n",
      "------------------\n",
      "|  0 |  0% | 19% |\n",
      "|  1 |  0% |  0% |\n"
     ]
    },
    {
     "name": "stderr",
     "output_type": "stream",
     "text": [
      " 98%|████████████████████████████████████████████████████████████████████████████████████████████████████████████████████████████████████████████████████████████████████████████████████████████████████████████████████████████████████████████████████████████████████████████████████████████████████████████████████████████████████████████████████████████████████████████████▋         | 868/890.0 [36:48<00:52,  2.39s/it]"
     ]
    },
    {
     "name": "stdout",
     "output_type": "stream",
     "text": [
      "22.1\n",
      "80.7\n",
      "| ID | GPU | MEM |\n",
      "------------------\n",
      "|  0 |  0% | 19% |\n",
      "|  1 |  0% |  0% |\n"
     ]
    },
    {
     "name": "stderr",
     "output_type": "stream",
     "text": [
      " 98%|█████████████████████████████████████████████████████████████████████████████████████████████████████████████████████████████████████████████████████████████████████████████████████████████████████████████████████████████████████████████████████████████████████████████████████████████████████████████████████████████████████████████████████████████████████████████████         | 869/890.0 [36:50<00:49,  2.38s/it]"
     ]
    },
    {
     "name": "stdout",
     "output_type": "stream",
     "text": [
      "22.2\n",
      "80.7\n",
      "| ID | GPU | MEM |\n",
      "------------------\n",
      "|  0 |  0% | 19% |\n",
      "|  1 |  0% |  0% |\n"
     ]
    },
    {
     "name": "stderr",
     "output_type": "stream",
     "text": [
      " 98%|█████████████████████████████████████████████████████████████████████████████████████████████████████████████████████████████████████████████████████████████████████████████████████████████████████████████████████████████████████████████████████████████████████████████████████████████████████████████████████████████████████████████████████████████████████████████████▌        | 870/890.0 [36:52<00:47,  2.37s/it]"
     ]
    },
    {
     "name": "stdout",
     "output_type": "stream",
     "text": [
      "22.5\n",
      "80.7\n",
      "| ID | GPU | MEM |\n",
      "------------------\n",
      "|  0 |  0% | 19% |\n",
      "|  1 |  0% |  0% |\n"
     ]
    },
    {
     "name": "stderr",
     "output_type": "stream",
     "text": [
      " 98%|█████████████████████████████████████████████████████████████████████████████████████████████████████████████████████████████████████████████████████████████████████████████████████████████████████████████████████████████████████████████████████████████████████████████████████████████████████████████████████████████████████████████████████████████████████████████████▉        | 871/890.0 [36:55<00:44,  2.35s/it]"
     ]
    },
    {
     "name": "stdout",
     "output_type": "stream",
     "text": [
      "22.3\n",
      "80.7\n",
      "| ID | GPU | MEM |\n",
      "------------------\n",
      "|  0 |  0% | 19% |\n",
      "|  1 |  0% |  0% |\n"
     ]
    },
    {
     "name": "stderr",
     "output_type": "stream",
     "text": [
      " 98%|██████████████████████████████████████████████████████████████████████████████████████████████████████████████████████████████████████████████████████████████████████████████████████████████████████████████████████████████████████████████████████████████████████████████████████████████████████████████████████████████████████████████████████████████████████████████████▎       | 872/890.0 [36:57<00:42,  2.35s/it]"
     ]
    },
    {
     "name": "stdout",
     "output_type": "stream",
     "text": [
      "22.2\n",
      "80.7\n",
      "| ID | GPU | MEM |\n",
      "------------------\n",
      "|  0 |  0% | 19% |\n",
      "|  1 |  0% |  0% |\n"
     ]
    },
    {
     "name": "stderr",
     "output_type": "stream",
     "text": [
      " 98%|██████████████████████████████████████████████████████████████████████████████████████████████████████████████████████████████████████████████████████████████████████████████████████████████████████████████████████████████████████████████████████████████████████████████████████████████████████████████████████████████████████████████████████████████████████████████████▊       | 873/890.0 [36:59<00:39,  2.35s/it]"
     ]
    },
    {
     "name": "stdout",
     "output_type": "stream",
     "text": [
      "22.1\n",
      "80.8\n",
      "| ID | GPU | MEM |\n",
      "------------------\n",
      "|  0 |  0% | 19% |\n",
      "|  1 |  0% |  0% |\n"
     ]
    },
    {
     "name": "stderr",
     "output_type": "stream",
     "text": [
      " 98%|███████████████████████████████████████████████████████████████████████████████████████████████████████████████████████████████████████████████████████████████████████████████████████████████████████████████████████████████████████████████████████████████████████████████████████████████████████████████████████████████████████████████████████████████████████████████████▏      | 874/890.0 [37:02<00:36,  2.28s/it]"
     ]
    },
    {
     "name": "stdout",
     "output_type": "stream",
     "text": [
      "21.4\n",
      "80.7\n",
      "| ID | GPU | MEM |\n",
      "------------------\n",
      "|  0 |  0% | 19% |\n",
      "|  1 |  0% |  0% |\n"
     ]
    },
    {
     "name": "stderr",
     "output_type": "stream",
     "text": [
      " 98%|███████████████████████████████████████████████████████████████████████████████████████████████████████████████████████████████████████████████████████████████████████████████████████████████████████████████████████████████████████████████████████████████████████████████████████████████████████████████████████████████████████████████████████████████████████████████████▋      | 875/890.0 [37:04<00:35,  2.35s/it]"
     ]
    },
    {
     "name": "stdout",
     "output_type": "stream",
     "text": [
      "20.0\n",
      "80.6\n",
      "| ID | GPU | MEM |\n",
      "------------------\n",
      "|  0 |  0% | 19% |\n",
      "|  1 |  0% |  0% |\n"
     ]
    },
    {
     "name": "stderr",
     "output_type": "stream",
     "text": [
      " 98%|████████████████████████████████████████████████████████████████████████████████████████████████████████████████████████████████████████████████████████████████████████████████████████████████████████████████████████████████████████████████████████████████████████████████████████████████████████████████████████████████████████████████████████████████████████████████████      | 876/890.0 [37:07<00:37,  2.65s/it]"
     ]
    },
    {
     "name": "stdout",
     "output_type": "stream",
     "text": [
      "21.9\n",
      "80.6\n",
      "| ID | GPU | MEM |\n",
      "------------------\n",
      "|  0 |  0% | 19% |\n",
      "|  1 |  0% |  0% |\n"
     ]
    },
    {
     "name": "stderr",
     "output_type": "stream",
     "text": [
      " 99%|████████████████████████████████████████████████████████████████████████████████████████████████████████████████████████████████████████████████████████████████████████████████████████████████████████████████████████████████████████████████████████████████████████████████████████████████████████████████████████████████████████████████████████████████████████████████████▍     | 877/890.0 [37:10<00:33,  2.57s/it]"
     ]
    },
    {
     "name": "stdout",
     "output_type": "stream",
     "text": [
      "21.9\n",
      "80.6\n",
      "| ID | GPU | MEM |\n",
      "------------------\n",
      "|  0 |  0% | 19% |\n",
      "|  1 |  0% |  0% |\n"
     ]
    },
    {
     "name": "stderr",
     "output_type": "stream",
     "text": [
      " 99%|████████████████████████████████████████████████████████████████████████████████████████████████████████████████████████████████████████████████████████████████████████████████████████████████████████████████████████████████████████████████████████████████████████████████████████████████████████████████████████████████████████████████████████████████████████████████████▉     | 878/890.0 [37:12<00:30,  2.50s/it]"
     ]
    },
    {
     "name": "stdout",
     "output_type": "stream",
     "text": [
      "21.7\n",
      "80.6\n",
      "| ID | GPU | MEM |\n",
      "------------------\n",
      "|  0 |  0% | 19% |\n",
      "|  1 |  0% |  0% |\n"
     ]
    },
    {
     "name": "stderr",
     "output_type": "stream",
     "text": [
      " 99%|█████████████████████████████████████████████████████████████████████████████████████████████████████████████████████████████████████████████████████████████████████████████████████████████████████████████████████████████████████████████████████████████████████████████████████████████████████████████████████████████████████████████████████████████████████████████████████▎    | 879/890.0 [37:15<00:27,  2.48s/it]"
     ]
    },
    {
     "name": "stdout",
     "output_type": "stream",
     "text": [
      "21.1\n",
      "80.6\n",
      "| ID | GPU | MEM |\n",
      "------------------\n",
      "|  0 |  0% | 19% |\n",
      "|  1 |  0% |  0% |\n"
     ]
    },
    {
     "name": "stderr",
     "output_type": "stream",
     "text": [
      " 99%|█████████████████████████████████████████████████████████████████████████████████████████████████████████████████████████████████████████████████████████████████████████████████████████████████████████████████████████████████████████████████████████████████████████████████████████████████████████████████████████████████████████████████████████████████████████████████████▊    | 880/890.0 [37:17<00:24,  2.45s/it]"
     ]
    },
    {
     "name": "stdout",
     "output_type": "stream",
     "text": [
      "21.7\n",
      "80.6\n",
      "| ID | GPU | MEM |\n",
      "------------------\n",
      "|  0 |  0% | 19% |\n",
      "|  1 |  0% |  0% |\n"
     ]
    },
    {
     "name": "stderr",
     "output_type": "stream",
     "text": [
      " 99%|██████████████████████████████████████████████████████████████████████████████████████████████████████████████████████████████████████████████████████████████████████████████████████████████████████████████████████████████████████████████████████████████████████████████████████████████████████████████████████████████████████████████████████████████████████████████████████▏   | 881/890.0 [37:19<00:22,  2.46s/it]"
     ]
    },
    {
     "name": "stdout",
     "output_type": "stream",
     "text": [
      "21.3\n",
      "80.6\n",
      "| ID | GPU | MEM |\n",
      "------------------\n",
      "|  0 |  0% | 19% |\n",
      "|  1 |  0% |  0% |\n"
     ]
    },
    {
     "name": "stderr",
     "output_type": "stream",
     "text": [
      " 99%|██████████████████████████████████████████████████████████████████████████████████████████████████████████████████████████████████████████████████████████████████████████████████████████████████████████████████████████████████████████████████████████████████████████████████████████████████████████████████████████████████████████████████████████████████████████████████████▌   | 882/890.0 [37:22<00:19,  2.46s/it]"
     ]
    },
    {
     "name": "stdout",
     "output_type": "stream",
     "text": [
      "22.2\n",
      "80.6\n",
      "| ID | GPU | MEM |\n",
      "------------------\n",
      "|  0 |  0% | 19% |\n",
      "|  1 |  0% |  0% |\n"
     ]
    },
    {
     "name": "stderr",
     "output_type": "stream",
     "text": [
      " 99%|███████████████████████████████████████████████████████████████████████████████████████████████████████████████████████████████████████████████████████████████████████████████████████████████████████████████████████████████████████████████████████████████████████████████████████████████████████████████████████████████████████████████████████████████████████████████████████   | 883/890.0 [37:24<00:17,  2.44s/it]"
     ]
    },
    {
     "name": "stdout",
     "output_type": "stream",
     "text": [
      "20.4\n",
      "80.6\n",
      "| ID | GPU | MEM |\n",
      "------------------\n",
      "|  0 |  0% | 19% |\n",
      "|  1 |  0% |  0% |\n"
     ]
    },
    {
     "name": "stderr",
     "output_type": "stream",
     "text": [
      " 99%|███████████████████████████████████████████████████████████████████████████████████████████████████████████████████████████████████████████████████████████████████████████████████████████████████████████████████████████████████████████████████████████████████████████████████████████████████████████████████████████████████████████████████████████████████████████████████████▍  | 884/890.0 [37:28<00:16,  2.69s/it]"
     ]
    },
    {
     "name": "stdout",
     "output_type": "stream",
     "text": [
      "20.1\n",
      "80.6\n",
      "| ID | GPU | MEM |\n",
      "------------------\n",
      "|  0 |  0% | 19% |\n",
      "|  1 |  0% |  0% |\n"
     ]
    },
    {
     "name": "stderr",
     "output_type": "stream",
     "text": [
      " 99%|███████████████████████████████████████████████████████████████████████████████████████████████████████████████████████████████████████████████████████████████████████████████████████████████████████████████████████████████████████████████████████████████████████████████████████████████████████████████████████████████████████████████████████████████████████████████████████▉  | 885/890.0 [37:31<00:14,  2.87s/it]"
     ]
    },
    {
     "name": "stdout",
     "output_type": "stream",
     "text": [
      "21.2\n",
      "80.6\n",
      "| ID | GPU | MEM |\n",
      "------------------\n",
      "|  0 |  0% | 19% |\n",
      "|  1 |  0% |  0% |\n"
     ]
    },
    {
     "name": "stderr",
     "output_type": "stream",
     "text": [
      "100%|████████████████████████████████████████████████████████████████████████████████████████████████████████████████████████████████████████████████████████████████████████████████████████████████████████████████████████████████████████████████████████████████████████████████████████████████████████████████████████████████████████████████████████████████████████████████████████▎ | 886/890.0 [37:33<00:11,  2.75s/it]"
     ]
    },
    {
     "name": "stdout",
     "output_type": "stream",
     "text": [
      "22.1\n",
      "80.6\n",
      "| ID | GPU | MEM |\n",
      "------------------\n",
      "|  0 |  0% | 19% |\n",
      "|  1 |  0% |  0% |\n"
     ]
    },
    {
     "name": "stderr",
     "output_type": "stream",
     "text": [
      "100%|████████████████████████████████████████████████████████████████████████████████████████████████████████████████████████████████████████████████████████████████████████████████████████████████████████████████████████████████████████████████████████████████████████████████████████████████████████████████████████████████████████████████████████████████████████████████████████▋ | 887/890.0 [37:36<00:07,  2.64s/it]"
     ]
    },
    {
     "name": "stdout",
     "output_type": "stream",
     "text": [
      "19.2\n",
      "80.7\n",
      "| ID | GPU | MEM |\n",
      "------------------\n",
      "|  0 |  0% | 19% |\n",
      "|  1 |  0% |  0% |\n"
     ]
    },
    {
     "name": "stderr",
     "output_type": "stream",
     "text": [
      "100%|█████████████████████████████████████████████████████████████████████████████████████████████████████████████████████████████████████████████████████████████████████████████████████████████████████████████████████████████████████████████████████████████████████████████████████████████████████████████████████████████████████████████████████████████████████████████████████████▏| 888/890.0 [37:39<00:05,  2.90s/it]"
     ]
    },
    {
     "name": "stdout",
     "output_type": "stream",
     "text": [
      "20.4\n",
      "80.7\n",
      "| ID | GPU | MEM |\n",
      "------------------\n",
      "|  0 |  0% | 19% |\n",
      "|  1 |  0% |  0% |\n"
     ]
    },
    {
     "name": "stderr",
     "output_type": "stream",
     "text": [
      "100%|█████████████████████████████████████████████████████████████████████████████████████████████████████████████████████████████████████████████████████████████████████████████████████████████████████████████████████████████████████████████████████████████████████████████████████████████████████████████████████████████████████████████████████████████████████████████████████████▌| 889/890.0 [37:42<00:02,  2.82s/it]"
     ]
    },
    {
     "name": "stdout",
     "output_type": "stream",
     "text": [
      "21.2\n",
      "80.7\n",
      "| ID | GPU | MEM |\n",
      "------------------\n",
      "|  0 |  0% | 19% |\n",
      "|  1 |  0% |  0% |\n"
     ]
    },
    {
     "name": "stderr",
     "output_type": "stream",
     "text": [
      "100%|██████████████████████████████████████████████████████████████████████████████████████████████████████████████████████████████████████████████████████████████████████████████████████████████████████████████████████████████████████████████████████████████████████████████████████████████████████████████████████████████████████████████████████████████████████████████████████████| 890/890.0 [37:44<00:00,  2.54s/it]\n",
      "  0%|                                                                                                                                                                                                                                                                                                                                                                                                    | 0/222.0 [00:00<?, ?it/s]"
     ]
    },
    {
     "name": "stdout",
     "output_type": "stream",
     "text": [
      "21.4\n",
      "80.7\n",
      "| ID | GPU | MEM |\n",
      "------------------\n",
      "|  0 |  0% | 19% |\n",
      "|  1 |  0% |  0% |\n"
     ]
    },
    {
     "name": "stderr",
     "output_type": "stream",
     "text": [
      "  0%|█▋                                                                                                                                                                                                                                                                                                                                                                                          | 1/222.0 [00:02<09:07,  2.48s/it]"
     ]
    },
    {
     "name": "stdout",
     "output_type": "stream",
     "text": [
      "18.5\n",
      "80.7\n",
      "| ID | GPU | MEM |\n",
      "------------------\n",
      "|  0 |  0% | 19% |\n",
      "|  1 |  0% |  0% |\n"
     ]
    },
    {
     "name": "stderr",
     "output_type": "stream",
     "text": [
      "  1%|███▍                                                                                                                                                                                                                                                                                                                                                                                        | 2/222.0 [00:06<11:28,  3.13s/it]"
     ]
    },
    {
     "name": "stdout",
     "output_type": "stream",
     "text": [
      "21.4\n",
      "80.7\n",
      "| ID | GPU | MEM |\n",
      "------------------\n",
      "|  0 |  0% | 19% |\n",
      "|  1 |  0% |  0% |\n"
     ]
    },
    {
     "name": "stderr",
     "output_type": "stream",
     "text": [
      "  1%|█████▏                                                                                                                                                                                                                                                                                                                                                                                      | 3/222.0 [00:08<10:22,  2.84s/it]"
     ]
    },
    {
     "name": "stdout",
     "output_type": "stream",
     "text": [
      "21.8\n",
      "80.7\n",
      "| ID | GPU | MEM |\n",
      "------------------\n",
      "|  0 |  0% | 19% |\n",
      "|  1 |  0% |  0% |\n"
     ]
    },
    {
     "name": "stderr",
     "output_type": "stream",
     "text": [
      "  2%|██████▊                                                                                                                                                                                                                                                                                                                                                                                     | 4/222.0 [00:10<09:40,  2.66s/it]"
     ]
    },
    {
     "name": "stdout",
     "output_type": "stream",
     "text": [
      "21.5\n",
      "80.8\n",
      "| ID | GPU | MEM |\n",
      "------------------\n",
      "|  0 |  0% | 19% |\n",
      "|  1 |  0% |  0% |\n"
     ]
    },
    {
     "name": "stderr",
     "output_type": "stream",
     "text": [
      "  2%|████████▌                                                                                                                                                                                                                                                                                                                                                                                   | 5/222.0 [00:13<08:51,  2.45s/it]"
     ]
    },
    {
     "name": "stdout",
     "output_type": "stream",
     "text": [
      "22.4\n",
      "80.8\n",
      "| ID | GPU | MEM |\n",
      "------------------\n",
      "|  0 |  0% | 19% |\n",
      "|  1 |  0% |  0% |\n"
     ]
    },
    {
     "name": "stderr",
     "output_type": "stream",
     "text": [
      "  3%|██████████▎                                                                                                                                                                                                                                                                                                                                                                                 | 6/222.0 [00:15<08:42,  2.42s/it]"
     ]
    },
    {
     "name": "stdout",
     "output_type": "stream",
     "text": [
      "22.7\n",
      "80.8\n",
      "| ID | GPU | MEM |\n",
      "------------------\n",
      "|  0 |  0% | 19% |\n",
      "|  1 |  0% |  0% |\n"
     ]
    },
    {
     "name": "stderr",
     "output_type": "stream",
     "text": [
      "  3%|███████████▉                                                                                                                                                                                                                                                                                                                                                                                | 7/222.0 [00:17<08:36,  2.40s/it]"
     ]
    },
    {
     "name": "stdout",
     "output_type": "stream",
     "text": [
      "21.9\n",
      "80.8\n",
      "| ID | GPU | MEM |\n",
      "------------------\n",
      "|  0 |  0% | 19% |\n",
      "|  1 |  0% |  0% |\n"
     ]
    },
    {
     "name": "stderr",
     "output_type": "stream",
     "text": [
      "  4%|█████████████▋                                                                                                                                                                                                                                                                                                                                                                              | 8/222.0 [00:20<08:40,  2.43s/it]"
     ]
    },
    {
     "name": "stdout",
     "output_type": "stream",
     "text": [
      "21.6\n",
      "80.8\n",
      "| ID | GPU | MEM |\n",
      "------------------\n",
      "|  0 |  0% | 19% |\n",
      "|  1 |  0% |  0% |\n"
     ]
    },
    {
     "name": "stderr",
     "output_type": "stream",
     "text": [
      "  4%|███████████████▍                                                                                                                                                                                                                                                                                                                                                                            | 9/222.0 [00:23<09:00,  2.54s/it]"
     ]
    },
    {
     "name": "stdout",
     "output_type": "stream",
     "text": [
      "22.3\n",
      "80.8\n",
      "| ID | GPU | MEM |\n",
      "------------------\n",
      "|  0 |  0% | 19% |\n",
      "|  1 |  0% |  0% |\n"
     ]
    },
    {
     "name": "stderr",
     "output_type": "stream",
     "text": [
      "  5%|█████████████████                                                                                                                                                                                                                                                                                                                                                                          | 10/222.0 [00:25<08:23,  2.37s/it]"
     ]
    },
    {
     "name": "stdout",
     "output_type": "stream",
     "text": [
      "22.5\n",
      "80.7\n",
      "| ID | GPU | MEM |\n",
      "------------------\n",
      "|  0 |  0% | 19% |\n",
      "|  1 |  0% |  0% |\n"
     ]
    },
    {
     "name": "stderr",
     "output_type": "stream",
     "text": [
      "  5%|██████████████████▊                                                                                                                                                                                                                                                                                                                                                                        | 11/222.0 [00:27<08:20,  2.37s/it]"
     ]
    },
    {
     "name": "stdout",
     "output_type": "stream",
     "text": [
      "22.0\n",
      "80.7\n",
      "| ID | GPU | MEM |\n",
      "------------------\n",
      "|  0 |  0% | 19% |\n",
      "|  1 |  0% |  0% |\n"
     ]
    },
    {
     "name": "stderr",
     "output_type": "stream",
     "text": [
      "  5%|████████████████████▍                                                                                                                                                                                                                                                                                                                                                                      | 12/222.0 [00:29<08:24,  2.40s/it]"
     ]
    },
    {
     "name": "stdout",
     "output_type": "stream",
     "text": [
      "19.6\n",
      "80.7\n",
      "| ID | GPU | MEM |\n",
      "------------------\n",
      "|  0 |  0% | 19% |\n",
      "|  1 |  0% |  0% |\n"
     ]
    },
    {
     "name": "stderr",
     "output_type": "stream",
     "text": [
      "  6%|██████████████████████▏                                                                                                                                                                                                                                                                                                                                                                    | 13/222.0 [00:33<09:29,  2.73s/it]"
     ]
    },
    {
     "name": "stdout",
     "output_type": "stream",
     "text": [
      "22.0\n",
      "80.7\n",
      "| ID | GPU | MEM |\n",
      "------------------\n",
      "|  0 |  2% | 19% |\n",
      "|  1 |  0% |  0% |\n"
     ]
    },
    {
     "name": "stderr",
     "output_type": "stream",
     "text": [
      "  6%|███████████████████████▉                                                                                                                                                                                                                                                                                                                                                                   | 14/222.0 [00:35<09:05,  2.62s/it]"
     ]
    },
    {
     "name": "stdout",
     "output_type": "stream",
     "text": [
      "22.1\n",
      "80.7\n",
      "| ID | GPU | MEM |\n",
      "------------------\n",
      "|  0 |  0% | 19% |\n",
      "|  1 |  0% |  0% |\n"
     ]
    },
    {
     "name": "stderr",
     "output_type": "stream",
     "text": [
      "  7%|█████████████████████████▌                                                                                                                                                                                                                                                                                                                                                                 | 15/222.0 [00:38<08:48,  2.55s/it]"
     ]
    },
    {
     "name": "stdout",
     "output_type": "stream",
     "text": [
      "21.6\n",
      "80.7\n",
      "| ID | GPU | MEM |\n",
      "------------------\n",
      "|  0 |  0% | 19% |\n",
      "|  1 |  0% |  0% |\n"
     ]
    },
    {
     "name": "stderr",
     "output_type": "stream",
     "text": [
      "  7%|███████████████████████████▎                                                                                                                                                                                                                                                                                                                                                               | 16/222.0 [00:40<08:40,  2.52s/it]"
     ]
    },
    {
     "name": "stdout",
     "output_type": "stream",
     "text": [
      "22.7\n",
      "80.7\n",
      "| ID | GPU | MEM |\n",
      "------------------\n",
      "|  0 |  0% | 19% |\n",
      "|  1 |  0% |  0% |\n"
     ]
    },
    {
     "name": "stderr",
     "output_type": "stream",
     "text": [
      "  8%|█████████████████████████████                                                                                                                                                                                                                                                                                                                                                              | 17/222.0 [00:42<08:26,  2.47s/it]"
     ]
    },
    {
     "name": "stdout",
     "output_type": "stream",
     "text": [
      "22.2\n",
      "80.7\n",
      "| ID | GPU | MEM |\n",
      "------------------\n",
      "|  0 |  0% | 19% |\n",
      "|  1 |  0% |  0% |\n"
     ]
    },
    {
     "name": "stderr",
     "output_type": "stream",
     "text": [
      "  8%|██████████████████████████████▋                                                                                                                                                                                                                                                                                                                                                            | 18/222.0 [00:45<08:17,  2.44s/it]"
     ]
    },
    {
     "name": "stdout",
     "output_type": "stream",
     "text": [
      "19.9\n",
      "80.6\n",
      "| ID | GPU | MEM |\n",
      "------------------\n",
      "|  0 |  0% | 19% |\n",
      "|  1 |  0% |  0% |\n"
     ]
    },
    {
     "name": "stderr",
     "output_type": "stream",
     "text": [
      "  9%|████████████████████████████████▍                                                                                                                                                                                                                                                                                                                                                          | 19/222.0 [00:48<09:11,  2.72s/it]"
     ]
    },
    {
     "name": "stdout",
     "output_type": "stream",
     "text": [
      "21.7\n",
      "80.6\n",
      "| ID | GPU | MEM |\n",
      "------------------\n",
      "|  0 |  0% | 19% |\n",
      "|  1 |  0% |  0% |\n"
     ]
    },
    {
     "name": "stderr",
     "output_type": "stream",
     "text": [
      "  9%|██████████████████████████████████▏                                                                                                                                                                                                                                                                                                                                                        | 20/222.0 [00:51<08:54,  2.65s/it]"
     ]
    },
    {
     "name": "stdout",
     "output_type": "stream",
     "text": [
      "22.1\n",
      "80.6\n",
      "| ID | GPU | MEM |\n",
      "------------------\n",
      "|  0 |  0% | 19% |\n",
      "|  1 |  0% |  0% |\n"
     ]
    },
    {
     "name": "stderr",
     "output_type": "stream",
     "text": [
      "  9%|███████████████████████████████████▊                                                                                                                                                                                                                                                                                                                                                       | 21/222.0 [00:53<08:38,  2.58s/it]"
     ]
    },
    {
     "name": "stdout",
     "output_type": "stream",
     "text": [
      "22.5\n",
      "80.6\n",
      "| ID | GPU | MEM |\n",
      "------------------\n",
      "|  0 |  0% | 19% |\n",
      "|  1 |  0% |  0% |\n"
     ]
    },
    {
     "name": "stderr",
     "output_type": "stream",
     "text": [
      " 10%|█████████████████████████████████████▌                                                                                                                                                                                                                                                                                                                                                     | 22/222.0 [00:55<08:22,  2.51s/it]"
     ]
    },
    {
     "name": "stdout",
     "output_type": "stream",
     "text": [
      "22.2\n",
      "80.6\n",
      "| ID | GPU | MEM |\n",
      "------------------\n",
      "|  0 |  0% | 19% |\n",
      "|  1 |  0% |  0% |\n"
     ]
    },
    {
     "name": "stderr",
     "output_type": "stream",
     "text": [
      " 10%|███████████████████████████████████████▎                                                                                                                                                                                                                                                                                                                                                   | 23/222.0 [00:58<08:14,  2.49s/it]"
     ]
    },
    {
     "name": "stdout",
     "output_type": "stream",
     "text": [
      "22.7\n",
      "80.6\n",
      "| ID | GPU | MEM |\n",
      "------------------\n",
      "|  0 |  0% | 19% |\n",
      "|  1 |  0% |  0% |\n"
     ]
    },
    {
     "name": "stderr",
     "output_type": "stream",
     "text": [
      " 11%|████████████████████████████████████████▉                                                                                                                                                                                                                                                                                                                                                  | 24/222.0 [01:00<08:04,  2.45s/it]"
     ]
    },
    {
     "name": "stdout",
     "output_type": "stream",
     "text": [
      "22.5\n",
      "80.6\n",
      "| ID | GPU | MEM |\n",
      "------------------\n",
      "|  0 |  0% | 19% |\n",
      "|  1 |  0% |  0% |\n"
     ]
    },
    {
     "name": "stderr",
     "output_type": "stream",
     "text": [
      " 11%|██████████████████████████████████████████▋                                                                                                                                                                                                                                                                                                                                                | 25/222.0 [01:03<07:55,  2.42s/it]"
     ]
    },
    {
     "name": "stdout",
     "output_type": "stream",
     "text": [
      "22.4\n",
      "80.6\n",
      "| ID | GPU | MEM |\n",
      "------------------\n",
      "|  0 |  0% | 19% |\n",
      "|  1 |  0% |  0% |\n"
     ]
    },
    {
     "name": "stderr",
     "output_type": "stream",
     "text": [
      " 12%|████████████████████████████████████████████▍                                                                                                                                                                                                                                                                                                                                              | 26/222.0 [01:05<07:50,  2.40s/it]"
     ]
    },
    {
     "name": "stdout",
     "output_type": "stream",
     "text": [
      "22.5\n",
      "80.6\n",
      "| ID | GPU | MEM |\n",
      "------------------\n",
      "|  0 |  0% | 19% |\n",
      "|  1 |  0% |  0% |\n"
     ]
    },
    {
     "name": "stderr",
     "output_type": "stream",
     "text": [
      " 12%|██████████████████████████████████████████████                                                                                                                                                                                                                                                                                                                                             | 27/222.0 [01:07<07:45,  2.39s/it]"
     ]
    },
    {
     "name": "stdout",
     "output_type": "stream",
     "text": [
      "19.8\n",
      "80.6\n",
      "| ID | GPU | MEM |\n",
      "------------------\n",
      "|  0 |  0% | 19% |\n",
      "|  1 |  0% |  0% |\n"
     ]
    },
    {
     "name": "stderr",
     "output_type": "stream",
     "text": [
      " 13%|███████████████████████████████████████████████▊                                                                                                                                                                                                                                                                                                                                           | 28/222.0 [01:11<08:45,  2.71s/it]"
     ]
    },
    {
     "name": "stdout",
     "output_type": "stream",
     "text": [
      "22.1\n",
      "80.6\n",
      "| ID | GPU | MEM |\n",
      "------------------\n",
      "|  0 |  0% | 19% |\n",
      "|  1 |  0% |  0% |\n"
     ]
    },
    {
     "name": "stderr",
     "output_type": "stream",
     "text": [
      " 13%|█████████████████████████████████████████████████▌                                                                                                                                                                                                                                                                                                                                         | 29/222.0 [01:13<08:25,  2.62s/it]"
     ]
    },
    {
     "name": "stdout",
     "output_type": "stream",
     "text": [
      "21.9\n",
      "80.6\n",
      "| ID | GPU | MEM |\n",
      "------------------\n",
      "|  0 |  0% | 19% |\n",
      "|  1 |  0% |  0% |\n"
     ]
    },
    {
     "name": "stderr",
     "output_type": "stream",
     "text": [
      " 14%|███████████████████████████████████████████████████▏                                                                                                                                                                                                                                                                                                                                       | 30/222.0 [01:15<08:09,  2.55s/it]"
     ]
    },
    {
     "name": "stdout",
     "output_type": "stream",
     "text": [
      "21.8\n",
      "80.6\n",
      "| ID | GPU | MEM |\n",
      "------------------\n",
      "|  0 |  0% | 19% |\n",
      "|  1 |  0% |  0% |\n"
     ]
    },
    {
     "name": "stderr",
     "output_type": "stream",
     "text": [
      " 14%|████████████████████████████████████████████████████▉                                                                                                                                                                                                                                                                                                                                      | 31/222.0 [01:18<07:58,  2.50s/it]"
     ]
    },
    {
     "name": "stdout",
     "output_type": "stream",
     "text": [
      "22.0\n",
      "80.6\n",
      "| ID | GPU | MEM |\n",
      "------------------\n",
      "|  0 |  0% | 19% |\n",
      "|  1 |  0% |  0% |\n"
     ]
    },
    {
     "name": "stderr",
     "output_type": "stream",
     "text": [
      " 14%|██████████████████████████████████████████████████████▋                                                                                                                                                                                                                                                                                                                                    | 32/222.0 [01:20<07:48,  2.47s/it]"
     ]
    },
    {
     "name": "stdout",
     "output_type": "stream",
     "text": [
      "22.2\n",
      "80.6\n",
      "| ID | GPU | MEM |\n",
      "------------------\n",
      "|  0 |  0% | 19% |\n",
      "|  1 |  0% |  0% |\n"
     ]
    },
    {
     "name": "stderr",
     "output_type": "stream",
     "text": [
      " 15%|████████████████████████████████████████████████████████▎                                                                                                                                                                                                                                                                                                                                  | 33/222.0 [01:23<07:40,  2.44s/it]"
     ]
    },
    {
     "name": "stdout",
     "output_type": "stream",
     "text": [
      "22.4\n",
      "80.6\n",
      "| ID | GPU | MEM |\n",
      "------------------\n",
      "|  0 |  0% | 19% |\n",
      "|  1 |  0% |  0% |\n"
     ]
    },
    {
     "name": "stderr",
     "output_type": "stream",
     "text": [
      " 15%|██████████████████████████████████████████████████████████                                                                                                                                                                                                                                                                                                                                 | 34/222.0 [01:25<07:35,  2.42s/it]"
     ]
    },
    {
     "name": "stdout",
     "output_type": "stream",
     "text": [
      "22.3\n",
      "80.6\n",
      "| ID | GPU | MEM |\n",
      "------------------\n",
      "|  0 |  0% | 19% |\n",
      "|  1 |  0% |  0% |\n"
     ]
    },
    {
     "name": "stderr",
     "output_type": "stream",
     "text": [
      " 16%|███████████████████████████████████████████████████████████▊                                                                                                                                                                                                                                                                                                                               | 35/222.0 [01:27<07:29,  2.40s/it]"
     ]
    },
    {
     "name": "stdout",
     "output_type": "stream",
     "text": [
      "22.0\n",
      "80.6\n",
      "| ID | GPU | MEM |\n",
      "------------------\n",
      "|  0 |  0% | 19% |\n",
      "|  1 |  0% |  0% |\n"
     ]
    },
    {
     "name": "stderr",
     "output_type": "stream",
     "text": [
      " 16%|█████████████████████████████████████████████████████████████▍                                                                                                                                                                                                                                                                                                                             | 36/222.0 [01:30<07:26,  2.40s/it]"
     ]
    },
    {
     "name": "stdout",
     "output_type": "stream",
     "text": [
      "22.3\n",
      "80.6\n",
      "| ID | GPU | MEM |\n",
      "------------------\n",
      "|  0 |  0% | 19% |\n",
      "|  1 |  0% |  0% |\n"
     ]
    },
    {
     "name": "stderr",
     "output_type": "stream",
     "text": [
      " 17%|███████████████████████████████████████████████████████████████▏                                                                                                                                                                                                                                                                                                                           | 37/222.0 [01:32<07:21,  2.39s/it]"
     ]
    },
    {
     "name": "stdout",
     "output_type": "stream",
     "text": [
      "22.1\n",
      "80.6\n",
      "| ID | GPU | MEM |\n",
      "------------------\n",
      "|  0 |  0% | 19% |\n",
      "|  1 |  0% |  0% |\n"
     ]
    },
    {
     "name": "stderr",
     "output_type": "stream",
     "text": [
      " 17%|████████████████████████████████████████████████████████████████▊                                                                                                                                                                                                                                                                                                                          | 38/222.0 [01:35<07:19,  2.39s/it]"
     ]
    },
    {
     "name": "stdout",
     "output_type": "stream",
     "text": [
      "22.1\n",
      "80.6\n",
      "| ID | GPU | MEM |\n",
      "------------------\n",
      "|  0 |  0% | 19% |\n",
      "|  1 |  0% |  0% |\n"
     ]
    },
    {
     "name": "stderr",
     "output_type": "stream",
     "text": [
      " 18%|██████████████████████████████████████████████████████████████████▌                                                                                                                                                                                                                                                                                                                        | 39/222.0 [01:37<07:17,  2.39s/it]"
     ]
    },
    {
     "name": "stdout",
     "output_type": "stream",
     "text": [
      "22.2\n",
      "80.6\n",
      "| ID | GPU | MEM |\n",
      "------------------\n",
      "|  0 |  0% | 19% |\n",
      "|  1 |  0% |  0% |\n"
     ]
    },
    {
     "name": "stderr",
     "output_type": "stream",
     "text": [
      " 18%|████████████████████████████████████████████████████████████████████▎                                                                                                                                                                                                                                                                                                                      | 40/222.0 [01:39<07:15,  2.39s/it]"
     ]
    },
    {
     "name": "stdout",
     "output_type": "stream",
     "text": [
      "20.9\n",
      "80.8\n",
      "| ID | GPU | MEM |\n",
      "------------------\n",
      "|  0 |  0% | 19% |\n",
      "|  1 |  0% |  0% |\n"
     ]
    },
    {
     "name": "stderr",
     "output_type": "stream",
     "text": [
      " 18%|█████████████████████████████████████████████████████████████████████▉                                                                                                                                                                                                                                                                                                                     | 41/222.0 [01:42<07:37,  2.53s/it]"
     ]
    },
    {
     "name": "stdout",
     "output_type": "stream",
     "text": [
      "19.6\n",
      "80.7\n",
      "| ID | GPU | MEM |\n",
      "------------------\n",
      "|  0 |  0% | 19% |\n",
      "|  1 |  0% |  0% |\n"
     ]
    },
    {
     "name": "stderr",
     "output_type": "stream",
     "text": [
      " 19%|███████████████████████████████████████████████████████████████████████▋                                                                                                                                                                                                                                                                                                                   | 42/222.0 [01:46<08:25,  2.81s/it]"
     ]
    },
    {
     "name": "stdout",
     "output_type": "stream",
     "text": [
      "21.6\n",
      "80.6\n",
      "| ID | GPU | MEM |\n",
      "------------------\n",
      "|  0 |  0% | 19% |\n",
      "|  1 |  0% |  0% |\n"
     ]
    },
    {
     "name": "stderr",
     "output_type": "stream",
     "text": [
      " 19%|█████████████████████████████████████████████████████████████████████████▍                                                                                                                                                                                                                                                                                                                 | 43/222.0 [01:48<08:02,  2.70s/it]"
     ]
    },
    {
     "name": "stdout",
     "output_type": "stream",
     "text": [
      "19.4\n",
      "80.7\n",
      "| ID | GPU | MEM |\n",
      "------------------\n",
      "|  0 |  0% | 19% |\n",
      "|  1 |  0% |  0% |\n"
     ]
    },
    {
     "name": "stderr",
     "output_type": "stream",
     "text": [
      " 20%|███████████████████████████████████████████████████████████████████████████                                                                                                                                                                                                                                                                                                                | 44/222.0 [01:52<08:42,  2.94s/it]"
     ]
    },
    {
     "name": "stdout",
     "output_type": "stream",
     "text": [
      "21.7\n",
      "80.7\n",
      "| ID | GPU | MEM |\n",
      "------------------\n",
      "|  0 |  0% | 19% |\n",
      "|  1 |  0% |  0% |\n"
     ]
    },
    {
     "name": "stderr",
     "output_type": "stream",
     "text": [
      " 20%|████████████████████████████████████████████████████████████████████████████▊                                                                                                                                                                                                                                                                                                              | 45/222.0 [01:54<08:11,  2.78s/it]"
     ]
    },
    {
     "name": "stdout",
     "output_type": "stream",
     "text": [
      "22.0\n",
      "80.7\n",
      "| ID | GPU | MEM |\n",
      "------------------\n",
      "|  0 |  0% | 19% |\n",
      "|  1 |  0% |  0% |\n"
     ]
    },
    {
     "name": "stderr",
     "output_type": "stream",
     "text": [
      " 21%|██████████████████████████████████████████████████████████████████████████████▌                                                                                                                                                                                                                                                                                                            | 46/222.0 [01:56<07:48,  2.66s/it]"
     ]
    },
    {
     "name": "stdout",
     "output_type": "stream",
     "text": [
      "22.3\n",
      "80.6\n",
      "| ID | GPU | MEM |\n",
      "------------------\n",
      "|  0 |  0% | 19% |\n",
      "|  1 |  0% |  0% |\n"
     ]
    },
    {
     "name": "stderr",
     "output_type": "stream",
     "text": [
      " 21%|████████████████████████████████████████████████████████████████████████████████▏                                                                                                                                                                                                                                                                                                          | 47/222.0 [01:59<07:29,  2.57s/it]"
     ]
    },
    {
     "name": "stdout",
     "output_type": "stream",
     "text": [
      "21.7\n",
      "80.7\n",
      "| ID | GPU | MEM |\n",
      "------------------\n",
      "|  0 |  0% | 19% |\n",
      "|  1 |  0% |  0% |\n"
     ]
    },
    {
     "name": "stderr",
     "output_type": "stream",
     "text": [
      " 22%|█████████████████████████████████████████████████████████████████████████████████▉                                                                                                                                                                                                                                                                                                         | 48/222.0 [02:01<07:18,  2.52s/it]"
     ]
    },
    {
     "name": "stdout",
     "output_type": "stream",
     "text": [
      "21.9\n",
      "80.6\n",
      "| ID | GPU | MEM |\n",
      "------------------\n",
      "|  0 |  0% | 19% |\n",
      "|  1 |  0% |  0% |\n"
     ]
    },
    {
     "name": "stderr",
     "output_type": "stream",
     "text": [
      " 22%|███████████████████████████████████████████████████████████████████████████████████▋                                                                                                                                                                                                                                                                                                       | 49/222.0 [02:04<07:09,  2.48s/it]"
     ]
    },
    {
     "name": "stdout",
     "output_type": "stream",
     "text": [
      "22.4\n",
      "80.6\n",
      "| ID | GPU | MEM |\n",
      "------------------\n",
      "|  0 |  0% | 19% |\n",
      "|  1 |  0% |  0% |\n"
     ]
    },
    {
     "name": "stderr",
     "output_type": "stream",
     "text": [
      " 23%|█████████████████████████████████████████████████████████████████████████████████████▎                                                                                                                                                                                                                                                                                                     | 50/222.0 [02:06<07:00,  2.44s/it]"
     ]
    },
    {
     "name": "stdout",
     "output_type": "stream",
     "text": [
      "22.5\n",
      "80.6\n",
      "| ID | GPU | MEM |\n",
      "------------------\n",
      "|  0 |  0% | 19% |\n",
      "|  1 |  0% |  0% |\n"
     ]
    },
    {
     "name": "stderr",
     "output_type": "stream",
     "text": [
      " 23%|███████████████████████████████████████████████████████████████████████████████████████                                                                                                                                                                                                                                                                                                    | 51/222.0 [02:08<06:52,  2.41s/it]"
     ]
    },
    {
     "name": "stdout",
     "output_type": "stream",
     "text": [
      "21.8\n",
      "80.6\n",
      "| ID | GPU | MEM |\n",
      "------------------\n",
      "|  0 |  0% | 19% |\n",
      "|  1 |  0% |  0% |\n"
     ]
    },
    {
     "name": "stderr",
     "output_type": "stream",
     "text": [
      " 23%|████████████████████████████████████████████████████████████████████████████████████████▊                                                                                                                                                                                                                                                                                                  | 52/222.0 [02:11<06:50,  2.41s/it]"
     ]
    },
    {
     "name": "stdout",
     "output_type": "stream",
     "text": [
      "19.1\n",
      "80.7\n",
      "| ID | GPU | MEM |\n",
      "------------------\n",
      "|  0 |  0% | 19% |\n",
      "|  1 |  0% |  0% |\n"
     ]
    },
    {
     "name": "stderr",
     "output_type": "stream",
     "text": [
      " 24%|██████████████████████████████████████████████████████████████████████████████████████████▍                                                                                                                                                                                                                                                                                                | 53/222.0 [02:14<07:44,  2.75s/it]"
     ]
    },
    {
     "name": "stdout",
     "output_type": "stream",
     "text": [
      "21.5\n",
      "80.7\n",
      "| ID | GPU | MEM |\n",
      "------------------\n",
      "|  0 |  0% | 19% |\n",
      "|  1 |  0% |  0% |\n"
     ]
    },
    {
     "name": "stderr",
     "output_type": "stream",
     "text": [
      " 24%|████████████████████████████████████████████████████████████████████████████████████████████▏                                                                                                                                                                                                                                                                                              | 54/222.0 [02:17<07:26,  2.66s/it]"
     ]
    },
    {
     "name": "stdout",
     "output_type": "stream",
     "text": [
      "22.3\n",
      "80.7\n",
      "| ID | GPU | MEM |\n",
      "------------------\n",
      "|  0 |  0% | 19% |\n",
      "|  1 |  0% |  0% |\n"
     ]
    },
    {
     "name": "stderr",
     "output_type": "stream",
     "text": [
      " 25%|█████████████████████████████████████████████████████████████████████████████████████████████▉                                                                                                                                                                                                                                                                                             | 55/222.0 [02:19<07:08,  2.57s/it]"
     ]
    },
    {
     "name": "stdout",
     "output_type": "stream",
     "text": [
      "22.0\n",
      "80.7\n",
      "| ID | GPU | MEM |\n",
      "------------------\n",
      "|  0 |  0% | 19% |\n",
      "|  1 |  0% |  0% |\n"
     ]
    },
    {
     "name": "stderr",
     "output_type": "stream",
     "text": [
      " 25%|███████████████████████████████████████████████████████████████████████████████████████████████▌                                                                                                                                                                                                                                                                                           | 56/222.0 [02:21<06:57,  2.51s/it]"
     ]
    },
    {
     "name": "stdout",
     "output_type": "stream",
     "text": [
      "22.2\n",
      "80.7\n",
      "| ID | GPU | MEM |\n",
      "------------------\n",
      "|  0 |  0% | 19% |\n",
      "|  1 |  0% |  0% |\n"
     ]
    },
    {
     "name": "stderr",
     "output_type": "stream",
     "text": [
      " 26%|█████████████████████████████████████████████████████████████████████████████████████████████████▎                                                                                                                                                                                                                                                                                         | 57/222.0 [02:24<06:48,  2.47s/it]"
     ]
    },
    {
     "name": "stdout",
     "output_type": "stream",
     "text": [
      "22.0\n",
      "80.6\n",
      "| ID | GPU | MEM |\n",
      "------------------\n",
      "|  0 |  0% | 19% |\n",
      "|  1 |  0% |  0% |\n"
     ]
    },
    {
     "name": "stderr",
     "output_type": "stream",
     "text": [
      " 26%|███████████████████████████████████████████████████████████████████████████████████████████████████                                                                                                                                                                                                                                                                                        | 58/222.0 [02:26<06:42,  2.46s/it]"
     ]
    },
    {
     "name": "stdout",
     "output_type": "stream",
     "text": [
      "22.2\n",
      "80.6\n",
      "| ID | GPU | MEM |\n",
      "------------------\n",
      "|  0 |  0% | 19% |\n",
      "|  1 |  0% |  0% |\n"
     ]
    },
    {
     "name": "stderr",
     "output_type": "stream",
     "text": [
      " 27%|████████████████████████████████████████████████████████████████████████████████████████████████████▋                                                                                                                                                                                                                                                                                      | 59/222.0 [02:29<06:36,  2.43s/it]"
     ]
    },
    {
     "name": "stdout",
     "output_type": "stream",
     "text": [
      "22.1\n",
      "80.6\n",
      "| ID | GPU | MEM |\n",
      "------------------\n",
      "|  0 |  0% | 19% |\n",
      "|  1 |  0% |  0% |\n"
     ]
    },
    {
     "name": "stderr",
     "output_type": "stream",
     "text": [
      " 27%|██████████████████████████████████████████████████████████████████████████████████████████████████████▍                                                                                                                                                                                                                                                                                    | 60/222.0 [02:31<06:31,  2.42s/it]"
     ]
    },
    {
     "name": "stdout",
     "output_type": "stream",
     "text": [
      "22.3\n",
      "80.6\n",
      "| ID | GPU | MEM |\n",
      "------------------\n",
      "|  0 |  0% | 19% |\n",
      "|  1 |  0% |  0% |\n"
     ]
    },
    {
     "name": "stderr",
     "output_type": "stream",
     "text": [
      " 27%|████████████████████████████████████████████████████████████████████████████████████████████████████████▏                                                                                                                                                                                                                                                                                  | 61/222.0 [02:33<06:26,  2.40s/it]"
     ]
    },
    {
     "name": "stdout",
     "output_type": "stream",
     "text": [
      "22.5\n",
      "80.8\n",
      "| ID | GPU | MEM |\n",
      "------------------\n",
      "|  0 |  0% | 19% |\n",
      "|  1 |  0% |  0% |\n"
     ]
    },
    {
     "name": "stderr",
     "output_type": "stream",
     "text": [
      " 28%|█████████████████████████████████████████████████████████████████████████████████████████████████████████▊                                                                                                                                                                                                                                                                                 | 62/222.0 [02:36<06:24,  2.40s/it]"
     ]
    },
    {
     "name": "stdout",
     "output_type": "stream",
     "text": [
      "22.3\n",
      "80.8\n",
      "| ID | GPU | MEM |\n",
      "------------------\n",
      "|  0 |  0% | 19% |\n",
      "|  1 |  0% |  0% |\n"
     ]
    },
    {
     "name": "stderr",
     "output_type": "stream",
     "text": [
      " 28%|███████████████████████████████████████████████████████████████████████████████████████████████████████████▌                                                                                                                                                                                                                                                                               | 63/222.0 [02:38<06:20,  2.39s/it]"
     ]
    },
    {
     "name": "stdout",
     "output_type": "stream",
     "text": [
      "22.0\n",
      "80.7\n",
      "| ID | GPU | MEM |\n",
      "------------------\n",
      "|  0 |  0% | 19% |\n",
      "|  1 |  0% |  0% |\n"
     ]
    },
    {
     "name": "stderr",
     "output_type": "stream",
     "text": [
      " 29%|█████████████████████████████████████████████████████████████████████████████████████████████████████████████▎                                                                                                                                                                                                                                                                             | 64/222.0 [02:40<06:18,  2.40s/it]"
     ]
    },
    {
     "name": "stdout",
     "output_type": "stream",
     "text": [
      "22.3\n",
      "80.7\n",
      "| ID | GPU | MEM |\n",
      "------------------\n",
      "|  0 |  0% | 19% |\n",
      "|  1 |  0% |  0% |\n"
     ]
    },
    {
     "name": "stderr",
     "output_type": "stream",
     "text": [
      " 29%|██████████████████████████████████████████████████████████████████████████████████████████████████████████████▉                                                                                                                                                                                                                                                                            | 65/222.0 [02:43<06:16,  2.40s/it]"
     ]
    },
    {
     "name": "stdout",
     "output_type": "stream",
     "text": [
      "21.7\n",
      "80.7\n",
      "| ID | GPU | MEM |\n",
      "------------------\n",
      "|  0 |  0% | 19% |\n",
      "|  1 |  0% |  0% |\n"
     ]
    },
    {
     "name": "stderr",
     "output_type": "stream",
     "text": [
      " 30%|████████████████████████████████████████████████████████████████████████████████████████████████████████████████▋                                                                                                                                                                                                                                                                          | 66/222.0 [02:45<06:14,  2.40s/it]"
     ]
    },
    {
     "name": "stdout",
     "output_type": "stream",
     "text": [
      "22.0\n",
      "80.7\n",
      "| ID | GPU | MEM |\n",
      "------------------\n",
      "|  0 |  0% | 19% |\n",
      "|  1 |  0% |  0% |\n"
     ]
    },
    {
     "name": "stderr",
     "output_type": "stream",
     "text": [
      " 30%|██████████████████████████████████████████████████████████████████████████████████████████████████████████████████▍                                                                                                                                                                                                                                                                        | 67/222.0 [02:48<06:12,  2.40s/it]"
     ]
    },
    {
     "name": "stdout",
     "output_type": "stream",
     "text": [
      "21.8\n",
      "80.8\n",
      "| ID | GPU | MEM |\n",
      "------------------\n",
      "|  0 |  0% | 19% |\n",
      "|  1 |  0% |  0% |\n"
     ]
    },
    {
     "name": "stderr",
     "output_type": "stream",
     "text": [
      " 31%|████████████████████████████████████████████████████████████████████████████████████████████████████████████████████                                                                                                                                                                                                                                                                       | 68/222.0 [02:50<06:10,  2.40s/it]"
     ]
    },
    {
     "name": "stdout",
     "output_type": "stream",
     "text": [
      "22.1\n",
      "80.8\n",
      "| ID | GPU | MEM |\n",
      "------------------\n",
      "|  0 |  0% | 19% |\n",
      "|  1 |  0% |  0% |\n"
     ]
    },
    {
     "name": "stderr",
     "output_type": "stream",
     "text": [
      " 31%|█████████████████████████████████████████████████████████████████████████████████████████████████████████████████████▊                                                                                                                                                                                                                                                                     | 69/222.0 [02:52<06:08,  2.41s/it]"
     ]
    },
    {
     "name": "stdout",
     "output_type": "stream",
     "text": [
      "22.3\n",
      "80.8\n",
      "| ID | GPU | MEM |\n",
      "------------------\n",
      "|  0 |  0% | 19% |\n",
      "|  1 |  0% |  0% |\n"
     ]
    },
    {
     "name": "stderr",
     "output_type": "stream",
     "text": [
      " 32%|███████████████████████████████████████████████████████████████████████████████████████████████████████████████████████▌                                                                                                                                                                                                                                                                   | 70/222.0 [02:55<06:04,  2.40s/it]"
     ]
    },
    {
     "name": "stdout",
     "output_type": "stream",
     "text": [
      "22.3\n",
      "80.6\n",
      "| ID | GPU | MEM |\n",
      "------------------\n",
      "|  0 |  0% | 19% |\n",
      "|  1 |  0% |  0% |\n"
     ]
    },
    {
     "name": "stderr",
     "output_type": "stream",
     "text": [
      " 32%|█████████████████████████████████████████████████████████████████████████████████████████████████████████████████████████▏                                                                                                                                                                                                                                                                 | 71/222.0 [02:57<06:00,  2.39s/it]"
     ]
    },
    {
     "name": "stdout",
     "output_type": "stream",
     "text": [
      "22.1\n",
      "80.6\n",
      "| ID | GPU | MEM |\n",
      "------------------\n",
      "|  0 |  0% | 19% |\n",
      "|  1 |  0% |  0% |\n"
     ]
    },
    {
     "name": "stderr",
     "output_type": "stream",
     "text": [
      " 32%|██████████████████████████████████████████████████████████████████████████████████████████████████████████████████████████▉                                                                                                                                                                                                                                                                | 72/222.0 [03:00<05:58,  2.39s/it]"
     ]
    },
    {
     "name": "stdout",
     "output_type": "stream",
     "text": [
      "22.3\n",
      "80.7\n",
      "| ID | GPU | MEM |\n",
      "------------------\n",
      "|  0 |  0% | 19% |\n",
      "|  1 |  0% |  0% |\n"
     ]
    },
    {
     "name": "stderr",
     "output_type": "stream",
     "text": [
      " 33%|████████████████████████████████████████████████████████████████████████████████████████████████████████████████████████████▋                                                                                                                                                                                                                                                              | 73/222.0 [03:02<05:55,  2.39s/it]"
     ]
    },
    {
     "name": "stdout",
     "output_type": "stream",
     "text": [
      "22.4\n",
      "80.7\n",
      "| ID | GPU | MEM |\n",
      "------------------\n",
      "|  0 |  0% | 19% |\n",
      "|  1 |  0% |  0% |\n"
     ]
    },
    {
     "name": "stderr",
     "output_type": "stream",
     "text": [
      " 33%|██████████████████████████████████████████████████████████████████████████████████████████████████████████████████████████████▎                                                                                                                                                                                                                                                            | 74/222.0 [03:04<05:51,  2.38s/it]"
     ]
    },
    {
     "name": "stdout",
     "output_type": "stream",
     "text": [
      "21.7\n",
      "80.7\n",
      "| ID | GPU | MEM |\n",
      "------------------\n",
      "|  0 |  0% | 19% |\n",
      "|  1 |  0% |  0% |\n"
     ]
    },
    {
     "name": "stderr",
     "output_type": "stream",
     "text": [
      " 34%|████████████████████████████████████████████████████████████████████████████████████████████████████████████████████████████████                                                                                                                                                                                                                                                           | 75/222.0 [03:07<05:52,  2.40s/it]"
     ]
    },
    {
     "name": "stdout",
     "output_type": "stream",
     "text": [
      "22.2\n",
      "80.7\n",
      "| ID | GPU | MEM |\n",
      "------------------\n",
      "|  0 |  0% | 19% |\n",
      "|  1 |  0% |  0% |\n"
     ]
    },
    {
     "name": "stderr",
     "output_type": "stream",
     "text": [
      " 34%|█████████████████████████████████████████████████████████████████████████████████████████████████████████████████████████████████▋                                                                                                                                                                                                                                                         | 76/222.0 [03:09<05:48,  2.39s/it]"
     ]
    },
    {
     "name": "stdout",
     "output_type": "stream",
     "text": [
      "22.4\n",
      "80.7\n",
      "| ID | GPU | MEM |\n",
      "------------------\n",
      "|  0 |  0% | 19% |\n",
      "|  1 |  0% |  0% |\n"
     ]
    },
    {
     "name": "stderr",
     "output_type": "stream",
     "text": [
      " 35%|███████████████████████████████████████████████████████████████████████████████████████████████████████████████████████████████████▍                                                                                                                                                                                                                                                       | 77/222.0 [03:12<05:45,  2.38s/it]"
     ]
    },
    {
     "name": "stdout",
     "output_type": "stream",
     "text": [
      "21.8\n",
      "80.7\n",
      "| ID | GPU | MEM |\n",
      "------------------\n",
      "|  0 |  0% | 19% |\n",
      "|  1 |  0% |  0% |\n"
     ]
    },
    {
     "name": "stderr",
     "output_type": "stream",
     "text": [
      " 35%|█████████████████████████████████████████████████████████████████████████████████████████████████████████████████████████████████████▏                                                                                                                                                                                                                                                     | 78/222.0 [03:14<05:48,  2.42s/it]"
     ]
    },
    {
     "name": "stdout",
     "output_type": "stream",
     "text": [
      "22.0\n",
      "80.7\n",
      "| ID | GPU | MEM |\n",
      "------------------\n",
      "|  0 |  0% | 19% |\n",
      "|  1 |  0% |  0% |\n"
     ]
    },
    {
     "name": "stderr",
     "output_type": "stream",
     "text": [
      " 36%|██████████████████████████████████████████████████████████████████████████████████████████████████████████████████████████████████████▊                                                                                                                                                                                                                                                    | 79/222.0 [03:16<05:45,  2.42s/it]"
     ]
    },
    {
     "name": "stdout",
     "output_type": "stream",
     "text": [
      "19.3\n",
      "80.7\n",
      "| ID | GPU | MEM |\n",
      "------------------\n",
      "|  0 |  0% | 19% |\n",
      "|  1 |  0% |  0% |\n"
     ]
    },
    {
     "name": "stderr",
     "output_type": "stream",
     "text": [
      " 36%|████████████████████████████████████████████████████████████████████████████████████████████████████████████████████████████████████████▌                                                                                                                                                                                                                                                  | 80/222.0 [03:20<06:11,  2.62s/it]"
     ]
    },
    {
     "name": "stdout",
     "output_type": "stream",
     "text": [
      "19.2\n",
      "80.6\n",
      "| ID | GPU | MEM |\n",
      "------------------\n",
      "|  0 |  0% | 19% |\n",
      "|  1 |  0% |  0% |\n"
     ]
    },
    {
     "name": "stderr",
     "output_type": "stream",
     "text": [
      " 36%|██████████████████████████████████████████████████████████████████████████████████████████████████████████████████████████████████████████▎                                                                                                                                                                                                                                                | 81/222.0 [03:23<06:46,  2.88s/it]"
     ]
    },
    {
     "name": "stdout",
     "output_type": "stream",
     "text": [
      "21.5\n",
      "80.6\n",
      "| ID | GPU | MEM |\n",
      "------------------\n",
      "|  0 |  0% | 19% |\n",
      "|  1 |  0% |  0% |\n"
     ]
    },
    {
     "name": "stderr",
     "output_type": "stream",
     "text": [
      " 37%|███████████████████████████████████████████████████████████████████████████████████████████████████████████████████████████████████████████▉                                                                                                                                                                                                                                               | 82/222.0 [03:25<06:24,  2.75s/it]"
     ]
    },
    {
     "name": "stdout",
     "output_type": "stream",
     "text": [
      "21.7\n",
      "80.6\n",
      "| ID | GPU | MEM |\n",
      "------------------\n",
      "|  0 |  0% | 19% |\n",
      "|  1 |  0% |  0% |\n"
     ]
    },
    {
     "name": "stderr",
     "output_type": "stream",
     "text": [
      " 37%|█████████████████████████████████████████████████████████████████████████████████████████████████████████████████████████████████████████████▋                                                                                                                                                                                                                                             | 83/222.0 [03:28<06:09,  2.66s/it]"
     ]
    },
    {
     "name": "stdout",
     "output_type": "stream",
     "text": [
      "20.4\n",
      "80.7\n",
      "| ID | GPU | MEM |\n",
      "------------------\n",
      "|  0 |  0% | 19% |\n",
      "|  1 |  0% |  0% |\n"
     ]
    },
    {
     "name": "stderr",
     "output_type": "stream",
     "text": [
      " 38%|███████████████████████████████████████████████████████████████████████████████████████████████████████████████████████████████████████████████▍                                                                                                                                                                                                                                           | 84/222.0 [03:31<06:31,  2.83s/it]"
     ]
    },
    {
     "name": "stdout",
     "output_type": "stream",
     "text": [
      "20.7\n",
      "80.7\n",
      "| ID | GPU | MEM |\n",
      "------------------\n",
      "|  0 |  0% | 19% |\n",
      "|  1 |  0% |  0% |\n"
     ]
    },
    {
     "name": "stderr",
     "output_type": "stream",
     "text": [
      " 38%|█████████████████████████████████████████████████████████████████████████████████████████████████████████████████████████████████████████████████                                                                                                                                                                                                                                          | 85/222.0 [03:34<06:19,  2.77s/it]"
     ]
    },
    {
     "name": "stdout",
     "output_type": "stream",
     "text": [
      "21.4\n",
      "80.6\n",
      "| ID | GPU | MEM |\n",
      "------------------\n",
      "|  0 |  0% | 19% |\n",
      "|  1 |  0% |  0% |\n"
     ]
    },
    {
     "name": "stderr",
     "output_type": "stream",
     "text": [
      " 39%|██████████████████████████████████████████████████████████████████████████████████████████████████████████████████████████████████████████████████▊                                                                                                                                                                                                                                        | 86/222.0 [03:36<06:07,  2.71s/it]"
     ]
    },
    {
     "name": "stdout",
     "output_type": "stream",
     "text": [
      "22.5\n",
      "80.7\n",
      "| ID | GPU | MEM |\n",
      "------------------\n",
      "|  0 |  0% | 19% |\n",
      "|  1 |  0% |  0% |\n"
     ]
    },
    {
     "name": "stderr",
     "output_type": "stream",
     "text": [
      " 39%|████████████████████████████████████████████████████████████████████████████████████████████████████████████████████████████████████████████████████▌                                                                                                                                                                                                                                      | 87/222.0 [03:39<05:50,  2.60s/it]"
     ]
    },
    {
     "name": "stdout",
     "output_type": "stream",
     "text": [
      "22.5\n",
      "80.7\n",
      "| ID | GPU | MEM |\n",
      "------------------\n",
      "|  0 |  0% | 19% |\n",
      "|  1 |  0% |  0% |\n"
     ]
    },
    {
     "name": "stderr",
     "output_type": "stream",
     "text": [
      " 40%|██████████████████████████████████████████████████████████████████████████████████████████████████████████████████████████████████████████████████████▏                                                                                                                                                                                                                                    | 88/222.0 [03:41<05:38,  2.53s/it]"
     ]
    },
    {
     "name": "stdout",
     "output_type": "stream",
     "text": [
      "22.2\n",
      "80.6\n",
      "| ID | GPU | MEM |\n",
      "------------------\n",
      "|  0 |  0% | 19% |\n",
      "|  1 |  0% |  0% |\n"
     ]
    },
    {
     "name": "stderr",
     "output_type": "stream",
     "text": [
      " 40%|███████████████████████████████████████████████████████████████████████████████████████████████████████████████████████████████████████████████████████▉                                                                                                                                                                                                                                   | 89/222.0 [03:43<05:31,  2.50s/it]"
     ]
    },
    {
     "name": "stdout",
     "output_type": "stream",
     "text": [
      "20.5\n",
      "80.6\n",
      "| ID | GPU | MEM |\n",
      "------------------\n",
      "|  0 |  0% | 19% |\n",
      "|  1 |  0% |  0% |\n"
     ]
    },
    {
     "name": "stderr",
     "output_type": "stream",
     "text": [
      " 41%|█████████████████████████████████████████████████████████████████████████████████████████████████████████████████████████████████████████████████████████▋                                                                                                                                                                                                                                 | 90/222.0 [03:47<05:59,  2.73s/it]"
     ]
    },
    {
     "name": "stdout",
     "output_type": "stream",
     "text": [
      "21.8\n",
      "80.6\n",
      "| ID | GPU | MEM |\n",
      "------------------\n",
      "|  0 |  0% | 19% |\n",
      "|  1 |  1% |  0% |\n"
     ]
    },
    {
     "name": "stderr",
     "output_type": "stream",
     "text": [
      " 41%|███████████████████████████████████████████████████████████████████████████████████████████████████████████████████████████████████████████████████████████▎                                                                                                                                                                                                                               | 91/222.0 [03:49<05:45,  2.64s/it]"
     ]
    },
    {
     "name": "stdout",
     "output_type": "stream",
     "text": [
      "21.8\n",
      "80.6\n",
      "| ID | GPU | MEM |\n",
      "------------------\n",
      "|  0 |  0% | 19% |\n",
      "|  1 |  0% |  0% |\n"
     ]
    },
    {
     "name": "stderr",
     "output_type": "stream",
     "text": [
      " 41%|█████████████████████████████████████████████████████████████████████████████████████████████████████████████████████████████████████████████████████████████                                                                                                                                                                                                                              | 92/222.0 [03:52<05:35,  2.58s/it]"
     ]
    },
    {
     "name": "stdout",
     "output_type": "stream",
     "text": [
      "22.2\n",
      "80.7\n",
      "| ID | GPU | MEM |\n",
      "------------------\n",
      "|  0 |  0% | 19% |\n",
      "|  1 |  0% |  0% |\n"
     ]
    },
    {
     "name": "stderr",
     "output_type": "stream",
     "text": [
      " 42%|██████████████████████████████████████████████████████████████████████████████████████████████████████████████████████████████████████████████████████████████▊                                                                                                                                                                                                                            | 93/222.0 [03:54<05:25,  2.52s/it]"
     ]
    },
    {
     "name": "stdout",
     "output_type": "stream",
     "text": [
      "22.1\n",
      "80.6\n",
      "| ID | GPU | MEM |\n",
      "------------------\n",
      "|  0 |  0% | 19% |\n",
      "|  1 |  0% |  0% |\n"
     ]
    },
    {
     "name": "stderr",
     "output_type": "stream",
     "text": [
      " 42%|████████████████████████████████████████████████████████████████████████████████████████████████████████████████████████████████████████████████████████████████▍                                                                                                                                                                                                                          | 94/222.0 [03:56<05:17,  2.48s/it]"
     ]
    },
    {
     "name": "stdout",
     "output_type": "stream",
     "text": [
      "21.8\n",
      "80.6\n",
      "| ID | GPU | MEM |\n",
      "------------------\n",
      "|  0 |  0% | 19% |\n",
      "|  1 |  0% |  0% |\n"
     ]
    },
    {
     "name": "stderr",
     "output_type": "stream",
     "text": [
      " 43%|██████████████████████████████████████████████████████████████████████████████████████████████████████████████████████████████████████████████████████████████████▏                                                                                                                                                                                                                        | 95/222.0 [03:59<05:24,  2.56s/it]"
     ]
    },
    {
     "name": "stdout",
     "output_type": "stream",
     "text": [
      "21.8\n",
      "80.6\n",
      "| ID | GPU | MEM |\n",
      "------------------\n",
      "|  0 |  0% | 19% |\n",
      "|  1 |  0% |  0% |\n"
     ]
    },
    {
     "name": "stderr",
     "output_type": "stream",
     "text": [
      " 43%|███████████████████████████████████████████████████████████████████████████████████████████████████████████████████████████████████████████████████████████████████▉                                                                                                                                                                                                                       | 96/222.0 [04:02<05:17,  2.52s/it]"
     ]
    },
    {
     "name": "stdout",
     "output_type": "stream",
     "text": [
      "21.8\n",
      "80.6\n",
      "| ID | GPU | MEM |\n",
      "------------------\n",
      "|  0 |  0% | 19% |\n",
      "|  1 |  0% |  0% |\n"
     ]
    },
    {
     "name": "stderr",
     "output_type": "stream",
     "text": [
      " 44%|█████████████████████████████████████████████████████████████████████████████████████████████████████████████████████████████████████████████████████████████████████▌                                                                                                                                                                                                                     | 97/222.0 [04:04<05:11,  2.49s/it]"
     ]
    },
    {
     "name": "stdout",
     "output_type": "stream",
     "text": [
      "21.9\n",
      "80.6\n",
      "| ID | GPU | MEM |\n",
      "------------------\n",
      "|  0 |  0% | 19% |\n",
      "|  1 |  0% |  0% |\n"
     ]
    },
    {
     "name": "stderr",
     "output_type": "stream",
     "text": [
      " 44%|███████████████████████████████████████████████████████████████████████████████████████████████████████████████████████████████████████████████████████████████████████▎                                                                                                                                                                                                                   | 98/222.0 [04:06<05:05,  2.47s/it]"
     ]
    },
    {
     "name": "stdout",
     "output_type": "stream",
     "text": [
      "21.1\n",
      "80.7\n",
      "| ID | GPU | MEM |\n",
      "------------------\n",
      "|  0 |  0% | 19% |\n",
      "|  1 |  0% |  0% |\n"
     ]
    },
    {
     "name": "stderr",
     "output_type": "stream",
     "text": [
      " 45%|█████████████████████████████████████████████████████████████████████████████████████████████████████████████████████████████████████████████████████████████████████████                                                                                                                                                                                                                  | 99/222.0 [04:09<05:15,  2.57s/it]"
     ]
    },
    {
     "name": "stdout",
     "output_type": "stream",
     "text": [
      "22.1\n",
      "80.7\n",
      "| ID | GPU | MEM |\n",
      "------------------\n",
      "|  0 |  0% | 19% |\n",
      "|  1 |  0% |  0% |\n"
     ]
    },
    {
     "name": "stderr",
     "output_type": "stream",
     "text": [
      " 45%|██████████████████████████████████████████████████████████████████████████████████████████████████████████████████████████████████████████████████████████████████████████▎                                                                                                                                                                                                               | 100/222.0 [04:12<05:07,  2.52s/it]"
     ]
    },
    {
     "name": "stdout",
     "output_type": "stream",
     "text": [
      "22.2\n",
      "80.7\n",
      "| ID | GPU | MEM |\n",
      "------------------\n",
      "|  0 |  0% | 19% |\n",
      "|  1 |  0% |  0% |\n"
     ]
    },
    {
     "name": "stderr",
     "output_type": "stream",
     "text": [
      " 45%|███████████████████████████████████████████████████████████████████████████████████████████████████████████████████████████████████████████████████████████████████████████▉                                                                                                                                                                                                              | 101/222.0 [04:14<05:00,  2.49s/it]"
     ]
    },
    {
     "name": "stdout",
     "output_type": "stream",
     "text": [
      "22.9\n",
      "80.7\n",
      "| ID | GPU | MEM |\n",
      "------------------\n",
      "|  0 |  0% | 19% |\n",
      "|  1 |  0% |  0% |\n"
     ]
    },
    {
     "name": "stderr",
     "output_type": "stream",
     "text": [
      " 46%|█████████████████████████████████████████████████████████████████████████████████████████████████████████████████████████████████████████████████████████████████████████████▋                                                                                                                                                                                                            | 102/222.0 [04:16<04:53,  2.45s/it]"
     ]
    },
    {
     "name": "stdout",
     "output_type": "stream",
     "text": [
      "22.6\n",
      "80.7\n",
      "| ID | GPU | MEM |\n",
      "------------------\n",
      "|  0 |  0% | 19% |\n",
      "|  1 |  0% |  0% |\n"
     ]
    },
    {
     "name": "stderr",
     "output_type": "stream",
     "text": [
      " 46%|███████████████████████████████████████████████████████████████████████████████████████████████████████████████████████████████████████████████████████████████████████████████▍                                                                                                                                                                                                          | 103/222.0 [04:19<04:48,  2.42s/it]"
     ]
    },
    {
     "name": "stdout",
     "output_type": "stream",
     "text": [
      "22.8\n",
      "80.7\n",
      "| ID | GPU | MEM |\n",
      "------------------\n",
      "|  0 |  0% | 19% |\n",
      "|  1 |  0% |  0% |\n"
     ]
    },
    {
     "name": "stderr",
     "output_type": "stream",
     "text": [
      " 47%|█████████████████████████████████████████████████████████████████████████████████████████████████████████████████████████████████████████████████████████████████████████████████                                                                                                                                                                                                         | 104/222.0 [04:21<04:43,  2.40s/it]"
     ]
    },
    {
     "name": "stdout",
     "output_type": "stream",
     "text": [
      "22.6\n",
      "80.7\n",
      "| ID | GPU | MEM |\n",
      "------------------\n",
      "|  0 |  0% | 19% |\n",
      "|  1 |  0% |  0% |\n"
     ]
    },
    {
     "name": "stderr",
     "output_type": "stream",
     "text": [
      " 47%|██████████████████████████████████████████████████████████████████████████████████████████████████████████████████████████████████████████████████████████████████████████████████▊                                                                                                                                                                                                       | 105/222.0 [04:23<04:40,  2.40s/it]"
     ]
    },
    {
     "name": "stdout",
     "output_type": "stream",
     "text": [
      "22.6\n",
      "80.7\n",
      "| ID | GPU | MEM |\n",
      "------------------\n",
      "|  0 |  0% | 19% |\n",
      "|  1 |  0% |  0% |\n"
     ]
    },
    {
     "name": "stderr",
     "output_type": "stream",
     "text": [
      " 48%|████████████████████████████████████████████████████████████████████████████████████████████████████████████████████████████████████████████████████████████████████████████████████▍                                                                                                                                                                                                     | 106/222.0 [04:26<04:36,  2.38s/it]"
     ]
    },
    {
     "name": "stdout",
     "output_type": "stream",
     "text": [
      "21.4\n",
      "80.7\n",
      "| ID | GPU | MEM |\n",
      "------------------\n",
      "|  0 |  0% | 19% |\n",
      "|  1 |  0% |  0% |\n"
     ]
    },
    {
     "name": "stderr",
     "output_type": "stream",
     "text": [
      " 48%|██████████████████████████████████████████████████████████████████████████████████████████████████████████████████████████████████████████████████████████████████████████████████████▏                                                                                                                                                                                                   | 107/222.0 [04:29<04:48,  2.51s/it]"
     ]
    },
    {
     "name": "stdout",
     "output_type": "stream",
     "text": [
      "22.3\n",
      "80.7\n",
      "| ID | GPU | MEM |\n",
      "------------------\n",
      "|  0 |  0% | 19% |\n",
      "|  1 |  0% |  0% |\n"
     ]
    },
    {
     "name": "stderr",
     "output_type": "stream",
     "text": [
      " 49%|███████████████████████████████████████████████████████████████████████████████████████████████████████████████████████████████████████████████████████████████████████████████████████▉                                                                                                                                                                                                  | 108/222.0 [04:31<04:40,  2.46s/it]"
     ]
    },
    {
     "name": "stdout",
     "output_type": "stream",
     "text": [
      "22.2\n",
      "80.7\n",
      "| ID | GPU | MEM |\n",
      "------------------\n",
      "|  0 |  0% | 19% |\n",
      "|  1 |  0% |  0% |\n"
     ]
    },
    {
     "name": "stderr",
     "output_type": "stream",
     "text": [
      " 49%|█████████████████████████████████████████████████████████████████████████████████████████████████████████████████████████████████████████████████████████████████████████████████████████▌                                                                                                                                                                                                | 109/222.0 [04:33<04:35,  2.44s/it]"
     ]
    },
    {
     "name": "stdout",
     "output_type": "stream",
     "text": [
      "22.6\n",
      "80.7\n",
      "| ID | GPU | MEM |\n",
      "------------------\n",
      "|  0 |  0% | 19% |\n",
      "|  1 |  0% |  0% |\n"
     ]
    },
    {
     "name": "stderr",
     "output_type": "stream",
     "text": [
      " 50%|███████████████████████████████████████████████████████████████████████████████████████████████████████████████████████████████████████████████████████████████████████████████████████████▎                                                                                                                                                                                              | 110/222.0 [04:36<04:32,  2.43s/it]"
     ]
    },
    {
     "name": "stdout",
     "output_type": "stream",
     "text": [
      "22.4\n",
      "80.7\n",
      "| ID | GPU | MEM |\n",
      "------------------\n",
      "|  0 |  0% | 19% |\n",
      "|  1 |  0% |  0% |\n"
     ]
    },
    {
     "name": "stderr",
     "output_type": "stream",
     "text": [
      " 50%|█████████████████████████████████████████████████████████████████████████████████████████████████████████████████████████████████████████████████████████████████████████████████████████████                                                                                                                                                                                             | 111/222.0 [04:38<04:28,  2.42s/it]"
     ]
    },
    {
     "name": "stdout",
     "output_type": "stream",
     "text": [
      "22.1\n",
      "80.7\n",
      "| ID | GPU | MEM |\n",
      "------------------\n",
      "|  0 |  0% | 19% |\n",
      "|  1 |  0% |  0% |\n"
     ]
    },
    {
     "name": "stderr",
     "output_type": "stream",
     "text": [
      " 50%|██████████████████████████████████████████████████████████████████████████████████████████████████████████████████████████████████████████████████████████████████████████████████████████████▋                                                                                                                                                                                           | 112/222.0 [04:41<04:26,  2.43s/it]"
     ]
    },
    {
     "name": "stdout",
     "output_type": "stream",
     "text": [
      "21.4\n",
      "80.7\n",
      "| ID | GPU | MEM |\n",
      "------------------\n",
      "|  0 |  0% | 19% |\n",
      "|  1 |  0% |  0% |\n"
     ]
    },
    {
     "name": "stderr",
     "output_type": "stream",
     "text": [
      " 51%|████████████████████████████████████████████████████████████████████████████████████████████████████████████████████████████████████████████████████████████████████████████████████████████████▍                                                                                                                                                                                         | 113/222.0 [04:43<04:28,  2.46s/it]"
     ]
    },
    {
     "name": "stdout",
     "output_type": "stream",
     "text": [
      "22.2\n",
      "80.7\n",
      "| ID | GPU | MEM |\n",
      "------------------\n",
      "|  0 |  0% | 19% |\n",
      "|  1 |  0% |  0% |\n"
     ]
    },
    {
     "name": "stderr",
     "output_type": "stream",
     "text": [
      " 51%|██████████████████████████████████████████████████████████████████████████████████████████████████████████████████████████████████████████████████████████████████████████████████████████████████                                                                                                                                                                                        | 114/222.0 [04:46<04:23,  2.44s/it]"
     ]
    },
    {
     "name": "stdout",
     "output_type": "stream",
     "text": [
      "18.5\n",
      "80.6\n",
      "| ID | GPU | MEM |\n",
      "------------------\n",
      "|  0 |  0% | 19% |\n",
      "|  1 |  0% |  0% |\n"
     ]
    },
    {
     "name": "stderr",
     "output_type": "stream",
     "text": [
      " 52%|███████████████████████████████████████████████████████████████████████████████████████████████████████████████████████████████████████████████████████████████████████████████████████████████████▊                                                                                                                                                                                      | 115/222.0 [04:49<05:01,  2.81s/it]"
     ]
    },
    {
     "name": "stdout",
     "output_type": "stream",
     "text": [
      "21.5\n",
      "80.6\n",
      "| ID | GPU | MEM |\n",
      "------------------\n",
      "|  0 |  0% | 19% |\n",
      "|  1 |  0% |  0% |\n"
     ]
    },
    {
     "name": "stderr",
     "output_type": "stream",
     "text": [
      " 52%|█████████████████████████████████████████████████████████████████████████████████████████████████████████████████████████████████████████████████████████████████████████████████████████████████████▌                                                                                                                                                                                    | 116/222.0 [04:52<04:45,  2.69s/it]"
     ]
    },
    {
     "name": "stdout",
     "output_type": "stream",
     "text": [
      "22.3\n",
      "80.6\n",
      "| ID | GPU | MEM |\n",
      "------------------\n",
      "|  0 |  0% | 19% |\n",
      "|  1 |  0% |  0% |\n"
     ]
    },
    {
     "name": "stderr",
     "output_type": "stream",
     "text": [
      " 53%|███████████████████████████████████████████████████████████████████████████████████████████████████████████████████████████████████████████████████████████████████████████████████████████████████████▏                                                                                                                                                                                  | 117/222.0 [04:54<04:32,  2.60s/it]"
     ]
    },
    {
     "name": "stdout",
     "output_type": "stream",
     "text": [
      "22.1\n",
      "80.6\n",
      "| ID | GPU | MEM |\n",
      "------------------\n",
      "|  0 |  0% | 19% |\n",
      "|  1 |  0% |  0% |\n"
     ]
    },
    {
     "name": "stderr",
     "output_type": "stream",
     "text": [
      " 53%|████████████████████████████████████████████████████████████████████████████████████████████████████████████████████████████████████████████████████████████████████████████████████████████████████████▉                                                                                                                                                                                 | 118/222.0 [04:56<04:24,  2.54s/it]"
     ]
    },
    {
     "name": "stdout",
     "output_type": "stream",
     "text": [
      "21.7\n",
      "80.6\n",
      "| ID | GPU | MEM |\n",
      "------------------\n",
      "|  0 |  0% | 19% |\n",
      "|  1 |  0% |  0% |\n"
     ]
    },
    {
     "name": "stderr",
     "output_type": "stream",
     "text": [
      " 54%|██████████████████████████████████████████████████████████████████████████████████████████████████████████████████████████████████████████████████████████████████████████████████████████████████████████▌                                                                                                                                                                               | 119/222.0 [04:59<04:17,  2.50s/it]"
     ]
    },
    {
     "name": "stdout",
     "output_type": "stream",
     "text": [
      "21.4\n",
      "80.6\n",
      "| ID | GPU | MEM |\n",
      "------------------\n",
      "|  0 |  0% | 19% |\n",
      "|  1 |  0% |  0% |\n"
     ]
    },
    {
     "name": "stderr",
     "output_type": "stream",
     "text": [
      " 54%|████████████████████████████████████████████████████████████████████████████████████████████████████████████████████████████████████████████████████████████████████████████████████████████████████████████▎                                                                                                                                                                             | 120/222.0 [05:01<04:15,  2.50s/it]"
     ]
    },
    {
     "name": "stdout",
     "output_type": "stream",
     "text": [
      "21.8\n",
      "80.6\n",
      "| ID | GPU | MEM |\n",
      "------------------\n",
      "|  0 |  0% | 19% |\n",
      "|  1 |  0% |  0% |\n"
     ]
    },
    {
     "name": "stderr",
     "output_type": "stream",
     "text": [
      " 55%|██████████████████████████████████████████████████████████████████████████████████████████████████████████████████████████████████████████████████████████████████████████████████████████████████████████████                                                                                                                                                                            | 121/222.0 [05:04<04:10,  2.48s/it]"
     ]
    },
    {
     "name": "stdout",
     "output_type": "stream",
     "text": [
      "21.3\n",
      "80.6\n",
      "| ID | GPU | MEM |\n",
      "------------------\n",
      "|  0 |  0% | 19% |\n",
      "|  1 |  0% |  0% |\n"
     ]
    },
    {
     "name": "stderr",
     "output_type": "stream",
     "text": [
      " 55%|███████████████████████████████████████████████████████████████████████████████████████████████████████████████████████████████████████████████████████████████████████████████████████████████████████████████▋                                                                                                                                                                          | 122/222.0 [05:06<04:07,  2.47s/it]"
     ]
    },
    {
     "name": "stdout",
     "output_type": "stream",
     "text": [
      "21.6\n",
      "80.6\n",
      "| ID | GPU | MEM |\n",
      "------------------\n",
      "|  0 |  0% | 19% |\n",
      "|  1 |  0% |  0% |\n"
     ]
    },
    {
     "name": "stderr",
     "output_type": "stream",
     "text": [
      " 55%|█████████████████████████████████████████████████████████████████████████████████████████████████████████████████████████████████████████████████████████████████████████████████████████████████████████████████▍                                                                                                                                                                        | 123/222.0 [05:09<04:03,  2.46s/it]"
     ]
    },
    {
     "name": "stdout",
     "output_type": "stream",
     "text": [
      "21.9\n",
      "80.6\n",
      "| ID | GPU | MEM |\n",
      "------------------\n",
      "|  0 |  0% | 19% |\n",
      "|  1 |  0% |  0% |\n"
     ]
    },
    {
     "name": "stderr",
     "output_type": "stream",
     "text": [
      " 56%|███████████████████████████████████████████████████████████████████████████████████████████████████████████████████████████████████████████████████████████████████████████████████████████████████████████████████▏                                                                                                                                                                      | 124/222.0 [05:11<03:58,  2.44s/it]"
     ]
    },
    {
     "name": "stdout",
     "output_type": "stream",
     "text": [
      "21.7\n",
      "80.6\n",
      "| ID | GPU | MEM |\n",
      "------------------\n",
      "|  0 |  0% | 19% |\n",
      "|  1 |  0% |  0% |\n"
     ]
    },
    {
     "name": "stderr",
     "output_type": "stream",
     "text": [
      " 56%|████████████████████████████████████████████████████████████████████████████████████████████████████████████████████████████████████████████████████████████████████████████████████████████████████████████████████▊                                                                                                                                                                     | 125/222.0 [05:13<03:55,  2.43s/it]"
     ]
    },
    {
     "name": "stdout",
     "output_type": "stream",
     "text": [
      "21.2\n",
      "80.7\n",
      "| ID | GPU | MEM |\n",
      "------------------\n",
      "|  0 |  0% | 19% |\n",
      "|  1 |  0% |  0% |\n"
     ]
    },
    {
     "name": "stderr",
     "output_type": "stream",
     "text": [
      " 57%|██████████████████████████████████████████████████████████████████████████████████████████████████████████████████████████████████████████████████████████████████████████████████████████████████████████████████████▌                                                                                                                                                                   | 126/222.0 [05:16<03:56,  2.47s/it]"
     ]
    },
    {
     "name": "stdout",
     "output_type": "stream",
     "text": [
      "22.0\n",
      "80.7\n",
      "| ID | GPU | MEM |\n",
      "------------------\n",
      "|  0 |  0% | 19% |\n",
      "|  1 |  0% |  0% |\n"
     ]
    },
    {
     "name": "stderr",
     "output_type": "stream",
     "text": [
      " 57%|████████████████████████████████████████████████████████████████████████████████████████████████████████████████████████████████████████████████████████████████████████████████████████████████████████████████████████▏                                                                                                                                                                 | 127/222.0 [05:18<03:52,  2.45s/it]"
     ]
    },
    {
     "name": "stdout",
     "output_type": "stream",
     "text": [
      "21.8\n",
      "80.7\n",
      "| ID | GPU | MEM |\n",
      "------------------\n",
      "|  0 |  0% | 19% |\n",
      "|  1 |  0% |  0% |\n"
     ]
    },
    {
     "name": "stderr",
     "output_type": "stream",
     "text": [
      " 58%|█████████████████████████████████████████████████████████████████████████████████████████████████████████████████████████████████████████████████████████████████████████████████████████████████████████████████████████▉                                                                                                                                                                | 128/222.0 [05:21<03:48,  2.43s/it]"
     ]
    },
    {
     "name": "stdout",
     "output_type": "stream",
     "text": [
      "21.9\n",
      "80.7\n",
      "| ID | GPU | MEM |\n",
      "------------------\n",
      "|  0 |  0% | 19% |\n",
      "|  1 |  0% |  0% |\n"
     ]
    },
    {
     "name": "stderr",
     "output_type": "stream",
     "text": [
      " 58%|███████████████████████████████████████████████████████████████████████████████████████████████████████████████████████████████████████████████████████████████████████████████████████████████████████████████████████████▋                                                                                                                                                              | 129/222.0 [05:23<03:46,  2.43s/it]"
     ]
    },
    {
     "name": "stdout",
     "output_type": "stream",
     "text": [
      "21.1\n",
      "80.6\n",
      "| ID | GPU | MEM |\n",
      "------------------\n",
      "|  0 |  0% | 19% |\n",
      "|  1 |  0% |  0% |\n"
     ]
    },
    {
     "name": "stderr",
     "output_type": "stream",
     "text": [
      " 59%|█████████████████████████████████████████████████████████████████████████████████████████████████████████████████████████████████████████████████████████████████████████████████████████████████████████████████████████████▎                                                                                                                                                            | 130/222.0 [05:26<03:45,  2.45s/it]"
     ]
    },
    {
     "name": "stdout",
     "output_type": "stream",
     "text": [
      "21.3\n",
      "80.7\n",
      "| ID | GPU | MEM |\n",
      "------------------\n",
      "|  0 |  0% | 19% |\n",
      "|  1 |  0% |  0% |\n"
     ]
    },
    {
     "name": "stderr",
     "output_type": "stream",
     "text": [
      " 59%|███████████████████████████████████████████████████████████████████████████████████████████████████████████████████████████████████████████████████████████████████████████████████████████████████████████████████████████████                                                                                                                                                           | 131/222.0 [05:28<03:51,  2.54s/it]"
     ]
    },
    {
     "name": "stdout",
     "output_type": "stream",
     "text": [
      "22.0\n",
      "80.7\n",
      "| ID | GPU | MEM |\n",
      "------------------\n",
      "|  0 |  0% | 19% |\n",
      "|  1 |  0% |  0% |\n"
     ]
    },
    {
     "name": "stderr",
     "output_type": "stream",
     "text": [
      " 59%|████████████████████████████████████████████████████████████████████████████████████████████████████████████████████████████████████████████████████████████████████████████████████████████████████████████████████████████████▊                                                                                                                                                         | 132/222.0 [05:31<03:45,  2.50s/it]"
     ]
    },
    {
     "name": "stdout",
     "output_type": "stream",
     "text": [
      "21.7\n",
      "80.7\n",
      "| ID | GPU | MEM |\n",
      "------------------\n",
      "|  0 |  0% | 19% |\n",
      "|  1 |  0% |  0% |\n"
     ]
    },
    {
     "name": "stderr",
     "output_type": "stream",
     "text": [
      " 60%|██████████████████████████████████████████████████████████████████████████████████████████████████████████████████████████████████████████████████████████████████████████████████████████████████████████████████████████████████▍                                                                                                                                                       | 133/222.0 [05:33<03:41,  2.48s/it]"
     ]
    },
    {
     "name": "stdout",
     "output_type": "stream",
     "text": [
      "22.4\n",
      "80.7\n",
      "| ID | GPU | MEM |\n",
      "------------------\n",
      "|  0 |  0% | 19% |\n",
      "|  1 |  0% |  0% |\n"
     ]
    },
    {
     "name": "stderr",
     "output_type": "stream",
     "text": [
      " 60%|████████████████████████████████████████████████████████████████████████████████████████████████████████████████████████████████████████████████████████████████████████████████████████████████████████████████████████████████████▏                                                                                                                                                     | 134/222.0 [05:36<03:35,  2.45s/it]"
     ]
    },
    {
     "name": "stdout",
     "output_type": "stream",
     "text": [
      "19.8\n",
      "80.6\n",
      "| ID | GPU | MEM |\n",
      "------------------\n",
      "|  0 |  0% | 19% |\n",
      "|  1 |  0% |  0% |\n"
     ]
    },
    {
     "name": "stderr",
     "output_type": "stream",
     "text": [
      " 61%|█████████████████████████████████████████████████████████████████████████████████████████████████████████████████████████████████████████████████████████████████████████████████████████████████████████████████████████████████████▊                                                                                                                                                    | 135/222.0 [05:39<03:59,  2.75s/it]"
     ]
    },
    {
     "name": "stdout",
     "output_type": "stream",
     "text": [
      "21.8\n",
      "80.6\n",
      "| ID | GPU | MEM |\n",
      "------------------\n",
      "|  0 |  0% | 19% |\n",
      "|  1 |  0% |  0% |\n"
     ]
    },
    {
     "name": "stderr",
     "output_type": "stream",
     "text": [
      " 61%|███████████████████████████████████████████████████████████████████████████████████████████████████████████████████████████████████████████████████████████████████████████████████████████████████████████████████████████████████████▌                                                                                                                                                  | 136/222.0 [05:41<03:46,  2.63s/it]"
     ]
    },
    {
     "name": "stdout",
     "output_type": "stream",
     "text": [
      "22.7\n",
      "80.6\n",
      "| ID | GPU | MEM |\n",
      "------------------\n",
      "|  0 |  0% | 19% |\n",
      "|  1 |  0% |  0% |\n"
     ]
    },
    {
     "name": "stderr",
     "output_type": "stream",
     "text": [
      " 62%|█████████████████████████████████████████████████████████████████████████████████████████████████████████████████████████████████████████████████████████████████████████████████████████████████████████████████████████████████████████▎                                                                                                                                                | 137/222.0 [05:44<03:36,  2.55s/it]"
     ]
    },
    {
     "name": "stdout",
     "output_type": "stream",
     "text": [
      "21.8\n",
      "80.6\n",
      "| ID | GPU | MEM |\n",
      "------------------\n",
      "|  0 |  0% | 19% |\n",
      "|  1 |  0% |  0% |\n"
     ]
    },
    {
     "name": "stderr",
     "output_type": "stream",
     "text": [
      " 62%|██████████████████████████████████████████████████████████████████████████████████████████████████████████████████████████████████████████████████████████████████████████████████████████████████████████████████████████████████████████▉                                                                                                                                               | 138/222.0 [05:46<03:30,  2.51s/it]"
     ]
    },
    {
     "name": "stdout",
     "output_type": "stream",
     "text": [
      "21.9\n",
      "80.6\n",
      "| ID | GPU | MEM |\n",
      "------------------\n",
      "|  0 |  0% | 19% |\n",
      "|  1 |  0% |  0% |\n"
     ]
    },
    {
     "name": "stderr",
     "output_type": "stream",
     "text": [
      " 63%|████████████████████████████████████████████████████████████████████████████████████████████████████████████████████████████████████████████████████████████████████████████████████████████████████████████████████████████████████████████▋                                                                                                                                             | 139/222.0 [05:49<03:25,  2.48s/it]"
     ]
    },
    {
     "name": "stdout",
     "output_type": "stream",
     "text": [
      "22.1\n",
      "80.6\n",
      "| ID | GPU | MEM |\n",
      "------------------\n",
      "|  0 |  0% | 19% |\n",
      "|  1 |  0% |  0% |\n"
     ]
    },
    {
     "name": "stderr",
     "output_type": "stream",
     "text": [
      " 63%|██████████████████████████████████████████████████████████████████████████████████████████████████████████████████████████████████████████████████████████████████████████████████████████████████████████████████████████████████████████████▍                                                                                                                                           | 140/222.0 [05:51<03:21,  2.46s/it]"
     ]
    },
    {
     "name": "stdout",
     "output_type": "stream",
     "text": [
      "20.2\n",
      "80.6\n",
      "| ID | GPU | MEM |\n",
      "------------------\n",
      "|  0 |  0% | 19% |\n",
      "|  1 |  0% |  0% |\n"
     ]
    },
    {
     "name": "stderr",
     "output_type": "stream",
     "text": [
      " 64%|████████████████████████████████████████████████████████████████████████████████████████████████████████████████████████████████████████████████████████████████████████████████████████████████████████████████████████████████████████████████                                                                                                                                          | 141/222.0 [05:54<03:39,  2.71s/it]"
     ]
    },
    {
     "name": "stdout",
     "output_type": "stream",
     "text": [
      "21.2\n",
      "80.6\n",
      "| ID | GPU | MEM |\n",
      "------------------\n",
      "|  0 |  0% | 19% |\n",
      "|  1 |  0% |  0% |\n"
     ]
    },
    {
     "name": "stderr",
     "output_type": "stream",
     "text": [
      " 64%|█████████████████████████████████████████████████████████████████████████████████████████████████████████████████████████████████████████████████████████████████████████████████████████████████████████████████████████████████████████████████▊                                                                                                                                        | 142/222.0 [05:57<03:30,  2.63s/it]"
     ]
    },
    {
     "name": "stdout",
     "output_type": "stream",
     "text": [
      "22.0\n",
      "80.6\n",
      "| ID | GPU | MEM |\n",
      "------------------\n",
      "|  0 |  0% | 19% |\n",
      "|  1 |  0% |  0% |\n"
     ]
    },
    {
     "name": "stderr",
     "output_type": "stream",
     "text": [
      " 64%|███████████████████████████████████████████████████████████████████████████████████████████████████████████████████████████████████████████████████████████████████████████████████████████████████████████████████████████████████████████████████▍                                                                                                                                      | 143/222.0 [05:59<03:22,  2.56s/it]"
     ]
    },
    {
     "name": "stdout",
     "output_type": "stream",
     "text": [
      "21.9\n",
      "80.6\n",
      "| ID | GPU | MEM |\n",
      "------------------\n",
      "|  0 |  0% | 19% |\n",
      "|  1 |  0% |  0% |\n"
     ]
    },
    {
     "name": "stderr",
     "output_type": "stream",
     "text": [
      " 65%|█████████████████████████████████████████████████████████████████████████████████████████████████████████████████████████████████████████████████████████████████████████████████████████████████████████████████████████████████████████████████████▏                                                                                                                                    | 144/222.0 [06:02<03:16,  2.52s/it]"
     ]
    },
    {
     "name": "stdout",
     "output_type": "stream",
     "text": [
      "22.4\n",
      "80.6\n",
      "| ID | GPU | MEM |\n",
      "------------------\n",
      "|  0 |  0% | 19% |\n",
      "|  1 |  0% |  0% |\n"
     ]
    },
    {
     "name": "stderr",
     "output_type": "stream",
     "text": [
      " 65%|██████████████████████████████████████████████████████████████████████████████████████████████████████████████████████████████████████████████████████████████████████████████████████████████████████████████████████████████████████████████████████▉                                                                                                                                   | 145/222.0 [06:04<03:10,  2.48s/it]"
     ]
    },
    {
     "name": "stdout",
     "output_type": "stream",
     "text": [
      "21.5\n",
      "80.6\n",
      "| ID | GPU | MEM |\n",
      "------------------\n",
      "|  0 |  0% | 19% |\n",
      "|  1 |  0% |  0% |\n"
     ]
    },
    {
     "name": "stderr",
     "output_type": "stream",
     "text": [
      " 66%|████████████████████████████████████████████████████████████████████████████████████████████████████████████████████████████████████████████████████████████████████████████████████████████████████████████████████████████████████████████████████████▌                                                                                                                                 | 146/222.0 [06:07<03:08,  2.48s/it]"
     ]
    },
    {
     "name": "stdout",
     "output_type": "stream",
     "text": [
      "22.2\n",
      "80.6\n",
      "| ID | GPU | MEM |\n",
      "------------------\n",
      "|  0 |  0% | 19% |\n",
      "|  1 |  0% |  0% |\n"
     ]
    },
    {
     "name": "stderr",
     "output_type": "stream",
     "text": [
      " 66%|██████████████████████████████████████████████████████████████████████████████████████████████████████████████████████████████████████████████████████████████████████████████████████████████████████████████████████████████████████████████████████████▎                                                                                                                               | 147/222.0 [06:09<03:04,  2.46s/it]"
     ]
    },
    {
     "name": "stdout",
     "output_type": "stream",
     "text": [
      "22.2\n",
      "80.6\n",
      "| ID | GPU | MEM |\n",
      "------------------\n",
      "|  0 |  0% | 19% |\n",
      "|  1 |  0% |  0% |\n"
     ]
    },
    {
     "name": "stderr",
     "output_type": "stream",
     "text": [
      " 67%|████████████████████████████████████████████████████████████████████████████████████████████████████████████████████████████████████████████████████████████████████████████████████████████████████████████████████████████████████████████████████████████                                                                                                                              | 148/222.0 [06:11<03:00,  2.44s/it]"
     ]
    },
    {
     "name": "stdout",
     "output_type": "stream",
     "text": [
      "22.2\n",
      "80.6\n",
      "| ID | GPU | MEM |\n",
      "------------------\n",
      "|  0 |  0% | 19% |\n",
      "|  1 |  0% |  0% |\n"
     ]
    },
    {
     "name": "stderr",
     "output_type": "stream",
     "text": [
      " 67%|█████████████████████████████████████████████████████████████████████████████████████████████████████████████████████████████████████████████████████████████████████████████████████████████████████████████████████████████████████████████████████████████▋                                                                                                                            | 149/222.0 [06:14<02:57,  2.43s/it]"
     ]
    },
    {
     "name": "stdout",
     "output_type": "stream",
     "text": [
      "22.0\n",
      "80.7\n",
      "| ID | GPU | MEM |\n",
      "------------------\n",
      "|  0 |  0% | 19% |\n",
      "|  1 |  0% |  0% |\n"
     ]
    },
    {
     "name": "stderr",
     "output_type": "stream",
     "text": [
      " 68%|███████████████████████████████████████████████████████████████████████████████████████████████████████████████████████████████████████████████████████████████████████████████████████████████████████████████████████████████████████████████████████████████▍                                                                                                                          | 150/222.0 [06:16<02:54,  2.43s/it]"
     ]
    },
    {
     "name": "stdout",
     "output_type": "stream",
     "text": [
      "22.1\n",
      "80.7\n",
      "| ID | GPU | MEM |\n",
      "------------------\n",
      "|  0 |  0% | 19% |\n",
      "|  1 |  0% |  0% |\n"
     ]
    },
    {
     "name": "stderr",
     "output_type": "stream",
     "text": [
      " 68%|█████████████████████████████████████████████████████████████████████████████████████████████████████████████████████████████████████████████████████████████████████████████████████████████████████████████████████████████████████████████████████████████████                                                                                                                         | 151/222.0 [06:19<02:51,  2.42s/it]"
     ]
    },
    {
     "name": "stdout",
     "output_type": "stream",
     "text": [
      "19.7\n",
      "80.7\n",
      "| ID | GPU | MEM |\n",
      "------------------\n",
      "|  0 |  0% | 19% |\n",
      "|  1 |  0% |  0% |\n"
     ]
    },
    {
     "name": "stderr",
     "output_type": "stream",
     "text": [
      " 68%|██████████████████████████████████████████████████████████████████████████████████████████████████████████████████████████████████████████████████████████████████████████████████████████████████████████████████████████████████████████████████████████████████▊                                                                                                                       | 152/222.0 [06:21<02:53,  2.48s/it]"
     ]
    },
    {
     "name": "stdout",
     "output_type": "stream",
     "text": [
      "22.1\n",
      "80.7\n",
      "| ID | GPU | MEM |\n",
      "------------------\n",
      "|  0 |  0% | 19% |\n",
      "|  1 |  0% |  0% |\n"
     ]
    },
    {
     "name": "stderr",
     "output_type": "stream",
     "text": [
      " 69%|████████████████████████████████████████████████████████████████████████████████████████████████████████████████████████████████████████████████████████████████████████████████████████████████████████████████████████████████████████████████████████████████████▌                                                                                                                     | 153/222.0 [06:24<02:49,  2.45s/it]"
     ]
    },
    {
     "name": "stdout",
     "output_type": "stream",
     "text": [
      "21.0\n",
      "80.7\n",
      "| ID | GPU | MEM |\n",
      "------------------\n",
      "|  0 |  0% | 19% |\n",
      "|  1 |  0% |  0% |\n"
     ]
    },
    {
     "name": "stderr",
     "output_type": "stream",
     "text": [
      " 69%|██████████████████████████████████████████████████████████████████████████████████████████████████████████████████████████████████████████████████████████████████████████████████████████████████████████████████████████████████████████████████████████████████████▏                                                                                                                   | 154/222.0 [06:26<02:46,  2.45s/it]"
     ]
    },
    {
     "name": "stdout",
     "output_type": "stream",
     "text": [
      "22.2\n",
      "80.7\n",
      "| ID | GPU | MEM |\n",
      "------------------\n",
      "|  0 |  0% | 19% |\n",
      "|  1 |  0% |  0% |\n"
     ]
    },
    {
     "name": "stderr",
     "output_type": "stream",
     "text": [
      " 70%|███████████████████████████████████████████████████████████████████████████████████████████████████████████████████████████████████████████████████████████████████████████████████████████████████████████████████████████████████████████████████████████████████████▉                                                                                                                  | 155/222.0 [06:28<02:43,  2.44s/it]"
     ]
    },
    {
     "name": "stdout",
     "output_type": "stream",
     "text": [
      "21.8\n",
      "80.7\n",
      "| ID | GPU | MEM |\n",
      "------------------\n",
      "|  0 |  0% | 19% |\n",
      "|  1 |  0% |  0% |\n"
     ]
    },
    {
     "name": "stderr",
     "output_type": "stream",
     "text": [
      " 70%|█████████████████████████████████████████████████████████████████████████████████████████████████████████████████████████████████████████████████████████████████████████████████████████████████████████████████████████████████████████████████████████████████████████▌                                                                                                                | 156/222.0 [06:31<02:38,  2.40s/it]"
     ]
    },
    {
     "name": "stdout",
     "output_type": "stream",
     "text": [
      "21.6\n",
      "80.7\n",
      "| ID | GPU | MEM |\n",
      "------------------\n",
      "|  0 |  0% | 19% |\n",
      "|  1 |  0% |  0% |\n"
     ]
    },
    {
     "name": "stderr",
     "output_type": "stream",
     "text": [
      " 71%|███████████████████████████████████████████████████████████████████████████████████████████████████████████████████████████████████████████████████████████████████████████████████████████████████████████████████████████████████████████████████████████████████████████▎                                                                                                              | 157/222.0 [06:33<02:34,  2.38s/it]"
     ]
    },
    {
     "name": "stdout",
     "output_type": "stream",
     "text": [
      "21.8\n",
      "80.7\n",
      "| ID | GPU | MEM |\n",
      "------------------\n",
      "|  0 |  2% | 19% |\n",
      "|  1 |  0% |  0% |\n"
     ]
    },
    {
     "name": "stderr",
     "output_type": "stream",
     "text": [
      " 71%|█████████████████████████████████████████████████████████████████████████████████████████████████████████████████████████████████████████████████████████████████████████████████████████████████████████████████████████████████████████████████████████████████████████████                                                                                                             | 158/222.0 [06:35<02:32,  2.38s/it]"
     ]
    },
    {
     "name": "stdout",
     "output_type": "stream",
     "text": [
      "21.9\n",
      "80.7\n",
      "| ID | GPU | MEM |\n",
      "------------------\n",
      "|  0 |  0% | 19% |\n",
      "|  1 |  0% |  0% |\n"
     ]
    },
    {
     "name": "stderr",
     "output_type": "stream",
     "text": [
      " 72%|██████████████████████████████████████████████████████████████████████████████████████████████████████████████████████████████████████████████████████████████████████████████████████████████████████████████████████████████████████████████████████████████████████████████▋                                                                                                           | 159/222.0 [06:38<02:30,  2.38s/it]"
     ]
    },
    {
     "name": "stdout",
     "output_type": "stream",
     "text": [
      "21.7\n",
      "80.7\n",
      "| ID | GPU | MEM |\n",
      "------------------\n",
      "|  0 |  0% | 19% |\n",
      "|  1 |  0% |  0% |\n"
     ]
    },
    {
     "name": "stderr",
     "output_type": "stream",
     "text": [
      " 72%|████████████████████████████████████████████████████████████████████████████████████████████████████████████████████████████████████████████████████████████████████████████████████████████████████████████████████████████████████████████████████████████████████████████████▍                                                                                                         | 160/222.0 [06:40<02:28,  2.39s/it]"
     ]
    },
    {
     "name": "stdout",
     "output_type": "stream",
     "text": [
      "18.4\n",
      "80.6\n",
      "| ID | GPU | MEM |\n",
      "------------------\n",
      "|  0 |  0% | 19% |\n",
      "|  1 |  0% |  0% |\n"
     ]
    },
    {
     "name": "stderr",
     "output_type": "stream",
     "text": [
      " 73%|██████████████████████████████████████████████████████████████████████████████████████████████████████████████████████████████████████████████████████████████████████████████████████████████████████████████████████████████████████████████████████████████████████████████████▏                                                                                                       | 161/222.0 [06:44<02:48,  2.76s/it]"
     ]
    },
    {
     "name": "stdout",
     "output_type": "stream",
     "text": [
      "21.3\n",
      "80.6\n",
      "| ID | GPU | MEM |\n",
      "------------------\n",
      "|  0 |  0% | 19% |\n",
      "|  1 |  0% |  0% |\n"
     ]
    },
    {
     "name": "stderr",
     "output_type": "stream",
     "text": [
      " 73%|███████████████████████████████████████████████████████████████████████████████████████████████████████████████████████████████████████████████████████████████████████████████████████████████████████████████████████████████████████████████████████████████████████████████████▊                                                                                                      | 162/222.0 [06:46<02:37,  2.63s/it]"
     ]
    },
    {
     "name": "stdout",
     "output_type": "stream",
     "text": [
      "20.6\n",
      "80.6\n",
      "| ID | GPU | MEM |\n",
      "------------------\n",
      "|  0 |  0% | 19% |\n",
      "|  1 |  0% |  0% |\n"
     ]
    },
    {
     "name": "stderr",
     "output_type": "stream",
     "text": [
      " 73%|█████████████████████████████████████████████████████████████████████████████████████████████████████████████████████████████████████████████████████████████████████████████████████████████████████████████████████████████████████████████████████████████████████████████████████▌                                                                                                    | 163/222.0 [06:49<02:31,  2.57s/it]"
     ]
    },
    {
     "name": "stdout",
     "output_type": "stream",
     "text": [
      "20.6\n",
      "80.6\n",
      "| ID | GPU | MEM |\n",
      "------------------\n",
      "|  0 |  0% | 19% |\n",
      "|  1 |  0% |  0% |\n"
     ]
    },
    {
     "name": "stderr",
     "output_type": "stream",
     "text": [
      " 74%|███████████████████████████████████████████████████████████████████████████████████████████████████████████████████████████████████████████████████████████████████████████████████████████████████████████████████████████████████████████████████████████████████████████████████████▏                                                                                                  | 164/222.0 [06:51<02:26,  2.53s/it]"
     ]
    },
    {
     "name": "stdout",
     "output_type": "stream",
     "text": [
      "21.7\n",
      "80.6\n",
      "| ID | GPU | MEM |\n",
      "------------------\n",
      "|  0 |  0% | 19% |\n",
      "|  1 |  0% |  0% |\n"
     ]
    },
    {
     "name": "stderr",
     "output_type": "stream",
     "text": [
      " 74%|████████████████████████████████████████████████████████████████████████████████████████████████████████████████████████████████████████████████████████████████████████████████████████████████████████████████████████████████████████████████████████████████████████████████████████▉                                                                                                 | 165/222.0 [06:53<02:22,  2.50s/it]"
     ]
    },
    {
     "name": "stdout",
     "output_type": "stream",
     "text": [
      "21.4\n",
      "80.6\n",
      "| ID | GPU | MEM |\n",
      "------------------\n",
      "|  0 |  0% | 19% |\n",
      "|  1 |  0% |  0% |\n"
     ]
    },
    {
     "name": "stderr",
     "output_type": "stream",
     "text": [
      " 75%|██████████████████████████████████████████████████████████████████████████████████████████████████████████████████████████████████████████████████████████████████████████████████████████████████████████████████████████████████████████████████████████████████████████████████████████▋                                                                                               | 166/222.0 [06:56<02:19,  2.49s/it]"
     ]
    },
    {
     "name": "stdout",
     "output_type": "stream",
     "text": [
      "21.3\n",
      "80.6\n",
      "| ID | GPU | MEM |\n",
      "------------------\n",
      "|  0 |  0% | 19% |\n",
      "|  1 |  0% |  0% |\n"
     ]
    },
    {
     "name": "stderr",
     "output_type": "stream",
     "text": [
      " 75%|████████████████████████████████████████████████████████████████████████████████████████████████████████████████████████████████████████████████████████████████████████████████████████████████████████████████████████████████████████████████████████████████████████████████████████████▎                                                                                             | 167/222.0 [06:58<02:16,  2.48s/it]"
     ]
    },
    {
     "name": "stdout",
     "output_type": "stream",
     "text": [
      "22.1\n",
      "80.6\n",
      "| ID | GPU | MEM |\n",
      "------------------\n",
      "|  0 |  0% | 19% |\n",
      "|  1 |  0% |  0% |\n"
     ]
    },
    {
     "name": "stderr",
     "output_type": "stream",
     "text": [
      " 76%|██████████████████████████████████████████████████████████████████████████████████████████████████████████████████████████████████████████████████████████████████████████████████████████████████████████████████████████████████████████████████████████████████████████████████████████████                                                                                            | 168/222.0 [07:01<02:12,  2.45s/it]"
     ]
    },
    {
     "name": "stdout",
     "output_type": "stream",
     "text": [
      "21.4\n",
      "80.6\n",
      "| ID | GPU | MEM |\n",
      "------------------\n",
      "|  0 |  0% | 19% |\n",
      "|  1 |  0% |  0% |\n"
     ]
    },
    {
     "name": "stderr",
     "output_type": "stream",
     "text": [
      " 76%|███████████████████████████████████████████████████████████████████████████████████████████████████████████████████████████████████████████████████████████████████████████████████████████████████████████████████████████████████████████████████████████████████████████████████████████████▊                                                                                          | 169/222.0 [07:03<02:10,  2.46s/it]"
     ]
    },
    {
     "name": "stdout",
     "output_type": "stream",
     "text": [
      "21.6\n",
      "80.6\n",
      "| ID | GPU | MEM |\n",
      "------------------\n",
      "|  0 |  0% | 19% |\n",
      "|  1 |  0% |  0% |\n"
     ]
    },
    {
     "name": "stderr",
     "output_type": "stream",
     "text": [
      " 77%|█████████████████████████████████████████████████████████████████████████████████████████████████████████████████████████████████████████████████████████████████████████████████████████████████████████████████████████████████████████████████████████████████████████████████████████████████▍                                                                                        | 170/222.0 [07:06<02:09,  2.48s/it]"
     ]
    },
    {
     "name": "stdout",
     "output_type": "stream",
     "text": [
      "21.9\n",
      "80.7\n",
      "| ID | GPU | MEM |\n",
      "------------------\n",
      "|  0 |  0% | 19% |\n",
      "|  1 |  0% |  0% |\n"
     ]
    },
    {
     "name": "stderr",
     "output_type": "stream",
     "text": [
      " 77%|███████████████████████████████████████████████████████████████████████████████████████████████████████████████████████████████████████████████████████████████████████████████████████████████████████████████████████████████████████████████████████████████████████████████████████████████████▏                                                                                      | 171/222.0 [07:08<02:05,  2.46s/it]"
     ]
    },
    {
     "name": "stdout",
     "output_type": "stream",
     "text": [
      "19.2\n",
      "80.6\n",
      "| ID | GPU | MEM |\n",
      "------------------\n",
      "|  0 |  0% | 19% |\n",
      "|  1 |  0% |  0% |\n"
     ]
    },
    {
     "name": "stderr",
     "output_type": "stream",
     "text": [
      " 77%|████████████████████████████████████████████████████████████████████████████████████████████████████████████████████████████████████████████████████████████████████████████████████████████████████████████████████████████████████████████████████████████████████████████████████████████████████▊                                                                                     | 172/222.0 [07:12<02:18,  2.77s/it]"
     ]
    },
    {
     "name": "stdout",
     "output_type": "stream",
     "text": [
      "19.4\n",
      "80.6\n",
      "| ID | GPU | MEM |\n",
      "------------------\n",
      "|  0 |  0% | 19% |\n",
      "|  1 |  0% |  0% |\n"
     ]
    },
    {
     "name": "stderr",
     "output_type": "stream",
     "text": [
      " 78%|██████████████████████████████████████████████████████████████████████████████████████████████████████████████████████████████████████████████████████████████████████████████████████████████████████████████████████████████████████████████████████████████████████████████████████████████████████▌                                                                                   | 173/222.0 [07:14<02:13,  2.72s/it]"
     ]
    },
    {
     "name": "stdout",
     "output_type": "stream",
     "text": [
      "21.7\n",
      "80.6\n",
      "| ID | GPU | MEM |\n",
      "------------------\n",
      "|  0 |  0% | 19% |\n",
      "|  1 |  0% |  0% |\n"
     ]
    },
    {
     "name": "stderr",
     "output_type": "stream",
     "text": [
      " 78%|████████████████████████████████████████████████████████████████████████████████████████████████████████████████████████████████████████████████████████████████████████████████████████████████████████████████████████████████████████████████████████████████████████████████████████████████████████▎                                                                                 | 174/222.0 [07:17<02:05,  2.61s/it]"
     ]
    },
    {
     "name": "stdout",
     "output_type": "stream",
     "text": [
      "21.7\n",
      "80.7\n",
      "| ID | GPU | MEM |\n",
      "------------------\n",
      "|  0 |  0% | 19% |\n",
      "|  1 |  0% |  0% |\n"
     ]
    },
    {
     "name": "stderr",
     "output_type": "stream",
     "text": [
      " 79%|█████████████████████████████████████████████████████████████████████████████████████████████████████████████████████████████████████████████████████████████████████████████████████████████████████████████████████████████████████████████████████████████████████████████████████████████████████████▉                                                                                | 175/222.0 [07:19<01:54,  2.44s/it]"
     ]
    },
    {
     "name": "stdout",
     "output_type": "stream",
     "text": [
      "22.0\n",
      "80.6\n",
      "| ID | GPU | MEM |\n",
      "------------------\n",
      "|  0 |  0% | 19% |\n",
      "|  1 |  0% |  0% |\n"
     ]
    },
    {
     "name": "stderr",
     "output_type": "stream",
     "text": [
      " 79%|███████████████████████████████████████████████████████████████████████████████████████████████████████████████████████████████████████████████████████████████████████████████████████████████████████████████████████████████████████████████████████████████████████████████████████████████████████████▋                                                                              | 176/222.0 [07:21<01:52,  2.44s/it]"
     ]
    },
    {
     "name": "stdout",
     "output_type": "stream",
     "text": [
      "22.3\n",
      "80.6\n",
      "| ID | GPU | MEM |\n",
      "------------------\n",
      "|  0 |  0% | 19% |\n",
      "|  1 |  0% |  0% |\n"
     ]
    },
    {
     "name": "stderr",
     "output_type": "stream",
     "text": [
      " 80%|█████████████████████████████████████████████████████████████████████████████████████████████████████████████████████████████████████████████████████████████████████████████████████████████████████████████████████████████████████████████████████████████████████████████████████████████████████████████▍                                                                            | 177/222.0 [07:24<01:49,  2.43s/it]"
     ]
    },
    {
     "name": "stdout",
     "output_type": "stream",
     "text": [
      "22.2\n",
      "80.6\n",
      "| ID | GPU | MEM |\n",
      "------------------\n",
      "|  0 |  0% | 19% |\n",
      "|  1 |  0% |  0% |\n"
     ]
    },
    {
     "name": "stderr",
     "output_type": "stream",
     "text": [
      " 80%|███████████████████████████████████████████████████████████████████████████████████████████████████████████████████████████████████████████████████████████████████████████████████████████████████████████████████████████████████████████████████████████████████████████████████████████████████████████████                                                                           | 178/222.0 [07:26<01:46,  2.43s/it]"
     ]
    },
    {
     "name": "stdout",
     "output_type": "stream",
     "text": [
      "22.6\n",
      "80.6\n",
      "| ID | GPU | MEM |\n",
      "------------------\n",
      "|  0 |  0% | 19% |\n",
      "|  1 |  0% |  0% |\n"
     ]
    },
    {
     "name": "stderr",
     "output_type": "stream",
     "text": [
      " 81%|████████████████████████████████████████████████████████████████████████████████████████████████████████████████████████████████████████████████████████████████████████████████████████████████████████████████████████████████████████████████████████████████████████████████████████████████████████████████▊                                                                         | 179/222.0 [07:28<01:44,  2.42s/it]"
     ]
    },
    {
     "name": "stdout",
     "output_type": "stream",
     "text": [
      "22.4\n",
      "80.6\n",
      "| ID | GPU | MEM |\n",
      "------------------\n",
      "|  0 |  0% | 19% |\n",
      "|  1 |  0% |  0% |\n"
     ]
    },
    {
     "name": "stderr",
     "output_type": "stream",
     "text": [
      " 81%|██████████████████████████████████████████████████████████████████████████████████████████████████████████████████████████████████████████████████████████████████████████████████████████████████████████████████████████████████████████████████████████████████████████████████████████████████████████████████▍                                                                       | 180/222.0 [07:31<01:41,  2.41s/it]"
     ]
    },
    {
     "name": "stdout",
     "output_type": "stream",
     "text": [
      "22.1\n",
      "80.8\n",
      "| ID | GPU | MEM |\n",
      "------------------\n",
      "|  0 |  0% | 19% |\n",
      "|  1 |  0% |  0% |\n"
     ]
    },
    {
     "name": "stderr",
     "output_type": "stream",
     "text": [
      " 82%|████████████████████████████████████████████████████████████████████████████████████████████████████████████████████████████████████████████████████████████████████████████████████████████████████████████████████████████████████████████████████████████████████████████████████████████████████████████████████▏                                                                     | 181/222.0 [07:33<01:38,  2.41s/it]"
     ]
    },
    {
     "name": "stdout",
     "output_type": "stream",
     "text": [
      "22.6\n",
      "80.7\n",
      "| ID | GPU | MEM |\n",
      "------------------\n",
      "|  0 |  0% | 19% |\n",
      "|  1 |  0% |  0% |\n"
     ]
    },
    {
     "name": "stderr",
     "output_type": "stream",
     "text": [
      " 82%|█████████████████████████████████████████████████████████████████████████████████████████████████████████████████████████████████████████████████████████████████████████████████████████████████████████████████████████████████████████████████████████████████████████████████████████████████████████████████████▉                                                                    | 182/222.0 [07:36<01:35,  2.40s/it]"
     ]
    },
    {
     "name": "stdout",
     "output_type": "stream",
     "text": [
      "22.4\n",
      "80.7\n",
      "| ID | GPU | MEM |\n",
      "------------------\n",
      "|  0 |  0% | 19% |\n",
      "|  1 |  0% |  0% |\n"
     ]
    },
    {
     "name": "stderr",
     "output_type": "stream",
     "text": [
      " 82%|███████████████████████████████████████████████████████████████████████████████████████████████████████████████████████████████████████████████████████████████████████████████████████████████████████████████████████████████████████████████████████████████████████████████████████████████████████████████████████▌                                                                  | 183/222.0 [07:38<01:33,  2.40s/it]"
     ]
    },
    {
     "name": "stdout",
     "output_type": "stream",
     "text": [
      "22.4\n",
      "80.6\n",
      "| ID | GPU | MEM |\n",
      "------------------\n",
      "|  0 |  0% | 19% |\n",
      "|  1 |  0% |  0% |\n"
     ]
    },
    {
     "name": "stderr",
     "output_type": "stream",
     "text": [
      " 83%|█████████████████████████████████████████████████████████████████████████████████████████████████████████████████████████████████████████████████████████████████████████████████████████████████████████████████████████████████████████████████████████████████████████████████████████████████████████████████████████▎                                                                | 184/222.0 [07:40<01:31,  2.40s/it]"
     ]
    },
    {
     "name": "stdout",
     "output_type": "stream",
     "text": [
      "21.3\n",
      "80.7\n",
      "| ID | GPU | MEM |\n",
      "------------------\n",
      "|  0 |  0% | 19% |\n",
      "|  1 |  0% |  0% |\n"
     ]
    },
    {
     "name": "stderr",
     "output_type": "stream",
     "text": [
      " 83%|███████████████████████████████████████████████████████████████████████████████████████████████████████████████████████████████████████████████████████████████████████████████████████████████████████████████████████████████████████████████████████████████████████████████████████████████████████████████████████████                                                               | 185/222.0 [07:43<01:33,  2.52s/it]"
     ]
    },
    {
     "name": "stdout",
     "output_type": "stream",
     "text": [
      "22.0\n",
      "80.7\n",
      "| ID | GPU | MEM |\n",
      "------------------\n",
      "|  0 |  0% | 19% |\n",
      "|  1 |  0% |  0% |\n"
     ]
    },
    {
     "name": "stderr",
     "output_type": "stream",
     "text": [
      " 84%|████████████████████████████████████████████████████████████████████████████████████████████████████████████████████████████████████████████████████████████████████████████████████████████████████████████████████████████████████████████████████████████████████████████████████████████████████████████████████████████▋                                                             | 186/222.0 [07:46<01:28,  2.47s/it]"
     ]
    },
    {
     "name": "stdout",
     "output_type": "stream",
     "text": [
      "22.2\n",
      "80.7\n",
      "| ID | GPU | MEM |\n",
      "------------------\n",
      "|  0 |  0% | 19% |\n",
      "|  1 |  0% |  0% |\n"
     ]
    },
    {
     "name": "stderr",
     "output_type": "stream",
     "text": [
      " 84%|██████████████████████████████████████████████████████████████████████████████████████████████████████████████████████████████████████████████████████████████████████████████████████████████████████████████████████████████████████████████████████████████████████████████████████████████████████████████████████████████▍                                                           | 187/222.0 [07:48<01:25,  2.45s/it]"
     ]
    },
    {
     "name": "stdout",
     "output_type": "stream",
     "text": [
      "19.0\n",
      "80.6\n",
      "| ID | GPU | MEM |\n",
      "------------------\n",
      "|  0 |  0% | 19% |\n",
      "|  1 |  0% |  0% |\n"
     ]
    },
    {
     "name": "stderr",
     "output_type": "stream",
     "text": [
      " 85%|████████████████████████████████████████████████████████████████████████████████████████████████████████████████████████████████████████████████████████████████████████████████████████████████████████████████████████████████████████████████████████████████████████████████████████████████████████████████████████████████                                                          | 188/222.0 [07:52<01:35,  2.80s/it]"
     ]
    },
    {
     "name": "stdout",
     "output_type": "stream",
     "text": [
      "21.2\n",
      "80.6\n",
      "| ID | GPU | MEM |\n",
      "------------------\n",
      "|  0 |  0% | 19% |\n",
      "|  1 |  0% |  0% |\n"
     ]
    },
    {
     "name": "stderr",
     "output_type": "stream",
     "text": [
      " 85%|█████████████████████████████████████████████████████████████████████████████████████████████████████████████████████████████████████████████████████████████████████████████████████████████████████████████████████████████████████████████████████████████████████████████████████████████████████████████████████████████████▊                                                        | 189/222.0 [07:54<01:29,  2.71s/it]"
     ]
    },
    {
     "name": "stdout",
     "output_type": "stream",
     "text": [
      "21.6\n",
      "80.6\n",
      "| ID | GPU | MEM |\n",
      "------------------\n",
      "|  0 |  0% | 19% |\n",
      "|  1 |  0% |  0% |\n"
     ]
    },
    {
     "name": "stderr",
     "output_type": "stream",
     "text": [
      " 86%|███████████████████████████████████████████████████████████████████████████████████████████████████████████████████████████████████████████████████████████████████████████████████████████████████████████████████████████████████████████████████████████████████████████████████████████████████████████████████████████████████▌                                                      | 190/222.0 [07:56<01:23,  2.62s/it]"
     ]
    },
    {
     "name": "stdout",
     "output_type": "stream",
     "text": [
      "21.9\n",
      "80.7\n",
      "| ID | GPU | MEM |\n",
      "------------------\n",
      "|  0 |  0% | 19% |\n",
      "|  1 |  0% |  0% |\n"
     ]
    },
    {
     "name": "stderr",
     "output_type": "stream",
     "text": [
      " 86%|█████████████████████████████████████████████████████████████████████████████████████████████████████████████████████████████████████████████████████████████████████████████████████████████████████████████████████████████████████████████████████████████████████████████████████████████████████████████████████████████████████▏                                                    | 191/222.0 [07:58<01:15,  2.43s/it]"
     ]
    },
    {
     "name": "stdout",
     "output_type": "stream",
     "text": [
      "20.4\n",
      "80.7\n",
      "| ID | GPU | MEM |\n",
      "------------------\n",
      "|  0 |  0% | 19% |\n",
      "|  1 |  0% |  0% |\n"
     ]
    },
    {
     "name": "stderr",
     "output_type": "stream",
     "text": [
      " 86%|██████████████████████████████████████████████████████████████████████████████████████████████████████████████████████████████████████████████████████████████████████████████████████████████████████████████████████████████████████████████████████████████████████████████████████████████████████████████████████████████████████▉                                                   | 192/222.0 [08:02<01:21,  2.70s/it]"
     ]
    },
    {
     "name": "stdout",
     "output_type": "stream",
     "text": [
      "21.5\n",
      "80.7\n",
      "| ID | GPU | MEM |\n",
      "------------------\n",
      "|  0 |  0% | 19% |\n",
      "|  1 |  0% |  0% |\n"
     ]
    },
    {
     "name": "stderr",
     "output_type": "stream",
     "text": [
      " 87%|████████████████████████████████████████████████████████████████████████████████████████████████████████████████████████████████████████████████████████████████████████████████████████████████████████████████████████████████████████████████████████████████████████████████████████████████████████████████████████████████████████▌                                                 | 193/222.0 [08:04<01:15,  2.61s/it]"
     ]
    },
    {
     "name": "stdout",
     "output_type": "stream",
     "text": [
      "21.5\n",
      "80.7\n",
      "| ID | GPU | MEM |\n",
      "------------------\n",
      "|  0 |  0% | 19% |\n",
      "|  1 |  0% |  0% |\n"
     ]
    },
    {
     "name": "stderr",
     "output_type": "stream",
     "text": [
      " 87%|██████████████████████████████████████████████████████████████████████████████████████████████████████████████████████████████████████████████████████████████████████████████████████████████████████████████████████████████████████████████████████████████████████████████████████████████████████████████████████████████████████████▎                                               | 194/222.0 [08:07<01:11,  2.55s/it]"
     ]
    },
    {
     "name": "stdout",
     "output_type": "stream",
     "text": [
      "19.0\n",
      "80.7\n",
      "| ID | GPU | MEM |\n",
      "------------------\n",
      "|  0 |  0% | 19% |\n",
      "|  1 |  0% |  0% |\n"
     ]
    },
    {
     "name": "stderr",
     "output_type": "stream",
     "text": [
      " 88%|████████████████████████████████████████████████████████████████████████████████████████████████████████████████████████████████████████████████████████████████████████████████████████████████████████████████████████████████████████████████████████████████████████████████████████████████████████████████████████████████████████████                                              | 195/222.0 [08:10<01:16,  2.84s/it]"
     ]
    },
    {
     "name": "stdout",
     "output_type": "stream",
     "text": [
      "20.9\n",
      "80.7\n",
      "| ID | GPU | MEM |\n",
      "------------------\n",
      "|  0 |  0% | 19% |\n",
      "|  1 |  0% |  0% |\n"
     ]
    },
    {
     "name": "stderr",
     "output_type": "stream",
     "text": [
      " 88%|█████████████████████████████████████████████████████████████████████████████████████████████████████████████████████████████████████████████████████████████████████████████████████████████████████████████████████████████████████████████████████████████████████████████████████████████████████████████████████████████████████████████▋                                            | 196/222.0 [08:13<01:10,  2.73s/it]"
     ]
    },
    {
     "name": "stdout",
     "output_type": "stream",
     "text": [
      "21.4\n",
      "80.7\n",
      "| ID | GPU | MEM |\n",
      "------------------\n",
      "|  0 |  0% | 19% |\n",
      "|  1 |  0% |  0% |\n"
     ]
    },
    {
     "name": "stderr",
     "output_type": "stream",
     "text": [
      " 89%|███████████████████████████████████████████████████████████████████████████████████████████████████████████████████████████████████████████████████████████████████████████████████████████████████████████████████████████████████████████████████████████████████████████████████████████████████████████████████████████████████████████████▍                                          | 197/222.0 [08:15<01:05,  2.63s/it]"
     ]
    },
    {
     "name": "stdout",
     "output_type": "stream",
     "text": [
      "21.5\n",
      "80.7\n",
      "| ID | GPU | MEM |\n",
      "------------------\n",
      "|  0 |  0% | 19% |\n",
      "|  1 |  0% |  0% |\n"
     ]
    },
    {
     "name": "stderr",
     "output_type": "stream",
     "text": [
      " 89%|█████████████████████████████████████████████████████████████████████████████████████████████████████████████████████████████████████████████████████████████████████████████████████████████████████████████████████████████████████████████████████████████████████████████████████████████████████████████████████████████████████████████████▏                                        | 198/222.0 [08:17<01:01,  2.57s/it]"
     ]
    },
    {
     "name": "stdout",
     "output_type": "stream",
     "text": [
      "21.7\n",
      "80.7\n",
      "| ID | GPU | MEM |\n",
      "------------------\n",
      "|  0 |  0% | 19% |\n",
      "|  1 |  0% |  0% |\n"
     ]
    },
    {
     "name": "stderr",
     "output_type": "stream",
     "text": [
      " 90%|██████████████████████████████████████████████████████████████████████████████████████████████████████████████████████████████████████████████████████████████████████████████████████████████████████████████████████████████████████████████████████████████████████████████████████████████████████████████████████████████████████████████████▊                                       | 199/222.0 [08:20<00:57,  2.52s/it]"
     ]
    },
    {
     "name": "stdout",
     "output_type": "stream",
     "text": [
      "22.1\n",
      "80.7\n",
      "| ID | GPU | MEM |\n",
      "------------------\n",
      "|  0 |  0% | 19% |\n",
      "|  1 |  0% |  0% |\n"
     ]
    },
    {
     "name": "stderr",
     "output_type": "stream",
     "text": [
      " 90%|████████████████████████████████████████████████████████████████████████████████████████████████████████████████████████████████████████████████████████████████████████████████████████████████████████████████████████████████████████████████████████████████████████████████████████████████████████████████████████████████████████████████████▌                                     | 200/222.0 [08:22<00:54,  2.48s/it]"
     ]
    },
    {
     "name": "stdout",
     "output_type": "stream",
     "text": [
      "22.2\n",
      "80.7\n",
      "| ID | GPU | MEM |\n",
      "------------------\n",
      "|  0 |  0% | 19% |\n",
      "|  1 |  0% |  0% |\n"
     ]
    },
    {
     "name": "stderr",
     "output_type": "stream",
     "text": [
      " 91%|██████████████████████████████████████████████████████████████████████████████████████████████████████████████████████████████████████████████████████████████████████████████████████████████████████████████████████████████████████████████████████████████████████████████████████████████████████████████████████████████████████████████████████▏                                   | 201/222.0 [08:25<00:51,  2.45s/it]"
     ]
    },
    {
     "name": "stdout",
     "output_type": "stream",
     "text": [
      "22.0\n",
      "80.7\n",
      "| ID | GPU | MEM |\n",
      "------------------\n",
      "|  0 |  0% | 19% |\n",
      "|  1 |  0% |  0% |\n"
     ]
    },
    {
     "name": "stderr",
     "output_type": "stream",
     "text": [
      " 91%|███████████████████████████████████████████████████████████████████████████████████████████████████████████████████████████████████████████████████████████████████████████████████████████████████████████████████████████████████████████████████████████████████████████████████████████████████████████████████████████████████████████████████████▉                                  | 202/222.0 [08:27<00:48,  2.43s/it]"
     ]
    },
    {
     "name": "stdout",
     "output_type": "stream",
     "text": [
      "22.1\n",
      "80.7\n",
      "| ID | GPU | MEM |\n",
      "------------------\n",
      "|  0 |  0% | 19% |\n",
      "|  1 |  0% |  0% |\n"
     ]
    },
    {
     "name": "stderr",
     "output_type": "stream",
     "text": [
      " 91%|█████████████████████████████████████████████████████████████████████████████████████████████████████████████████████████████████████████████████████████████████████████████████████████████████████████████████████████████████████████████████████████████████████████████████████████████████████████████████████████████████████████████████████████▋                                | 203/222.0 [08:29<00:45,  2.41s/it]"
     ]
    },
    {
     "name": "stdout",
     "output_type": "stream",
     "text": [
      "21.8\n",
      "80.8\n",
      "| ID | GPU | MEM |\n",
      "------------------\n",
      "|  0 |  0% | 19% |\n",
      "|  1 |  0% |  0% |\n"
     ]
    },
    {
     "name": "stderr",
     "output_type": "stream",
     "text": [
      " 92%|███████████████████████████████████████████████████████████████████████████████████████████████████████████████████████████████████████████████████████████████████████████████████████████████████████████████████████████████████████████████████████████████████████████████████████████████████████████████████████████████████████████████████████████▎                              | 204/222.0 [08:32<00:45,  2.51s/it]"
     ]
    },
    {
     "name": "stdout",
     "output_type": "stream",
     "text": [
      "21.8\n",
      "80.8\n",
      "| ID | GPU | MEM |\n",
      "------------------\n",
      "|  0 |  0% | 19% |\n",
      "|  1 |  0% |  0% |\n"
     ]
    },
    {
     "name": "stderr",
     "output_type": "stream",
     "text": [
      " 92%|█████████████████████████████████████████████████████████████████████████████████████████████████████████████████████████████████████████████████████████████████████████████████████████████████████████████████████████████████████████████████████████████████████████████████████████████████████████████████████████████████████████████████████████████                             | 205/222.0 [08:34<00:42,  2.47s/it]"
     ]
    },
    {
     "name": "stdout",
     "output_type": "stream",
     "text": [
      "21.3\n",
      "80.8\n",
      "| ID | GPU | MEM |\n",
      "------------------\n",
      "|  0 |  0% | 19% |\n",
      "|  1 |  1% |  0% |\n"
     ]
    },
    {
     "name": "stderr",
     "output_type": "stream",
     "text": [
      " 93%|██████████████████████████████████████████████████████████████████████████████████████████████████████████████████████████████████████████████████████████████████████████████████████████████████████████████████████████████████████████████████████████████████████████████████████████████████████████████████████████████████████████████████████████████▊                           | 206/222.0 [08:37<00:39,  2.45s/it]"
     ]
    },
    {
     "name": "stdout",
     "output_type": "stream",
     "text": [
      "21.2\n",
      "80.8\n",
      "| ID | GPU | MEM |\n",
      "------------------\n",
      "|  0 |  0% | 19% |\n",
      "|  1 |  0% |  0% |\n"
     ]
    },
    {
     "name": "stderr",
     "output_type": "stream",
     "text": [
      " 93%|████████████████████████████████████████████████████████████████████████████████████████████████████████████████████████████████████████████████████████████████████████████████████████████████████████████████████████████████████████████████████████████████████████████████████████████████████████████████████████████████████████████████████████████████▍                         | 207/222.0 [08:39<00:36,  2.43s/it]"
     ]
    },
    {
     "name": "stdout",
     "output_type": "stream",
     "text": [
      "21.8\n",
      "80.8\n",
      "| ID | GPU | MEM |\n",
      "------------------\n",
      "|  0 |  0% | 19% |\n",
      "|  1 |  0% |  0% |\n"
     ]
    },
    {
     "name": "stderr",
     "output_type": "stream",
     "text": [
      " 94%|██████████████████████████████████████████████████████████████████████████████████████████████████████████████████████████████████████████████████████████████████████████████████████████████████████████████████████████████████████████████████████████████████████████████████████████████████████████████████████████████████████████████████████████████████▏                       | 208/222.0 [08:42<00:33,  2.41s/it]"
     ]
    },
    {
     "name": "stdout",
     "output_type": "stream",
     "text": [
      "22.1\n",
      "80.8\n",
      "| ID | GPU | MEM |\n",
      "------------------\n",
      "|  0 |  0% | 19% |\n",
      "|  1 |  1% |  0% |\n"
     ]
    },
    {
     "name": "stderr",
     "output_type": "stream",
     "text": [
      " 94%|███████████████████████████████████████████████████████████████████████████████████████████████████████████████████████████████████████████████████████████████████████████████████████████████████████████████████████████████████████████████████████████████████████████████████████████████████████████████████████████████████████████████████████████████████▊                      | 209/222.0 [08:44<00:31,  2.39s/it]"
     ]
    },
    {
     "name": "stdout",
     "output_type": "stream",
     "text": [
      "21.3\n",
      "80.8\n",
      "| ID | GPU | MEM |\n",
      "------------------\n",
      "|  0 |  0% | 19% |\n",
      "|  1 |  0% |  0% |\n"
     ]
    },
    {
     "name": "stderr",
     "output_type": "stream",
     "text": [
      " 95%|█████████████████████████████████████████████████████████████████████████████████████████████████████████████████████████████████████████████████████████████████████████████████████████████████████████████████████████████████████████████████████████████████████████████████████████████████████████████████████████████████████████████████████████████████████▌                    | 210/222.0 [08:46<00:28,  2.41s/it]"
     ]
    },
    {
     "name": "stdout",
     "output_type": "stream",
     "text": [
      "20.9\n",
      "80.8\n",
      "| ID | GPU | MEM |\n",
      "------------------\n",
      "|  0 |  0% | 19% |\n",
      "|  1 |  0% |  0% |\n"
     ]
    },
    {
     "name": "stderr",
     "output_type": "stream",
     "text": [
      " 95%|███████████████████████████████████████████████████████████████████████████████████████████████████████████████████████████████████████████████████████████████████████████████████████████████████████████████████████████████████████████████████████████████████████████████████████████████████████████████████████████████████████████████████████████████████████▎                  | 211/222.0 [08:49<00:26,  2.43s/it]"
     ]
    },
    {
     "name": "stdout",
     "output_type": "stream",
     "text": [
      "21.0\n",
      "80.8\n",
      "| ID | GPU | MEM |\n",
      "------------------\n",
      "|  0 |  0% | 19% |\n",
      "|  1 |  0% |  0% |\n"
     ]
    },
    {
     "name": "stderr",
     "output_type": "stream",
     "text": [
      " 95%|████████████████████████████████████████████████████████████████████████████████████████████████████████████████████████████████████████████████████████████████████████████████████████████████████████████████████████████████████████████████████████████████████████████████████████████████████████████████████████████████████████████████████████████████████████▉                 | 212/222.0 [08:51<00:24,  2.45s/it]"
     ]
    },
    {
     "name": "stdout",
     "output_type": "stream",
     "text": [
      "21.0\n",
      "80.8\n",
      "| ID | GPU | MEM |\n",
      "------------------\n",
      "|  0 |  0% | 19% |\n",
      "|  1 |  0% |  0% |\n"
     ]
    },
    {
     "name": "stderr",
     "output_type": "stream",
     "text": [
      " 96%|██████████████████████████████████████████████████████████████████████████████████████████████████████████████████████████████████████████████████████████████████████████████████████████████████████████████████████████████████████████████████████████████████████████████████████████████████████████████████████████████████████████████████████████████████████████▋               | 213/222.0 [08:54<00:22,  2.46s/it]"
     ]
    },
    {
     "name": "stdout",
     "output_type": "stream",
     "text": [
      "22.0\n",
      "80.8\n",
      "| ID | GPU | MEM |\n",
      "------------------\n",
      "|  0 |  0% | 19% |\n",
      "|  1 |  0% |  0% |\n"
     ]
    },
    {
     "name": "stderr",
     "output_type": "stream",
     "text": [
      " 96%|████████████████████████████████████████████████████████████████████████████████████████████████████████████████████████████████████████████████████████████████████████████████████████████████████████████████████████████████████████████████████████████████████████████████████████████████████████████████████████████████████████████████████████████████████████████▍             | 214/222.0 [08:56<00:19,  2.45s/it]"
     ]
    },
    {
     "name": "stdout",
     "output_type": "stream",
     "text": [
      "19.6\n",
      "80.7\n",
      "| ID | GPU | MEM |\n",
      "------------------\n",
      "|  0 |  0% | 19% |\n",
      "|  1 |  0% |  0% |\n"
     ]
    },
    {
     "name": "stderr",
     "output_type": "stream",
     "text": [
      " 97%|██████████████████████████████████████████████████████████████████████████████████████████████████████████████████████████████████████████████████████████████████████████████████████████████████████████████████████████████████████████████████████████████████████████████████████████████████████████████████████████████████████████████████████████████████████████████            | 215/222.0 [09:00<00:19,  2.76s/it]"
     ]
    },
    {
     "name": "stdout",
     "output_type": "stream",
     "text": [
      "21.9\n",
      "80.7\n",
      "| ID | GPU | MEM |\n",
      "------------------\n",
      "|  0 |  0% | 19% |\n",
      "|  1 |  0% |  0% |\n"
     ]
    },
    {
     "name": "stderr",
     "output_type": "stream",
     "text": [
      " 97%|███████████████████████████████████████████████████████████████████████████████████████████████████████████████████████████████████████████████████████████████████████████████████████████████████████████████████████████████████████████████████████████████████████████████████████████████████████████████████████████████████████████████████████████████████████████████▊          | 216/222.0 [09:02<00:15,  2.63s/it]"
     ]
    },
    {
     "name": "stdout",
     "output_type": "stream",
     "text": [
      "22.0\n",
      "80.7\n",
      "| ID | GPU | MEM |\n",
      "------------------\n",
      "|  0 |  0% | 19% |\n",
      "|  1 |  0% |  0% |\n"
     ]
    },
    {
     "name": "stderr",
     "output_type": "stream",
     "text": [
      " 98%|█████████████████████████████████████████████████████████████████████████████████████████████████████████████████████████████████████████████████████████████████████████████████████████████████████████████████████████████████████████████████████████████████████████████████████████████████████████████████████████████████████████████████████████████████████████████████▍        | 217/222.0 [09:04<00:12,  2.55s/it]"
     ]
    },
    {
     "name": "stdout",
     "output_type": "stream",
     "text": [
      "22.5\n",
      "80.7\n",
      "| ID | GPU | MEM |\n",
      "------------------\n",
      "|  0 |  0% | 19% |\n",
      "|  1 |  0% |  0% |\n"
     ]
    },
    {
     "name": "stderr",
     "output_type": "stream",
     "text": [
      " 98%|███████████████████████████████████████████████████████████████████████████████████████████████████████████████████████████████████████████████████████████████████████████████████████████████████████████████████████████████████████████████████████████████████████████████████████████████████████████████████████████████████████████████████████████████████████████████████▏      | 218/222.0 [09:07<00:09,  2.50s/it]"
     ]
    },
    {
     "name": "stdout",
     "output_type": "stream",
     "text": [
      "21.5\n",
      "80.7\n",
      "| ID | GPU | MEM |\n",
      "------------------\n",
      "|  0 |  0% | 19% |\n",
      "|  1 |  0% |  0% |\n"
     ]
    },
    {
     "name": "stderr",
     "output_type": "stream",
     "text": [
      " 99%|████████████████████████████████████████████████████████████████████████████████████████████████████████████████████████████████████████████████████████████████████████████████████████████████████████████████████████████████████████████████████████████████████████████████████████████████████████████████████████████████████████████████████████████████████████████████████▉     | 219/222.0 [09:09<00:07,  2.49s/it]"
     ]
    },
    {
     "name": "stdout",
     "output_type": "stream",
     "text": [
      "21.9\n",
      "80.7\n",
      "| ID | GPU | MEM |\n",
      "------------------\n",
      "|  0 |  0% | 19% |\n",
      "|  1 |  0% |  0% |\n"
     ]
    },
    {
     "name": "stderr",
     "output_type": "stream",
     "text": [
      " 99%|██████████████████████████████████████████████████████████████████████████████████████████████████████████████████████████████████████████████████████████████████████████████████████████████████████████████████████████████████████████████████████████████████████████████████████████████████████████████████████████████████████████████████████████████████████████████████████▌   | 220/222.0 [09:12<00:04,  2.47s/it]"
     ]
    },
    {
     "name": "stdout",
     "output_type": "stream",
     "text": [
      "22.2\n",
      "80.7\n",
      "| ID | GPU | MEM |\n",
      "------------------\n",
      "|  0 |  0% | 19% |\n",
      "|  1 |  0% |  0% |\n"
     ]
    },
    {
     "name": "stderr",
     "output_type": "stream",
     "text": [
      "100%|████████████████████████████████████████████████████████████████████████████████████████████████████████████████████████████████████████████████████████████████████████████████████████████████████████████████████████████████████████████████████████████████████████████████████████████████████████████████████████████████████████████████████████████████████████████████████████▎ | 221/222.0 [09:14<00:02,  2.44s/it]"
     ]
    },
    {
     "name": "stdout",
     "output_type": "stream",
     "text": [
      "21.6\n",
      "80.7\n",
      "| ID | GPU | MEM |\n",
      "------------------\n",
      "|  0 |  0% | 19% |\n",
      "|  1 |  0% |  0% |\n"
     ]
    },
    {
     "name": "stderr",
     "output_type": "stream",
     "text": [
      "100%|██████████████████████████████████████████████████████████████████████████████████████████████████████████████████████████████████████████████████████████████████████████████████████████████████████████████████████████████████████████████████████████████████████████████████████████████████████████████████████████████████████████████████████████████████████████████████████████| 222/222.0 [09:17<00:00,  2.51s/it]\n",
      "  0%|                                                                                                                                                                                                                                                                                                                                                                                                     | 0/30.0 [00:00<?, ?it/s]"
     ]
    },
    {
     "name": "stdout",
     "output_type": "stream",
     "text": [
      "21.4\n",
      "80.7\n",
      "| ID | GPU | MEM |\n",
      "------------------\n",
      "|  0 |  0% | 19% |\n",
      "|  1 |  0% |  0% |\n"
     ]
    },
    {
     "name": "stderr",
     "output_type": "stream",
     "text": [
      "  3%|████████████▋                                                                                                                                                                                                                                                                                                                                                                                | 1/30.0 [00:02<01:06,  2.30s/it]"
     ]
    },
    {
     "name": "stdout",
     "output_type": "stream",
     "text": [
      "22.0\n",
      "80.9\n",
      "| ID | GPU | MEM |\n",
      "------------------\n",
      "|  0 |  0% | 19% |\n",
      "|  1 |  0% |  0% |\n"
     ]
    },
    {
     "name": "stderr",
     "output_type": "stream",
     "text": [
      "  7%|█████████████████████████▍                                                                                                                                                                                                                                                                                                                                                                   | 2/30.0 [00:04<01:04,  2.29s/it]"
     ]
    },
    {
     "name": "stdout",
     "output_type": "stream",
     "text": [
      "21.4\n",
      "80.7\n",
      "| ID | GPU | MEM |\n",
      "------------------\n",
      "|  0 |  0% | 19% |\n",
      "|  1 |  0% |  0% |\n"
     ]
    },
    {
     "name": "stderr",
     "output_type": "stream",
     "text": [
      " 10%|██████████████████████████████████████                                                                                                                                                                                                                                                                                                                                                       | 3/30.0 [00:06<01:02,  2.33s/it]"
     ]
    },
    {
     "name": "stdout",
     "output_type": "stream",
     "text": [
      "21.6\n",
      "80.7\n",
      "| ID | GPU | MEM |\n",
      "------------------\n",
      "|  0 |  0% | 19% |\n",
      "|  1 |  0% |  0% |\n"
     ]
    },
    {
     "name": "stderr",
     "output_type": "stream",
     "text": [
      " 13%|██████████████████████████████████████████████████▊                                                                                                                                                                                                                                                                                                                                          | 4/30.0 [00:09<00:59,  2.31s/it]"
     ]
    },
    {
     "name": "stdout",
     "output_type": "stream",
     "text": [
      "21.7\n",
      "80.8\n",
      "| ID | GPU | MEM |\n",
      "------------------\n",
      "|  0 |  0% | 19% |\n",
      "|  1 |  0% |  0% |\n"
     ]
    },
    {
     "name": "stderr",
     "output_type": "stream",
     "text": [
      " 17%|███████████████████████████████████████████████████████████████▌                                                                                                                                                                                                                                                                                                                             | 5/30.0 [00:11<00:57,  2.29s/it]"
     ]
    },
    {
     "name": "stdout",
     "output_type": "stream",
     "text": [
      "21.3\n",
      "80.8\n",
      "| ID | GPU | MEM |\n",
      "------------------\n",
      "|  0 |  0% | 19% |\n",
      "|  1 |  0% |  0% |\n"
     ]
    },
    {
     "name": "stderr",
     "output_type": "stream",
     "text": [
      " 20%|████████████████████████████████████████████████████████████████████████████▏                                                                                                                                                                                                                                                                                                                | 6/30.0 [00:13<00:55,  2.30s/it]"
     ]
    },
    {
     "name": "stdout",
     "output_type": "stream",
     "text": [
      "19.4\n",
      "80.7\n",
      "| ID | GPU | MEM |\n",
      "------------------\n",
      "|  0 |  0% | 19% |\n",
      "|  1 |  0% |  0% |\n"
     ]
    },
    {
     "name": "stderr",
     "output_type": "stream",
     "text": [
      " 23%|████████████████████████████████████████████████████████████████████████████████████████▉                                                                                                                                                                                                                                                                                                    | 7/30.0 [00:17<01:00,  2.63s/it]"
     ]
    },
    {
     "name": "stdout",
     "output_type": "stream",
     "text": [
      "21.7\n",
      "80.7\n",
      "| ID | GPU | MEM |\n",
      "------------------\n",
      "|  0 |  0% | 19% |\n",
      "|  1 |  0% |  0% |\n"
     ]
    },
    {
     "name": "stderr",
     "output_type": "stream",
     "text": [
      " 27%|█████████████████████████████████████████████████████████████████████████████████████████████████████▌                                                                                                                                                                                                                                                                                       | 8/30.0 [00:19<00:55,  2.54s/it]"
     ]
    },
    {
     "name": "stdout",
     "output_type": "stream",
     "text": [
      "19.7\n",
      "80.7\n",
      "| ID | GPU | MEM |\n",
      "------------------\n",
      "|  0 |  0% | 19% |\n",
      "|  1 |  0% |  0% |\n"
     ]
    },
    {
     "name": "stderr",
     "output_type": "stream",
     "text": [
      " 30%|██████████████████████████████████████████████████████████████████████████████████████████████████████████████████▎                                                                                                                                                                                                                                                                          | 9/30.0 [00:22<00:57,  2.76s/it]"
     ]
    },
    {
     "name": "stdout",
     "output_type": "stream",
     "text": [
      "22.0\n",
      "80.7\n",
      "| ID | GPU | MEM |\n",
      "------------------\n",
      "|  0 |  0% | 19% |\n",
      "|  1 |  0% |  0% |\n"
     ]
    },
    {
     "name": "stderr",
     "output_type": "stream",
     "text": [
      " 33%|██████████████████████████████████████████████████████████████████████████████████████████████████████████████████████████████▋                                                                                                                                                                                                                                                             | 10/30.0 [00:24<00:52,  2.60s/it]"
     ]
    },
    {
     "name": "stdout",
     "output_type": "stream",
     "text": [
      "22.4\n",
      "80.7\n",
      "| ID | GPU | MEM |\n",
      "------------------\n",
      "|  0 |  0% | 19% |\n",
      "|  1 |  0% |  0% |\n"
     ]
    },
    {
     "name": "stderr",
     "output_type": "stream",
     "text": [
      " 37%|███████████████████████████████████████████████████████████████████████████████████████████████████████████████████████████████████████████▎                                                                                                                                                                                                                                                | 11/30.0 [00:27<00:47,  2.49s/it]"
     ]
    },
    {
     "name": "stdout",
     "output_type": "stream",
     "text": [
      "22.1\n",
      "80.7\n",
      "| ID | GPU | MEM |\n",
      "------------------\n",
      "|  0 |  0% | 19% |\n",
      "|  1 |  0% |  0% |\n"
     ]
    },
    {
     "name": "stderr",
     "output_type": "stream",
     "text": [
      " 40%|████████████████████████████████████████████████████████████████████████████████████████████████████████████████████████████████████████████████████████                                                                                                                                                                                                                                    | 12/30.0 [00:29<00:43,  2.41s/it]"
     ]
    },
    {
     "name": "stdout",
     "output_type": "stream",
     "text": [
      "22.2\n",
      "80.7\n",
      "| ID | GPU | MEM |\n",
      "------------------\n",
      "|  0 |  0% | 19% |\n",
      "|  1 |  0% |  0% |\n"
     ]
    },
    {
     "name": "stderr",
     "output_type": "stream",
     "text": [
      " 43%|████████████████████████████████████████████████████████████████████████████████████████████████████████████████████████████████████████████████████████████████████▋                                                                                                                                                                                                                       | 13/30.0 [00:31<00:40,  2.37s/it]"
     ]
    },
    {
     "name": "stdout",
     "output_type": "stream",
     "text": [
      "20.9\n",
      "80.7\n",
      "| ID | GPU | MEM |\n",
      "------------------\n",
      "|  0 |  0% | 19% |\n",
      "|  1 |  0% |  0% |\n"
     ]
    },
    {
     "name": "stderr",
     "output_type": "stream",
     "text": [
      " 47%|█████████████████████████████████████████████████████████████████████████████████████████████████████████████████████████████████████████████████████████████████████████████████▎                                                                                                                                                                                                          | 14/30.0 [00:34<00:37,  2.37s/it]"
     ]
    },
    {
     "name": "stdout",
     "output_type": "stream",
     "text": [
      "22.5\n",
      "80.7\n",
      "| ID | GPU | MEM |\n",
      "------------------\n",
      "|  0 |  0% | 19% |\n",
      "|  1 |  0% |  0% |\n"
     ]
    },
    {
     "name": "stderr",
     "output_type": "stream",
     "text": [
      " 50%|██████████████████████████████████████████████████████████████████████████████████████████████████████████████████████████████████████████████████████████████████████████████████████████████                                                                                                                                                                                              | 15/30.0 [00:36<00:34,  2.33s/it]"
     ]
    },
    {
     "name": "stdout",
     "output_type": "stream",
     "text": [
      "21.9\n",
      "80.7\n",
      "| ID | GPU | MEM |\n",
      "------------------\n",
      "|  0 |  0% | 19% |\n",
      "|  1 |  0% |  0% |\n"
     ]
    },
    {
     "name": "stderr",
     "output_type": "stream",
     "text": [
      " 53%|██████████████████████████████████████████████████████████████████████████████████████████████████████████████████████████████████████████████████████████████████████████████████████████████████████████▋                                                                                                                                                                                 | 16/30.0 [00:38<00:32,  2.31s/it]"
     ]
    },
    {
     "name": "stdout",
     "output_type": "stream",
     "text": [
      "22.4\n",
      "80.7\n",
      "| ID | GPU | MEM |\n",
      "------------------\n",
      "|  0 |  0% | 19% |\n",
      "|  1 |  0% |  0% |\n"
     ]
    },
    {
     "name": "stderr",
     "output_type": "stream",
     "text": [
      " 57%|███████████████████████████████████████████████████████████████████████████████████████████████████████████████████████████████████████████████████████████████████████████████████████████████████████████████████████▎                                                                                                                                                                    | 17/30.0 [00:40<00:29,  2.29s/it]"
     ]
    },
    {
     "name": "stdout",
     "output_type": "stream",
     "text": [
      "22.7\n",
      "80.7\n",
      "| ID | GPU | MEM |\n",
      "------------------\n",
      "|  0 |  0% | 19% |\n",
      "|  1 |  0% |  0% |\n"
     ]
    },
    {
     "name": "stderr",
     "output_type": "stream",
     "text": [
      " 60%|████████████████████████████████████████████████████████████████████████████████████████████████████████████████████████████████████████████████████████████████████████████████████████████████████████████████████████████████████                                                                                                                                                        | 18/30.0 [00:43<00:27,  2.27s/it]"
     ]
    },
    {
     "name": "stdout",
     "output_type": "stream",
     "text": [
      "21.8\n",
      "80.7\n",
      "| ID | GPU | MEM |\n",
      "------------------\n",
      "|  0 |  0% | 19% |\n",
      "|  1 |  0% |  0% |\n"
     ]
    },
    {
     "name": "stderr",
     "output_type": "stream",
     "text": [
      " 63%|████████████████████████████████████████████████████████████████████████████████████████████████████████████████████████████████████████████████████████████████████████████████████████████████████████████████████████████████████████████████▋                                                                                                                                           | 19/30.0 [00:45<00:24,  2.26s/it]"
     ]
    },
    {
     "name": "stdout",
     "output_type": "stream",
     "text": [
      "22.2\n",
      "80.7\n",
      "| ID | GPU | MEM |\n",
      "------------------\n",
      "|  0 |  0% | 19% |\n",
      "|  1 |  0% |  0% |\n"
     ]
    },
    {
     "name": "stderr",
     "output_type": "stream",
     "text": [
      " 67%|█████████████████████████████████████████████████████████████████████████████████████████████████████████████████████████████████████████████████████████████████████████████████████████████████████████████████████████████████████████████████████████████▎                                                                                                                              | 20/30.0 [00:47<00:22,  2.26s/it]"
     ]
    },
    {
     "name": "stdout",
     "output_type": "stream",
     "text": [
      "21.9\n",
      "80.8\n",
      "| ID | GPU | MEM |\n",
      "------------------\n",
      "|  0 |  0% | 19% |\n",
      "|  1 |  0% |  0% |\n"
     ]
    },
    {
     "name": "stderr",
     "output_type": "stream",
     "text": [
      " 70%|██████████████████████████████████████████████████████████████████████████████████████████████████████████████████████████████████████████████████████████████████████████████████████████████████████████████████████████████████████████████████████████████████████████                                                                                                                  | 21/30.0 [00:49<00:20,  2.26s/it]"
     ]
    },
    {
     "name": "stdout",
     "output_type": "stream",
     "text": [
      "20.2\n",
      "80.8\n",
      "| ID | GPU | MEM |\n",
      "------------------\n",
      "|  0 |  0% | 19% |\n",
      "|  1 |  0% |  0% |\n"
     ]
    },
    {
     "name": "stderr",
     "output_type": "stream",
     "text": [
      " 73%|██████████████████████████████████████████████████████████████████████████████████████████████████████████████████████████████████████████████████████████████████████████████████████████████████████████████████████████████████████████████████████████████████████████████████████▋                                                                                                     | 22/30.0 [00:52<00:18,  2.32s/it]"
     ]
    },
    {
     "name": "stdout",
     "output_type": "stream",
     "text": [
      "22.1\n",
      "80.8\n",
      "| ID | GPU | MEM |\n",
      "------------------\n",
      "|  0 |  0% | 19% |\n",
      "|  1 |  0% |  0% |\n"
     ]
    },
    {
     "name": "stderr",
     "output_type": "stream",
     "text": [
      " 77%|███████████████████████████████████████████████████████████████████████████████████████████████████████████████████████████████████████████████████████████████████████████████████████████████████████████████████████████████████████████████████████████████████████████████████████████████████▎                                                                                        | 23/30.0 [00:54<00:16,  2.30s/it]"
     ]
    },
    {
     "name": "stdout",
     "output_type": "stream",
     "text": [
      "22.3\n",
      "80.8\n",
      "| ID | GPU | MEM |\n",
      "------------------\n",
      "|  0 |  0% | 19% |\n",
      "|  1 |  0% |  0% |\n"
     ]
    },
    {
     "name": "stderr",
     "output_type": "stream",
     "text": [
      " 80%|████████████████████████████████████████████████████████████████████████████████████████████████████████████████████████████████████████████████████████████████████████████████████████████████████████████████████████████████████████████████████████████████████████████████████████████████████████████████                                                                            | 24/30.0 [00:56<00:13,  2.28s/it]"
     ]
    },
    {
     "name": "stdout",
     "output_type": "stream",
     "text": [
      "23.5\n",
      "80.8\n",
      "| ID | GPU | MEM |\n",
      "------------------\n",
      "|  0 | 42% | 20% |\n",
      "|  1 |  0% |  0% |\n"
     ]
    },
    {
     "name": "stderr",
     "output_type": "stream",
     "text": [
      " 83%|████████████████████████████████████████████████████████████████████████████████████████████████████████████████████████████████████████████████████████████████████████████████████████████████████████████████████████████████████████████████████████████████████████████████████████████████████████████████████████████▋                                                               | 25/30.0 [00:59<00:11,  2.31s/it]"
     ]
    },
    {
     "name": "stdout",
     "output_type": "stream",
     "text": [
      "22.7\n",
      "80.8\n",
      "| ID | GPU | MEM |\n",
      "------------------\n",
      "|  0 |  7% | 19% |\n",
      "|  1 |  0% |  0% |\n"
     ]
    },
    {
     "name": "stderr",
     "output_type": "stream",
     "text": [
      " 87%|█████████████████████████████████████████████████████████████████████████████████████████████████████████████████████████████████████████████████████████████████████████████████████████████████████████████████████████████████████████████████████████████████████████████████████████████████████████████████████████████████████████▎                                                  | 26/30.0 [01:01<00:09,  2.29s/it]"
     ]
    },
    {
     "name": "stdout",
     "output_type": "stream",
     "text": [
      "24.9\n",
      "80.8\n",
      "| ID | GPU | MEM |\n",
      "------------------\n",
      "|  0 | 21% | 20% |\n",
      "|  1 |  0% |  0% |\n"
     ]
    },
    {
     "name": "stderr",
     "output_type": "stream",
     "text": [
      " 90%|██████████████████████████████████████████████████████████████████████████████████████████████████████████████████████████████████████████████████████████████████████████████████████████████████████████████████████████████████████████████████████████████████████████████████████████████████████████████████████████████████████████████████████                                      | 27/30.0 [01:03<00:06,  2.31s/it]"
     ]
    },
    {
     "name": "stdout",
     "output_type": "stream",
     "text": [
      "23.1\n",
      "80.8\n",
      "| ID | GPU | MEM |\n",
      "------------------\n",
      "|  0 |  6% | 19% |\n",
      "|  1 |  0% |  0% |\n"
     ]
    },
    {
     "name": "stderr",
     "output_type": "stream",
     "text": [
      " 93%|██████████████████████████████████████████████████████████████████████████████████████████████████████████████████████████████████████████████████████████████████████████████████████████████████████████████████████████████████████████████████████████████████████████████████████████████████████████████████████████████████████████████████████████████████▋                         | 28/30.0 [01:05<00:04,  2.30s/it]"
     ]
    },
    {
     "name": "stdout",
     "output_type": "stream",
     "text": [
      "22.5\n",
      "80.8\n",
      "| ID | GPU | MEM |\n",
      "------------------\n",
      "|  0 |  2% | 19% |\n",
      "|  1 |  0% |  0% |\n"
     ]
    },
    {
     "name": "stderr",
     "output_type": "stream",
     "text": [
      " 97%|███████████████████████████████████████████████████████████████████████████████████████████████████████████████████████████████████████████████████████████████████████████████████████████████████████████████████████████████████████████████████████████████████████████████████████████████████████████████████████████████████████████████████████████████████████████████▎            | 29/30.0 [01:08<00:02,  2.31s/it]"
     ]
    },
    {
     "name": "stdout",
     "output_type": "stream",
     "text": [
      "22.7\n",
      "80.8\n",
      "| ID | GPU | MEM |\n",
      "------------------\n",
      "|  0 |  1% | 19% |\n",
      "|  1 |  0% |  0% |\n"
     ]
    },
    {
     "name": "stderr",
     "output_type": "stream",
     "text": [
      "100%|████████████████████████████████████████████████████████████████████████████████████████████████████████████████████████████████████████████████████████████████████████████████████████████████████████████████████████████████████████████████████████████████████████████████████████████████████████████████████████████████████████████████████████████████████████████████████████████| 30/30.0 [01:10<00:00,  2.35s/it]\n"
     ]
    }
   ],
   "source": [
    "data.save(train_dataloader, subj_dir='radio_png/unprocessed', fold='train')\n",
    "data.save(val_dataloader, subj_dir='radio_png/unprocessed', fold='val')\n",
    "data.save(test_dataloader, subj_dir='radio_png/unprocessed', fold='test')"
   ]
  },
  {
   "cell_type": "code",
   "execution_count": null,
   "id": "f6ec89ad-d8d5-411d-8ba6-c47f2d0ae35b",
   "metadata": {},
   "outputs": [],
   "source": []
  }
 ],
 "metadata": {
  "kernelspec": {
   "display_name": "radio",
   "language": "python",
   "name": "radio"
  },
  "language_info": {
   "codemirror_mode": {
    "name": "ipython",
    "version": 3
   },
   "file_extension": ".py",
   "mimetype": "text/x-python",
   "name": "python",
   "nbconvert_exporter": "python",
   "pygments_lexer": "ipython3",
   "version": "3.10.4"
  }
 },
 "nbformat": 4,
 "nbformat_minor": 5
}

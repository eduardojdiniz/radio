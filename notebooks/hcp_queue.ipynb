{
 "cells": [
  {
   "cell_type": "markdown",
   "id": "f856a3a7-4d9e-4971-9c0b-914ac8e436ff",
   "metadata": {
    "tags": []
   },
   "source": [
    "### Testing HCP Queue "
   ]
  },
  {
   "cell_type": "code",
   "execution_count": 1,
   "id": "3808b05e-714a-46f8-9d13-b5c75f5f6aca",
   "metadata": {
    "tags": []
   },
   "outputs": [],
   "source": [
    "%load_ext autoreload\n",
    "%autoreload 2"
   ]
  },
  {
   "cell_type": "code",
   "execution_count": 2,
   "id": "31a90e57-f943-489b-8325-c26c2c78532c",
   "metadata": {},
   "outputs": [],
   "source": [
    "import matplotlib.pyplot as plt\n",
    "plt.rcParams['figure.figsize'] = [20, 40]"
   ]
  },
  {
   "cell_type": "code",
   "execution_count": 3,
   "id": "e5211082-ccc1-4d29-b912-09dea8f35304",
   "metadata": {
    "tags": []
   },
   "outputs": [],
   "source": [
    "import radio as rio\n",
    "from radio.data.datautils import get_first_batch, create_probability_map\n",
    "from radio.data.datavisualization import plot_batch"
   ]
  },
  {
   "cell_type": "markdown",
   "id": "b071c64a-de3b-464e-a12b-6490a83ab2a0",
   "metadata": {},
   "source": [
    "#### Setup Data"
   ]
  },
  {
   "cell_type": "code",
   "execution_count": 6,
   "id": "a3e0672d-15aa-4ef6-8993-0eea99823c4c",
   "metadata": {},
   "outputs": [],
   "source": [
    "# Load pre-stored data from train/test/val folders \n",
    "data = rio.data.HCPPatchDataModule(\n",
    "    root=\"/media/cerebro/Workspaces/Students/Eduardo_Diniz/Studies\",\n",
    "    study=\"HCP_test\",\n",
    "    subj_dir=\"radio_3T_MPR/unprocessed\",\n",
    "    data_dir=\"\",\n",
    "    use_augmentation=False,\n",
    "    use_preprocessing=True,\n",
    "    resample=False,\n",
    "    batch_size=4,\n",
    "    modalities=[\"3T_MPR\"],\n",
    "    labels=[],\n",
    "    dims=None,\n",
    "    patch_size=(256, 320, 1),\n",
    "    create_custom_probability_map=True,\n",
    "    queue_max_length=300,\n",
    "    samples_per_volume=10,\n",
    ")\n",
    "data.prepare_data()\n",
    "data.setup(stage='fit')"
   ]
  },
  {
   "cell_type": "code",
   "execution_count": 7,
   "id": "c33e3d38-6e32-4450-be18-2773b997d6dd",
   "metadata": {
    "tags": []
   },
   "outputs": [
    {
     "name": "stdout",
     "output_type": "stream",
     "text": [
      "Training: 70 patches.\n",
      "Validation: 10 patches.\n"
     ]
    }
   ],
   "source": [
    "print(f\"Training: {data.size_train} patches.\")\n",
    "print(f\"Validation: {data.size_val} patches.\")"
   ]
  },
  {
   "cell_type": "markdown",
   "id": "a1776364-43b1-47f3-bd29-f51ba8c02013",
   "metadata": {},
   "source": [
    "#### Get a Train and a Test Batch"
   ]
  },
  {
   "cell_type": "code",
   "execution_count": null,
   "id": "bc58e1cc-f00c-4751-b2b5-66d9ec4f41e9",
   "metadata": {},
   "outputs": [],
   "source": [
    "train_dataloader = data.train_dataloader()\n",
    "val_dataloader = data.val_dataloader()"
   ]
  },
  {
   "cell_type": "code",
   "execution_count": null,
   "id": "f0c687df-e520-43b4-a07d-8eafce6c61ab",
   "metadata": {},
   "outputs": [],
   "source": [
    "# Takes a long time if resampling is required.\n",
    "# Preprocessing beforehand is therefore recommended to speed up training.\n",
    "train_batch = get_first_batch(train_dataloader)\n",
    "val_batch = get_first_batch(val_dataloader)"
   ]
  },
  {
   "cell_type": "code",
   "execution_count": null,
   "id": "d5ce0993-8e47-471a-949d-9d89997611d5",
   "metadata": {},
   "outputs": [],
   "source": [
    "print(f\"Batch Keys: {train_batch.keys()}\")\n",
    "print(f\"3T_MPR Shape: {train_batch['3T_MPR']['data'].shape}\")\n",
    "print(f\"3T_MPR keys: {train_batch['3T_MPR'].keys()}\")\n",
    "print(f\"Subject IDs: {train_batch['subj_id']}\")\n",
    "print(f\"Location Shape: {train_batch['location'].shape}\")"
   ]
  },
  {
   "cell_type": "markdown",
   "id": "9017914d-7930-46ba-8979-be6699571f2e",
   "metadata": {},
   "source": [
    "#### Plot Example Samples from Batches"
   ]
  },
  {
   "cell_type": "code",
   "execution_count": null,
   "id": "d94f92ad-87f8-4e6a-9ec6-032c91c92ccb",
   "metadata": {},
   "outputs": [],
   "source": [
    "plot_batch(train_batch)"
   ]
  },
  {
   "cell_type": "code",
   "execution_count": null,
   "id": "a34c5c31-6f6d-4024-97af-c5b01eb985de",
   "metadata": {},
   "outputs": [],
   "source": []
  }
 ],
 "metadata": {
  "kernelspec": {
   "display_name": "radio",
   "language": "python",
   "name": "radio"
  },
  "language_info": {
   "codemirror_mode": {
    "name": "ipython",
    "version": 3
   },
   "file_extension": ".py",
   "mimetype": "text/x-python",
   "name": "python",
   "nbconvert_exporter": "python",
   "pygments_lexer": "ipython3",
   "version": "3.10.4"
  }
 },
 "nbformat": 4,
 "nbformat_minor": 5
}

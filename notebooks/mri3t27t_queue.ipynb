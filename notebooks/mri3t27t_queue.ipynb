{
 "cells": [
  {
   "cell_type": "markdown",
   "id": "f856a3a7-4d9e-4971-9c0b-914ac8e436ff",
   "metadata": {
    "tags": []
   },
   "source": [
    "### Testing 3T27T Queue "
   ]
  },
  {
   "cell_type": "code",
   "execution_count": 1,
   "id": "3808b05e-714a-46f8-9d13-b5c75f5f6aca",
   "metadata": {
    "tags": []
   },
   "outputs": [],
   "source": [
    "%load_ext autoreload\n",
    "%autoreload 2"
   ]
  },
  {
   "cell_type": "code",
   "execution_count": 2,
   "id": "31a90e57-f943-489b-8325-c26c2c78532c",
   "metadata": {},
   "outputs": [],
   "source": [
    "import matplotlib.pyplot as plt\n",
    "plt.rcParams['figure.figsize'] = [20, 40]"
   ]
  },
  {
   "cell_type": "code",
   "execution_count": 3,
   "id": "e5211082-ccc1-4d29-b912-09dea8f35304",
   "metadata": {
    "tags": []
   },
   "outputs": [],
   "source": [
    "import radio as rio\n",
    "from pathlib import Path\n",
    "from radio.data.datautils import get_first_batch \n",
    "from radio.data.datavisualization import plot_batch, plot_grid"
   ]
  },
  {
   "cell_type": "markdown",
   "id": "b071c64a-de3b-464e-a12b-6490a83ab2a0",
   "metadata": {},
   "source": [
    "#### Setup Data"
   ]
  },
  {
   "cell_type": "code",
   "execution_count": 4,
   "id": "a3e0672d-15aa-4ef6-8993-0eea99823c4c",
   "metadata": {},
   "outputs": [
    {
     "name": "stderr",
     "output_type": "stream",
     "text": [
      "/home/dinize@acct.upmchs.net/anaconda3/envs/radio/lib/python3.10/site-packages/pytorch_lightning/core/datamodule.py:95: LightningDeprecationWarning: DataModule property `train_transforms` was deprecated in v1.5 and will be removed in v1.7.\n",
      "  rank_zero_deprecation(\n",
      "/home/dinize@acct.upmchs.net/anaconda3/envs/radio/lib/python3.10/site-packages/pytorch_lightning/core/datamodule.py:114: LightningDeprecationWarning: DataModule property `val_transforms` was deprecated in v1.5 and will be removed in v1.7.\n",
      "  rank_zero_deprecation(\n",
      "/home/dinize@acct.upmchs.net/anaconda3/envs/radio/lib/python3.10/site-packages/pytorch_lightning/core/datamodule.py:133: LightningDeprecationWarning: DataModule property `test_transforms` was deprecated in v1.5 and will be removed in v1.7.\n",
      "  rank_zero_deprecation(\n",
      "/home/dinize@acct.upmchs.net/anaconda3/envs/radio/lib/python3.10/site-packages/pytorch_lightning/core/datamodule.py:149: LightningDeprecationWarning: DataModule property `dims` was deprecated in v1.5 and will be removed in v1.7.\n",
      "  rank_zero_deprecation(\"DataModule property `dims` was deprecated in v1.5 and will be removed in v1.7.\")\n",
      "/home/dinize@acct.upmchs.net/anaconda3/envs/radio/lib/python3.10/site-packages/pytorch_lightning/core/datamodule.py:88: LightningDeprecationWarning: DataModule property `train_transforms` was deprecated in v1.5 and will be removed in v1.7.\n",
      "  rank_zero_deprecation(\n",
      "/home/dinize@acct.upmchs.net/anaconda3/envs/radio/lib/python3.10/site-packages/pytorch_lightning/core/datamodule.py:144: LightningDeprecationWarning: DataModule property `dims` was deprecated in v1.5 and will be removed in v1.7.\n",
      "  rank_zero_deprecation(\"DataModule property `dims` was deprecated in v1.5 and will be removed in v1.7.\")\n",
      "/home/dinize@acct.upmchs.net/anaconda3/envs/radio/lib/python3.10/site-packages/pytorch_lightning/core/datamodule.py:107: LightningDeprecationWarning: DataModule property `val_transforms` was deprecated in v1.5 and will be removed in v1.7.\n",
      "  rank_zero_deprecation(\n",
      "/home/dinize@acct.upmchs.net/anaconda3/envs/radio/lib/python3.10/site-packages/pytorch_lightning/core/datamodule.py:126: LightningDeprecationWarning: DataModule property `test_transforms` was deprecated in v1.5 and will be removed in v1.7.\n",
      "  rank_zero_deprecation(\n"
     ]
    }
   ],
   "source": [
    "# Load pre-stored data from train/test/val folders \n",
    "data = rio.data.MRI3T27TPatchDataModule(\n",
    "    root=\"/media/cerebro/Workspaces/Students/Eduardo_Diniz/Studies\",\n",
    "    study=\"MRI3T27T\",\n",
    "    subj_dir=\"unprocessed\",\n",
    "    data_dir=\"\",\n",
    "    domain_a=\"3T_MPR\",\n",
    "    domain_b=\"7T_MPR\",\n",
    "    use_augmentation=False,\n",
    "    use_preprocessing=True,\n",
    "    resample=False,\n",
    "    batch_size=1,\n",
    "    dims=(368, 480, 64),\n",
    "    patch_size=(368, 480, 1),\n",
    "    create_custom_probability_map=True,\n",
    "    pin_memory=False,\n",
    "    start_background=False,\n",
    "    queue_max_length=1,\n",
    "    samples_per_volume=1,\n",
    "    num_workers=0,\n",
    ")\n",
    "data.prepare_data()\n",
    "data.setup()"
   ]
  },
  {
   "cell_type": "code",
   "execution_count": 5,
   "id": "c33e3d38-6e32-4450-be18-2773b997d6dd",
   "metadata": {
    "tags": []
   },
   "outputs": [
    {
     "name": "stdout",
     "output_type": "stream",
     "text": [
      "Training: 890 patches.\n",
      "Validation: 222 patches.\n",
      "Test: 30 patches.\n"
     ]
    }
   ],
   "source": [
    "print(f\"Training: {data.size_train} patches.\")\n",
    "print(f\"Validation: {data.size_val} patches.\")\n",
    "print(f\"Test: {data.size_test} patches.\")"
   ]
  },
  {
   "cell_type": "markdown",
   "id": "a1776364-43b1-47f3-bd29-f51ba8c02013",
   "metadata": {},
   "source": [
    "#### Get a Train and a Test Batch"
   ]
  },
  {
   "cell_type": "code",
   "execution_count": 6,
   "id": "bc58e1cc-f00c-4751-b2b5-66d9ec4f41e9",
   "metadata": {},
   "outputs": [],
   "source": [
    "train_dataloader = data.train_dataloader()\n",
    "val_dataloader = data.val_dataloader()\n",
    "test_dataloader = data.test_dataloader()"
   ]
  },
  {
   "cell_type": "code",
   "execution_count": 7,
   "id": "cc04e640-5ff4-4930-ba53-0f77a6a8a781",
   "metadata": {},
   "outputs": [],
   "source": [
    "subject_a, subject_b = data.train_dataset[0]"
   ]
  },
  {
   "cell_type": "code",
   "execution_count": 10,
   "id": "efaa4475-403f-4967-9bc2-e98a7d7eec90",
   "metadata": {},
   "outputs": [
    {
     "data": {
      "text/plain": [
       "'2.7 MiB'"
      ]
     },
     "execution_count": 10,
     "metadata": {},
     "output_type": "execute_result"
    }
   ],
   "source": [
    "subject_a"
   ]
  },
  {
   "cell_type": "code",
   "execution_count": 7,
   "id": "f0c687df-e520-43b4-a07d-8eafce6c61ab",
   "metadata": {},
   "outputs": [
    {
     "name": "stderr",
     "output_type": "stream",
     "text": [
      "/home/dinize@acct.upmchs.net/anaconda3/envs/radio/lib/python3.10/site-packages/torchio/data/image.py:131: UserWarning: Not specifying the image type is deprecated and will be mandatory in the future. You can probably use tio.ScalarImage or tio.LabelMap instead\n",
      "  warnings.warn(\n"
     ]
    }
   ],
   "source": [
    "# Takes a long time if resampling is required.\n",
    "# Preprocessing beforehand is therefore recommended to speed up training.\n",
    "train_batch = get_first_batch(train_dataloader)\n",
    "val_batch = get_first_batch(val_dataloader)"
   ]
  },
  {
   "cell_type": "code",
   "execution_count": 8,
   "id": "d5ce0993-8e47-471a-949d-9d89997611d5",
   "metadata": {},
   "outputs": [
    {
     "name": "stdout",
     "output_type": "stream",
     "text": [
      "Batch Domain A Keys: dict_keys(['mri', 'sampling_map', 'location'])\n",
      "Domain A Sample Shape: torch.Size([1, 1, 368, 480, 1])\n",
      "Domain A Paths: ['/media/cerebro/Workspaces/Students/Eduardo_Diniz/Studies/MRI3T27T/unprocessed/train_3T_MPR/143224_-_3T_-_T1w_MPR1.nii.gz']\n",
      "Batch Domain B Keys: dict_keys(['mri', 'sampling_map', 'location'])\n",
      "Domain B Sample Shape: torch.Size([1, 1, 368, 480, 1])\n",
      "Domain B Paths: ['/media/cerebro/Workspaces/Students/Eduardo_Diniz/Studies/MRI3T27T/unprocessed/train_7T_MPR/17658-20190820101354_-_7T_-_T1w_MPR1.nii.gz']\n"
     ]
    }
   ],
   "source": [
    "train_batch_a, train_batch_b = train_batch\n",
    "print(f\"Batch Domain A Keys: {train_batch_a.keys()}\")\n",
    "print(f\"Domain A Sample Shape: {train_batch_a['mri']['data'].shape}\")\n",
    "print(f\"Domain A Paths: {train_batch_a['mri']['path']}\")\n",
    "print(f\"Batch Domain B Keys: {train_batch_b.keys()}\")\n",
    "print(f\"Domain B Sample Shape: {train_batch_b['mri']['data'].shape}\")\n",
    "print(f\"Domain B Paths: {train_batch_b['mri']['path']}\")"
   ]
  },
  {
   "cell_type": "markdown",
   "id": "9017914d-7930-46ba-8979-be6699571f2e",
   "metadata": {},
   "source": [
    "#### Plot Example Samples from Batches"
   ]
  },
  {
   "cell_type": "code",
   "execution_count": 9,
   "id": "c43a4318-bbad-4024-a7a1-65409739f8f9",
   "metadata": {},
   "outputs": [
    {
     "ename": "ValueError",
     "evalue": "cannot reshape array of size 176640 into shape (2,0,480,368,1)",
     "output_type": "error",
     "traceback": [
      "\u001b[0;31m---------------------------------------------------------------------------\u001b[0m",
      "\u001b[0;31mValueError\u001b[0m                                Traceback (most recent call last)",
      "Input \u001b[0;32mIn [9]\u001b[0m, in \u001b[0;36m<cell line: 1>\u001b[0;34m()\u001b[0m\n\u001b[0;32m----> 1\u001b[0m \u001b[43mplot_grid\u001b[49m\u001b[43m(\u001b[49m\u001b[43mtrain_batch_a\u001b[49m\u001b[43m)\u001b[49m\n",
      "File \u001b[0;32m~/playground/radio/radio/data/datavisualization.py:242\u001b[0m, in \u001b[0;36mplot_grid\u001b[0;34m(batch, num_samples, random_samples, title)\u001b[0m\n\u001b[1;32m    239\u001b[0m     mri_slice \u001b[38;5;241m=\u001b[39m mri_slice\u001b[38;5;241m.\u001b[39mastype(\u001b[38;5;28mint\u001b[39m)\n\u001b[1;32m    240\u001b[0m     slices\u001b[38;5;241m.\u001b[39mappend(mri_slice)\n\u001b[0;32m--> 242\u001b[0m grid \u001b[38;5;241m=\u001b[39m \u001b[43mimage_grid\u001b[49m\u001b[43m(\u001b[49m\u001b[43mnp\u001b[49m\u001b[38;5;241;43m.\u001b[39;49m\u001b[43mstack\u001b[49m\u001b[43m(\u001b[49m\u001b[43mslices\u001b[49m\u001b[43m)\u001b[49m\u001b[43m)\u001b[49m\n\u001b[1;32m    244\u001b[0m show(grid)\n",
      "File \u001b[0;32m~/playground/radio/radio/data/datavisualization.py:209\u001b[0m, in \u001b[0;36mplot_grid.<locals>.image_grid\u001b[0;34m(array, nrows)\u001b[0m\n\u001b[1;32m    206\u001b[0m index, height, width, channels \u001b[38;5;241m=\u001b[39m array\u001b[38;5;241m.\u001b[39mshape\n\u001b[1;32m    207\u001b[0m ncols \u001b[38;5;241m=\u001b[39m index \u001b[38;5;241m/\u001b[39m\u001b[38;5;241m/\u001b[39m nrows\n\u001b[0;32m--> 209\u001b[0m img_grid \u001b[38;5;241m=\u001b[39m (\u001b[43marray\u001b[49m\u001b[38;5;241;43m.\u001b[39;49m\u001b[43mreshape\u001b[49m\u001b[43m(\u001b[49m\u001b[43mnrows\u001b[49m\u001b[43m,\u001b[49m\u001b[43m \u001b[49m\u001b[43mncols\u001b[49m\u001b[43m,\u001b[49m\u001b[43m \u001b[49m\u001b[43mheight\u001b[49m\u001b[43m,\u001b[49m\u001b[43m \u001b[49m\u001b[43mwidth\u001b[49m\u001b[43m,\u001b[49m\n\u001b[1;32m    210\u001b[0m \u001b[43m                          \u001b[49m\u001b[43mchannels\u001b[49m\u001b[43m)\u001b[49m\u001b[38;5;241m.\u001b[39mswapaxes(\u001b[38;5;241m1\u001b[39m, \u001b[38;5;241m2\u001b[39m)\u001b[38;5;241m.\u001b[39mreshape(\n\u001b[1;32m    211\u001b[0m                               height \u001b[38;5;241m*\u001b[39m nrows, width \u001b[38;5;241m*\u001b[39m ncols))\n\u001b[1;32m    213\u001b[0m \u001b[38;5;28;01mreturn\u001b[39;00m img_grid\n",
      "\u001b[0;31mValueError\u001b[0m: cannot reshape array of size 176640 into shape (2,0,480,368,1)"
     ]
    }
   ],
   "source": [
    "plot_grid(train_batch_a)"
   ]
  },
  {
   "cell_type": "code",
   "execution_count": null,
   "id": "9a94f591-a1ab-4cca-9282-eea89411e0af",
   "metadata": {},
   "outputs": [],
   "source": [
    "plot_grid(train_batch_b)"
   ]
  },
  {
   "cell_type": "markdown",
   "id": "043fc142-d30c-4510-828a-3fa8b05b03e3",
   "metadata": {
    "tags": []
   },
   "source": [
    "#### Save Preprocessed Images"
   ]
  },
  {
   "cell_type": "code",
   "execution_count": null,
   "id": "d7e529b2-622e-4922-a3bd-55e8cecf6908",
   "metadata": {},
   "outputs": [
    {
     "name": "stderr",
     "output_type": "stream",
     "text": [
      "  0%|                                                                                                                                                                                                                                                                                                                                                                                                    | 0/890.0 [00:00<?, ?it/s]/home/dinize@acct.upmchs.net/anaconda3/envs/radio/lib/python3.10/site-packages/torchio/data/image.py:131: UserWarning: Not specifying the image type is deprecated and will be mandatory in the future. You can probably use tio.ScalarImage or tio.LabelMap instead\n",
      "  warnings.warn(\n",
      "  0%|▍                                                                                                                                                                                                                                                                                                                                                                                           | 1/890.0 [00:03<57:16,  3.87s/it]"
     ]
    },
    {
     "name": "stdout",
     "output_type": "stream",
     "text": [
      "32.0800666809082\n"
     ]
    },
    {
     "name": "stderr",
     "output_type": "stream",
     "text": [
      "  0%|▊                                                                                                                                                                                                                                                                                                                                                                                           | 2/890.0 [00:06<46:09,  3.12s/it]"
     ]
    },
    {
     "name": "stdout",
     "output_type": "stream",
     "text": [
      "32.39138412475586\n"
     ]
    },
    {
     "name": "stderr",
     "output_type": "stream",
     "text": [
      "  0%|█▎                                                                                                                                                                                                                                                                                                                                                                                          | 3/890.0 [00:08<42:04,  2.85s/it]"
     ]
    },
    {
     "name": "stdout",
     "output_type": "stream",
     "text": [
      "32.685585021972656\n"
     ]
    },
    {
     "name": "stderr",
     "output_type": "stream",
     "text": [
      "  0%|█▋                                                                                                                                                                                                                                                                                                                                                                                          | 4/890.0 [00:11<40:08,  2.72s/it]"
     ]
    },
    {
     "name": "stdout",
     "output_type": "stream",
     "text": [
      "32.97705078125\n"
     ]
    },
    {
     "name": "stderr",
     "output_type": "stream",
     "text": [
      "  1%|██▏                                                                                                                                                                                                                                                                                                                                                                                         | 5/890.0 [00:13<38:42,  2.62s/it]"
     ]
    },
    {
     "name": "stdout",
     "output_type": "stream",
     "text": [
      "33.26458740234375\n"
     ]
    },
    {
     "name": "stderr",
     "output_type": "stream",
     "text": [
      "  1%|██▌                                                                                                                                                                                                                                                                                                                                                                                         | 6/890.0 [00:17<45:18,  3.07s/it]"
     ]
    },
    {
     "name": "stdout",
     "output_type": "stream",
     "text": [
      "33.7144889831543\n"
     ]
    },
    {
     "name": "stderr",
     "output_type": "stream",
     "text": [
      "  1%|██▉                                                                                                                                                                                                                                                                                                                                                                                         | 7/890.0 [00:20<42:29,  2.89s/it]"
     ]
    },
    {
     "name": "stdout",
     "output_type": "stream",
     "text": [
      "34.00364303588867\n"
     ]
    },
    {
     "name": "stderr",
     "output_type": "stream",
     "text": [
      "  1%|███▍                                                                                                                                                                                                                                                                                                                                                                                        | 8/890.0 [00:23<41:48,  2.84s/it]"
     ]
    },
    {
     "name": "stdout",
     "output_type": "stream",
     "text": [
      "34.28886795043945\n"
     ]
    },
    {
     "name": "stderr",
     "output_type": "stream",
     "text": [
      "  1%|███▊                                                                                                                                                                                                                                                                                                                                                                                        | 9/890.0 [00:26<42:06,  2.87s/it]"
     ]
    },
    {
     "name": "stdout",
     "output_type": "stream",
     "text": [
      "34.60482406616211\n"
     ]
    },
    {
     "name": "stderr",
     "output_type": "stream",
     "text": [
      "  1%|████▎                                                                                                                                                                                                                                                                                                                                                                                      | 10/890.0 [00:28<40:19,  2.75s/it]"
     ]
    },
    {
     "name": "stdout",
     "output_type": "stream",
     "text": [
      "34.893341064453125\n"
     ]
    },
    {
     "name": "stderr",
     "output_type": "stream",
     "text": [
      "  1%|████▋                                                                                                                                                                                                                                                                                                                                                                                      | 11/890.0 [00:31<40:07,  2.74s/it]"
     ]
    },
    {
     "name": "stdout",
     "output_type": "stream",
     "text": [
      "35.21281051635742\n"
     ]
    },
    {
     "name": "stderr",
     "output_type": "stream",
     "text": [
      "  1%|█████                                                                                                                                                                                                                                                                                                                                                                                      | 12/890.0 [00:33<39:26,  2.70s/it]"
     ]
    },
    {
     "name": "stdout",
     "output_type": "stream",
     "text": [
      "35.49665832519531\n"
     ]
    },
    {
     "name": "stderr",
     "output_type": "stream",
     "text": [
      "  1%|█████▌                                                                                                                                                                                                                                                                                                                                                                                     | 13/890.0 [00:38<46:20,  3.17s/it]"
     ]
    },
    {
     "name": "stdout",
     "output_type": "stream",
     "text": [
      "35.951175689697266\n"
     ]
    },
    {
     "name": "stderr",
     "output_type": "stream",
     "text": [
      "  2%|█████▉                                                                                                                                                                                                                                                                                                                                                                                     | 14/890.0 [00:40<43:27,  2.98s/it]"
     ]
    },
    {
     "name": "stdout",
     "output_type": "stream",
     "text": [
      "36.23849105834961\n"
     ]
    },
    {
     "name": "stderr",
     "output_type": "stream",
     "text": [
      "  2%|██████▍                                                                                                                                                                                                                                                                                                                                                                                    | 15/890.0 [00:44<48:31,  3.33s/it]"
     ]
    },
    {
     "name": "stdout",
     "output_type": "stream",
     "text": [
      "36.68889617919922\n"
     ]
    },
    {
     "name": "stderr",
     "output_type": "stream",
     "text": [
      "  2%|██████▊                                                                                                                                                                                                                                                                                                                                                                                    | 16/890.0 [00:47<45:20,  3.11s/it]"
     ]
    },
    {
     "name": "stdout",
     "output_type": "stream",
     "text": [
      "36.97748947143555\n"
     ]
    },
    {
     "name": "stderr",
     "output_type": "stream",
     "text": [
      "  2%|███████▏                                                                                                                                                                                                                                                                                                                                                                                   | 17/890.0 [00:49<41:26,  2.85s/it]"
     ]
    },
    {
     "name": "stdout",
     "output_type": "stream",
     "text": [
      "37.18471145629883\n"
     ]
    },
    {
     "name": "stderr",
     "output_type": "stream",
     "text": [
      "  2%|███████▋                                                                                                                                                                                                                                                                                                                                                                                   | 18/890.0 [00:52<40:28,  2.78s/it]"
     ]
    },
    {
     "name": "stdout",
     "output_type": "stream",
     "text": [
      "37.471553802490234\n"
     ]
    },
    {
     "name": "stderr",
     "output_type": "stream",
     "text": [
      "  2%|████████                                                                                                                                                                                                                                                                                                                                                                                   | 19/890.0 [00:54<38:30,  2.65s/it]"
     ]
    },
    {
     "name": "stdout",
     "output_type": "stream",
     "text": [
      "37.73698425292969\n"
     ]
    },
    {
     "name": "stderr",
     "output_type": "stream",
     "text": [
      "  2%|████████▌                                                                                                                                                                                                                                                                                                                                                                                  | 20/890.0 [00:57<38:55,  2.68s/it]"
     ]
    },
    {
     "name": "stdout",
     "output_type": "stream",
     "text": [
      "38.029388427734375\n"
     ]
    },
    {
     "name": "stderr",
     "output_type": "stream",
     "text": [
      "  2%|████████▉                                                                                                                                                                                                                                                                                                                                                                                  | 21/890.0 [01:01<44:11,  3.05s/it]"
     ]
    },
    {
     "name": "stdout",
     "output_type": "stream",
     "text": [
      "38.48056411743164\n"
     ]
    },
    {
     "name": "stderr",
     "output_type": "stream",
     "text": [
      "  2%|█████████▎                                                                                                                                                                                                                                                                                                                                                                                 | 22/890.0 [01:04<43:55,  3.04s/it]"
     ]
    },
    {
     "name": "stdout",
     "output_type": "stream",
     "text": [
      "38.76380157470703\n"
     ]
    },
    {
     "name": "stderr",
     "output_type": "stream",
     "text": [
      "  3%|█████████▊                                                                                                                                                                                                                                                                                                                                                                                 | 23/890.0 [01:07<43:28,  3.01s/it]"
     ]
    },
    {
     "name": "stdout",
     "output_type": "stream",
     "text": [
      "39.07847213745117\n"
     ]
    },
    {
     "name": "stderr",
     "output_type": "stream",
     "text": [
      "  3%|██████████▏                                                                                                                                                                                                                                                                                                                                                                                | 24/890.0 [01:11<48:19,  3.35s/it]"
     ]
    },
    {
     "name": "stdout",
     "output_type": "stream",
     "text": [
      "39.52974319458008\n"
     ]
    },
    {
     "name": "stderr",
     "output_type": "stream",
     "text": [
      "  3%|██████████▋                                                                                                                                                                                                                                                                                                                                                                                | 25/890.0 [01:15<52:14,  3.62s/it]"
     ]
    },
    {
     "name": "stdout",
     "output_type": "stream",
     "text": [
      "39.982086181640625\n"
     ]
    },
    {
     "name": "stderr",
     "output_type": "stream",
     "text": [
      "  3%|███████████                                                                                                                                                                                                                                                                                                                                                                                | 26/890.0 [01:19<54:31,  3.79s/it]"
     ]
    },
    {
     "name": "stdout",
     "output_type": "stream",
     "text": [
      "40.43239974975586\n"
     ]
    },
    {
     "name": "stderr",
     "output_type": "stream",
     "text": [
      "  3%|███████████▍                                                                                                                                                                                                                                                                                                                                                                               | 27/890.0 [01:23<55:49,  3.88s/it]"
     ]
    },
    {
     "name": "stdout",
     "output_type": "stream",
     "text": [
      "40.88300323486328\n"
     ]
    },
    {
     "name": "stderr",
     "output_type": "stream",
     "text": [
      "  3%|███████████▉                                                                                                                                                                                                                                                                                                                                                                               | 28/890.0 [01:26<51:25,  3.58s/it]"
     ]
    },
    {
     "name": "stdout",
     "output_type": "stream",
     "text": [
      "41.17181396484375\n"
     ]
    },
    {
     "name": "stderr",
     "output_type": "stream",
     "text": [
      "  3%|████████████▎                                                                                                                                                                                                                                                                                                                                                                              | 29/890.0 [01:29<48:49,  3.40s/it]"
     ]
    },
    {
     "name": "stdout",
     "output_type": "stream",
     "text": [
      "41.48516845703125\n"
     ]
    },
    {
     "name": "stderr",
     "output_type": "stream",
     "text": [
      "  3%|████████████▊                                                                                                                                                                                                                                                                                                                                                                              | 30/890.0 [01:32<45:29,  3.17s/it]"
     ]
    },
    {
     "name": "stdout",
     "output_type": "stream",
     "text": [
      "41.78095626831055\n"
     ]
    },
    {
     "name": "stderr",
     "output_type": "stream",
     "text": [
      "  3%|█████████████▏                                                                                                                                                                                                                                                                                                                                                                             | 31/890.0 [01:35<43:20,  3.03s/it]"
     ]
    },
    {
     "name": "stdout",
     "output_type": "stream",
     "text": [
      "42.07088851928711\n"
     ]
    },
    {
     "name": "stderr",
     "output_type": "stream",
     "text": [
      "  4%|█████████████▋                                                                                                                                                                                                                                                                                                                                                                             | 32/890.0 [01:37<41:33,  2.91s/it]"
     ]
    },
    {
     "name": "stdout",
     "output_type": "stream",
     "text": [
      "42.35918426513672\n"
     ]
    },
    {
     "name": "stderr",
     "output_type": "stream",
     "text": [
      "  4%|██████████████                                                                                                                                                                                                                                                                                                                                                                             | 33/890.0 [01:41<47:17,  3.31s/it]"
     ]
    },
    {
     "name": "stdout",
     "output_type": "stream",
     "text": [
      "42.78936004638672\n"
     ]
    },
    {
     "name": "stderr",
     "output_type": "stream",
     "text": [
      "  4%|██████████████▍                                                                                                                                                                                                                                                                                                                                                                            | 34/890.0 [01:45<47:22,  3.32s/it]"
     ]
    },
    {
     "name": "stdout",
     "output_type": "stream",
     "text": [
      "43.139862060546875\n"
     ]
    },
    {
     "name": "stderr",
     "output_type": "stream",
     "text": [
      "  4%|██████████████▉                                                                                                                                                                                                                                                                                                                                                                            | 35/890.0 [01:48<46:08,  3.24s/it]"
     ]
    },
    {
     "name": "stdout",
     "output_type": "stream",
     "text": [
      "43.437713623046875\n"
     ]
    },
    {
     "name": "stderr",
     "output_type": "stream",
     "text": [
      "  4%|███████████████▎                                                                                                                                                                                                                                                                                                                                                                           | 36/890.0 [01:52<50:49,  3.57s/it]"
     ]
    },
    {
     "name": "stdout",
     "output_type": "stream",
     "text": [
      "43.88552474975586\n"
     ]
    },
    {
     "name": "stderr",
     "output_type": "stream",
     "text": [
      "  4%|███████████████▊                                                                                                                                                                                                                                                                                                                                                                           | 37/890.0 [01:55<48:51,  3.44s/it]"
     ]
    },
    {
     "name": "stdout",
     "output_type": "stream",
     "text": [
      "44.17683029174805\n"
     ]
    }
   ],
   "source": [
    "data.save(train_dataloader, subj_dir='radio_png/unprocessed', fold='train')\n",
    "data.save(val_dataloader, subj_dir='radio_png/unprocessed', fold='val')\n",
    "data.save(test_dataloader, subj_dir='radio_png/unprocessed', fold='test')"
   ]
  },
  {
   "cell_type": "code",
   "execution_count": null,
   "id": "f6ec89ad-d8d5-411d-8ba6-c47f2d0ae35b",
   "metadata": {},
   "outputs": [],
   "source": []
  }
 ],
 "metadata": {
  "kernelspec": {
   "display_name": "radio",
   "language": "python",
   "name": "radio"
  },
  "language_info": {
   "codemirror_mode": {
    "name": "ipython",
    "version": 3
   },
   "file_extension": ".py",
   "mimetype": "text/x-python",
   "name": "python",
   "nbconvert_exporter": "python",
   "pygments_lexer": "ipython3",
   "version": "3.10.4"
  }
 },
 "nbformat": 4,
 "nbformat_minor": 5
}

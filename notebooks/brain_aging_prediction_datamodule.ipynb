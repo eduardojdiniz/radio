{
 "cells": [
  {
   "cell_type": "markdown",
   "id": "9cf8cc5c-699a-44e1-91a6-c71b98123ba1",
   "metadata": {
    "tags": []
   },
   "source": [
    "### GPN's Brain Aging Prediction Data - Step01_structural_processing"
   ]
  },
  {
   "cell_type": "code",
   "execution_count": 1,
   "id": "3808b05e-714a-46f8-9d13-b5c75f5f6aca",
   "metadata": {
    "tags": []
   },
   "outputs": [],
   "source": [
    "%load_ext autoreload\n",
    "%autoreload 2"
   ]
  },
  {
   "cell_type": "code",
   "execution_count": 2,
   "id": "31a90e57-f943-489b-8325-c26c2c78532c",
   "metadata": {},
   "outputs": [],
   "source": [
    "import matplotlib.pyplot as plt\n",
    "plt.rcParams['figure.figsize'] = [20, 40]"
   ]
  },
  {
   "cell_type": "code",
   "execution_count": 3,
   "id": "e5211082-ccc1-4d29-b912-09dea8f35304",
   "metadata": {},
   "outputs": [],
   "source": [
    "import radio as rio\n",
    "from radio.data import get_first_batch"
   ]
  },
  {
   "cell_type": "markdown",
   "id": "67226664-9e62-44ef-b1e7-061a2d6911dd",
   "metadata": {},
   "source": [
    "#### Setup Data"
   ]
  },
  {
   "cell_type": "code",
   "execution_count": null,
   "id": "b00e9b43-5aeb-4a37-a221-b0fbadcd7d97",
   "metadata": {},
   "outputs": [],
   "source": [
    "# Takes a while because it scans Cerebro Study directory for the data.\n",
    "# Pre-storing the data into train and test folders will speed up the process.\n",
    "data = rio.data.BrainAgingPredictionDataModule(\n",
    "    use_augmentation=True,\n",
    "    resample=False,\n",
    "    batch_size=4,\n",
    "    modalities=[\"T1w\", \"FLAIR\"],\n",
    "    labels=[],\n",
    ")\n",
    "data.prepare_data()\n",
    "data.setup()"
   ]
  },
  {
   "cell_type": "code",
   "execution_count": null,
   "id": "2f71cb4f-0d9a-4425-b509-cd53f5084be0",
   "metadata": {},
   "outputs": [],
   "source": [
    "print(f\"Training: {data.size_train} subjects.\")\n",
    "print(f\"Validation: {data.size_val} subjects.\")\n",
    "print(f\"Test: {data.size_test} subjects.\")"
   ]
  },
  {
   "cell_type": "markdown",
   "id": "fae87b49-6caa-448f-a545-5e8497944059",
   "metadata": {},
   "source": [
    "#### Get a Train and a Test Batch"
   ]
  },
  {
   "cell_type": "code",
   "execution_count": null,
   "id": "bc58e1cc-f00c-4751-b2b5-66d9ec4f41e9",
   "metadata": {},
   "outputs": [],
   "source": [
    "train_dataloaders = data.train_dataloader()\n",
    "val_dataloaders = data.val_dataloader()\n",
    "test_dataloaders = data.test_dataloader()"
   ]
  },
  {
   "cell_type": "code",
   "execution_count": null,
   "id": "f0c687df-e520-43b4-a07d-8eafce6c61ab",
   "metadata": {},
   "outputs": [],
   "source": [
    "# Takes a long time because if resampling is required.\n",
    "# Preprocessing beforehand is therefore recommended to speed up training.\n",
    "train_batch = get_first_batch(train_dataloaders[0])\n",
    "test_batch = get_first_batch(test_dataloaders[0])"
   ]
  },
  {
   "cell_type": "code",
   "execution_count": null,
   "id": "c435be20-dfde-4aaf-98df-050fe8fe4241",
   "metadata": {},
   "outputs": [],
   "source": [
    "train_batch.keys()"
   ]
  },
  {
   "cell_type": "code",
   "execution_count": null,
   "id": "6f44ab9a-0b21-4391-b897-2161366bb5ba",
   "metadata": {},
   "outputs": [],
   "source": [
    "train_batch['T1w']['data'].shape"
   ]
  },
  {
   "cell_type": "markdown",
   "id": "044b782a-4e21-4ca3-b3b4-aa034421712b",
   "metadata": {},
   "source": [
    "#### Plot Example Samples from Batches"
   ]
  },
  {
   "cell_type": "code",
   "execution_count": null,
   "id": "00968c63-db1a-44ff-bdfd-561f0514c7b2",
   "metadata": {},
   "outputs": [],
   "source": [
    "rio.data.plot_batch(train_batch, train=True)"
   ]
  },
  {
   "cell_type": "code",
   "execution_count": null,
   "id": "c9826eb1-2b64-4655-81cb-73cbc1ba5da9",
   "metadata": {},
   "outputs": [],
   "source": [
    "rio.data.plot_batch(test_batch, train=False)"
   ]
  }
 ],
 "metadata": {
  "kernelspec": {
   "display_name": "radio",
   "language": "python",
   "name": "radio"
  },
  "language_info": {
   "codemirror_mode": {
    "name": "ipython",
    "version": 3
   },
   "file_extension": ".py",
   "mimetype": "text/x-python",
   "name": "python",
   "nbconvert_exporter": "python",
   "pygments_lexer": "ipython3",
   "version": "3.9.7"
  }
 },
 "nbformat": 4,
 "nbformat_minor": 5
}
